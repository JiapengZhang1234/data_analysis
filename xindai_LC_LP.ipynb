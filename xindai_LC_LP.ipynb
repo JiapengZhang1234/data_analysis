{
 "cells": [
  {
   "cell_type": "markdown",
   "metadata": {},
   "source": [
    "# 1.读取数据"
   ]
  },
  {
   "cell_type": "code",
   "execution_count": 1,
   "metadata": {},
   "outputs": [],
   "source": [
    "import pandas as pd\n",
    "import numpy as np\n",
    "import matplotlib.pyplot as plt\n",
    "plt.rcParams['font.sans-serif']=['SimHei']"
   ]
  },
  {
   "cell_type": "code",
   "execution_count": 2,
   "metadata": {},
   "outputs": [],
   "source": [
    "#读取LC数据表，LC为标的特征表\n",
    "LC = pd.read_csv('D:\\DataSet\\ppdai_3_23\\LC.csv')\n",
    "#读取LP数据表，LP为标的还款计划和还款记录表\n",
    "LP = pd.read_csv('D:\\DataSet\\ppdai_3_23\\LP.csv')"
   ]
  },
  {
   "cell_type": "code",
   "execution_count": 3,
   "metadata": {},
   "outputs": [
    {
     "data": {
      "text/html": [
       "<div>\n",
       "<style scoped>\n",
       "    .dataframe tbody tr th:only-of-type {\n",
       "        vertical-align: middle;\n",
       "    }\n",
       "\n",
       "    .dataframe tbody tr th {\n",
       "        vertical-align: top;\n",
       "    }\n",
       "\n",
       "    .dataframe thead th {\n",
       "        text-align: right;\n",
       "    }\n",
       "</style>\n",
       "<table border=\"1\" class=\"dataframe\">\n",
       "  <thead>\n",
       "    <tr style=\"text-align: right;\">\n",
       "      <th></th>\n",
       "      <th>ListingId</th>\n",
       "      <th>借款金额</th>\n",
       "      <th>借款期限</th>\n",
       "      <th>借款利率</th>\n",
       "      <th>借款成功日期</th>\n",
       "      <th>初始评级</th>\n",
       "      <th>借款类型</th>\n",
       "      <th>是否首标</th>\n",
       "      <th>年龄</th>\n",
       "      <th>性别</th>\n",
       "      <th>...</th>\n",
       "      <th>户口认证</th>\n",
       "      <th>视频认证</th>\n",
       "      <th>学历认证</th>\n",
       "      <th>征信认证</th>\n",
       "      <th>淘宝认证</th>\n",
       "      <th>历史成功借款次数</th>\n",
       "      <th>历史成功借款金额</th>\n",
       "      <th>总待还本金</th>\n",
       "      <th>历史正常还款期数</th>\n",
       "      <th>历史逾期还款期数</th>\n",
       "    </tr>\n",
       "  </thead>\n",
       "  <tbody>\n",
       "    <tr>\n",
       "      <th>0</th>\n",
       "      <td>126541</td>\n",
       "      <td>18000</td>\n",
       "      <td>12</td>\n",
       "      <td>18.0</td>\n",
       "      <td>2015-05-04</td>\n",
       "      <td>C</td>\n",
       "      <td>其他</td>\n",
       "      <td>否</td>\n",
       "      <td>35</td>\n",
       "      <td>男</td>\n",
       "      <td>...</td>\n",
       "      <td>未成功认证</td>\n",
       "      <td>成功认证</td>\n",
       "      <td>未成功认证</td>\n",
       "      <td>未成功认证</td>\n",
       "      <td>未成功认证</td>\n",
       "      <td>11</td>\n",
       "      <td>40326.0</td>\n",
       "      <td>8712.73</td>\n",
       "      <td>57</td>\n",
       "      <td>16</td>\n",
       "    </tr>\n",
       "    <tr>\n",
       "      <th>1</th>\n",
       "      <td>133291</td>\n",
       "      <td>9453</td>\n",
       "      <td>12</td>\n",
       "      <td>20.0</td>\n",
       "      <td>2015-03-16</td>\n",
       "      <td>D</td>\n",
       "      <td>其他</td>\n",
       "      <td>否</td>\n",
       "      <td>34</td>\n",
       "      <td>男</td>\n",
       "      <td>...</td>\n",
       "      <td>成功认证</td>\n",
       "      <td>未成功认证</td>\n",
       "      <td>未成功认证</td>\n",
       "      <td>未成功认证</td>\n",
       "      <td>未成功认证</td>\n",
       "      <td>4</td>\n",
       "      <td>14500.0</td>\n",
       "      <td>7890.64</td>\n",
       "      <td>13</td>\n",
       "      <td>1</td>\n",
       "    </tr>\n",
       "    <tr>\n",
       "      <th>2</th>\n",
       "      <td>142421</td>\n",
       "      <td>27000</td>\n",
       "      <td>24</td>\n",
       "      <td>20.0</td>\n",
       "      <td>2016-04-26</td>\n",
       "      <td>E</td>\n",
       "      <td>普通</td>\n",
       "      <td>否</td>\n",
       "      <td>41</td>\n",
       "      <td>男</td>\n",
       "      <td>...</td>\n",
       "      <td>未成功认证</td>\n",
       "      <td>未成功认证</td>\n",
       "      <td>未成功认证</td>\n",
       "      <td>未成功认证</td>\n",
       "      <td>未成功认证</td>\n",
       "      <td>5</td>\n",
       "      <td>21894.0</td>\n",
       "      <td>11726.32</td>\n",
       "      <td>25</td>\n",
       "      <td>3</td>\n",
       "    </tr>\n",
       "    <tr>\n",
       "      <th>3</th>\n",
       "      <td>149711</td>\n",
       "      <td>25000</td>\n",
       "      <td>12</td>\n",
       "      <td>18.0</td>\n",
       "      <td>2015-03-30</td>\n",
       "      <td>C</td>\n",
       "      <td>其他</td>\n",
       "      <td>否</td>\n",
       "      <td>34</td>\n",
       "      <td>男</td>\n",
       "      <td>...</td>\n",
       "      <td>成功认证</td>\n",
       "      <td>成功认证</td>\n",
       "      <td>未成功认证</td>\n",
       "      <td>未成功认证</td>\n",
       "      <td>未成功认证</td>\n",
       "      <td>6</td>\n",
       "      <td>36190.0</td>\n",
       "      <td>9703.41</td>\n",
       "      <td>41</td>\n",
       "      <td>1</td>\n",
       "    </tr>\n",
       "    <tr>\n",
       "      <th>4</th>\n",
       "      <td>152141</td>\n",
       "      <td>20000</td>\n",
       "      <td>6</td>\n",
       "      <td>16.0</td>\n",
       "      <td>2015-01-22</td>\n",
       "      <td>C</td>\n",
       "      <td>电商</td>\n",
       "      <td>否</td>\n",
       "      <td>24</td>\n",
       "      <td>男</td>\n",
       "      <td>...</td>\n",
       "      <td>成功认证</td>\n",
       "      <td>成功认证</td>\n",
       "      <td>未成功认证</td>\n",
       "      <td>未成功认证</td>\n",
       "      <td>未成功认证</td>\n",
       "      <td>13</td>\n",
       "      <td>77945.0</td>\n",
       "      <td>0.00</td>\n",
       "      <td>118</td>\n",
       "      <td>14</td>\n",
       "    </tr>\n",
       "  </tbody>\n",
       "</table>\n",
       "<p>5 rows × 21 columns</p>\n",
       "</div>"
      ],
      "text/plain": [
       "   ListingId   借款金额  借款期限  借款利率      借款成功日期 初始评级 借款类型 是否首标  年龄 性别  ...   户口认证  \\\n",
       "0     126541  18000    12  18.0  2015-05-04    C   其他    否  35  男  ...  未成功认证   \n",
       "1     133291   9453    12  20.0  2015-03-16    D   其他    否  34  男  ...   成功认证   \n",
       "2     142421  27000    24  20.0  2016-04-26    E   普通    否  41  男  ...  未成功认证   \n",
       "3     149711  25000    12  18.0  2015-03-30    C   其他    否  34  男  ...   成功认证   \n",
       "4     152141  20000     6  16.0  2015-01-22    C   电商    否  24  男  ...   成功认证   \n",
       "\n",
       "    视频认证   学历认证   征信认证   淘宝认证 历史成功借款次数  历史成功借款金额     总待还本金  历史正常还款期数  历史逾期还款期数  \n",
       "0   成功认证  未成功认证  未成功认证  未成功认证       11   40326.0   8712.73        57        16  \n",
       "1  未成功认证  未成功认证  未成功认证  未成功认证        4   14500.0   7890.64        13         1  \n",
       "2  未成功认证  未成功认证  未成功认证  未成功认证        5   21894.0  11726.32        25         3  \n",
       "3   成功认证  未成功认证  未成功认证  未成功认证        6   36190.0   9703.41        41         1  \n",
       "4   成功认证  未成功认证  未成功认证  未成功认证       13   77945.0      0.00       118        14  \n",
       "\n",
       "[5 rows x 21 columns]"
      ]
     },
     "execution_count": 3,
     "metadata": {},
     "output_type": "execute_result"
    }
   ],
   "source": [
    "LC.head()"
   ]
  },
  {
   "cell_type": "code",
   "execution_count": 4,
   "metadata": {},
   "outputs": [
    {
     "data": {
      "text/html": [
       "<div>\n",
       "<style scoped>\n",
       "    .dataframe tbody tr th:only-of-type {\n",
       "        vertical-align: middle;\n",
       "    }\n",
       "\n",
       "    .dataframe tbody tr th {\n",
       "        vertical-align: top;\n",
       "    }\n",
       "\n",
       "    .dataframe thead th {\n",
       "        text-align: right;\n",
       "    }\n",
       "</style>\n",
       "<table border=\"1\" class=\"dataframe\">\n",
       "  <thead>\n",
       "    <tr style=\"text-align: right;\">\n",
       "      <th></th>\n",
       "      <th>ListingId</th>\n",
       "      <th>期数</th>\n",
       "      <th>还款状态</th>\n",
       "      <th>应还本金</th>\n",
       "      <th>应还利息</th>\n",
       "      <th>剩余本金</th>\n",
       "      <th>剩余利息</th>\n",
       "      <th>到期日期</th>\n",
       "      <th>还款日期</th>\n",
       "      <th>recorddate</th>\n",
       "    </tr>\n",
       "  </thead>\n",
       "  <tbody>\n",
       "    <tr>\n",
       "      <th>0</th>\n",
       "      <td>126541</td>\n",
       "      <td>1</td>\n",
       "      <td>1</td>\n",
       "      <td>1380.23</td>\n",
       "      <td>270.00</td>\n",
       "      <td>0.0</td>\n",
       "      <td>0.0</td>\n",
       "      <td>2015-06-04</td>\n",
       "      <td>2015-06-04</td>\n",
       "      <td>2017-02-22</td>\n",
       "    </tr>\n",
       "    <tr>\n",
       "      <th>1</th>\n",
       "      <td>126541</td>\n",
       "      <td>2</td>\n",
       "      <td>1</td>\n",
       "      <td>1400.94</td>\n",
       "      <td>249.29</td>\n",
       "      <td>0.0</td>\n",
       "      <td>0.0</td>\n",
       "      <td>2015-07-04</td>\n",
       "      <td>2015-07-04</td>\n",
       "      <td>2017-02-22</td>\n",
       "    </tr>\n",
       "    <tr>\n",
       "      <th>2</th>\n",
       "      <td>126541</td>\n",
       "      <td>3</td>\n",
       "      <td>1</td>\n",
       "      <td>1421.95</td>\n",
       "      <td>228.28</td>\n",
       "      <td>0.0</td>\n",
       "      <td>0.0</td>\n",
       "      <td>2015-08-04</td>\n",
       "      <td>2015-08-04</td>\n",
       "      <td>2017-02-22</td>\n",
       "    </tr>\n",
       "    <tr>\n",
       "      <th>3</th>\n",
       "      <td>126541</td>\n",
       "      <td>4</td>\n",
       "      <td>1</td>\n",
       "      <td>1443.28</td>\n",
       "      <td>206.95</td>\n",
       "      <td>0.0</td>\n",
       "      <td>0.0</td>\n",
       "      <td>2015-09-04</td>\n",
       "      <td>2015-09-04</td>\n",
       "      <td>2017-02-22</td>\n",
       "    </tr>\n",
       "    <tr>\n",
       "      <th>4</th>\n",
       "      <td>126541</td>\n",
       "      <td>5</td>\n",
       "      <td>1</td>\n",
       "      <td>1464.93</td>\n",
       "      <td>185.30</td>\n",
       "      <td>0.0</td>\n",
       "      <td>0.0</td>\n",
       "      <td>2015-10-04</td>\n",
       "      <td>2015-10-04</td>\n",
       "      <td>2017-02-22</td>\n",
       "    </tr>\n",
       "  </tbody>\n",
       "</table>\n",
       "</div>"
      ],
      "text/plain": [
       "   ListingId  期数  还款状态     应还本金    应还利息  剩余本金  剩余利息        到期日期        还款日期  \\\n",
       "0     126541   1     1  1380.23  270.00   0.0   0.0  2015-06-04  2015-06-04   \n",
       "1     126541   2     1  1400.94  249.29   0.0   0.0  2015-07-04  2015-07-04   \n",
       "2     126541   3     1  1421.95  228.28   0.0   0.0  2015-08-04  2015-08-04   \n",
       "3     126541   4     1  1443.28  206.95   0.0   0.0  2015-09-04  2015-09-04   \n",
       "4     126541   5     1  1464.93  185.30   0.0   0.0  2015-10-04  2015-10-04   \n",
       "\n",
       "   recorddate  \n",
       "0  2017-02-22  \n",
       "1  2017-02-22  \n",
       "2  2017-02-22  \n",
       "3  2017-02-22  \n",
       "4  2017-02-22  "
      ]
     },
     "execution_count": 4,
     "metadata": {},
     "output_type": "execute_result"
    }
   ],
   "source": [
    "LP.head()"
   ]
  },
  {
   "cell_type": "markdown",
   "metadata": {},
   "source": [
    "# 2.数据预处理"
   ]
  },
  {
   "cell_type": "code",
   "execution_count": 5,
   "metadata": {},
   "outputs": [
    {
     "name": "stdout",
     "output_type": "stream",
     "text": [
      "<class 'pandas.core.frame.DataFrame'>\n",
      "RangeIndex: 328553 entries, 0 to 328552\n",
      "Data columns (total 21 columns):\n",
      " #   Column     Non-Null Count   Dtype  \n",
      "---  ------     --------------   -----  \n",
      " 0   ListingId  328553 non-null  int64  \n",
      " 1   借款金额       328553 non-null  int64  \n",
      " 2   借款期限       328553 non-null  int64  \n",
      " 3   借款利率       328553 non-null  float64\n",
      " 4   借款成功日期     328553 non-null  object \n",
      " 5   初始评级       328553 non-null  object \n",
      " 6   借款类型       328553 non-null  object \n",
      " 7   是否首标       328553 non-null  object \n",
      " 8   年龄         328553 non-null  int64  \n",
      " 9   性别         328553 non-null  object \n",
      " 10  手机认证       328553 non-null  object \n",
      " 11  户口认证       328553 non-null  object \n",
      " 12  视频认证       328553 non-null  object \n",
      " 13  学历认证       328553 non-null  object \n",
      " 14  征信认证       328553 non-null  object \n",
      " 15  淘宝认证       328553 non-null  object \n",
      " 16  历史成功借款次数   328553 non-null  int64  \n",
      " 17  历史成功借款金额   328553 non-null  float64\n",
      " 18  总待还本金      328553 non-null  float64\n",
      " 19  历史正常还款期数   328553 non-null  int64  \n",
      " 20  历史逾期还款期数   328553 non-null  int64  \n",
      "dtypes: float64(3), int64(7), object(11)\n",
      "memory usage: 52.6+ MB\n"
     ]
    }
   ],
   "source": [
    "#查看LC数据集的信息\n",
    "LC.info()"
   ]
  },
  {
   "cell_type": "code",
   "execution_count": 6,
   "metadata": {},
   "outputs": [
    {
     "name": "stdout",
     "output_type": "stream",
     "text": [
      "<class 'pandas.core.frame.DataFrame'>\n",
      "RangeIndex: 3203276 entries, 0 to 3203275\n",
      "Data columns (total 10 columns):\n",
      " #   Column      Dtype  \n",
      "---  ------      -----  \n",
      " 0   ListingId   int64  \n",
      " 1   期数          int64  \n",
      " 2   还款状态        int64  \n",
      " 3   应还本金        float64\n",
      " 4   应还利息        float64\n",
      " 5   剩余本金        float64\n",
      " 6   剩余利息        float64\n",
      " 7   到期日期        object \n",
      " 8   还款日期        object \n",
      " 9   recorddate  object \n",
      "dtypes: float64(4), int64(3), object(3)\n",
      "memory usage: 244.4+ MB\n"
     ]
    }
   ],
   "source": [
    "#查看LP数据集的信息\n",
    "LP.info()"
   ]
  },
  {
   "cell_type": "code",
   "execution_count": 7,
   "metadata": {},
   "outputs": [
    {
     "data": {
      "text/plain": [
       "ListingId    0\n",
       "借款金额         0\n",
       "借款期限         0\n",
       "借款利率         0\n",
       "借款成功日期       0\n",
       "初始评级         0\n",
       "借款类型         0\n",
       "是否首标         0\n",
       "年龄           0\n",
       "性别           0\n",
       "手机认证         0\n",
       "户口认证         0\n",
       "视频认证         0\n",
       "学历认证         0\n",
       "征信认证         0\n",
       "淘宝认证         0\n",
       "历史成功借款次数     0\n",
       "历史成功借款金额     0\n",
       "总待还本金        0\n",
       "历史正常还款期数     0\n",
       "历史逾期还款期数     0\n",
       "dtype: int64"
      ]
     },
     "execution_count": 7,
     "metadata": {},
     "output_type": "execute_result"
    }
   ],
   "source": [
    "#缺失值的处理\n",
    "(LC.isnull()).sum()"
   ]
  },
  {
   "cell_type": "code",
   "execution_count": 8,
   "metadata": {},
   "outputs": [
    {
     "data": {
      "text/plain": [
       "ListingId     0\n",
       "期数            0\n",
       "还款状态          0\n",
       "应还本金          0\n",
       "应还利息          0\n",
       "剩余本金          0\n",
       "剩余利息          0\n",
       "到期日期          0\n",
       "还款日期          0\n",
       "recorddate    0\n",
       "dtype: int64"
      ]
     },
     "execution_count": 8,
     "metadata": {},
     "output_type": "execute_result"
    }
   ],
   "source": [
    "(LP.isnull()).sum()"
   ]
  },
  {
   "cell_type": "code",
   "execution_count": 9,
   "metadata": {},
   "outputs": [
    {
     "data": {
      "text/plain": [
       "0"
      ]
     },
     "execution_count": 9,
     "metadata": {},
     "output_type": "execute_result"
    }
   ],
   "source": [
    "#重复值的处理\n",
    "(LC.duplicated()).sum()"
   ]
  },
  {
   "cell_type": "code",
   "execution_count": 10,
   "metadata": {},
   "outputs": [],
   "source": [
    "#(LP.duplicated()).sum()"
   ]
  },
  {
   "cell_type": "markdown",
   "metadata": {},
   "source": [
    "# 3.借款金额的分析\n",
    "\n",
    "分析不同性别、不同学历、不同年龄段的客户之间以及新旧客户之间的借款金额情况的分析"
   ]
  },
  {
   "cell_type": "markdown",
   "metadata": {},
   "source": [
    "## 3.1 不同性别的用户的借款金额分析"
   ]
  },
  {
   "cell_type": "code",
   "execution_count": 11,
   "metadata": {},
   "outputs": [],
   "source": [
    "male_data = LC[LC['性别']=='男']\n",
    "female_data = LC[LC['性别']=='女']"
   ]
  },
  {
   "cell_type": "code",
   "execution_count": 12,
   "metadata": {},
   "outputs": [],
   "source": [
    "#男女用户借款总金额\n",
    "sex_data = (male_data['借款金额'].sum(),female_data['借款金额'].sum())"
   ]
  },
  {
   "cell_type": "code",
   "execution_count": 13,
   "metadata": {},
   "outputs": [
    {
     "data": {
      "text/plain": [
       "(1001329390, 452128926)"
      ]
     },
     "execution_count": 13,
     "metadata": {},
     "output_type": "execute_result"
    }
   ],
   "source": [
    "sex_data"
   ]
  },
  {
   "cell_type": "code",
   "execution_count": 14,
   "metadata": {},
   "outputs": [],
   "source": [
    "sex_id = ('男','女')"
   ]
  },
  {
   "cell_type": "code",
   "execution_count": 15,
   "metadata": {},
   "outputs": [
    {
     "data": {
      "text/plain": [
       "([<matplotlib.patches.Wedge at 0x90e5a90>,\n",
       "  <matplotlib.patches.Wedge at 0x90fd208>],\n",
       " [Text(-0.6152268248749628, 0.9118639997029557, '男'),\n",
       "  Text(0.6152269102498288, -0.9118639421012597, '女')],\n",
       " [Text(-0.335578268113616, 0.49738036347433945, '68.9%'),\n",
       "  Text(0.3355783146817247, -0.49738033205523247, '31.1%')])"
      ]
     },
     "execution_count": 15,
     "metadata": {},
     "output_type": "execute_result"
    },
    {
     "data": {
      "image/png": "[encoded data removed]",
      "text/plain": [
       "<Figure size 864x432 with 1 Axes>"
      ]
     },
     "metadata": {},
     "output_type": "display_data"
    }
   ],
   "source": [
    "plt.figure(figsize=(12, 6))\n",
    "plt.pie(sex_data,labels=sex_id,autopct='%.1f%%')"
   ]
  },
  {
   "cell_type": "markdown",
   "metadata": {},
   "source": [
    "## 3.2 新旧客户的借款金额分析"
   ]
  },
  {
   "cell_type": "code",
   "execution_count": 16,
   "metadata": {},
   "outputs": [
    {
     "data": {
      "text/plain": [
       "否    241090\n",
       "是     87463\n",
       "Name: 是否首标, dtype: int64"
      ]
     },
     "execution_count": 16,
     "metadata": {},
     "output_type": "execute_result"
    }
   ],
   "source": [
    "#新老客户与借款金额之间的关系\n",
    "LC['是否首标'].value_counts()"
   ]
  },
  {
   "cell_type": "code",
   "execution_count": 17,
   "metadata": {},
   "outputs": [],
   "source": [
    "new_custom = LC[LC['是否首标']=='是']\n",
    "old_custom = LC[LC['是否首标']=='否']\n",
    "nocus_data = (new_custom['借款金额'].sum(),old_custom['借款金额'].sum())\n",
    "nocus_id = ('新用户','老用户')"
   ]
  },
  {
   "cell_type": "code",
   "execution_count": 18,
   "metadata": {},
   "outputs": [
    {
     "data": {
      "text/plain": [
       "Text(0.5, 1.0, '新老用户借款金额')"
      ]
     },
     "execution_count": 18,
     "metadata": {},
     "output_type": "execute_result"
    },
    {
     "data": {
      "image/png": "[encoded data removed]",
      "text/plain": [
       "<Figure size 648x432 with 1 Axes>"
      ]
     },
     "metadata": {},
     "output_type": "display_data"
    }
   ],
   "source": [
    "plt.figure(figsize=(9, 6))\n",
    "plt.pie(nocus_data,labels=nocus_id,autopct='%.1f%%')\n",
    "plt.title('新老用户借款金额')"
   ]
  },
  {
   "cell_type": "markdown",
   "metadata": {},
   "source": [
    "## 3.3 不同学历的客户的借款金额分析"
   ]
  },
  {
   "cell_type": "code",
   "execution_count": 19,
   "metadata": {},
   "outputs": [],
   "source": [
    "un_edu = LC[LC['学历认证']=='未成功认证']\n",
    "edu = LC[LC['学历认证']=='成功认证']\n",
    "edu_data = (un_edu['借款金额'].sum(),edu['借款金额'].sum())\n",
    "edu_id = ('学历未认证成功','学历认证成功')"
   ]
  },
  {
   "cell_type": "code",
   "execution_count": 20,
   "metadata": {},
   "outputs": [
    {
     "data": {
      "text/plain": [
       "Text(0.5, 1.0, '不同学历借款金额')"
      ]
     },
     "execution_count": 20,
     "metadata": {},
     "output_type": "execute_result"
    },
    {
     "data": {
      "image/png": "[encoded data removed]",
      "text/plain": [
       "<Figure size 648x432 with 1 Axes>"
      ]
     },
     "metadata": {},
     "output_type": "display_data"
    }
   ],
   "source": [
    "plt.figure(figsize=(9, 6))\n",
    "plt.pie(edu_data,labels=edu_id,autopct='%.1f%%')\n",
    "plt.title('不同学历借款金额')"
   ]
  },
  {
   "cell_type": "markdown",
   "metadata": {},
   "source": [
    "## 3.4 不同年龄段的客户的借款金额分析"
   ]
  },
  {
   "cell_type": "code",
   "execution_count": 21,
   "metadata": {},
   "outputs": [],
   "source": [
    "#首先，对年龄进行分段\n",
    "LC['age_bin'] = pd.cut(LC['年龄'],[15,20,25,30,35,40,45,50,55],right=True)"
   ]
  },
  {
   "cell_type": "code",
   "execution_count": 22,
   "metadata": {},
   "outputs": [
    {
     "data": {
      "text/plain": [
       "(25, 30]    108110\n",
       "(20, 25]     97634\n",
       "(30, 35]     58499\n",
       "(35, 40]     27386\n",
       "(40, 45]     15488\n",
       "(15, 20]     12348\n",
       "(45, 50]      7238\n",
       "(50, 55]      1794\n",
       "Name: age_bin, dtype: int64"
      ]
     },
     "execution_count": 22,
     "metadata": {},
     "output_type": "execute_result"
    }
   ],
   "source": [
    "LC['age_bin'].value_counts()"
   ]
  },
  {
   "cell_type": "code",
   "execution_count": 23,
   "metadata": {},
   "outputs": [],
   "source": [
    "#以年龄分段建立数据透视表\n",
    "lc_age = pd.pivot_table(data=LC,index='age_bin',\n",
    "                      values='借款金额',aggfunc=np.sum)"
   ]
  },
  {
   "cell_type": "code",
   "execution_count": 24,
   "metadata": {},
   "outputs": [
    {
     "data": {
      "text/html": [
       "<div>\n",
       "<style scoped>\n",
       "    .dataframe tbody tr th:only-of-type {\n",
       "        vertical-align: middle;\n",
       "    }\n",
       "\n",
       "    .dataframe tbody tr th {\n",
       "        vertical-align: top;\n",
       "    }\n",
       "\n",
       "    .dataframe thead th {\n",
       "        text-align: right;\n",
       "    }\n",
       "</style>\n",
       "<table border=\"1\" class=\"dataframe\">\n",
       "  <thead>\n",
       "    <tr style=\"text-align: right;\">\n",
       "      <th></th>\n",
       "      <th>借款金额</th>\n",
       "    </tr>\n",
       "    <tr>\n",
       "      <th>age_bin</th>\n",
       "      <th></th>\n",
       "    </tr>\n",
       "  </thead>\n",
       "  <tbody>\n",
       "    <tr>\n",
       "      <th>(15, 20]</th>\n",
       "      <td>19935526</td>\n",
       "    </tr>\n",
       "    <tr>\n",
       "      <th>(20, 25]</th>\n",
       "      <td>340620032</td>\n",
       "    </tr>\n",
       "    <tr>\n",
       "      <th>(25, 30]</th>\n",
       "      <td>496059668</td>\n",
       "    </tr>\n",
       "    <tr>\n",
       "      <th>(30, 35]</th>\n",
       "      <td>306972341</td>\n",
       "    </tr>\n",
       "    <tr>\n",
       "      <th>(35, 40]</th>\n",
       "      <td>153548260</td>\n",
       "    </tr>\n",
       "    <tr>\n",
       "      <th>(40, 45]</th>\n",
       "      <td>85861895</td>\n",
       "    </tr>\n",
       "    <tr>\n",
       "      <th>(45, 50]</th>\n",
       "      <td>37759702</td>\n",
       "    </tr>\n",
       "    <tr>\n",
       "      <th>(50, 55]</th>\n",
       "      <td>11397750</td>\n",
       "    </tr>\n",
       "  </tbody>\n",
       "</table>\n",
       "</div>"
      ],
      "text/plain": [
       "               借款金额\n",
       "age_bin            \n",
       "(15, 20]   19935526\n",
       "(20, 25]  340620032\n",
       "(25, 30]  496059668\n",
       "(30, 35]  306972341\n",
       "(35, 40]  153548260\n",
       "(40, 45]   85861895\n",
       "(45, 50]   37759702\n",
       "(50, 55]   11397750"
      ]
     },
     "execution_count": 24,
     "metadata": {},
     "output_type": "execute_result"
    }
   ],
   "source": [
    "lc_age"
   ]
  },
  {
   "cell_type": "code",
   "execution_count": 25,
   "metadata": {},
   "outputs": [],
   "source": [
    "lc_age.rename(columns={'借款金额':'借款总金额'},inplace=True)"
   ]
  },
  {
   "cell_type": "code",
   "execution_count": 26,
   "metadata": {},
   "outputs": [
    {
     "data": {
      "text/html": [
       "<div>\n",
       "<style scoped>\n",
       "    .dataframe tbody tr th:only-of-type {\n",
       "        vertical-align: middle;\n",
       "    }\n",
       "\n",
       "    .dataframe tbody tr th {\n",
       "        vertical-align: top;\n",
       "    }\n",
       "\n",
       "    .dataframe thead th {\n",
       "        text-align: right;\n",
       "    }\n",
       "</style>\n",
       "<table border=\"1\" class=\"dataframe\">\n",
       "  <thead>\n",
       "    <tr style=\"text-align: right;\">\n",
       "      <th></th>\n",
       "      <th>借款总金额</th>\n",
       "    </tr>\n",
       "    <tr>\n",
       "      <th>age_bin</th>\n",
       "      <th></th>\n",
       "    </tr>\n",
       "  </thead>\n",
       "  <tbody>\n",
       "    <tr>\n",
       "      <th>(15, 20]</th>\n",
       "      <td>19935526</td>\n",
       "    </tr>\n",
       "    <tr>\n",
       "      <th>(20, 25]</th>\n",
       "      <td>340620032</td>\n",
       "    </tr>\n",
       "    <tr>\n",
       "      <th>(25, 30]</th>\n",
       "      <td>496059668</td>\n",
       "    </tr>\n",
       "    <tr>\n",
       "      <th>(30, 35]</th>\n",
       "      <td>306972341</td>\n",
       "    </tr>\n",
       "    <tr>\n",
       "      <th>(35, 40]</th>\n",
       "      <td>153548260</td>\n",
       "    </tr>\n",
       "    <tr>\n",
       "      <th>(40, 45]</th>\n",
       "      <td>85861895</td>\n",
       "    </tr>\n",
       "    <tr>\n",
       "      <th>(45, 50]</th>\n",
       "      <td>37759702</td>\n",
       "    </tr>\n",
       "    <tr>\n",
       "      <th>(50, 55]</th>\n",
       "      <td>11397750</td>\n",
       "    </tr>\n",
       "  </tbody>\n",
       "</table>\n",
       "</div>"
      ],
      "text/plain": [
       "              借款总金额\n",
       "age_bin            \n",
       "(15, 20]   19935526\n",
       "(20, 25]  340620032\n",
       "(25, 30]  496059668\n",
       "(30, 35]  306972341\n",
       "(35, 40]  153548260\n",
       "(40, 45]   85861895\n",
       "(45, 50]   37759702\n",
       "(50, 55]   11397750"
      ]
     },
     "execution_count": 26,
     "metadata": {},
     "output_type": "execute_result"
    }
   ],
   "source": [
    "lc_age"
   ]
  },
  {
   "cell_type": "code",
   "execution_count": 27,
   "metadata": {},
   "outputs": [
    {
     "data": {
      "text/plain": [
       "Text(0.5, 1.0, '不同年龄段借款金额')"
      ]
     },
     "execution_count": 27,
     "metadata": {},
     "output_type": "execute_result"
    },
    {
     "data": {
      "image/png": "[encoded data removed]",
      "text/plain": [
       "<Figure size 648x432 with 1 Axes>"
      ]
     },
     "metadata": {
      "needs_background": "light"
     },
     "output_type": "display_data"
    }
   ],
   "source": [
    "plt.figure(figsize=(9,6))\n",
    "\n",
    "lc_age['借款总金额'].plot(kind='bar',rot=45,color='steelblue',alpha=0.5)\n",
    "plt.xlabel('年龄')\n",
    "plt.ylabel('借款总金额')\n",
    "plt.title('不同年龄段借款金额')"
   ]
  },
  {
   "cell_type": "markdown",
   "metadata": {},
   "source": [
    "## 3.5 结论  \n",
    "通过以上的分析可以得出结论：  \n",
    "    1.男性顾客贡献的贷款金额达到了69%，其原因可能是因为男性更加倾向于提前消费且消费金额较大  \n",
    "    2.老用户的贷款金额达到了66%，这说明用户倾向于多次使用这个产品，产品粘性较高  \n",
    "    3.学历未成功认证的人贷款金额较多  \n",
    "    4.年龄段在25-30岁之间的借款金额最多，而20-35岁的人群占比超过75%，是该产品的主力消费人群  "
   ]
  },
  {
   "cell_type": "markdown",
   "metadata": {},
   "source": [
    "# 4 资金储备的分析\n",
    "主要是看看公司自2015年1月1日起，每日借款金额的走势以及每月借款金额的走势"
   ]
  },
  {
   "cell_type": "code",
   "execution_count": 28,
   "metadata": {},
   "outputs": [
    {
     "data": {
      "text/plain": [
       "0    2015-05-04\n",
       "1    2015-03-16\n",
       "2    2016-04-26\n",
       "3    2015-03-30\n",
       "4    2015-01-22\n",
       "5    2015-03-25\n",
       "6    2015-06-26\n",
       "7    2016-03-19\n",
       "8    2015-03-21\n",
       "9    2015-04-15\n",
       "Name: 借款成功日期, dtype: object"
      ]
     },
     "execution_count": 28,
     "metadata": {},
     "output_type": "execute_result"
    }
   ],
   "source": [
    "LC['借款成功日期'].head(10)"
   ]
  },
  {
   "cell_type": "code",
   "execution_count": 29,
   "metadata": {},
   "outputs": [],
   "source": [
    "#导入时间处理模块\n",
    "from datetime import datetime\n"
   ]
  },
  {
   "cell_type": "code",
   "execution_count": 30,
   "metadata": {},
   "outputs": [],
   "source": [
    "loan = LC[['借款成功日期','借款金额']].copy()"
   ]
  },
  {
   "cell_type": "code",
   "execution_count": 31,
   "metadata": {},
   "outputs": [
    {
     "data": {
      "text/html": [
       "<div>\n",
       "<style scoped>\n",
       "    .dataframe tbody tr th:only-of-type {\n",
       "        vertical-align: middle;\n",
       "    }\n",
       "\n",
       "    .dataframe tbody tr th {\n",
       "        vertical-align: top;\n",
       "    }\n",
       "\n",
       "    .dataframe thead th {\n",
       "        text-align: right;\n",
       "    }\n",
       "</style>\n",
       "<table border=\"1\" class=\"dataframe\">\n",
       "  <thead>\n",
       "    <tr style=\"text-align: right;\">\n",
       "      <th></th>\n",
       "      <th>借款成功日期</th>\n",
       "      <th>借款金额</th>\n",
       "    </tr>\n",
       "  </thead>\n",
       "  <tbody>\n",
       "    <tr>\n",
       "      <th>0</th>\n",
       "      <td>2015-05-04</td>\n",
       "      <td>18000</td>\n",
       "    </tr>\n",
       "    <tr>\n",
       "      <th>1</th>\n",
       "      <td>2015-03-16</td>\n",
       "      <td>9453</td>\n",
       "    </tr>\n",
       "    <tr>\n",
       "      <th>2</th>\n",
       "      <td>2016-04-26</td>\n",
       "      <td>27000</td>\n",
       "    </tr>\n",
       "    <tr>\n",
       "      <th>3</th>\n",
       "      <td>2015-03-30</td>\n",
       "      <td>25000</td>\n",
       "    </tr>\n",
       "    <tr>\n",
       "      <th>4</th>\n",
       "      <td>2015-01-22</td>\n",
       "      <td>20000</td>\n",
       "    </tr>\n",
       "  </tbody>\n",
       "</table>\n",
       "</div>"
      ],
      "text/plain": [
       "       借款成功日期   借款金额\n",
       "0  2015-05-04  18000\n",
       "1  2015-03-16   9453\n",
       "2  2016-04-26  27000\n",
       "3  2015-03-30  25000\n",
       "4  2015-01-22  20000"
      ]
     },
     "execution_count": 31,
     "metadata": {},
     "output_type": "execute_result"
    }
   ],
   "source": [
    "loan.head()"
   ]
  },
  {
   "cell_type": "code",
   "execution_count": 32,
   "metadata": {},
   "outputs": [],
   "source": [
    "loan['借款日期'] = pd.to_datetime(loan['借款成功日期'])"
   ]
  },
  {
   "cell_type": "code",
   "execution_count": 33,
   "metadata": {},
   "outputs": [
    {
     "data": {
      "text/html": [
       "<div>\n",
       "<style scoped>\n",
       "    .dataframe tbody tr th:only-of-type {\n",
       "        vertical-align: middle;\n",
       "    }\n",
       "\n",
       "    .dataframe tbody tr th {\n",
       "        vertical-align: top;\n",
       "    }\n",
       "\n",
       "    .dataframe thead th {\n",
       "        text-align: right;\n",
       "    }\n",
       "</style>\n",
       "<table border=\"1\" class=\"dataframe\">\n",
       "  <thead>\n",
       "    <tr style=\"text-align: right;\">\n",
       "      <th></th>\n",
       "      <th>借款成功日期</th>\n",
       "      <th>借款金额</th>\n",
       "      <th>借款日期</th>\n",
       "    </tr>\n",
       "  </thead>\n",
       "  <tbody>\n",
       "    <tr>\n",
       "      <th>0</th>\n",
       "      <td>2015-05-04</td>\n",
       "      <td>18000</td>\n",
       "      <td>2015-05-04</td>\n",
       "    </tr>\n",
       "    <tr>\n",
       "      <th>1</th>\n",
       "      <td>2015-03-16</td>\n",
       "      <td>9453</td>\n",
       "      <td>2015-03-16</td>\n",
       "    </tr>\n",
       "    <tr>\n",
       "      <th>2</th>\n",
       "      <td>2016-04-26</td>\n",
       "      <td>27000</td>\n",
       "      <td>2016-04-26</td>\n",
       "    </tr>\n",
       "    <tr>\n",
       "      <th>3</th>\n",
       "      <td>2015-03-30</td>\n",
       "      <td>25000</td>\n",
       "      <td>2015-03-30</td>\n",
       "    </tr>\n",
       "    <tr>\n",
       "      <th>4</th>\n",
       "      <td>2015-01-22</td>\n",
       "      <td>20000</td>\n",
       "      <td>2015-01-22</td>\n",
       "    </tr>\n",
       "    <tr>\n",
       "      <th>5</th>\n",
       "      <td>2015-03-25</td>\n",
       "      <td>20000</td>\n",
       "      <td>2015-03-25</td>\n",
       "    </tr>\n",
       "    <tr>\n",
       "      <th>6</th>\n",
       "      <td>2015-06-26</td>\n",
       "      <td>3940</td>\n",
       "      <td>2015-06-26</td>\n",
       "    </tr>\n",
       "    <tr>\n",
       "      <th>7</th>\n",
       "      <td>2016-03-19</td>\n",
       "      <td>20000</td>\n",
       "      <td>2016-03-19</td>\n",
       "    </tr>\n",
       "    <tr>\n",
       "      <th>8</th>\n",
       "      <td>2015-03-21</td>\n",
       "      <td>25000</td>\n",
       "      <td>2015-03-21</td>\n",
       "    </tr>\n",
       "    <tr>\n",
       "      <th>9</th>\n",
       "      <td>2015-04-15</td>\n",
       "      <td>10475</td>\n",
       "      <td>2015-04-15</td>\n",
       "    </tr>\n",
       "  </tbody>\n",
       "</table>\n",
       "</div>"
      ],
      "text/plain": [
       "       借款成功日期   借款金额       借款日期\n",
       "0  2015-05-04  18000 2015-05-04\n",
       "1  2015-03-16   9453 2015-03-16\n",
       "2  2016-04-26  27000 2016-04-26\n",
       "3  2015-03-30  25000 2015-03-30\n",
       "4  2015-01-22  20000 2015-01-22\n",
       "5  2015-03-25  20000 2015-03-25\n",
       "6  2015-06-26   3940 2015-06-26\n",
       "7  2016-03-19  20000 2016-03-19\n",
       "8  2015-03-21  25000 2015-03-21\n",
       "9  2015-04-15  10475 2015-04-15"
      ]
     },
     "execution_count": 33,
     "metadata": {},
     "output_type": "execute_result"
    }
   ],
   "source": [
    "loan.head(10)"
   ]
  },
  {
   "cell_type": "code",
   "execution_count": 34,
   "metadata": {},
   "outputs": [],
   "source": [
    "loan_pivot = loan.pivot_table(index='借款日期', aggfunc='sum').copy()"
   ]
  },
  {
   "cell_type": "code",
   "execution_count": 35,
   "metadata": {},
   "outputs": [
    {
     "data": {
      "text/html": [
       "<div>\n",
       "<style scoped>\n",
       "    .dataframe tbody tr th:only-of-type {\n",
       "        vertical-align: middle;\n",
       "    }\n",
       "\n",
       "    .dataframe tbody tr th {\n",
       "        vertical-align: top;\n",
       "    }\n",
       "\n",
       "    .dataframe thead th {\n",
       "        text-align: right;\n",
       "    }\n",
       "</style>\n",
       "<table border=\"1\" class=\"dataframe\">\n",
       "  <thead>\n",
       "    <tr style=\"text-align: right;\">\n",
       "      <th></th>\n",
       "      <th>借款金额</th>\n",
       "    </tr>\n",
       "    <tr>\n",
       "      <th>借款日期</th>\n",
       "      <th></th>\n",
       "    </tr>\n",
       "  </thead>\n",
       "  <tbody>\n",
       "    <tr>\n",
       "      <th>2015-01-01</th>\n",
       "      <td>49473</td>\n",
       "    </tr>\n",
       "    <tr>\n",
       "      <th>2015-01-02</th>\n",
       "      <td>61273</td>\n",
       "    </tr>\n",
       "    <tr>\n",
       "      <th>2015-01-03</th>\n",
       "      <td>413384</td>\n",
       "    </tr>\n",
       "    <tr>\n",
       "      <th>2015-01-04</th>\n",
       "      <td>651165</td>\n",
       "    </tr>\n",
       "    <tr>\n",
       "      <th>2015-01-05</th>\n",
       "      <td>249614</td>\n",
       "    </tr>\n",
       "    <tr>\n",
       "      <th>...</th>\n",
       "      <td>...</td>\n",
       "    </tr>\n",
       "    <tr>\n",
       "      <th>2017-01-26</th>\n",
       "      <td>6119649</td>\n",
       "    </tr>\n",
       "    <tr>\n",
       "      <th>2017-01-27</th>\n",
       "      <td>2772905</td>\n",
       "    </tr>\n",
       "    <tr>\n",
       "      <th>2017-01-28</th>\n",
       "      <td>2103364</td>\n",
       "    </tr>\n",
       "    <tr>\n",
       "      <th>2017-01-29</th>\n",
       "      <td>2252701</td>\n",
       "    </tr>\n",
       "    <tr>\n",
       "      <th>2017-01-30</th>\n",
       "      <td>2124939</td>\n",
       "    </tr>\n",
       "  </tbody>\n",
       "</table>\n",
       "<p>756 rows × 1 columns</p>\n",
       "</div>"
      ],
      "text/plain": [
       "               借款金额\n",
       "借款日期               \n",
       "2015-01-01    49473\n",
       "2015-01-02    61273\n",
       "2015-01-03   413384\n",
       "2015-01-04   651165\n",
       "2015-01-05   249614\n",
       "...             ...\n",
       "2017-01-26  6119649\n",
       "2017-01-27  2772905\n",
       "2017-01-28  2103364\n",
       "2017-01-29  2252701\n",
       "2017-01-30  2124939\n",
       "\n",
       "[756 rows x 1 columns]"
      ]
     },
     "execution_count": 35,
     "metadata": {},
     "output_type": "execute_result"
    }
   ],
   "source": [
    "loan_pivot"
   ]
  },
  {
   "cell_type": "code",
   "execution_count": 36,
   "metadata": {},
   "outputs": [
    {
     "data": {
      "image/png": "[encoded data removed]",
      "text/plain": [
       "<Figure size 648x432 with 1 Axes>"
      ]
     },
     "metadata": {
      "needs_background": "light"
     },
     "output_type": "display_data"
    }
   ],
   "source": [
    "#将每一天的借款金额的走势\n",
    "plt.figure(figsize=(9,6))\n",
    "plt.plot(loan_pivot)\n",
    "plt.xticks(rotation=20)\n",
    "plt.xlabel('日期')\n",
    "plt.ylabel('借款金额')\n",
    "plt.show()"
   ]
  },
  {
   "cell_type": "code",
   "execution_count": 37,
   "metadata": {},
   "outputs": [],
   "source": [
    "#分析每月贷款金额的走势\n",
    "loan['借款成功月份'] = [datetime.strftime(x, '%Y-%m') for x in loan['借款日期']]"
   ]
  },
  {
   "cell_type": "code",
   "execution_count": 38,
   "metadata": {},
   "outputs": [
    {
     "data": {
      "text/html": [
       "<div>\n",
       "<style scoped>\n",
       "    .dataframe tbody tr th:only-of-type {\n",
       "        vertical-align: middle;\n",
       "    }\n",
       "\n",
       "    .dataframe tbody tr th {\n",
       "        vertical-align: top;\n",
       "    }\n",
       "\n",
       "    .dataframe thead th {\n",
       "        text-align: right;\n",
       "    }\n",
       "</style>\n",
       "<table border=\"1\" class=\"dataframe\">\n",
       "  <thead>\n",
       "    <tr style=\"text-align: right;\">\n",
       "      <th></th>\n",
       "      <th>借款成功日期</th>\n",
       "      <th>借款金额</th>\n",
       "      <th>借款日期</th>\n",
       "      <th>借款成功月份</th>\n",
       "    </tr>\n",
       "  </thead>\n",
       "  <tbody>\n",
       "    <tr>\n",
       "      <th>0</th>\n",
       "      <td>2015-05-04</td>\n",
       "      <td>18000</td>\n",
       "      <td>2015-05-04</td>\n",
       "      <td>2015-05</td>\n",
       "    </tr>\n",
       "    <tr>\n",
       "      <th>1</th>\n",
       "      <td>2015-03-16</td>\n",
       "      <td>9453</td>\n",
       "      <td>2015-03-16</td>\n",
       "      <td>2015-03</td>\n",
       "    </tr>\n",
       "    <tr>\n",
       "      <th>2</th>\n",
       "      <td>2016-04-26</td>\n",
       "      <td>27000</td>\n",
       "      <td>2016-04-26</td>\n",
       "      <td>2016-04</td>\n",
       "    </tr>\n",
       "    <tr>\n",
       "      <th>3</th>\n",
       "      <td>2015-03-30</td>\n",
       "      <td>25000</td>\n",
       "      <td>2015-03-30</td>\n",
       "      <td>2015-03</td>\n",
       "    </tr>\n",
       "    <tr>\n",
       "      <th>4</th>\n",
       "      <td>2015-01-22</td>\n",
       "      <td>20000</td>\n",
       "      <td>2015-01-22</td>\n",
       "      <td>2015-01</td>\n",
       "    </tr>\n",
       "  </tbody>\n",
       "</table>\n",
       "</div>"
      ],
      "text/plain": [
       "       借款成功日期   借款金额       借款日期   借款成功月份\n",
       "0  2015-05-04  18000 2015-05-04  2015-05\n",
       "1  2015-03-16   9453 2015-03-16  2015-03\n",
       "2  2016-04-26  27000 2016-04-26  2016-04\n",
       "3  2015-03-30  25000 2015-03-30  2015-03\n",
       "4  2015-01-22  20000 2015-01-22  2015-01"
      ]
     },
     "execution_count": 38,
     "metadata": {},
     "output_type": "execute_result"
    }
   ],
   "source": [
    "loan.head()"
   ]
  },
  {
   "cell_type": "code",
   "execution_count": 39,
   "metadata": {},
   "outputs": [],
   "source": [
    "loan_pivot_m = loan.pivot_table(index='借款成功月份', aggfunc='sum').copy()"
   ]
  },
  {
   "cell_type": "code",
   "execution_count": 40,
   "metadata": {},
   "outputs": [
    {
     "data": {
      "text/html": [
       "<div>\n",
       "<style scoped>\n",
       "    .dataframe tbody tr th:only-of-type {\n",
       "        vertical-align: middle;\n",
       "    }\n",
       "\n",
       "    .dataframe tbody tr th {\n",
       "        vertical-align: top;\n",
       "    }\n",
       "\n",
       "    .dataframe thead th {\n",
       "        text-align: right;\n",
       "    }\n",
       "</style>\n",
       "<table border=\"1\" class=\"dataframe\">\n",
       "  <thead>\n",
       "    <tr style=\"text-align: right;\">\n",
       "      <th></th>\n",
       "      <th>借款金额</th>\n",
       "    </tr>\n",
       "    <tr>\n",
       "      <th>借款成功月份</th>\n",
       "      <th></th>\n",
       "    </tr>\n",
       "  </thead>\n",
       "  <tbody>\n",
       "    <tr>\n",
       "      <th>2015-01</th>\n",
       "      <td>5495048</td>\n",
       "    </tr>\n",
       "    <tr>\n",
       "      <th>2015-02</th>\n",
       "      <td>2974525</td>\n",
       "    </tr>\n",
       "    <tr>\n",
       "      <th>2015-03</th>\n",
       "      <td>8678800</td>\n",
       "    </tr>\n",
       "    <tr>\n",
       "      <th>2015-04</th>\n",
       "      <td>8075770</td>\n",
       "    </tr>\n",
       "    <tr>\n",
       "      <th>2015-05</th>\n",
       "      <td>8430741</td>\n",
       "    </tr>\n",
       "  </tbody>\n",
       "</table>\n",
       "</div>"
      ],
      "text/plain": [
       "            借款金额\n",
       "借款成功月份          \n",
       "2015-01  5495048\n",
       "2015-02  2974525\n",
       "2015-03  8678800\n",
       "2015-04  8075770\n",
       "2015-05  8430741"
      ]
     },
     "execution_count": 40,
     "metadata": {},
     "output_type": "execute_result"
    }
   ],
   "source": [
    "loan_pivot_m.head()"
   ]
  },
  {
   "cell_type": "code",
   "execution_count": 41,
   "metadata": {},
   "outputs": [
    {
     "data": {
      "image/png": "[encoded data removed]",
      "text/plain": [
       "<Figure size 648x432 with 1 Axes>"
      ]
     },
     "metadata": {
      "needs_background": "light"
     },
     "output_type": "display_data"
    }
   ],
   "source": [
    "#将每月的借款金额走势图\n",
    "plt.figure(figsize=(9,6))\n",
    "plt.plot(loan_pivot_m)\n",
    "plt.xticks(rotation=50)\n",
    "plt.xlabel('日期')\n",
    "plt.ylabel('借款金额')\n",
    "plt.show()"
   ]
  },
  {
   "cell_type": "markdown",
   "metadata": {},
   "source": [
    "## 结论\n",
    "\n",
    "通过以上的分析可以得出：\n",
    "\n",
    "1.每日贷款金额呈现的是一个往上的趋势,但是每天的波动较大。\n",
    "\n",
    "2.每月贷款分析结论：从2015年1月到2017年1月，月度贷款金额呈现上升趋势，上升速度随着时间增快。\n",
    "\n",
    "3.2017年1月每日的借款金额达到5204664元，标准差为2203394。\n",
    "  根据3σ原则，想使每日借款金额充足的概率达到99.9%，则每日公式账上需准备5204664+2203394×3=11814846元。"
   ]
  },
  {
   "cell_type": "markdown",
   "metadata": {},
   "source": [
    "# 5 逾期还款率的分析\n",
    "\n",
    "逾期还款率 = 历史逾期还款期数 / (历史逾期还款期数 + 历史正常还款期数)\n",
    "\n",
    "分析借款人的初始评级、借款类型、性别、年龄、借款金额等特征对客户逾期还款的影响"
   ]
  },
  {
   "cell_type": "code",
   "execution_count": 42,
   "metadata": {},
   "outputs": [
    {
     "name": "stdout",
     "output_type": "stream",
     "text": [
      "<class 'pandas.core.frame.DataFrame'>\n",
      "RangeIndex: 328553 entries, 0 to 328552\n",
      "Data columns (total 22 columns):\n",
      " #   Column     Non-Null Count   Dtype   \n",
      "---  ------     --------------   -----   \n",
      " 0   ListingId  328553 non-null  int64   \n",
      " 1   借款金额       328553 non-null  int64   \n",
      " 2   借款期限       328553 non-null  int64   \n",
      " 3   借款利率       328553 non-null  float64 \n",
      " 4   借款成功日期     328553 non-null  object  \n",
      " 5   初始评级       328553 non-null  object  \n",
      " 6   借款类型       328553 non-null  object  \n",
      " 7   是否首标       328553 non-null  object  \n",
      " 8   年龄         328553 non-null  int64   \n",
      " 9   性别         328553 non-null  object  \n",
      " 10  手机认证       328553 non-null  object  \n",
      " 11  户口认证       328553 non-null  object  \n",
      " 12  视频认证       328553 non-null  object  \n",
      " 13  学历认证       328553 non-null  object  \n",
      " 14  征信认证       328553 non-null  object  \n",
      " 15  淘宝认证       328553 non-null  object  \n",
      " 16  历史成功借款次数   328553 non-null  int64   \n",
      " 17  历史成功借款金额   328553 non-null  float64 \n",
      " 18  总待还本金      328553 non-null  float64 \n",
      " 19  历史正常还款期数   328553 non-null  int64   \n",
      " 20  历史逾期还款期数   328553 non-null  int64   \n",
      " 21  age_bin    328497 non-null  category\n",
      "dtypes: category(1), float64(3), int64(7), object(11)\n",
      "memory usage: 53.0+ MB\n"
     ]
    }
   ],
   "source": [
    "LC.info()"
   ]
  },
  {
   "cell_type": "markdown",
   "metadata": {},
   "source": [
    "## 5.1 不同初始评级的客户的逾期还款率"
   ]
  },
  {
   "cell_type": "code",
   "execution_count": 43,
   "metadata": {},
   "outputs": [
    {
     "data": {
      "text/plain": [
       "D    134860\n",
       "C    131705\n",
       "B     33188\n",
       "E     17027\n",
       "A     10284\n",
       "F      1489\n",
       "Name: 初始评级, dtype: int64"
      ]
     },
     "execution_count": 43,
     "metadata": {},
     "output_type": "execute_result"
    }
   ],
   "source": [
    "LC['初始评级'].value_counts()"
   ]
  },
  {
   "cell_type": "code",
   "execution_count": 44,
   "metadata": {},
   "outputs": [],
   "source": [
    "LC['逾期还款率'] = LC['历史逾期还款期数']/(LC['历史正常还款期数']+LC['历史逾期还款期数'])"
   ]
  },
  {
   "cell_type": "code",
   "execution_count": 45,
   "metadata": {},
   "outputs": [
    {
     "data": {
      "text/plain": [
       "0    0.219178\n",
       "1    0.071429\n",
       "2    0.107143\n",
       "3    0.023810\n",
       "4    0.106061\n",
       "Name: 逾期还款率, dtype: float64"
      ]
     },
     "execution_count": 45,
     "metadata": {},
     "output_type": "execute_result"
    }
   ],
   "source": [
    "LC['逾期还款率'].head()"
   ]
  },
  {
   "cell_type": "code",
   "execution_count": 46,
   "metadata": {},
   "outputs": [],
   "source": [
    "#以初始评级建立数据透视表\n",
    "level_pivot = pd.pivot_table(data=LC,index='初始评级',\n",
    "                      values='逾期还款率')\n"
   ]
  },
  {
   "cell_type": "code",
   "execution_count": 47,
   "metadata": {},
   "outputs": [
    {
     "data": {
      "text/html": [
       "<div>\n",
       "<style scoped>\n",
       "    .dataframe tbody tr th:only-of-type {\n",
       "        vertical-align: middle;\n",
       "    }\n",
       "\n",
       "    .dataframe tbody tr th {\n",
       "        vertical-align: top;\n",
       "    }\n",
       "\n",
       "    .dataframe thead th {\n",
       "        text-align: right;\n",
       "    }\n",
       "</style>\n",
       "<table border=\"1\" class=\"dataframe\">\n",
       "  <thead>\n",
       "    <tr style=\"text-align: right;\">\n",
       "      <th></th>\n",
       "      <th>逾期还款率</th>\n",
       "    </tr>\n",
       "    <tr>\n",
       "      <th>初始评级</th>\n",
       "      <th></th>\n",
       "    </tr>\n",
       "  </thead>\n",
       "  <tbody>\n",
       "    <tr>\n",
       "      <th>A</th>\n",
       "      <td>0.012707</td>\n",
       "    </tr>\n",
       "    <tr>\n",
       "      <th>B</th>\n",
       "      <td>0.016051</td>\n",
       "    </tr>\n",
       "    <tr>\n",
       "      <th>C</th>\n",
       "      <td>0.033304</td>\n",
       "    </tr>\n",
       "    <tr>\n",
       "      <th>D</th>\n",
       "      <td>0.048976</td>\n",
       "    </tr>\n",
       "    <tr>\n",
       "      <th>E</th>\n",
       "      <td>0.132443</td>\n",
       "    </tr>\n",
       "    <tr>\n",
       "      <th>F</th>\n",
       "      <td>0.120375</td>\n",
       "    </tr>\n",
       "  </tbody>\n",
       "</table>\n",
       "</div>"
      ],
      "text/plain": [
       "         逾期还款率\n",
       "初始评级          \n",
       "A     0.012707\n",
       "B     0.016051\n",
       "C     0.033304\n",
       "D     0.048976\n",
       "E     0.132443\n",
       "F     0.120375"
      ]
     },
     "execution_count": 47,
     "metadata": {},
     "output_type": "execute_result"
    }
   ],
   "source": [
    "level_pivot"
   ]
  },
  {
   "cell_type": "code",
   "execution_count": 48,
   "metadata": {},
   "outputs": [
    {
     "data": {
      "text/plain": [
       "<Figure size 648x432 with 0 Axes>"
      ]
     },
     "metadata": {},
     "output_type": "display_data"
    },
    {
     "data": {
      "image/png": "[encoded data removed]",
      "text/plain": [
       "<Figure size 432x288 with 1 Axes>"
      ]
     },
     "metadata": {
      "needs_background": "light"
     },
     "output_type": "display_data"
    }
   ],
   "source": [
    "plt.figure(figsize=(9,6))\n",
    "level_pivot.plot(kind='bar')\n",
    "#plt.bar(level_pivot.index,level_pivot['逾期还款率'])\n",
    "plt.xticks(rotation=0)\n",
    "plt.xlabel('用户评级')\n",
    "plt.ylabel('逾期还款率')\n",
    "plt.show()"
   ]
  },
  {
   "cell_type": "markdown",
   "metadata": {},
   "source": [
    "## 5.2 不同借款类型的客户的逾期还款率"
   ]
  },
  {
   "cell_type": "code",
   "execution_count": 49,
   "metadata": {},
   "outputs": [
    {
     "data": {
      "text/plain": [
       "普通       118103\n",
       "APP闪电    112079\n",
       "其他        97302\n",
       "电商         1069\n",
       "Name: 借款类型, dtype: int64"
      ]
     },
     "execution_count": 49,
     "metadata": {},
     "output_type": "execute_result"
    }
   ],
   "source": [
    "\n",
    "LC['借款类型'].value_counts()"
   ]
  },
  {
   "cell_type": "code",
   "execution_count": 50,
   "metadata": {},
   "outputs": [],
   "source": [
    "type_pivot = pd.pivot_table(data=LC,index='借款类型',\n",
    "                      values='逾期还款率')\n"
   ]
  },
  {
   "cell_type": "code",
   "execution_count": 51,
   "metadata": {},
   "outputs": [],
   "source": [
    "type_pivot_2 = type_pivot.reindex(index=['普通','电商','APP闪电','其他'])"
   ]
  },
  {
   "cell_type": "code",
   "execution_count": 52,
   "metadata": {},
   "outputs": [
    {
     "data": {
      "text/plain": [
       "<Figure size 648x432 with 0 Axes>"
      ]
     },
     "metadata": {},
     "output_type": "display_data"
    },
    {
     "data": {
      "image/png": "[encoded data removed]",
      "text/plain": [
       "<Figure size 432x288 with 1 Axes>"
      ]
     },
     "metadata": {
      "needs_background": "light"
     },
     "output_type": "display_data"
    }
   ],
   "source": [
    "plt.figure(figsize=(9,6))\n",
    "type_pivot_2.plot(kind='bar')\n",
    "#plt.bar(type_pivot_2.index,type_pivot_2['逾期还款率'])\n",
    "plt.xticks(rotation=0)\n",
    "plt.xlabel('借款类型')\n",
    "plt.ylabel('逾期还款率')\n",
    "plt.show()"
   ]
  },
  {
   "cell_type": "markdown",
   "metadata": {},
   "source": [
    "## 5.3 不同借款金额的客户的逾期还款率"
   ]
  },
  {
   "cell_type": "code",
   "execution_count": 53,
   "metadata": {},
   "outputs": [
    {
     "data": {
      "text/plain": [
       "0    18000\n",
       "1     9453\n",
       "2    27000\n",
       "3    25000\n",
       "4    20000\n",
       "Name: 借款金额, dtype: int64"
      ]
     },
     "execution_count": 53,
     "metadata": {},
     "output_type": "execute_result"
    }
   ],
   "source": [
    "LC['借款金额'].head()"
   ]
  },
  {
   "cell_type": "code",
   "execution_count": 54,
   "metadata": {},
   "outputs": [
    {
     "data": {
      "text/plain": [
       "500000"
      ]
     },
     "execution_count": 54,
     "metadata": {},
     "output_type": "execute_result"
    }
   ],
   "source": [
    "LC['借款金额'].max()"
   ]
  },
  {
   "cell_type": "code",
   "execution_count": 55,
   "metadata": {},
   "outputs": [
    {
     "data": {
      "text/plain": [
       "100"
      ]
     },
     "execution_count": 55,
     "metadata": {},
     "output_type": "execute_result"
    }
   ],
   "source": [
    "LC['借款金额'].min()"
   ]
  },
  {
   "cell_type": "code",
   "execution_count": 56,
   "metadata": {},
   "outputs": [],
   "source": [
    "LC['借款金额分段'] = pd.cut(LC['借款金额'],[0,2000,4000,6000,8000,10000,500000],right=True)"
   ]
  },
  {
   "cell_type": "code",
   "execution_count": 57,
   "metadata": {},
   "outputs": [],
   "source": [
    "m_pivot = pd.pivot_table(data=LC,index='借款金额分段',\n",
    "                        values='逾期还款率')"
   ]
  },
  {
   "cell_type": "code",
   "execution_count": 58,
   "metadata": {},
   "outputs": [
    {
     "data": {
      "text/html": [
       "<div>\n",
       "<style scoped>\n",
       "    .dataframe tbody tr th:only-of-type {\n",
       "        vertical-align: middle;\n",
       "    }\n",
       "\n",
       "    .dataframe tbody tr th {\n",
       "        vertical-align: top;\n",
       "    }\n",
       "\n",
       "    .dataframe thead th {\n",
       "        text-align: right;\n",
       "    }\n",
       "</style>\n",
       "<table border=\"1\" class=\"dataframe\">\n",
       "  <thead>\n",
       "    <tr style=\"text-align: right;\">\n",
       "      <th></th>\n",
       "      <th>逾期还款率</th>\n",
       "    </tr>\n",
       "    <tr>\n",
       "      <th>借款金额分段</th>\n",
       "      <th></th>\n",
       "    </tr>\n",
       "  </thead>\n",
       "  <tbody>\n",
       "    <tr>\n",
       "      <th>(0, 2000]</th>\n",
       "      <td>0.024969</td>\n",
       "    </tr>\n",
       "    <tr>\n",
       "      <th>(2000, 4000]</th>\n",
       "      <td>0.048083</td>\n",
       "    </tr>\n",
       "    <tr>\n",
       "      <th>(4000, 6000]</th>\n",
       "      <td>0.040611</td>\n",
       "    </tr>\n",
       "    <tr>\n",
       "      <th>(6000, 8000]</th>\n",
       "      <td>0.039812</td>\n",
       "    </tr>\n",
       "    <tr>\n",
       "      <th>(8000, 10000]</th>\n",
       "      <td>0.038796</td>\n",
       "    </tr>\n",
       "    <tr>\n",
       "      <th>(10000, 500000]</th>\n",
       "      <td>0.036084</td>\n",
       "    </tr>\n",
       "  </tbody>\n",
       "</table>\n",
       "</div>"
      ],
      "text/plain": [
       "                    逾期还款率\n",
       "借款金额分段                   \n",
       "(0, 2000]        0.024969\n",
       "(2000, 4000]     0.048083\n",
       "(4000, 6000]     0.040611\n",
       "(6000, 8000]     0.039812\n",
       "(8000, 10000]    0.038796\n",
       "(10000, 500000]  0.036084"
      ]
     },
     "execution_count": 58,
     "metadata": {},
     "output_type": "execute_result"
    }
   ],
   "source": [
    "m_pivot"
   ]
  },
  {
   "cell_type": "code",
   "execution_count": 59,
   "metadata": {},
   "outputs": [
    {
     "data": {
      "text/plain": [
       "<Figure size 648x432 with 0 Axes>"
      ]
     },
     "metadata": {},
     "output_type": "display_data"
    },
    {
     "data": {
      "image/png": "[encoded data removed]",
      "text/plain": [
       "<Figure size 432x288 with 1 Axes>"
      ]
     },
     "metadata": {
      "needs_background": "light"
     },
     "output_type": "display_data"
    }
   ],
   "source": [
    "plt.figure(figsize=(9,6))\n",
    "m_pivot.plot(kind='bar')\n",
    "#plt.bar(m_pivot.index,m_pivot['逾期还款率'])\n",
    "plt.xticks(rotation=40)\n",
    "plt.xlabel('借款金额')\n",
    "plt.ylabel('逾期还款率')\n",
    "plt.show()"
   ]
  },
  {
   "cell_type": "markdown",
   "metadata": {},
   "source": [
    "## 5.4 不同年龄客户的逾期还款率"
   ]
  },
  {
   "cell_type": "code",
   "execution_count": 60,
   "metadata": {},
   "outputs": [],
   "source": [
    "y_pivot = pd.pivot_table(data=LC,index='age_bin',\n",
    "                          values='逾期还款率')"
   ]
  },
  {
   "cell_type": "code",
   "execution_count": 61,
   "metadata": {},
   "outputs": [
    {
     "data": {
      "text/html": [
       "<div>\n",
       "<style scoped>\n",
       "    .dataframe tbody tr th:only-of-type {\n",
       "        vertical-align: middle;\n",
       "    }\n",
       "\n",
       "    .dataframe tbody tr th {\n",
       "        vertical-align: top;\n",
       "    }\n",
       "\n",
       "    .dataframe thead th {\n",
       "        text-align: right;\n",
       "    }\n",
       "</style>\n",
       "<table border=\"1\" class=\"dataframe\">\n",
       "  <thead>\n",
       "    <tr style=\"text-align: right;\">\n",
       "      <th></th>\n",
       "      <th>逾期还款率</th>\n",
       "    </tr>\n",
       "    <tr>\n",
       "      <th>age_bin</th>\n",
       "      <th></th>\n",
       "    </tr>\n",
       "  </thead>\n",
       "  <tbody>\n",
       "    <tr>\n",
       "      <th>(15, 20]</th>\n",
       "      <td>0.015808</td>\n",
       "    </tr>\n",
       "    <tr>\n",
       "      <th>(20, 25]</th>\n",
       "      <td>0.038715</td>\n",
       "    </tr>\n",
       "    <tr>\n",
       "      <th>(25, 30]</th>\n",
       "      <td>0.040787</td>\n",
       "    </tr>\n",
       "    <tr>\n",
       "      <th>(30, 35]</th>\n",
       "      <td>0.040270</td>\n",
       "    </tr>\n",
       "    <tr>\n",
       "      <th>(35, 40]</th>\n",
       "      <td>0.038012</td>\n",
       "    </tr>\n",
       "    <tr>\n",
       "      <th>(40, 45]</th>\n",
       "      <td>0.038571</td>\n",
       "    </tr>\n",
       "    <tr>\n",
       "      <th>(45, 50]</th>\n",
       "      <td>0.042117</td>\n",
       "    </tr>\n",
       "    <tr>\n",
       "      <th>(50, 55]</th>\n",
       "      <td>0.044917</td>\n",
       "    </tr>\n",
       "  </tbody>\n",
       "</table>\n",
       "</div>"
      ],
      "text/plain": [
       "             逾期还款率\n",
       "age_bin           \n",
       "(15, 20]  0.015808\n",
       "(20, 25]  0.038715\n",
       "(25, 30]  0.040787\n",
       "(30, 35]  0.040270\n",
       "(35, 40]  0.038012\n",
       "(40, 45]  0.038571\n",
       "(45, 50]  0.042117\n",
       "(50, 55]  0.044917"
      ]
     },
     "execution_count": 61,
     "metadata": {},
     "output_type": "execute_result"
    }
   ],
   "source": [
    "y_pivot"
   ]
  },
  {
   "cell_type": "code",
   "execution_count": 62,
   "metadata": {},
   "outputs": [
    {
     "data": {
      "image/png": "[encoded data removed]",
      "text/plain": [
       "<Figure size 432x288 with 1 Axes>"
      ]
     },
     "metadata": {
      "needs_background": "light"
     },
     "output_type": "display_data"
    }
   ],
   "source": [
    "#plt.figure(figsize=(9,6))\n",
    "y_pivot['逾期还款率'].plot(kind='bar')\n",
    "plt.xticks(rotation=40)\n",
    "plt.xlabel('年龄')\n",
    "plt.ylabel('逾期还款率')\n",
    "plt.show()"
   ]
  },
  {
   "cell_type": "markdown",
   "metadata": {},
   "source": [
    "## 5.5 不同性别客户的逾期还款率"
   ]
  },
  {
   "cell_type": "code",
   "execution_count": 63,
   "metadata": {},
   "outputs": [
    {
     "data": {
      "text/plain": [
       "男    221946\n",
       "女    106607\n",
       "Name: 性别, dtype: int64"
      ]
     },
     "execution_count": 63,
     "metadata": {},
     "output_type": "execute_result"
    }
   ],
   "source": [
    "LC['性别'].value_counts()"
   ]
  },
  {
   "cell_type": "code",
   "execution_count": 64,
   "metadata": {},
   "outputs": [],
   "source": [
    "sex_pivot = pd.pivot_table(data=LC,index='性别',\n",
    "                          values='逾期还款率')"
   ]
  },
  {
   "cell_type": "code",
   "execution_count": 65,
   "metadata": {},
   "outputs": [
    {
     "data": {
      "text/html": [
       "<div>\n",
       "<style scoped>\n",
       "    .dataframe tbody tr th:only-of-type {\n",
       "        vertical-align: middle;\n",
       "    }\n",
       "\n",
       "    .dataframe tbody tr th {\n",
       "        vertical-align: top;\n",
       "    }\n",
       "\n",
       "    .dataframe thead th {\n",
       "        text-align: right;\n",
       "    }\n",
       "</style>\n",
       "<table border=\"1\" class=\"dataframe\">\n",
       "  <thead>\n",
       "    <tr style=\"text-align: right;\">\n",
       "      <th></th>\n",
       "      <th>逾期还款率</th>\n",
       "    </tr>\n",
       "    <tr>\n",
       "      <th>性别</th>\n",
       "      <th></th>\n",
       "    </tr>\n",
       "  </thead>\n",
       "  <tbody>\n",
       "    <tr>\n",
       "      <th>女</th>\n",
       "      <td>0.046951</td>\n",
       "    </tr>\n",
       "    <tr>\n",
       "      <th>男</th>\n",
       "      <td>0.035478</td>\n",
       "    </tr>\n",
       "  </tbody>\n",
       "</table>\n",
       "</div>"
      ],
      "text/plain": [
       "       逾期还款率\n",
       "性别          \n",
       "女   0.046951\n",
       "男   0.035478"
      ]
     },
     "execution_count": 65,
     "metadata": {},
     "output_type": "execute_result"
    }
   ],
   "source": [
    "sex_pivot"
   ]
  },
  {
   "cell_type": "code",
   "execution_count": 66,
   "metadata": {},
   "outputs": [
    {
     "data": {
      "image/png": "[encoded data removed]",
      "text/plain": [
       "<Figure size 432x288 with 1 Axes>"
      ]
     },
     "metadata": {
      "needs_background": "light"
     },
     "output_type": "display_data"
    }
   ],
   "source": [
    "#plt.figure(figsize=(9,6))\n",
    "sex_pivot['逾期还款率'].plot(kind='bar')\n",
    "plt.xticks(rotation=0)\n",
    "plt.xlabel('性别')\n",
    "plt.ylabel('逾期还款率')\n",
    "plt.show()"
   ]
  },
  {
   "cell_type": "markdown",
   "metadata": {},
   "source": [
    "## 5.6 结论\n",
    "\n",
    "经过以上的分析得出：\n",
    "\n",
    "1.初始评级对于贷款者的还款能力有比较好的预测作用，EF两级反转可能是因为样本数量较少，ABCD四个等级的平均逾期还款率都比较小，而EF两级明显增大，故公司对于这两类贷款者要谨慎对待。\n",
    "\n",
    "2.年龄对于逾期率的分布较为平均，25-30岁的年轻人可以重点关注。\n",
    "\n",
    "3.APP闪电的逾期还款率明显低于其他三种，故公司可以多考虑与“APP闪电”借款类型的合作。\n",
    "\n",
    "4.女性的逾期率高于男性，可能是由于生活中男性收入较女性高造成的。\n",
    "\n",
    "5.借款金额在2000以下的逾期还款率最低，2000-3000之间的最高。可以多考虑小额贷款降低逾期风险。"
   ]
  },
  {
   "cell_type": "markdown",
   "metadata": {},
   "source": [
    "# 6 还款状态的分析\n",
    "\n",
    "将LC、LP数据集合并，分析用户的还款状态\n",
    "\n",
    "主要分析一下不同年龄段，不同性别，不同初始评级，不同借款类型、不同借款金额情况下用户的还款状态\n",
    "\n",
    "还款状态有5种：0-‘未还款’，1-‘已正常还款’，2-‘已逾期还款’，3-‘已提前还清该标全部欠款’，4-‘已部分还款’"
   ]
  },
  {
   "cell_type": "code",
   "execution_count": 67,
   "metadata": {},
   "outputs": [
    {
     "data": {
      "text/html": [
       "<div>\n",
       "<style scoped>\n",
       "    .dataframe tbody tr th:only-of-type {\n",
       "        vertical-align: middle;\n",
       "    }\n",
       "\n",
       "    .dataframe tbody tr th {\n",
       "        vertical-align: top;\n",
       "    }\n",
       "\n",
       "    .dataframe thead th {\n",
       "        text-align: right;\n",
       "    }\n",
       "</style>\n",
       "<table border=\"1\" class=\"dataframe\">\n",
       "  <thead>\n",
       "    <tr style=\"text-align: right;\">\n",
       "      <th></th>\n",
       "      <th>ListingId</th>\n",
       "      <th>期数</th>\n",
       "      <th>还款状态</th>\n",
       "      <th>应还本金</th>\n",
       "      <th>应还利息</th>\n",
       "      <th>剩余本金</th>\n",
       "      <th>剩余利息</th>\n",
       "      <th>到期日期</th>\n",
       "      <th>还款日期</th>\n",
       "      <th>recorddate</th>\n",
       "    </tr>\n",
       "  </thead>\n",
       "  <tbody>\n",
       "    <tr>\n",
       "      <th>0</th>\n",
       "      <td>126541</td>\n",
       "      <td>1</td>\n",
       "      <td>1</td>\n",
       "      <td>1380.23</td>\n",
       "      <td>270.00</td>\n",
       "      <td>0.0</td>\n",
       "      <td>0.0</td>\n",
       "      <td>2015-06-04</td>\n",
       "      <td>2015-06-04</td>\n",
       "      <td>2017-02-22</td>\n",
       "    </tr>\n",
       "    <tr>\n",
       "      <th>1</th>\n",
       "      <td>126541</td>\n",
       "      <td>2</td>\n",
       "      <td>1</td>\n",
       "      <td>1400.94</td>\n",
       "      <td>249.29</td>\n",
       "      <td>0.0</td>\n",
       "      <td>0.0</td>\n",
       "      <td>2015-07-04</td>\n",
       "      <td>2015-07-04</td>\n",
       "      <td>2017-02-22</td>\n",
       "    </tr>\n",
       "    <tr>\n",
       "      <th>2</th>\n",
       "      <td>126541</td>\n",
       "      <td>3</td>\n",
       "      <td>1</td>\n",
       "      <td>1421.95</td>\n",
       "      <td>228.28</td>\n",
       "      <td>0.0</td>\n",
       "      <td>0.0</td>\n",
       "      <td>2015-08-04</td>\n",
       "      <td>2015-08-04</td>\n",
       "      <td>2017-02-22</td>\n",
       "    </tr>\n",
       "    <tr>\n",
       "      <th>3</th>\n",
       "      <td>126541</td>\n",
       "      <td>4</td>\n",
       "      <td>1</td>\n",
       "      <td>1443.28</td>\n",
       "      <td>206.95</td>\n",
       "      <td>0.0</td>\n",
       "      <td>0.0</td>\n",
       "      <td>2015-09-04</td>\n",
       "      <td>2015-09-04</td>\n",
       "      <td>2017-02-22</td>\n",
       "    </tr>\n",
       "    <tr>\n",
       "      <th>4</th>\n",
       "      <td>126541</td>\n",
       "      <td>5</td>\n",
       "      <td>1</td>\n",
       "      <td>1464.93</td>\n",
       "      <td>185.30</td>\n",
       "      <td>0.0</td>\n",
       "      <td>0.0</td>\n",
       "      <td>2015-10-04</td>\n",
       "      <td>2015-10-04</td>\n",
       "      <td>2017-02-22</td>\n",
       "    </tr>\n",
       "  </tbody>\n",
       "</table>\n",
       "</div>"
      ],
      "text/plain": [
       "   ListingId  期数  还款状态     应还本金    应还利息  剩余本金  剩余利息        到期日期        还款日期  \\\n",
       "0     126541   1     1  1380.23  270.00   0.0   0.0  2015-06-04  2015-06-04   \n",
       "1     126541   2     1  1400.94  249.29   0.0   0.0  2015-07-04  2015-07-04   \n",
       "2     126541   3     1  1421.95  228.28   0.0   0.0  2015-08-04  2015-08-04   \n",
       "3     126541   4     1  1443.28  206.95   0.0   0.0  2015-09-04  2015-09-04   \n",
       "4     126541   5     1  1464.93  185.30   0.0   0.0  2015-10-04  2015-10-04   \n",
       "\n",
       "   recorddate  \n",
       "0  2017-02-22  \n",
       "1  2017-02-22  \n",
       "2  2017-02-22  \n",
       "3  2017-02-22  \n",
       "4  2017-02-22  "
      ]
     },
     "execution_count": 67,
     "metadata": {},
     "output_type": "execute_result"
    }
   ],
   "source": [
    "LP.head()"
   ]
  },
  {
   "cell_type": "code",
   "execution_count": 68,
   "metadata": {},
   "outputs": [
    {
     "name": "stdout",
     "output_type": "stream",
     "text": [
      "<class 'pandas.core.frame.DataFrame'>\n",
      "RangeIndex: 3203276 entries, 0 to 3203275\n",
      "Data columns (total 10 columns):\n",
      " #   Column      Dtype  \n",
      "---  ------      -----  \n",
      " 0   ListingId   int64  \n",
      " 1   期数          int64  \n",
      " 2   还款状态        int64  \n",
      " 3   应还本金        float64\n",
      " 4   应还利息        float64\n",
      " 5   剩余本金        float64\n",
      " 6   剩余利息        float64\n",
      " 7   到期日期        object \n",
      " 8   还款日期        object \n",
      " 9   recorddate  object \n",
      "dtypes: float64(4), int64(3), object(3)\n",
      "memory usage: 244.4+ MB\n"
     ]
    }
   ],
   "source": [
    "LP.info()"
   ]
  },
  {
   "cell_type": "code",
   "execution_count": 69,
   "metadata": {},
   "outputs": [
    {
     "data": {
      "text/plain": [
       "0    1560671\n",
       "1    1391092\n",
       "2     212628\n",
       "3      37805\n",
       "4       1080\n",
       "Name: 还款状态, dtype: int64"
      ]
     },
     "execution_count": 69,
     "metadata": {},
     "output_type": "execute_result"
    }
   ],
   "source": [
    "LP['还款状态'].value_counts()"
   ]
  },
  {
   "cell_type": "code",
   "execution_count": 70,
   "metadata": {},
   "outputs": [],
   "source": [
    "#把已经到期的记录提取出来\n",
    "LP = LP[LP['到期日期'] <= LP['recorddate']]"
   ]
  },
  {
   "cell_type": "code",
   "execution_count": 71,
   "metadata": {},
   "outputs": [
    {
     "name": "stdout",
     "output_type": "stream",
     "text": [
      "<class 'pandas.core.frame.DataFrame'>\n",
      "Int64Index: 1600898 entries, 0 to 3117188\n",
      "Data columns (total 10 columns):\n",
      " #   Column      Non-Null Count    Dtype  \n",
      "---  ------      --------------    -----  \n",
      " 0   ListingId   1600898 non-null  int64  \n",
      " 1   期数          1600898 non-null  int64  \n",
      " 2   还款状态        1600898 non-null  int64  \n",
      " 3   应还本金        1600898 non-null  float64\n",
      " 4   应还利息        1600898 non-null  float64\n",
      " 5   剩余本金        1600898 non-null  float64\n",
      " 6   剩余利息        1600898 non-null  float64\n",
      " 7   到期日期        1600898 non-null  object \n",
      " 8   还款日期        1600898 non-null  object \n",
      " 9   recorddate  1600898 non-null  object \n",
      "dtypes: float64(4), int64(3), object(3)\n",
      "memory usage: 134.4+ MB\n"
     ]
    }
   ],
   "source": [
    "LP.info()"
   ]
  },
  {
   "cell_type": "code",
   "execution_count": 72,
   "metadata": {},
   "outputs": [],
   "source": [
    "LCLP = pd.merge(LC,LP,how='inner',on='ListingId')"
   ]
  },
  {
   "cell_type": "code",
   "execution_count": 73,
   "metadata": {},
   "outputs": [
    {
     "name": "stdout",
     "output_type": "stream",
     "text": [
      "<class 'pandas.core.frame.DataFrame'>\n",
      "Int64Index: 1600898 entries, 0 to 1600897\n",
      "Data columns (total 33 columns):\n",
      " #   Column      Non-Null Count    Dtype   \n",
      "---  ------      --------------    -----   \n",
      " 0   ListingId   1600898 non-null  int64   \n",
      " 1   借款金额        1600898 non-null  int64   \n",
      " 2   借款期限        1600898 non-null  int64   \n",
      " 3   借款利率        1600898 non-null  float64 \n",
      " 4   借款成功日期      1600898 non-null  object  \n",
      " 5   初始评级        1600898 non-null  object  \n",
      " 6   借款类型        1600898 non-null  object  \n",
      " 7   是否首标        1600898 non-null  object  \n",
      " 8   年龄          1600898 non-null  int64   \n",
      " 9   性别          1600898 non-null  object  \n",
      " 10  手机认证        1600898 non-null  object  \n",
      " 11  户口认证        1600898 non-null  object  \n",
      " 12  视频认证        1600898 non-null  object  \n",
      " 13  学历认证        1600898 non-null  object  \n",
      " 14  征信认证        1600898 non-null  object  \n",
      " 15  淘宝认证        1600898 non-null  object  \n",
      " 16  历史成功借款次数    1600898 non-null  int64   \n",
      " 17  历史成功借款金额    1600898 non-null  float64 \n",
      " 18  总待还本金       1600898 non-null  float64 \n",
      " 19  历史正常还款期数    1600898 non-null  int64   \n",
      " 20  历史逾期还款期数    1600898 non-null  int64   \n",
      " 21  age_bin     1600635 non-null  category\n",
      " 22  逾期还款率       1023959 non-null  float64 \n",
      " 23  借款金额分段      1600898 non-null  category\n",
      " 24  期数          1600898 non-null  int64   \n",
      " 25  还款状态        1600898 non-null  int64   \n",
      " 26  应还本金        1600898 non-null  float64 \n",
      " 27  应还利息        1600898 non-null  float64 \n",
      " 28  剩余本金        1600898 non-null  float64 \n",
      " 29  剩余利息        1600898 non-null  float64 \n",
      " 30  到期日期        1600898 non-null  object  \n",
      " 31  还款日期        1600898 non-null  object  \n",
      " 32  recorddate  1600898 non-null  object  \n",
      "dtypes: category(2), float64(8), int64(9), object(14)\n",
      "memory usage: 393.9+ MB\n"
     ]
    }
   ],
   "source": [
    "LCLP.info()"
   ]
  },
  {
   "cell_type": "code",
   "execution_count": 74,
   "metadata": {},
   "outputs": [
    {
     "data": {
      "text/plain": [
       "ListingId          0\n",
       "借款金额               0\n",
       "借款期限               0\n",
       "借款利率               0\n",
       "借款成功日期             0\n",
       "初始评级               0\n",
       "借款类型               0\n",
       "是否首标               0\n",
       "年龄                 0\n",
       "性别                 0\n",
       "手机认证               0\n",
       "户口认证               0\n",
       "视频认证               0\n",
       "学历认证               0\n",
       "征信认证               0\n",
       "淘宝认证               0\n",
       "历史成功借款次数           0\n",
       "历史成功借款金额           0\n",
       "总待还本金              0\n",
       "历史正常还款期数           0\n",
       "历史逾期还款期数           0\n",
       "age_bin          263\n",
       "逾期还款率         576939\n",
       "借款金额分段             0\n",
       "期数                 0\n",
       "还款状态               0\n",
       "应还本金               0\n",
       "应还利息               0\n",
       "剩余本金               0\n",
       "剩余利息               0\n",
       "到期日期               0\n",
       "还款日期               0\n",
       "recorddate         0\n",
       "dtype: int64"
      ]
     },
     "execution_count": 74,
     "metadata": {},
     "output_type": "execute_result"
    }
   ],
   "source": [
    "LCLP.isnull().sum()"
   ]
  },
  {
   "cell_type": "code",
   "execution_count": 75,
   "metadata": {},
   "outputs": [],
   "source": [
    "LCLP.drop(['逾期还款率','age_bin'],axis=1,inplace=True)"
   ]
  },
  {
   "cell_type": "code",
   "execution_count": 76,
   "metadata": {},
   "outputs": [
    {
     "data": {
      "text/plain": [
       "ListingId     0\n",
       "借款金额          0\n",
       "借款期限          0\n",
       "借款利率          0\n",
       "借款成功日期        0\n",
       "初始评级          0\n",
       "借款类型          0\n",
       "是否首标          0\n",
       "年龄            0\n",
       "性别            0\n",
       "手机认证          0\n",
       "户口认证          0\n",
       "视频认证          0\n",
       "学历认证          0\n",
       "征信认证          0\n",
       "淘宝认证          0\n",
       "历史成功借款次数      0\n",
       "历史成功借款金额      0\n",
       "总待还本金         0\n",
       "历史正常还款期数      0\n",
       "历史逾期还款期数      0\n",
       "借款金额分段        0\n",
       "期数            0\n",
       "还款状态          0\n",
       "应还本金          0\n",
       "应还利息          0\n",
       "剩余本金          0\n",
       "剩余利息          0\n",
       "到期日期          0\n",
       "还款日期          0\n",
       "recorddate    0\n",
       "dtype: int64"
      ]
     },
     "execution_count": 76,
     "metadata": {},
     "output_type": "execute_result"
    }
   ],
   "source": [
    "(LCLP.isnull()).sum()"
   ]
  },
  {
   "cell_type": "markdown",
   "metadata": {},
   "source": [
    "## 6.1 不同性别的用户的还款状态分析"
   ]
  },
  {
   "cell_type": "code",
   "execution_count": 77,
   "metadata": {},
   "outputs": [],
   "source": [
    "lclp_sex_pivot = pd.pivot_table(data=LCLP,columns='还款状态',index='性别',\n",
    "                                values='ListingId',aggfunc=np.size)"
   ]
  },
  {
   "cell_type": "code",
   "execution_count": 78,
   "metadata": {},
   "outputs": [
    {
     "data": {
      "text/html": [
       "<div>\n",
       "<style scoped>\n",
       "    .dataframe tbody tr th:only-of-type {\n",
       "        vertical-align: middle;\n",
       "    }\n",
       "\n",
       "    .dataframe tbody tr th {\n",
       "        vertical-align: top;\n",
       "    }\n",
       "\n",
       "    .dataframe thead th {\n",
       "        text-align: right;\n",
       "    }\n",
       "</style>\n",
       "<table border=\"1\" class=\"dataframe\">\n",
       "  <thead>\n",
       "    <tr style=\"text-align: right;\">\n",
       "      <th>还款状态</th>\n",
       "      <th>0</th>\n",
       "      <th>1</th>\n",
       "      <th>2</th>\n",
       "      <th>3</th>\n",
       "      <th>4</th>\n",
       "    </tr>\n",
       "    <tr>\n",
       "      <th>性别</th>\n",
       "      <th></th>\n",
       "      <th></th>\n",
       "      <th></th>\n",
       "      <th></th>\n",
       "      <th></th>\n",
       "    </tr>\n",
       "  </thead>\n",
       "  <tbody>\n",
       "    <tr>\n",
       "      <th>女</th>\n",
       "      <td>12359</td>\n",
       "      <td>405347</td>\n",
       "      <td>63547</td>\n",
       "      <td>8714</td>\n",
       "      <td>235</td>\n",
       "    </tr>\n",
       "    <tr>\n",
       "      <th>男</th>\n",
       "      <td>40549</td>\n",
       "      <td>894929</td>\n",
       "      <td>149081</td>\n",
       "      <td>25293</td>\n",
       "      <td>844</td>\n",
       "    </tr>\n",
       "  </tbody>\n",
       "</table>\n",
       "</div>"
      ],
      "text/plain": [
       "还款状态      0       1       2      3    4\n",
       "性别                                     \n",
       "女     12359  405347   63547   8714  235\n",
       "男     40549  894929  149081  25293  844"
      ]
     },
     "execution_count": 78,
     "metadata": {},
     "output_type": "execute_result"
    }
   ],
   "source": [
    "lclp_sex_pivot"
   ]
  },
  {
   "cell_type": "code",
   "execution_count": 79,
   "metadata": {},
   "outputs": [
    {
     "data": {
      "text/plain": [
       "Index(['女', '男'], dtype='object', name='性别')"
      ]
     },
     "execution_count": 79,
     "metadata": {},
     "output_type": "execute_result"
    }
   ],
   "source": [
    "lclp_sex_pivot.index"
   ]
  },
  {
   "cell_type": "code",
   "execution_count": 80,
   "metadata": {},
   "outputs": [],
   "source": [
    "lclp_sex_pivot.columns = ['未还款','已正常还款','已逾期还款','已提前还清该标全部欠款','已部分还款']"
   ]
  },
  {
   "cell_type": "code",
   "execution_count": 81,
   "metadata": {},
   "outputs": [
    {
     "data": {
      "text/html": [
       "<div>\n",
       "<style scoped>\n",
       "    .dataframe tbody tr th:only-of-type {\n",
       "        vertical-align: middle;\n",
       "    }\n",
       "\n",
       "    .dataframe tbody tr th {\n",
       "        vertical-align: top;\n",
       "    }\n",
       "\n",
       "    .dataframe thead th {\n",
       "        text-align: right;\n",
       "    }\n",
       "</style>\n",
       "<table border=\"1\" class=\"dataframe\">\n",
       "  <thead>\n",
       "    <tr style=\"text-align: right;\">\n",
       "      <th></th>\n",
       "      <th>未还款</th>\n",
       "      <th>已正常还款</th>\n",
       "      <th>已逾期还款</th>\n",
       "      <th>已提前还清该标全部欠款</th>\n",
       "      <th>已部分还款</th>\n",
       "    </tr>\n",
       "    <tr>\n",
       "      <th>性别</th>\n",
       "      <th></th>\n",
       "      <th></th>\n",
       "      <th></th>\n",
       "      <th></th>\n",
       "      <th></th>\n",
       "    </tr>\n",
       "  </thead>\n",
       "  <tbody>\n",
       "    <tr>\n",
       "      <th>女</th>\n",
       "      <td>12359</td>\n",
       "      <td>405347</td>\n",
       "      <td>63547</td>\n",
       "      <td>8714</td>\n",
       "      <td>235</td>\n",
       "    </tr>\n",
       "    <tr>\n",
       "      <th>男</th>\n",
       "      <td>40549</td>\n",
       "      <td>894929</td>\n",
       "      <td>149081</td>\n",
       "      <td>25293</td>\n",
       "      <td>844</td>\n",
       "    </tr>\n",
       "  </tbody>\n",
       "</table>\n",
       "</div>"
      ],
      "text/plain": [
       "      未还款   已正常还款   已逾期还款  已提前还清该标全部欠款  已部分还款\n",
       "性别                                           \n",
       "女   12359  405347   63547         8714    235\n",
       "男   40549  894929  149081        25293    844"
      ]
     },
     "execution_count": 81,
     "metadata": {},
     "output_type": "execute_result"
    }
   ],
   "source": [
    "lclp_sex_pivot"
   ]
  },
  {
   "cell_type": "code",
   "execution_count": 82,
   "metadata": {},
   "outputs": [],
   "source": [
    "a = lclp_sex_pivot['未还款']"
   ]
  },
  {
   "cell_type": "code",
   "execution_count": 83,
   "metadata": {},
   "outputs": [
    {
     "data": {
      "text/plain": [
       "性别\n",
       "女    12359\n",
       "男    40549\n",
       "Name: 未还款, dtype: int64"
      ]
     },
     "execution_count": 83,
     "metadata": {},
     "output_type": "execute_result"
    }
   ],
   "source": [
    "a"
   ]
  },
  {
   "cell_type": "code",
   "execution_count": 84,
   "metadata": {},
   "outputs": [
    {
     "data": {
      "text/plain": [
       "未还款             12359\n",
       "已正常还款          405347\n",
       "已逾期还款           63547\n",
       "已提前还清该标全部欠款      8714\n",
       "已部分还款             235\n",
       "Name: 女, dtype: int64"
      ]
     },
     "execution_count": 84,
     "metadata": {},
     "output_type": "execute_result"
    }
   ],
   "source": [
    "lclp_sex_pivot.loc['女']"
   ]
  },
  {
   "cell_type": "code",
   "execution_count": 85,
   "metadata": {},
   "outputs": [
    {
     "name": "stdout",
     "output_type": "stream",
     "text": [
      "<class 'pandas.core.frame.DataFrame'>\n",
      "Index: 2 entries, 女 to 男\n",
      "Data columns (total 5 columns):\n",
      " #   Column       Non-Null Count  Dtype\n",
      "---  ------       --------------  -----\n",
      " 0   未还款          2 non-null      int64\n",
      " 1   已正常还款        2 non-null      int64\n",
      " 2   已逾期还款        2 non-null      int64\n",
      " 3   已提前还清该标全部欠款  2 non-null      int64\n",
      " 4   已部分还款        2 non-null      int64\n",
      "dtypes: int64(5)\n",
      "memory usage: 176.0+ bytes\n"
     ]
    }
   ],
   "source": [
    "lclp_sex_pivot.info()"
   ]
  },
  {
   "cell_type": "code",
   "execution_count": 86,
   "metadata": {},
   "outputs": [
    {
     "data": {
      "text/plain": [
       "'已提前还清该标全部欠款'"
      ]
     },
     "execution_count": 86,
     "metadata": {},
     "output_type": "execute_result"
    }
   ],
   "source": [
    "lclp_sex_pivot.columns[3]"
   ]
  },
  {
   "cell_type": "code",
   "execution_count": 87,
   "metadata": {},
   "outputs": [
    {
     "data": {
      "text/html": [
       "<div>\n",
       "<style scoped>\n",
       "    .dataframe tbody tr th:only-of-type {\n",
       "        vertical-align: middle;\n",
       "    }\n",
       "\n",
       "    .dataframe tbody tr th {\n",
       "        vertical-align: top;\n",
       "    }\n",
       "\n",
       "    .dataframe thead th {\n",
       "        text-align: right;\n",
       "    }\n",
       "</style>\n",
       "<table border=\"1\" class=\"dataframe\">\n",
       "  <thead>\n",
       "    <tr style=\"text-align: right;\">\n",
       "      <th></th>\n",
       "      <th>未还款</th>\n",
       "      <th>已正常还款</th>\n",
       "      <th>已逾期还款</th>\n",
       "      <th>已提前还清该标全部欠款</th>\n",
       "      <th>已部分还款</th>\n",
       "    </tr>\n",
       "    <tr>\n",
       "      <th>性别</th>\n",
       "      <th></th>\n",
       "      <th></th>\n",
       "      <th></th>\n",
       "      <th></th>\n",
       "      <th></th>\n",
       "    </tr>\n",
       "  </thead>\n",
       "  <tbody>\n",
       "    <tr>\n",
       "      <th>女</th>\n",
       "      <td>12359</td>\n",
       "      <td>405347</td>\n",
       "      <td>63547</td>\n",
       "      <td>8714</td>\n",
       "      <td>235</td>\n",
       "    </tr>\n",
       "    <tr>\n",
       "      <th>男</th>\n",
       "      <td>40549</td>\n",
       "      <td>894929</td>\n",
       "      <td>149081</td>\n",
       "      <td>25293</td>\n",
       "      <td>844</td>\n",
       "    </tr>\n",
       "  </tbody>\n",
       "</table>\n",
       "</div>"
      ],
      "text/plain": [
       "      未还款   已正常还款   已逾期还款  已提前还清该标全部欠款  已部分还款\n",
       "性别                                           \n",
       "女   12359  405347   63547         8714    235\n",
       "男   40549  894929  149081        25293    844"
      ]
     },
     "execution_count": 87,
     "metadata": {},
     "output_type": "execute_result"
    }
   ],
   "source": [
    "lclp_sex_pivot"
   ]
  },
  {
   "cell_type": "code",
   "execution_count": 88,
   "metadata": {},
   "outputs": [],
   "source": [
    "#绘制堆叠柱状图\n",
    "a_sex = lclp_sex_pivot['未还款']\n",
    "b_sex = lclp_sex_pivot['已正常还款']\n",
    "c_sex = lclp_sex_pivot['已逾期还款']\n",
    "d_sex = lclp_sex_pivot['已提前还清该标全部欠款']\n",
    "e_sex = lclp_sex_pivot['已部分还款']"
   ]
  },
  {
   "cell_type": "code",
   "execution_count": 89,
   "metadata": {},
   "outputs": [],
   "source": [
    "labels = ['男','女']"
   ]
  },
  {
   "cell_type": "code",
   "execution_count": 90,
   "metadata": {},
   "outputs": [
    {
     "data": {
      "text/plain": [
       "range(0, 2)"
      ]
     },
     "execution_count": 90,
     "metadata": {},
     "output_type": "execute_result"
    }
   ],
   "source": [
    "range(len(a_sex))"
   ]
  },
  {
   "cell_type": "code",
   "execution_count": 91,
   "metadata": {},
   "outputs": [
    {
     "data": {
      "image/png": "[encoded data removed]",
      "text/plain": [
       "<Figure size 432x288 with 1 Axes>"
      ]
     },
     "metadata": {
      "needs_background": "light"
     },
     "output_type": "display_data"
    }
   ],
   "source": [
    "plt.bar(range(len(a_sex)),a_sex,tick_label=labels,label='未还款',width=0.2)\n",
    "plt.bar(range(len(b_sex)),b_sex,bottom=a_sex,tick_label=labels,label='已正常还款',width=0.2)\n",
    "plt.bar(range(len(c_sex)),c_sex,bottom=b_sex,tick_label=labels,label='已逾期还款',width=0.2)\n",
    "plt.bar(range(len(d_sex)),d_sex,bottom=c_sex,tick_label=labels,label='已提前还清全部',width=0.2)\n",
    "plt.bar(range(len(e_sex)),e_sex,bottom=d_sex,tick_label=labels,label='已部分还款',width=0.2)\n",
    "\n",
    "plt.legend()\n",
    "plt.show()"
   ]
  },
  {
   "cell_type": "code",
   "execution_count": 92,
   "metadata": {},
   "outputs": [
    {
     "data": {
      "text/plain": [
       "array([0, 1])"
      ]
     },
     "execution_count": 92,
     "metadata": {},
     "output_type": "execute_result"
    }
   ],
   "source": [
    "np.arange(len(a_sex))"
   ]
  },
  {
   "cell_type": "code",
   "execution_count": 93,
   "metadata": {},
   "outputs": [
    {
     "data": {
      "image/png": "[encoded data removed]",
      "text/plain": [
       "<Figure size 432x288 with 1 Axes>"
      ]
     },
     "metadata": {
      "needs_background": "light"
     },
     "output_type": "display_data"
    }
   ],
   "source": [
    "#绘制并列柱状图\n",
    "width_0 = 0.2\n",
    "plt.bar(np.arange(len(a_sex)),a_sex,tick_label=labels,label='未还款',width=0.2)\n",
    "plt.bar(np.arange(len(b_sex))+width_0,b_sex,tick_label=labels,label='已正常还款',width=0.2)\n",
    "plt.bar(np.arange(len(c_sex))+2*width_0,c_sex,tick_label=labels,label='已逾期还款',width=0.2)\n",
    "plt.bar(np.arange(len(d_sex))+3*width_0,d_sex,tick_label=labels,label='已提起还清全部',width=0.2)\n",
    "plt.bar(np.arange(len(e_sex))+4*width_0,e_sex,tick_label=labels,label='已部分还款',width=0.2)\n",
    "\n",
    "plt.legend()\n",
    "plt.show()"
   ]
  },
  {
   "cell_type": "markdown",
   "metadata": {},
   "source": [
    "## 6.2 不同初始评级的用户的还款状态分析"
   ]
  },
  {
   "cell_type": "code",
   "execution_count": 94,
   "metadata": {},
   "outputs": [
    {
     "data": {
      "text/plain": [
       "D    692424\n",
       "C    575328\n",
       "B    155961\n",
       "E    119796\n",
       "A     49021\n",
       "F      8368\n",
       "Name: 初始评级, dtype: int64"
      ]
     },
     "execution_count": 94,
     "metadata": {},
     "output_type": "execute_result"
    }
   ],
   "source": [
    "#不同评级的用户的还款情况\n",
    "LCLP['初始评级'].value_counts()"
   ]
  },
  {
   "cell_type": "code",
   "execution_count": 95,
   "metadata": {},
   "outputs": [],
   "source": [
    "lclp_level_pivot = pd.pivot_table(data=LCLP,columns='还款状态',index='初始评级',\n",
    "                                values='ListingId',aggfunc=np.size)"
   ]
  },
  {
   "cell_type": "code",
   "execution_count": 96,
   "metadata": {},
   "outputs": [
    {
     "data": {
      "text/html": [
       "<div>\n",
       "<style scoped>\n",
       "    .dataframe tbody tr th:only-of-type {\n",
       "        vertical-align: middle;\n",
       "    }\n",
       "\n",
       "    .dataframe tbody tr th {\n",
       "        vertical-align: top;\n",
       "    }\n",
       "\n",
       "    .dataframe thead th {\n",
       "        text-align: right;\n",
       "    }\n",
       "</style>\n",
       "<table border=\"1\" class=\"dataframe\">\n",
       "  <thead>\n",
       "    <tr style=\"text-align: right;\">\n",
       "      <th>还款状态</th>\n",
       "      <th>0</th>\n",
       "      <th>1</th>\n",
       "      <th>2</th>\n",
       "      <th>3</th>\n",
       "      <th>4</th>\n",
       "    </tr>\n",
       "    <tr>\n",
       "      <th>初始评级</th>\n",
       "      <th></th>\n",
       "      <th></th>\n",
       "      <th></th>\n",
       "      <th></th>\n",
       "      <th></th>\n",
       "    </tr>\n",
       "  </thead>\n",
       "  <tbody>\n",
       "    <tr>\n",
       "      <th>A</th>\n",
       "      <td>947</td>\n",
       "      <td>42069</td>\n",
       "      <td>4920</td>\n",
       "      <td>1070</td>\n",
       "      <td>15</td>\n",
       "    </tr>\n",
       "    <tr>\n",
       "      <th>B</th>\n",
       "      <td>3898</td>\n",
       "      <td>132911</td>\n",
       "      <td>15957</td>\n",
       "      <td>3112</td>\n",
       "      <td>83</td>\n",
       "    </tr>\n",
       "    <tr>\n",
       "      <th>C</th>\n",
       "      <td>14497</td>\n",
       "      <td>481532</td>\n",
       "      <td>63868</td>\n",
       "      <td>15150</td>\n",
       "      <td>281</td>\n",
       "    </tr>\n",
       "    <tr>\n",
       "      <th>D</th>\n",
       "      <td>26106</td>\n",
       "      <td>551034</td>\n",
       "      <td>101994</td>\n",
       "      <td>12788</td>\n",
       "      <td>502</td>\n",
       "    </tr>\n",
       "    <tr>\n",
       "      <th>E</th>\n",
       "      <td>6684</td>\n",
       "      <td>87328</td>\n",
       "      <td>23950</td>\n",
       "      <td>1662</td>\n",
       "      <td>172</td>\n",
       "    </tr>\n",
       "    <tr>\n",
       "      <th>F</th>\n",
       "      <td>776</td>\n",
       "      <td>5402</td>\n",
       "      <td>1939</td>\n",
       "      <td>225</td>\n",
       "      <td>26</td>\n",
       "    </tr>\n",
       "  </tbody>\n",
       "</table>\n",
       "</div>"
      ],
      "text/plain": [
       "还款状态      0       1       2      3    4\n",
       "初始评级                                   \n",
       "A       947   42069    4920   1070   15\n",
       "B      3898  132911   15957   3112   83\n",
       "C     14497  481532   63868  15150  281\n",
       "D     26106  551034  101994  12788  502\n",
       "E      6684   87328   23950   1662  172\n",
       "F       776    5402    1939    225   26"
      ]
     },
     "execution_count": 96,
     "metadata": {},
     "output_type": "execute_result"
    }
   ],
   "source": [
    "lclp_level_pivot"
   ]
  },
  {
   "cell_type": "code",
   "execution_count": 97,
   "metadata": {},
   "outputs": [
    {
     "data": {
      "text/html": [
       "<div>\n",
       "<style scoped>\n",
       "    .dataframe tbody tr th:only-of-type {\n",
       "        vertical-align: middle;\n",
       "    }\n",
       "\n",
       "    .dataframe tbody tr th {\n",
       "        vertical-align: top;\n",
       "    }\n",
       "\n",
       "    .dataframe thead th {\n",
       "        text-align: right;\n",
       "    }\n",
       "</style>\n",
       "<table border=\"1\" class=\"dataframe\">\n",
       "  <thead>\n",
       "    <tr style=\"text-align: right;\">\n",
       "      <th></th>\n",
       "      <th>未还款</th>\n",
       "      <th>已正常还款</th>\n",
       "      <th>已逾期还款</th>\n",
       "      <th>已提前还清全部</th>\n",
       "      <th>已部分还款</th>\n",
       "    </tr>\n",
       "    <tr>\n",
       "      <th>初始评级</th>\n",
       "      <th></th>\n",
       "      <th></th>\n",
       "      <th></th>\n",
       "      <th></th>\n",
       "      <th></th>\n",
       "    </tr>\n",
       "  </thead>\n",
       "  <tbody>\n",
       "    <tr>\n",
       "      <th>A</th>\n",
       "      <td>947</td>\n",
       "      <td>42069</td>\n",
       "      <td>4920</td>\n",
       "      <td>1070</td>\n",
       "      <td>15</td>\n",
       "    </tr>\n",
       "    <tr>\n",
       "      <th>B</th>\n",
       "      <td>3898</td>\n",
       "      <td>132911</td>\n",
       "      <td>15957</td>\n",
       "      <td>3112</td>\n",
       "      <td>83</td>\n",
       "    </tr>\n",
       "    <tr>\n",
       "      <th>C</th>\n",
       "      <td>14497</td>\n",
       "      <td>481532</td>\n",
       "      <td>63868</td>\n",
       "      <td>15150</td>\n",
       "      <td>281</td>\n",
       "    </tr>\n",
       "    <tr>\n",
       "      <th>D</th>\n",
       "      <td>26106</td>\n",
       "      <td>551034</td>\n",
       "      <td>101994</td>\n",
       "      <td>12788</td>\n",
       "      <td>502</td>\n",
       "    </tr>\n",
       "    <tr>\n",
       "      <th>E</th>\n",
       "      <td>6684</td>\n",
       "      <td>87328</td>\n",
       "      <td>23950</td>\n",
       "      <td>1662</td>\n",
       "      <td>172</td>\n",
       "    </tr>\n",
       "    <tr>\n",
       "      <th>F</th>\n",
       "      <td>776</td>\n",
       "      <td>5402</td>\n",
       "      <td>1939</td>\n",
       "      <td>225</td>\n",
       "      <td>26</td>\n",
       "    </tr>\n",
       "  </tbody>\n",
       "</table>\n",
       "</div>"
      ],
      "text/plain": [
       "        未还款   已正常还款   已逾期还款  已提前还清全部  已部分还款\n",
       "初始评级                                       \n",
       "A       947   42069    4920     1070     15\n",
       "B      3898  132911   15957     3112     83\n",
       "C     14497  481532   63868    15150    281\n",
       "D     26106  551034  101994    12788    502\n",
       "E      6684   87328   23950     1662    172\n",
       "F       776    5402    1939      225     26"
      ]
     },
     "execution_count": 97,
     "metadata": {},
     "output_type": "execute_result"
    }
   ],
   "source": [
    "lclp_level_pivot.columns = ['未还款','已正常还款','已逾期还款','已提前还清全部','已部分还款']\n",
    "lclp_level_pivot"
   ]
  },
  {
   "cell_type": "code",
   "execution_count": 98,
   "metadata": {},
   "outputs": [],
   "source": [
    "a_level = lclp_level_pivot['未还款']\n",
    "b_level = lclp_level_pivot['已正常还款']\n",
    "c_level = lclp_level_pivot['已逾期还款']\n",
    "d_level = lclp_level_pivot['已提前还清全部']\n",
    "e_level = lclp_level_pivot['已部分还款']"
   ]
  },
  {
   "cell_type": "code",
   "execution_count": 99,
   "metadata": {},
   "outputs": [],
   "source": [
    "labels = ['A','B','C','D','E','F']"
   ]
  },
  {
   "cell_type": "code",
   "execution_count": 100,
   "metadata": {},
   "outputs": [
    {
     "data": {
      "image/png": "[encoded data removed]",
      "text/plain": [
       "<Figure size 432x288 with 1 Axes>"
      ]
     },
     "metadata": {
      "needs_background": "light"
     },
     "output_type": "display_data"
    }
   ],
   "source": [
    "#绘制堆叠柱状图\n",
    "plt.bar(range(len(a_level)),a_level,tick_label=labels,label='未还款',width=0.6)\n",
    "plt.bar(range(len(b_level)),b_level,bottom=a_level,tick_label=labels,label='已正常还款',width=0.6)\n",
    "plt.bar(range(len(c_level)),c_level,bottom=b_level,tick_label=labels,label='已逾期还款',width=0.6)\n",
    "plt.bar(range(len(d_level)),d_level,bottom=c_level,tick_label=labels,label='已提前还清全部',width=0.6)\n",
    "plt.bar(range(len(e_level)),e_level,bottom=d_level,tick_label=labels,label='已部分还款',width=0.6)\n",
    "\n",
    "plt.legend()\n",
    "plt.xlabel('初始评级')\n",
    "plt.ylabel('人数')\n",
    "plt.show()"
   ]
  },
  {
   "cell_type": "code",
   "execution_count": 101,
   "metadata": {},
   "outputs": [
    {
     "data": {
      "image/png": "[encoded data removed]",
      "text/plain": [
       "<Figure size 648x432 with 1 Axes>"
      ]
     },
     "metadata": {
      "needs_background": "light"
     },
     "output_type": "display_data"
    }
   ],
   "source": [
    "#绘制并列柱状图\n",
    "plt.figure(figsize=(9,6))\n",
    "width_0 = 0.2\n",
    "plt.bar(np.arange(len(a_level)),a_level,tick_label=labels,label='未还款',width=0.2)\n",
    "plt.bar(np.arange(len(b_level))+width_0,b_level,tick_label=labels,label='已正常还款',width=0.2)\n",
    "plt.bar(np.arange(len(c_level))+2*width_0,c_level,tick_label=labels,label='已逾期还款',width=0.2)\n",
    "plt.bar(np.arange(len(d_level))+3*width_0,d_level,tick_label=labels,label='已提起还清全部',width=0.2)\n",
    "plt.bar(np.arange(len(e_level))+4*width_0,e_level,tick_label=labels,label='已部分还款',width=0.2)\n",
    "\n",
    "plt.legend()\n",
    "plt.xlabel('初始评级')\n",
    "plt.ylabel('人数')\n",
    "plt.show()"
   ]
  },
  {
   "cell_type": "markdown",
   "metadata": {},
   "source": [
    "## 6.3 不同年龄用户的还款状态分析"
   ]
  },
  {
   "cell_type": "code",
   "execution_count": 102,
   "metadata": {},
   "outputs": [],
   "source": [
    "\n",
    "LCLP['年龄分段'] = pd.cut(LCLP['年龄'],[15,20,25,30,35,40,45,50,55],right=True)"
   ]
  },
  {
   "cell_type": "code",
   "execution_count": 103,
   "metadata": {},
   "outputs": [
    {
     "data": {
      "text/plain": [
       "(25, 30]    524893\n",
       "(20, 25]    467011\n",
       "(30, 35]    287880\n",
       "(35, 40]    134009\n",
       "(40, 45]     77738\n",
       "(15, 20]     63137\n",
       "(45, 50]     36199\n",
       "(50, 55]      9768\n",
       "Name: 年龄分段, dtype: int64"
      ]
     },
     "execution_count": 103,
     "metadata": {},
     "output_type": "execute_result"
    }
   ],
   "source": [
    "LCLP['年龄分段'].value_counts()"
   ]
  },
  {
   "cell_type": "code",
   "execution_count": 104,
   "metadata": {},
   "outputs": [],
   "source": [
    "lclp_age_pivot = pd.pivot_table(data=LCLP,columns='还款状态',index='年龄分段',\n",
    "                                values='ListingId',aggfunc=np.size)"
   ]
  },
  {
   "cell_type": "code",
   "execution_count": 105,
   "metadata": {},
   "outputs": [
    {
     "data": {
      "text/html": [
       "<div>\n",
       "<style scoped>\n",
       "    .dataframe tbody tr th:only-of-type {\n",
       "        vertical-align: middle;\n",
       "    }\n",
       "\n",
       "    .dataframe tbody tr th {\n",
       "        vertical-align: top;\n",
       "    }\n",
       "\n",
       "    .dataframe thead th {\n",
       "        text-align: right;\n",
       "    }\n",
       "</style>\n",
       "<table border=\"1\" class=\"dataframe\">\n",
       "  <thead>\n",
       "    <tr style=\"text-align: right;\">\n",
       "      <th>还款状态</th>\n",
       "      <th>0</th>\n",
       "      <th>1</th>\n",
       "      <th>2</th>\n",
       "      <th>3</th>\n",
       "      <th>4</th>\n",
       "    </tr>\n",
       "    <tr>\n",
       "      <th>年龄分段</th>\n",
       "      <th></th>\n",
       "      <th></th>\n",
       "      <th></th>\n",
       "      <th></th>\n",
       "      <th></th>\n",
       "    </tr>\n",
       "  </thead>\n",
       "  <tbody>\n",
       "    <tr>\n",
       "      <th>(15, 20]</th>\n",
       "      <td>2297</td>\n",
       "      <td>49171</td>\n",
       "      <td>10651</td>\n",
       "      <td>997</td>\n",
       "      <td>21</td>\n",
       "    </tr>\n",
       "    <tr>\n",
       "      <th>(20, 25]</th>\n",
       "      <td>13953</td>\n",
       "      <td>374360</td>\n",
       "      <td>68908</td>\n",
       "      <td>9513</td>\n",
       "      <td>277</td>\n",
       "    </tr>\n",
       "    <tr>\n",
       "      <th>(25, 30]</th>\n",
       "      <td>16607</td>\n",
       "      <td>426691</td>\n",
       "      <td>69611</td>\n",
       "      <td>11693</td>\n",
       "      <td>291</td>\n",
       "    </tr>\n",
       "    <tr>\n",
       "      <th>(30, 35]</th>\n",
       "      <td>9735</td>\n",
       "      <td>237006</td>\n",
       "      <td>34310</td>\n",
       "      <td>6607</td>\n",
       "      <td>222</td>\n",
       "    </tr>\n",
       "    <tr>\n",
       "      <th>(35, 40]</th>\n",
       "      <td>5129</td>\n",
       "      <td>110651</td>\n",
       "      <td>15307</td>\n",
       "      <td>2806</td>\n",
       "      <td>116</td>\n",
       "    </tr>\n",
       "    <tr>\n",
       "      <th>(40, 45]</th>\n",
       "      <td>3271</td>\n",
       "      <td>64255</td>\n",
       "      <td>8559</td>\n",
       "      <td>1555</td>\n",
       "      <td>98</td>\n",
       "    </tr>\n",
       "    <tr>\n",
       "      <th>(45, 50]</th>\n",
       "      <td>1556</td>\n",
       "      <td>30027</td>\n",
       "      <td>3918</td>\n",
       "      <td>659</td>\n",
       "      <td>39</td>\n",
       "    </tr>\n",
       "    <tr>\n",
       "      <th>(50, 55]</th>\n",
       "      <td>353</td>\n",
       "      <td>7897</td>\n",
       "      <td>1330</td>\n",
       "      <td>175</td>\n",
       "      <td>13</td>\n",
       "    </tr>\n",
       "  </tbody>\n",
       "</table>\n",
       "</div>"
      ],
      "text/plain": [
       "还款状态          0       1      2      3    4\n",
       "年龄分段                                      \n",
       "(15, 20]   2297   49171  10651    997   21\n",
       "(20, 25]  13953  374360  68908   9513  277\n",
       "(25, 30]  16607  426691  69611  11693  291\n",
       "(30, 35]   9735  237006  34310   6607  222\n",
       "(35, 40]   5129  110651  15307   2806  116\n",
       "(40, 45]   3271   64255   8559   1555   98\n",
       "(45, 50]   1556   30027   3918    659   39\n",
       "(50, 55]    353    7897   1330    175   13"
      ]
     },
     "execution_count": 105,
     "metadata": {},
     "output_type": "execute_result"
    }
   ],
   "source": [
    "lclp_age_pivot"
   ]
  },
  {
   "cell_type": "code",
   "execution_count": 106,
   "metadata": {},
   "outputs": [
    {
     "data": {
      "text/html": [
       "<div>\n",
       "<style scoped>\n",
       "    .dataframe tbody tr th:only-of-type {\n",
       "        vertical-align: middle;\n",
       "    }\n",
       "\n",
       "    .dataframe tbody tr th {\n",
       "        vertical-align: top;\n",
       "    }\n",
       "\n",
       "    .dataframe thead th {\n",
       "        text-align: right;\n",
       "    }\n",
       "</style>\n",
       "<table border=\"1\" class=\"dataframe\">\n",
       "  <thead>\n",
       "    <tr style=\"text-align: right;\">\n",
       "      <th></th>\n",
       "      <th>未还款</th>\n",
       "      <th>已正常还款</th>\n",
       "      <th>已逾期还款</th>\n",
       "      <th>已提前还清全部</th>\n",
       "      <th>已部分还款</th>\n",
       "    </tr>\n",
       "    <tr>\n",
       "      <th>年龄分段</th>\n",
       "      <th></th>\n",
       "      <th></th>\n",
       "      <th></th>\n",
       "      <th></th>\n",
       "      <th></th>\n",
       "    </tr>\n",
       "  </thead>\n",
       "  <tbody>\n",
       "    <tr>\n",
       "      <th>(15, 20]</th>\n",
       "      <td>2297</td>\n",
       "      <td>49171</td>\n",
       "      <td>10651</td>\n",
       "      <td>997</td>\n",
       "      <td>21</td>\n",
       "    </tr>\n",
       "    <tr>\n",
       "      <th>(20, 25]</th>\n",
       "      <td>13953</td>\n",
       "      <td>374360</td>\n",
       "      <td>68908</td>\n",
       "      <td>9513</td>\n",
       "      <td>277</td>\n",
       "    </tr>\n",
       "    <tr>\n",
       "      <th>(25, 30]</th>\n",
       "      <td>16607</td>\n",
       "      <td>426691</td>\n",
       "      <td>69611</td>\n",
       "      <td>11693</td>\n",
       "      <td>291</td>\n",
       "    </tr>\n",
       "    <tr>\n",
       "      <th>(30, 35]</th>\n",
       "      <td>9735</td>\n",
       "      <td>237006</td>\n",
       "      <td>34310</td>\n",
       "      <td>6607</td>\n",
       "      <td>222</td>\n",
       "    </tr>\n",
       "    <tr>\n",
       "      <th>(35, 40]</th>\n",
       "      <td>5129</td>\n",
       "      <td>110651</td>\n",
       "      <td>15307</td>\n",
       "      <td>2806</td>\n",
       "      <td>116</td>\n",
       "    </tr>\n",
       "    <tr>\n",
       "      <th>(40, 45]</th>\n",
       "      <td>3271</td>\n",
       "      <td>64255</td>\n",
       "      <td>8559</td>\n",
       "      <td>1555</td>\n",
       "      <td>98</td>\n",
       "    </tr>\n",
       "    <tr>\n",
       "      <th>(45, 50]</th>\n",
       "      <td>1556</td>\n",
       "      <td>30027</td>\n",
       "      <td>3918</td>\n",
       "      <td>659</td>\n",
       "      <td>39</td>\n",
       "    </tr>\n",
       "    <tr>\n",
       "      <th>(50, 55]</th>\n",
       "      <td>353</td>\n",
       "      <td>7897</td>\n",
       "      <td>1330</td>\n",
       "      <td>175</td>\n",
       "      <td>13</td>\n",
       "    </tr>\n",
       "  </tbody>\n",
       "</table>\n",
       "</div>"
      ],
      "text/plain": [
       "            未还款   已正常还款  已逾期还款  已提前还清全部  已部分还款\n",
       "年龄分段                                          \n",
       "(15, 20]   2297   49171  10651      997     21\n",
       "(20, 25]  13953  374360  68908     9513    277\n",
       "(25, 30]  16607  426691  69611    11693    291\n",
       "(30, 35]   9735  237006  34310     6607    222\n",
       "(35, 40]   5129  110651  15307     2806    116\n",
       "(40, 45]   3271   64255   8559     1555     98\n",
       "(45, 50]   1556   30027   3918      659     39\n",
       "(50, 55]    353    7897   1330      175     13"
      ]
     },
     "execution_count": 106,
     "metadata": {},
     "output_type": "execute_result"
    }
   ],
   "source": [
    "lclp_age_pivot.columns = ['未还款','已正常还款','已逾期还款','已提前还清全部','已部分还款']\n",
    "lclp_age_pivot"
   ]
  },
  {
   "cell_type": "code",
   "execution_count": 107,
   "metadata": {},
   "outputs": [],
   "source": [
    "#绘制堆叠柱状图\n",
    "a_age = lclp_age_pivot['未还款']\n",
    "b_age = lclp_age_pivot['已正常还款']\n",
    "c_age = lclp_age_pivot['已逾期还款']\n",
    "d_age = lclp_age_pivot['已提前还清全部']\n",
    "e_age = lclp_age_pivot['已部分还款']"
   ]
  },
  {
   "cell_type": "code",
   "execution_count": 108,
   "metadata": {},
   "outputs": [],
   "source": [
    "labels = ['15:20','20:25','25:30','30:35','35:40','40:45','45:50','50:55']"
   ]
  },
  {
   "cell_type": "code",
   "execution_count": 109,
   "metadata": {},
   "outputs": [
    {
     "data": {
      "image/png": "[encoded data removed]",
      "text/plain": [
       "<Figure size 432x288 with 1 Axes>"
      ]
     },
     "metadata": {
      "needs_background": "light"
     },
     "output_type": "display_data"
    }
   ],
   "source": [
    "\n",
    "plt.bar(range(len(a_age)),a_age,tick_label=labels,label='未还款',width=0.6)\n",
    "plt.bar(range(len(b_age)),b_age,bottom=a_age,tick_label=labels,label='已正常还款',width=0.6)\n",
    "plt.bar(range(len(c_age)),c_age,bottom=b_age,tick_label=labels,label='已逾期还款',width=0.6)\n",
    "plt.bar(range(len(d_age)),d_age,bottom=c_age,tick_label=labels,label='已提前还清全部',width=0.6)\n",
    "plt.bar(range(len(e_age)),e_age,bottom=d_age,tick_label=labels,label='已部分还款',width=0.6)\n",
    "\n",
    "plt.legend()\n",
    "plt.xticks(rotation=40)\n",
    "plt.xlabel('年龄')\n",
    "plt.ylabel('人数')\n",
    "plt.show()"
   ]
  },
  {
   "cell_type": "code",
   "execution_count": null,
   "metadata": {},
   "outputs": [],
   "source": [
    "\n"
   ]
  },
  {
   "cell_type": "code",
   "execution_count": null,
   "metadata": {},
   "outputs": [],
   "source": []
  },
  {
   "cell_type": "code",
   "execution_count": null,
   "metadata": {},
   "outputs": [],
   "source": []
  }
 ],
 "metadata": {
  "kernelspec": {
   "display_name": "Python 3",
   "language": "python",
   "name": "python3"
  },
  "language_info": {
   "codemirror_mode": {
    "name": "ipython",
    "version": 3
   },
   "file_extension": ".py",
   "mimetype": "text/x-python",
   "name": "python",
   "nbconvert_exporter": "python",
   "pygments_lexer": "ipython3",
   "version": "3.6.10"
  }
 },
 "nbformat": 4,
 "nbformat_minor": 4
}

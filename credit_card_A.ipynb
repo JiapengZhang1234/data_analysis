{
 "cells": [
  {
   "cell_type": "markdown",
   "metadata": {},
   "source": [
    "## 用逻辑回归制作评分卡\n",
    "\n",
    "在银行借贷场景中，评分卡是以分数形式来衡量一个客户信用风险大小的手段，它衡量想向别人借钱的人如果不能\n",
    "如期履行合同中的还本付息责任，并让借钱给别人的人造成经济损失的可能性。一般来说，评分卡打出的分数越高，\n",
    "客户的信用越好，风险越小。\n",
    "\n",
    "借钱的实体可能是指个人，也可能是指公司和企业。对于企业来说，按照融资企业的融资用途分别使用企业融资模型、现金流融资模型、项目融资模型等模型。而对于个人来说，我们有四张卡来评估个人的信用程度：A卡、B卡、C卡、F卡。A卡被称为申请评分卡或者申请者评级模型，用来帮助金融机构来判断是否应该借钱给一个新用户。如果某一个人风险太高，我们就可以拒绝贷款。"
   ]
  },
  {
   "cell_type": "markdown",
   "metadata": {},
   "source": [
    "## 1 导库，获取数据\n",
    "\n"
   ]
  },
  {
   "cell_type": "code",
   "execution_count": 1,
   "metadata": {},
   "outputs": [],
   "source": [
    "import numpy as np\n",
    "import pandas as pd\n",
    "from sklearn.linear_model import LogisticRegression as LR\n",
    "import matplotlib.pyplot as plt\n",
    "%matplotlib inline"
   ]
  },
  {
   "cell_type": "code",
   "execution_count": 2,
   "metadata": {},
   "outputs": [],
   "source": [
    "data = pd.read_csv(r\"D:\\DataSet\\GiveMeSomeCredit\\cs-training.csv\",index_col=0)"
   ]
  },
  {
   "cell_type": "code",
   "execution_count": 3,
   "metadata": {},
   "outputs": [
    {
     "data": {
      "text/html": [
       "<div>\n",
       "<style scoped>\n",
       "    .dataframe tbody tr th:only-of-type {\n",
       "        vertical-align: middle;\n",
       "    }\n",
       "\n",
       "    .dataframe tbody tr th {\n",
       "        vertical-align: top;\n",
       "    }\n",
       "\n",
       "    .dataframe thead th {\n",
       "        text-align: right;\n",
       "    }\n",
       "</style>\n",
       "<table border=\"1\" class=\"dataframe\">\n",
       "  <thead>\n",
       "    <tr style=\"text-align: right;\">\n",
       "      <th></th>\n",
       "      <th>SeriousDlqin2yrs</th>\n",
       "      <th>RevolvingUtilizationOfUnsecuredLines</th>\n",
       "      <th>age</th>\n",
       "      <th>NumberOfTime30-59DaysPastDueNotWorse</th>\n",
       "      <th>DebtRatio</th>\n",
       "      <th>MonthlyIncome</th>\n",
       "      <th>NumberOfOpenCreditLinesAndLoans</th>\n",
       "      <th>NumberOfTimes90DaysLate</th>\n",
       "      <th>NumberRealEstateLoansOrLines</th>\n",
       "      <th>NumberOfTime60-89DaysPastDueNotWorse</th>\n",
       "      <th>NumberOfDependents</th>\n",
       "    </tr>\n",
       "  </thead>\n",
       "  <tbody>\n",
       "    <tr>\n",
       "      <th>1</th>\n",
       "      <td>1</td>\n",
       "      <td>0.766127</td>\n",
       "      <td>45</td>\n",
       "      <td>2</td>\n",
       "      <td>0.802982</td>\n",
       "      <td>9120.0</td>\n",
       "      <td>13</td>\n",
       "      <td>0</td>\n",
       "      <td>6</td>\n",
       "      <td>0</td>\n",
       "      <td>2.0</td>\n",
       "    </tr>\n",
       "    <tr>\n",
       "      <th>2</th>\n",
       "      <td>0</td>\n",
       "      <td>0.957151</td>\n",
       "      <td>40</td>\n",
       "      <td>0</td>\n",
       "      <td>0.121876</td>\n",
       "      <td>2600.0</td>\n",
       "      <td>4</td>\n",
       "      <td>0</td>\n",
       "      <td>0</td>\n",
       "      <td>0</td>\n",
       "      <td>1.0</td>\n",
       "    </tr>\n",
       "    <tr>\n",
       "      <th>3</th>\n",
       "      <td>0</td>\n",
       "      <td>0.658180</td>\n",
       "      <td>38</td>\n",
       "      <td>1</td>\n",
       "      <td>0.085113</td>\n",
       "      <td>3042.0</td>\n",
       "      <td>2</td>\n",
       "      <td>1</td>\n",
       "      <td>0</td>\n",
       "      <td>0</td>\n",
       "      <td>0.0</td>\n",
       "    </tr>\n",
       "    <tr>\n",
       "      <th>4</th>\n",
       "      <td>0</td>\n",
       "      <td>0.233810</td>\n",
       "      <td>30</td>\n",
       "      <td>0</td>\n",
       "      <td>0.036050</td>\n",
       "      <td>3300.0</td>\n",
       "      <td>5</td>\n",
       "      <td>0</td>\n",
       "      <td>0</td>\n",
       "      <td>0</td>\n",
       "      <td>0.0</td>\n",
       "    </tr>\n",
       "    <tr>\n",
       "      <th>5</th>\n",
       "      <td>0</td>\n",
       "      <td>0.907239</td>\n",
       "      <td>49</td>\n",
       "      <td>1</td>\n",
       "      <td>0.024926</td>\n",
       "      <td>63588.0</td>\n",
       "      <td>7</td>\n",
       "      <td>0</td>\n",
       "      <td>1</td>\n",
       "      <td>0</td>\n",
       "      <td>0.0</td>\n",
       "    </tr>\n",
       "  </tbody>\n",
       "</table>\n",
       "</div>"
      ],
      "text/plain": [
       "   SeriousDlqin2yrs  RevolvingUtilizationOfUnsecuredLines  age  \\\n",
       "1                 1                              0.766127   45   \n",
       "2                 0                              0.957151   40   \n",
       "3                 0                              0.658180   38   \n",
       "4                 0                              0.233810   30   \n",
       "5                 0                              0.907239   49   \n",
       "\n",
       "   NumberOfTime30-59DaysPastDueNotWorse  DebtRatio  MonthlyIncome  \\\n",
       "1                                     2   0.802982         9120.0   \n",
       "2                                     0   0.121876         2600.0   \n",
       "3                                     1   0.085113         3042.0   \n",
       "4                                     0   0.036050         3300.0   \n",
       "5                                     1   0.024926        63588.0   \n",
       "\n",
       "   NumberOfOpenCreditLinesAndLoans  NumberOfTimes90DaysLate  \\\n",
       "1                               13                        0   \n",
       "2                                4                        0   \n",
       "3                                2                        1   \n",
       "4                                5                        0   \n",
       "5                                7                        0   \n",
       "\n",
       "   NumberRealEstateLoansOrLines  NumberOfTime60-89DaysPastDueNotWorse  \\\n",
       "1                             6                                     0   \n",
       "2                             0                                     0   \n",
       "3                             0                                     0   \n",
       "4                             0                                     0   \n",
       "5                             1                                     0   \n",
       "\n",
       "   NumberOfDependents  \n",
       "1                 2.0  \n",
       "2                 1.0  \n",
       "3                 0.0  \n",
       "4                 0.0  \n",
       "5                 0.0  "
      ]
     },
     "execution_count": 3,
     "metadata": {},
     "output_type": "execute_result"
    }
   ],
   "source": [
    "data.head()"
   ]
  },
  {
   "cell_type": "markdown",
   "metadata": {},
   "source": [
    "## 2 探索数据与数据预处理"
   ]
  },
  {
   "cell_type": "code",
   "execution_count": 4,
   "metadata": {},
   "outputs": [
    {
     "data": {
      "text/plain": [
       "(150000, 11)"
      ]
     },
     "execution_count": 4,
     "metadata": {},
     "output_type": "execute_result"
    }
   ],
   "source": [
    "data.shape"
   ]
  },
  {
   "cell_type": "code",
   "execution_count": 5,
   "metadata": {},
   "outputs": [
    {
     "name": "stdout",
     "output_type": "stream",
     "text": [
      "<class 'pandas.core.frame.DataFrame'>\n",
      "Int64Index: 150000 entries, 1 to 150000\n",
      "Data columns (total 11 columns):\n",
      " #   Column                                Non-Null Count   Dtype  \n",
      "---  ------                                --------------   -----  \n",
      " 0   SeriousDlqin2yrs                      150000 non-null  int64  \n",
      " 1   RevolvingUtilizationOfUnsecuredLines  150000 non-null  float64\n",
      " 2   age                                   150000 non-null  int64  \n",
      " 3   NumberOfTime30-59DaysPastDueNotWorse  150000 non-null  int64  \n",
      " 4   DebtRatio                             150000 non-null  float64\n",
      " 5   MonthlyIncome                         120269 non-null  float64\n",
      " 6   NumberOfOpenCreditLinesAndLoans       150000 non-null  int64  \n",
      " 7   NumberOfTimes90DaysLate               150000 non-null  int64  \n",
      " 8   NumberRealEstateLoansOrLines          150000 non-null  int64  \n",
      " 9   NumberOfTime60-89DaysPastDueNotWorse  150000 non-null  int64  \n",
      " 10  NumberOfDependents                    146076 non-null  float64\n",
      "dtypes: float64(4), int64(7)\n",
      "memory usage: 13.7 MB\n"
     ]
    }
   ],
   "source": [
    "data.info()"
   ]
  },
  {
   "cell_type": "markdown",
   "metadata": {},
   "source": [
    "### 标签的含义\n",
    "0     出现90天或更长时间的逾期行为   \n",
    "1     贷款以及信用卡可用额度与总额度比例   \n",
    "2     借款人借款年龄  \n",
    "3     过去两年内出现35-59天逾期但是并没有更坏的次数  \n",
    "4     每月偿还债务，赡养费，生活费用除以总收   \n",
    "5     月收入  \n",
    "6     开放式贷款和信贷数量  \n",
    "7     过去两年内出现90天逾期或更坏的次数   \n",
    "8     抵押贷款和房地产贷款数量，包括房屋净值信贷额度   \n",
    "9     过去两年内出现60-89天逾期但是没有发展得更坏的次数  \n",
    "10    家庭中不包括自身的家属人数（配偶、子女等）  "
   ]
  },
  {
   "cell_type": "markdown",
   "metadata": {},
   "source": [
    "### 2.1 重复值的处理 "
   ]
  },
  {
   "cell_type": "code",
   "execution_count": 6,
   "metadata": {},
   "outputs": [
    {
     "data": {
      "text/plain": [
       "609"
      ]
     },
     "execution_count": 6,
     "metadata": {},
     "output_type": "execute_result"
    }
   ],
   "source": [
    "#检查数据是否存在重复值\n",
    "data.duplicated().sum()"
   ]
  },
  {
   "cell_type": "code",
   "execution_count": 7,
   "metadata": {},
   "outputs": [],
   "source": [
    "#去除重复值\n",
    "data.drop_duplicates(inplace=True)"
   ]
  },
  {
   "cell_type": "code",
   "execution_count": 8,
   "metadata": {},
   "outputs": [
    {
     "data": {
      "text/plain": [
       "0"
      ]
     },
     "execution_count": 8,
     "metadata": {},
     "output_type": "execute_result"
    }
   ],
   "source": [
    "data.duplicated().sum()"
   ]
  },
  {
   "cell_type": "code",
   "execution_count": 9,
   "metadata": {},
   "outputs": [],
   "source": [
    "#删除之后，需要重新恢复索引\n",
    "data.index = range(data.shape[0])"
   ]
  },
  {
   "cell_type": "code",
   "execution_count": 10,
   "metadata": {},
   "outputs": [
    {
     "name": "stdout",
     "output_type": "stream",
     "text": [
      "<class 'pandas.core.frame.DataFrame'>\n",
      "RangeIndex: 149391 entries, 0 to 149390\n",
      "Data columns (total 11 columns):\n",
      " #   Column                                Non-Null Count   Dtype  \n",
      "---  ------                                --------------   -----  \n",
      " 0   SeriousDlqin2yrs                      149391 non-null  int64  \n",
      " 1   RevolvingUtilizationOfUnsecuredLines  149391 non-null  float64\n",
      " 2   age                                   149391 non-null  int64  \n",
      " 3   NumberOfTime30-59DaysPastDueNotWorse  149391 non-null  int64  \n",
      " 4   DebtRatio                             149391 non-null  float64\n",
      " 5   MonthlyIncome                         120170 non-null  float64\n",
      " 6   NumberOfOpenCreditLinesAndLoans       149391 non-null  int64  \n",
      " 7   NumberOfTimes90DaysLate               149391 non-null  int64  \n",
      " 8   NumberRealEstateLoansOrLines          149391 non-null  int64  \n",
      " 9   NumberOfTime60-89DaysPastDueNotWorse  149391 non-null  int64  \n",
      " 10  NumberOfDependents                    145563 non-null  float64\n",
      "dtypes: float64(4), int64(7)\n",
      "memory usage: 12.5 MB\n"
     ]
    }
   ],
   "source": [
    "data.info()"
   ]
  },
  {
   "cell_type": "markdown",
   "metadata": {},
   "source": [
    "### 2.2 缺失值的处理"
   ]
  },
  {
   "cell_type": "code",
   "execution_count": 11,
   "metadata": {},
   "outputs": [
    {
     "data": {
      "text/plain": [
       "SeriousDlqin2yrs                            0\n",
       "RevolvingUtilizationOfUnsecuredLines        0\n",
       "age                                         0\n",
       "NumberOfTime30-59DaysPastDueNotWorse        0\n",
       "DebtRatio                                   0\n",
       "MonthlyIncome                           29221\n",
       "NumberOfOpenCreditLinesAndLoans             0\n",
       "NumberOfTimes90DaysLate                     0\n",
       "NumberRealEstateLoansOrLines                0\n",
       "NumberOfTime60-89DaysPastDueNotWorse        0\n",
       "NumberOfDependents                       3828\n",
       "dtype: int64"
      ]
     },
     "execution_count": 11,
     "metadata": {},
     "output_type": "execute_result"
    }
   ],
   "source": [
    "#检查缺失值的情况\n",
    "data.isnull().sum()"
   ]
  },
  {
   "cell_type": "code",
   "execution_count": 12,
   "metadata": {},
   "outputs": [
    {
     "data": {
      "text/plain": [
       "SeriousDlqin2yrs                        0.000000\n",
       "RevolvingUtilizationOfUnsecuredLines    0.000000\n",
       "age                                     0.000000\n",
       "NumberOfTime30-59DaysPastDueNotWorse    0.000000\n",
       "DebtRatio                               0.000000\n",
       "MonthlyIncome                           0.195601\n",
       "NumberOfOpenCreditLinesAndLoans         0.000000\n",
       "NumberOfTimes90DaysLate                 0.000000\n",
       "NumberRealEstateLoansOrLines            0.000000\n",
       "NumberOfTime60-89DaysPastDueNotWorse    0.000000\n",
       "NumberOfDependents                      0.025624\n",
       "dtype: float64"
      ]
     },
     "execution_count": 12,
     "metadata": {},
     "output_type": "execute_result"
    }
   ],
   "source": [
    "data.isnull().sum()/data.shape[0]"
   ]
  },
  {
   "cell_type": "markdown",
   "metadata": {},
   "source": [
    "从上面可以看到，收入和家属人数这两个字段存在缺失值。\n",
    "\n",
    "家属人数字段的缺失很少，可以考虑之间删除或者用均值来填补。\n",
    "\n",
    "收入字段缺失了几乎20%，并且收入对于信用评分来讲是一个很重要的因素，这个特征必须要填补。  \n",
    "对于银行数据，我们可以有这样的推断：高收入或者稳定收入对于申请贷款是很有帮助的。如果是一个收入稳定良好的人，肯定会倾向于写上自己的收入情况，那么这些收入字段缺失的人，更可能是收入状况不稳定或者收入比较低的人。所以，我们可以采用四分位数来填补缺失值，把所有收入字段为空的客户都当成低收入群体。当然，也有可能这些缺失是银行数据收集过程中的失误导致的。具体采用什么样的手段来填补缺失值，要和业务人员沟通，观察缺失值是如何产生的。在这里，我们采用随机森林来填补缺失值。"
   ]
  },
  {
   "cell_type": "code",
   "execution_count": 13,
   "metadata": {},
   "outputs": [],
   "source": [
    "#使用均值填补家属人数\n",
    "a = data['NumberOfDependents'].mean()\n",
    "data['NumberOfDependents'].fillna(a,inplace=True)"
   ]
  },
  {
   "cell_type": "code",
   "execution_count": 14,
   "metadata": {},
   "outputs": [
    {
     "name": "stdout",
     "output_type": "stream",
     "text": [
      "<class 'pandas.core.frame.DataFrame'>\n",
      "RangeIndex: 149391 entries, 0 to 149390\n",
      "Data columns (total 11 columns):\n",
      " #   Column                                Non-Null Count   Dtype  \n",
      "---  ------                                --------------   -----  \n",
      " 0   SeriousDlqin2yrs                      149391 non-null  int64  \n",
      " 1   RevolvingUtilizationOfUnsecuredLines  149391 non-null  float64\n",
      " 2   age                                   149391 non-null  int64  \n",
      " 3   NumberOfTime30-59DaysPastDueNotWorse  149391 non-null  int64  \n",
      " 4   DebtRatio                             149391 non-null  float64\n",
      " 5   MonthlyIncome                         120170 non-null  float64\n",
      " 6   NumberOfOpenCreditLinesAndLoans       149391 non-null  int64  \n",
      " 7   NumberOfTimes90DaysLate               149391 non-null  int64  \n",
      " 8   NumberRealEstateLoansOrLines          149391 non-null  int64  \n",
      " 9   NumberOfTime60-89DaysPastDueNotWorse  149391 non-null  int64  \n",
      " 10  NumberOfDependents                    149391 non-null  float64\n",
      "dtypes: float64(4), int64(7)\n",
      "memory usage: 12.5 MB\n"
     ]
    }
   ],
   "source": [
    "data.info()"
   ]
  },
  {
   "cell_type": "code",
   "execution_count": 15,
   "metadata": {},
   "outputs": [],
   "source": [
    "#利用随机森林来填补收入字段\n",
    "#这种做法，对于某一个特征大量缺失，但是其他特征却很完整的情况比较适用\n",
    "\n",
    "def fill_missing_rf(X,y,to_fill):\n",
    "    \"\"\"\n",
    "    X：要填补的特征矩阵\n",
    "    y：完整的、没有缺失值的标签\n",
    "    to_fill：要填补的那一列的名称\n",
    "    \"\"\"\n",
    "    \n",
    "    #构建新的特征矩阵和标签\n",
    "    df = X.copy()\n",
    "    fill = df.loc[:,to_fill]\n",
    "    df = pd.concat([df.loc[:,df.columns != to_fill],pd.DataFrame(y)],axis=1)\n",
    "    \n",
    "    #找出训练集与测试集\n",
    "    Ytrain = fill[fill.notnull()]\n",
    "    Ytest = fill[fill.isnull()]\n",
    "    Xtrain = df.iloc[Ytrain.index,:]\n",
    "    Xtest = df.iloc[Ytest.index,:]\n",
    "    \n",
    "    #利用随机森林来填补缺失值\n",
    "    from sklearn.ensemble import RandomForestRegressor as rfr\n",
    "    rfr = rfr(n_estimators=100).fit(Xtrain,Ytrain)\n",
    "    Ypredict = rfr.predict(Xtest)\n",
    "    \n",
    "    return Ypredict"
   ]
  },
  {
   "cell_type": "code",
   "execution_count": 16,
   "metadata": {},
   "outputs": [
    {
     "data": {
      "text/html": [
       "<div>\n",
       "<style scoped>\n",
       "    .dataframe tbody tr th:only-of-type {\n",
       "        vertical-align: middle;\n",
       "    }\n",
       "\n",
       "    .dataframe tbody tr th {\n",
       "        vertical-align: top;\n",
       "    }\n",
       "\n",
       "    .dataframe thead th {\n",
       "        text-align: right;\n",
       "    }\n",
       "</style>\n",
       "<table border=\"1\" class=\"dataframe\">\n",
       "  <thead>\n",
       "    <tr style=\"text-align: right;\">\n",
       "      <th></th>\n",
       "      <th>SeriousDlqin2yrs</th>\n",
       "      <th>RevolvingUtilizationOfUnsecuredLines</th>\n",
       "      <th>age</th>\n",
       "      <th>NumberOfTime30-59DaysPastDueNotWorse</th>\n",
       "      <th>DebtRatio</th>\n",
       "      <th>MonthlyIncome</th>\n",
       "      <th>NumberOfOpenCreditLinesAndLoans</th>\n",
       "      <th>NumberOfTimes90DaysLate</th>\n",
       "      <th>NumberRealEstateLoansOrLines</th>\n",
       "      <th>NumberOfTime60-89DaysPastDueNotWorse</th>\n",
       "      <th>NumberOfDependents</th>\n",
       "    </tr>\n",
       "  </thead>\n",
       "  <tbody>\n",
       "    <tr>\n",
       "      <th>0</th>\n",
       "      <td>1</td>\n",
       "      <td>0.766127</td>\n",
       "      <td>45</td>\n",
       "      <td>2</td>\n",
       "      <td>0.802982</td>\n",
       "      <td>9120.0</td>\n",
       "      <td>13</td>\n",
       "      <td>0</td>\n",
       "      <td>6</td>\n",
       "      <td>0</td>\n",
       "      <td>2.0</td>\n",
       "    </tr>\n",
       "    <tr>\n",
       "      <th>1</th>\n",
       "      <td>0</td>\n",
       "      <td>0.957151</td>\n",
       "      <td>40</td>\n",
       "      <td>0</td>\n",
       "      <td>0.121876</td>\n",
       "      <td>2600.0</td>\n",
       "      <td>4</td>\n",
       "      <td>0</td>\n",
       "      <td>0</td>\n",
       "      <td>0</td>\n",
       "      <td>1.0</td>\n",
       "    </tr>\n",
       "    <tr>\n",
       "      <th>2</th>\n",
       "      <td>0</td>\n",
       "      <td>0.658180</td>\n",
       "      <td>38</td>\n",
       "      <td>1</td>\n",
       "      <td>0.085113</td>\n",
       "      <td>3042.0</td>\n",
       "      <td>2</td>\n",
       "      <td>1</td>\n",
       "      <td>0</td>\n",
       "      <td>0</td>\n",
       "      <td>0.0</td>\n",
       "    </tr>\n",
       "    <tr>\n",
       "      <th>3</th>\n",
       "      <td>0</td>\n",
       "      <td>0.233810</td>\n",
       "      <td>30</td>\n",
       "      <td>0</td>\n",
       "      <td>0.036050</td>\n",
       "      <td>3300.0</td>\n",
       "      <td>5</td>\n",
       "      <td>0</td>\n",
       "      <td>0</td>\n",
       "      <td>0</td>\n",
       "      <td>0.0</td>\n",
       "    </tr>\n",
       "    <tr>\n",
       "      <th>4</th>\n",
       "      <td>0</td>\n",
       "      <td>0.907239</td>\n",
       "      <td>49</td>\n",
       "      <td>1</td>\n",
       "      <td>0.024926</td>\n",
       "      <td>63588.0</td>\n",
       "      <td>7</td>\n",
       "      <td>0</td>\n",
       "      <td>1</td>\n",
       "      <td>0</td>\n",
       "      <td>0.0</td>\n",
       "    </tr>\n",
       "  </tbody>\n",
       "</table>\n",
       "</div>"
      ],
      "text/plain": [
       "   SeriousDlqin2yrs  RevolvingUtilizationOfUnsecuredLines  age  \\\n",
       "0                 1                              0.766127   45   \n",
       "1                 0                              0.957151   40   \n",
       "2                 0                              0.658180   38   \n",
       "3                 0                              0.233810   30   \n",
       "4                 0                              0.907239   49   \n",
       "\n",
       "   NumberOfTime30-59DaysPastDueNotWorse  DebtRatio  MonthlyIncome  \\\n",
       "0                                     2   0.802982         9120.0   \n",
       "1                                     0   0.121876         2600.0   \n",
       "2                                     1   0.085113         3042.0   \n",
       "3                                     0   0.036050         3300.0   \n",
       "4                                     1   0.024926        63588.0   \n",
       "\n",
       "   NumberOfOpenCreditLinesAndLoans  NumberOfTimes90DaysLate  \\\n",
       "0                               13                        0   \n",
       "1                                4                        0   \n",
       "2                                2                        1   \n",
       "3                                5                        0   \n",
       "4                                7                        0   \n",
       "\n",
       "   NumberRealEstateLoansOrLines  NumberOfTime60-89DaysPastDueNotWorse  \\\n",
       "0                             6                                     0   \n",
       "1                             0                                     0   \n",
       "2                             0                                     0   \n",
       "3                             0                                     0   \n",
       "4                             1                                     0   \n",
       "\n",
       "   NumberOfDependents  \n",
       "0                 2.0  \n",
       "1                 1.0  \n",
       "2                 0.0  \n",
       "3                 0.0  \n",
       "4                 0.0  "
      ]
     },
     "execution_count": 16,
     "metadata": {},
     "output_type": "execute_result"
    }
   ],
   "source": [
    "data.head()"
   ]
  },
  {
   "cell_type": "code",
   "execution_count": 17,
   "metadata": {},
   "outputs": [],
   "source": [
    "X = data.iloc[:,1:]\n",
    "y = data['SeriousDlqin2yrs']"
   ]
  },
  {
   "cell_type": "code",
   "execution_count": 18,
   "metadata": {},
   "outputs": [],
   "source": [
    "y_pred = fill_missing_rf(X,y,'MonthlyIncome')"
   ]
  },
  {
   "cell_type": "code",
   "execution_count": 19,
   "metadata": {},
   "outputs": [
    {
     "data": {
      "text/plain": [
       "array([0.19, 0.35, 0.11, ..., 0.19, 0.13, 0.  ])"
      ]
     },
     "execution_count": 19,
     "metadata": {},
     "output_type": "execute_result"
    }
   ],
   "source": [
    "y_pred"
   ]
  },
  {
   "cell_type": "code",
   "execution_count": 20,
   "metadata": {},
   "outputs": [
    {
     "data": {
      "text/plain": [
       "6        NaN\n",
       "8        NaN\n",
       "16       NaN\n",
       "32       NaN\n",
       "41       NaN\n",
       "          ..\n",
       "149368   NaN\n",
       "149369   NaN\n",
       "149376   NaN\n",
       "149384   NaN\n",
       "149388   NaN\n",
       "Name: MonthlyIncome, Length: 29221, dtype: float64"
      ]
     },
     "execution_count": 20,
     "metadata": {},
     "output_type": "execute_result"
    }
   ],
   "source": [
    "data.loc[data.loc[:,'MonthlyIncome'].isnull(),'MonthlyIncome']"
   ]
  },
  {
   "cell_type": "code",
   "execution_count": 21,
   "metadata": {},
   "outputs": [],
   "source": [
    "data.loc[data.loc[:,'MonthlyIncome'].isnull(),'MonthlyIncome'] = y_pred"
   ]
  },
  {
   "cell_type": "code",
   "execution_count": 22,
   "metadata": {},
   "outputs": [
    {
     "name": "stdout",
     "output_type": "stream",
     "text": [
      "<class 'pandas.core.frame.DataFrame'>\n",
      "RangeIndex: 149391 entries, 0 to 149390\n",
      "Data columns (total 11 columns):\n",
      " #   Column                                Non-Null Count   Dtype  \n",
      "---  ------                                --------------   -----  \n",
      " 0   SeriousDlqin2yrs                      149391 non-null  int64  \n",
      " 1   RevolvingUtilizationOfUnsecuredLines  149391 non-null  float64\n",
      " 2   age                                   149391 non-null  int64  \n",
      " 3   NumberOfTime30-59DaysPastDueNotWorse  149391 non-null  int64  \n",
      " 4   DebtRatio                             149391 non-null  float64\n",
      " 5   MonthlyIncome                         149391 non-null  float64\n",
      " 6   NumberOfOpenCreditLinesAndLoans       149391 non-null  int64  \n",
      " 7   NumberOfTimes90DaysLate               149391 non-null  int64  \n",
      " 8   NumberRealEstateLoansOrLines          149391 non-null  int64  \n",
      " 9   NumberOfTime60-89DaysPastDueNotWorse  149391 non-null  int64  \n",
      " 10  NumberOfDependents                    149391 non-null  float64\n",
      "dtypes: float64(4), int64(7)\n",
      "memory usage: 12.5 MB\n"
     ]
    }
   ],
   "source": [
    "data.info()"
   ]
  },
  {
   "cell_type": "markdown",
   "metadata": {},
   "source": [
    "### 2.3 描述性统计处理异常值\n",
    "\n",
    "现实数据中总是存在一些异常值，我们要把这些异常值捕捉出来，然后观察他们的性质。有时候，我们可能是要将这些异常值去除，而有些时候异常值则是我们的重点研究对象。\n",
    "\n",
    "日常处理异常值，往往使用箱型图或者3sigma法则来寻找异常值。\n",
    "\n",
    "具体到银行数据中，在特征量有限的情况下，我们往往使用描述性统计方法来观察数据的异常以及数据的分布情况。"
   ]
  },
  {
   "cell_type": "code",
   "execution_count": 23,
   "metadata": {},
   "outputs": [
    {
     "data": {
      "text/html": [
       "<div>\n",
       "<style scoped>\n",
       "    .dataframe tbody tr th:only-of-type {\n",
       "        vertical-align: middle;\n",
       "    }\n",
       "\n",
       "    .dataframe tbody tr th {\n",
       "        vertical-align: top;\n",
       "    }\n",
       "\n",
       "    .dataframe thead th {\n",
       "        text-align: right;\n",
       "    }\n",
       "</style>\n",
       "<table border=\"1\" class=\"dataframe\">\n",
       "  <thead>\n",
       "    <tr style=\"text-align: right;\">\n",
       "      <th></th>\n",
       "      <th>count</th>\n",
       "      <th>mean</th>\n",
       "      <th>std</th>\n",
       "      <th>min</th>\n",
       "      <th>1%</th>\n",
       "      <th>10%</th>\n",
       "      <th>25%</th>\n",
       "      <th>50%</th>\n",
       "      <th>75%</th>\n",
       "      <th>90%</th>\n",
       "      <th>99%</th>\n",
       "      <th>max</th>\n",
       "    </tr>\n",
       "  </thead>\n",
       "  <tbody>\n",
       "    <tr>\n",
       "      <th>SeriousDlqin2yrs</th>\n",
       "      <td>149391.0</td>\n",
       "      <td>0.066999</td>\n",
       "      <td>0.250021</td>\n",
       "      <td>0.0</td>\n",
       "      <td>0.0</td>\n",
       "      <td>0.000000</td>\n",
       "      <td>0.000000</td>\n",
       "      <td>0.000000</td>\n",
       "      <td>0.000000</td>\n",
       "      <td>0.000000</td>\n",
       "      <td>1.000000</td>\n",
       "      <td>1.0</td>\n",
       "    </tr>\n",
       "    <tr>\n",
       "      <th>RevolvingUtilizationOfUnsecuredLines</th>\n",
       "      <td>149391.0</td>\n",
       "      <td>6.071087</td>\n",
       "      <td>250.263672</td>\n",
       "      <td>0.0</td>\n",
       "      <td>0.0</td>\n",
       "      <td>0.003199</td>\n",
       "      <td>0.030132</td>\n",
       "      <td>0.154235</td>\n",
       "      <td>0.556494</td>\n",
       "      <td>0.978007</td>\n",
       "      <td>1.093922</td>\n",
       "      <td>50708.0</td>\n",
       "    </tr>\n",
       "    <tr>\n",
       "      <th>age</th>\n",
       "      <td>149391.0</td>\n",
       "      <td>52.306237</td>\n",
       "      <td>14.725962</td>\n",
       "      <td>0.0</td>\n",
       "      <td>24.0</td>\n",
       "      <td>33.000000</td>\n",
       "      <td>41.000000</td>\n",
       "      <td>52.000000</td>\n",
       "      <td>63.000000</td>\n",
       "      <td>72.000000</td>\n",
       "      <td>87.000000</td>\n",
       "      <td>109.0</td>\n",
       "    </tr>\n",
       "    <tr>\n",
       "      <th>NumberOfTime30-59DaysPastDueNotWorse</th>\n",
       "      <td>149391.0</td>\n",
       "      <td>0.393886</td>\n",
       "      <td>3.852953</td>\n",
       "      <td>0.0</td>\n",
       "      <td>0.0</td>\n",
       "      <td>0.000000</td>\n",
       "      <td>0.000000</td>\n",
       "      <td>0.000000</td>\n",
       "      <td>0.000000</td>\n",
       "      <td>1.000000</td>\n",
       "      <td>4.000000</td>\n",
       "      <td>98.0</td>\n",
       "    </tr>\n",
       "    <tr>\n",
       "      <th>DebtRatio</th>\n",
       "      <td>149391.0</td>\n",
       "      <td>354.436740</td>\n",
       "      <td>2041.843455</td>\n",
       "      <td>0.0</td>\n",
       "      <td>0.0</td>\n",
       "      <td>0.034991</td>\n",
       "      <td>0.177441</td>\n",
       "      <td>0.368234</td>\n",
       "      <td>0.875279</td>\n",
       "      <td>1275.000000</td>\n",
       "      <td>4985.100000</td>\n",
       "      <td>329664.0</td>\n",
       "    </tr>\n",
       "    <tr>\n",
       "      <th>MonthlyIncome</th>\n",
       "      <td>149391.0</td>\n",
       "      <td>5429.084751</td>\n",
       "      <td>13247.395811</td>\n",
       "      <td>0.0</td>\n",
       "      <td>0.0</td>\n",
       "      <td>0.180000</td>\n",
       "      <td>1800.000000</td>\n",
       "      <td>4430.000000</td>\n",
       "      <td>7416.000000</td>\n",
       "      <td>10800.000000</td>\n",
       "      <td>23250.000000</td>\n",
       "      <td>3008750.0</td>\n",
       "    </tr>\n",
       "    <tr>\n",
       "      <th>NumberOfOpenCreditLinesAndLoans</th>\n",
       "      <td>149391.0</td>\n",
       "      <td>8.480892</td>\n",
       "      <td>5.136515</td>\n",
       "      <td>0.0</td>\n",
       "      <td>0.0</td>\n",
       "      <td>3.000000</td>\n",
       "      <td>5.000000</td>\n",
       "      <td>8.000000</td>\n",
       "      <td>11.000000</td>\n",
       "      <td>15.000000</td>\n",
       "      <td>24.000000</td>\n",
       "      <td>58.0</td>\n",
       "    </tr>\n",
       "    <tr>\n",
       "      <th>NumberOfTimes90DaysLate</th>\n",
       "      <td>149391.0</td>\n",
       "      <td>0.238120</td>\n",
       "      <td>3.826165</td>\n",
       "      <td>0.0</td>\n",
       "      <td>0.0</td>\n",
       "      <td>0.000000</td>\n",
       "      <td>0.000000</td>\n",
       "      <td>0.000000</td>\n",
       "      <td>0.000000</td>\n",
       "      <td>0.000000</td>\n",
       "      <td>3.000000</td>\n",
       "      <td>98.0</td>\n",
       "    </tr>\n",
       "    <tr>\n",
       "      <th>NumberRealEstateLoansOrLines</th>\n",
       "      <td>149391.0</td>\n",
       "      <td>1.022391</td>\n",
       "      <td>1.130196</td>\n",
       "      <td>0.0</td>\n",
       "      <td>0.0</td>\n",
       "      <td>0.000000</td>\n",
       "      <td>0.000000</td>\n",
       "      <td>1.000000</td>\n",
       "      <td>2.000000</td>\n",
       "      <td>2.000000</td>\n",
       "      <td>4.000000</td>\n",
       "      <td>54.0</td>\n",
       "    </tr>\n",
       "    <tr>\n",
       "      <th>NumberOfTime60-89DaysPastDueNotWorse</th>\n",
       "      <td>149391.0</td>\n",
       "      <td>0.212503</td>\n",
       "      <td>3.810523</td>\n",
       "      <td>0.0</td>\n",
       "      <td>0.0</td>\n",
       "      <td>0.000000</td>\n",
       "      <td>0.000000</td>\n",
       "      <td>0.000000</td>\n",
       "      <td>0.000000</td>\n",
       "      <td>0.000000</td>\n",
       "      <td>2.000000</td>\n",
       "      <td>98.0</td>\n",
       "    </tr>\n",
       "    <tr>\n",
       "      <th>NumberOfDependents</th>\n",
       "      <td>149391.0</td>\n",
       "      <td>0.759863</td>\n",
       "      <td>1.101749</td>\n",
       "      <td>0.0</td>\n",
       "      <td>0.0</td>\n",
       "      <td>0.000000</td>\n",
       "      <td>0.000000</td>\n",
       "      <td>0.000000</td>\n",
       "      <td>1.000000</td>\n",
       "      <td>2.000000</td>\n",
       "      <td>4.000000</td>\n",
       "      <td>20.0</td>\n",
       "    </tr>\n",
       "  </tbody>\n",
       "</table>\n",
       "</div>"
      ],
      "text/plain": [
       "                                         count         mean           std  \\\n",
       "SeriousDlqin2yrs                      149391.0     0.066999      0.250021   \n",
       "RevolvingUtilizationOfUnsecuredLines  149391.0     6.071087    250.263672   \n",
       "age                                   149391.0    52.306237     14.725962   \n",
       "NumberOfTime30-59DaysPastDueNotWorse  149391.0     0.393886      3.852953   \n",
       "DebtRatio                             149391.0   354.436740   2041.843455   \n",
       "MonthlyIncome                         149391.0  5429.084751  13247.395811   \n",
       "NumberOfOpenCreditLinesAndLoans       149391.0     8.480892      5.136515   \n",
       "NumberOfTimes90DaysLate               149391.0     0.238120      3.826165   \n",
       "NumberRealEstateLoansOrLines          149391.0     1.022391      1.130196   \n",
       "NumberOfTime60-89DaysPastDueNotWorse  149391.0     0.212503      3.810523   \n",
       "NumberOfDependents                    149391.0     0.759863      1.101749   \n",
       "\n",
       "                                      min    1%        10%          25%  \\\n",
       "SeriousDlqin2yrs                      0.0   0.0   0.000000     0.000000   \n",
       "RevolvingUtilizationOfUnsecuredLines  0.0   0.0   0.003199     0.030132   \n",
       "age                                   0.0  24.0  33.000000    41.000000   \n",
       "NumberOfTime30-59DaysPastDueNotWorse  0.0   0.0   0.000000     0.000000   \n",
       "DebtRatio                             0.0   0.0   0.034991     0.177441   \n",
       "MonthlyIncome                         0.0   0.0   0.180000  1800.000000   \n",
       "NumberOfOpenCreditLinesAndLoans       0.0   0.0   3.000000     5.000000   \n",
       "NumberOfTimes90DaysLate               0.0   0.0   0.000000     0.000000   \n",
       "NumberRealEstateLoansOrLines          0.0   0.0   0.000000     0.000000   \n",
       "NumberOfTime60-89DaysPastDueNotWorse  0.0   0.0   0.000000     0.000000   \n",
       "NumberOfDependents                    0.0   0.0   0.000000     0.000000   \n",
       "\n",
       "                                              50%          75%           90%  \\\n",
       "SeriousDlqin2yrs                         0.000000     0.000000      0.000000   \n",
       "RevolvingUtilizationOfUnsecuredLines     0.154235     0.556494      0.978007   \n",
       "age                                     52.000000    63.000000     72.000000   \n",
       "NumberOfTime30-59DaysPastDueNotWorse     0.000000     0.000000      1.000000   \n",
       "DebtRatio                                0.368234     0.875279   1275.000000   \n",
       "MonthlyIncome                         4430.000000  7416.000000  10800.000000   \n",
       "NumberOfOpenCreditLinesAndLoans          8.000000    11.000000     15.000000   \n",
       "NumberOfTimes90DaysLate                  0.000000     0.000000      0.000000   \n",
       "NumberRealEstateLoansOrLines             1.000000     2.000000      2.000000   \n",
       "NumberOfTime60-89DaysPastDueNotWorse     0.000000     0.000000      0.000000   \n",
       "NumberOfDependents                       0.000000     1.000000      2.000000   \n",
       "\n",
       "                                               99%        max  \n",
       "SeriousDlqin2yrs                          1.000000        1.0  \n",
       "RevolvingUtilizationOfUnsecuredLines      1.093922    50708.0  \n",
       "age                                      87.000000      109.0  \n",
       "NumberOfTime30-59DaysPastDueNotWorse      4.000000       98.0  \n",
       "DebtRatio                              4985.100000   329664.0  \n",
       "MonthlyIncome                         23250.000000  3008750.0  \n",
       "NumberOfOpenCreditLinesAndLoans          24.000000       58.0  \n",
       "NumberOfTimes90DaysLate                   3.000000       98.0  \n",
       "NumberRealEstateLoansOrLines              4.000000       54.0  \n",
       "NumberOfTime60-89DaysPastDueNotWorse      2.000000       98.0  \n",
       "NumberOfDependents                        4.000000       20.0  "
      ]
     },
     "execution_count": 23,
     "metadata": {},
     "output_type": "execute_result"
    }
   ],
   "source": [
    "#描述性统计\n",
    "data.describe([0.01,0.1,0.25,.5,.75,.9,.99]).T"
   ]
  },
  {
   "cell_type": "code",
   "execution_count": 24,
   "metadata": {},
   "outputs": [
    {
     "data": {
      "text/plain": [
       "1"
      ]
     },
     "execution_count": 24,
     "metadata": {},
     "output_type": "execute_result"
    }
   ],
   "source": [
    "#可以观察到，年龄当中存在异常值。年龄的最小值居然是0，这不符合银行的业务需求，即便是儿童账户也要至少8岁\n",
    "#我们可以查看一下年龄为0的人有多少\n",
    "(data['age']==0).sum()"
   ]
  },
  {
   "cell_type": "code",
   "execution_count": 25,
   "metadata": {},
   "outputs": [
    {
     "data": {
      "text/plain": [
       "1"
      ]
     },
     "execution_count": 25,
     "metadata": {},
     "output_type": "execute_result"
    }
   ],
   "source": [
    "(data['age'] < 8).sum()"
   ]
  },
  {
   "cell_type": "code",
   "execution_count": 26,
   "metadata": {},
   "outputs": [],
   "source": [
    "#最终发现只有一个人年龄为0，可以判断这是录入失误造成的，可以当成缺失值来处理，直接删掉这个样本\n",
    "data = data[data['age'] != 0]"
   ]
  },
  {
   "cell_type": "code",
   "execution_count": 27,
   "metadata": {},
   "outputs": [
    {
     "data": {
      "text/html": [
       "<div>\n",
       "<style scoped>\n",
       "    .dataframe tbody tr th:only-of-type {\n",
       "        vertical-align: middle;\n",
       "    }\n",
       "\n",
       "    .dataframe tbody tr th {\n",
       "        vertical-align: top;\n",
       "    }\n",
       "\n",
       "    .dataframe thead th {\n",
       "        text-align: right;\n",
       "    }\n",
       "</style>\n",
       "<table border=\"1\" class=\"dataframe\">\n",
       "  <thead>\n",
       "    <tr style=\"text-align: right;\">\n",
       "      <th></th>\n",
       "      <th>SeriousDlqin2yrs</th>\n",
       "      <th>RevolvingUtilizationOfUnsecuredLines</th>\n",
       "      <th>age</th>\n",
       "      <th>NumberOfTime30-59DaysPastDueNotWorse</th>\n",
       "      <th>DebtRatio</th>\n",
       "      <th>MonthlyIncome</th>\n",
       "      <th>NumberOfOpenCreditLinesAndLoans</th>\n",
       "      <th>NumberOfTimes90DaysLate</th>\n",
       "      <th>NumberRealEstateLoansOrLines</th>\n",
       "      <th>NumberOfTime60-89DaysPastDueNotWorse</th>\n",
       "      <th>NumberOfDependents</th>\n",
       "    </tr>\n",
       "  </thead>\n",
       "  <tbody>\n",
       "    <tr>\n",
       "      <th>1732</th>\n",
       "      <td>1</td>\n",
       "      <td>1.0</td>\n",
       "      <td>27</td>\n",
       "      <td>98</td>\n",
       "      <td>0.0</td>\n",
       "      <td>2700.000000</td>\n",
       "      <td>0</td>\n",
       "      <td>98</td>\n",
       "      <td>0</td>\n",
       "      <td>98</td>\n",
       "      <td>0.000000</td>\n",
       "    </tr>\n",
       "    <tr>\n",
       "      <th>2285</th>\n",
       "      <td>0</td>\n",
       "      <td>1.0</td>\n",
       "      <td>22</td>\n",
       "      <td>98</td>\n",
       "      <td>0.0</td>\n",
       "      <td>1344.188901</td>\n",
       "      <td>0</td>\n",
       "      <td>98</td>\n",
       "      <td>0</td>\n",
       "      <td>98</td>\n",
       "      <td>0.000000</td>\n",
       "    </tr>\n",
       "    <tr>\n",
       "      <th>3883</th>\n",
       "      <td>0</td>\n",
       "      <td>1.0</td>\n",
       "      <td>38</td>\n",
       "      <td>98</td>\n",
       "      <td>12.0</td>\n",
       "      <td>1852.880000</td>\n",
       "      <td>0</td>\n",
       "      <td>98</td>\n",
       "      <td>0</td>\n",
       "      <td>98</td>\n",
       "      <td>0.000000</td>\n",
       "    </tr>\n",
       "    <tr>\n",
       "      <th>4416</th>\n",
       "      <td>0</td>\n",
       "      <td>1.0</td>\n",
       "      <td>21</td>\n",
       "      <td>98</td>\n",
       "      <td>0.0</td>\n",
       "      <td>0.000000</td>\n",
       "      <td>0</td>\n",
       "      <td>98</td>\n",
       "      <td>0</td>\n",
       "      <td>98</td>\n",
       "      <td>0.000000</td>\n",
       "    </tr>\n",
       "    <tr>\n",
       "      <th>4704</th>\n",
       "      <td>0</td>\n",
       "      <td>1.0</td>\n",
       "      <td>21</td>\n",
       "      <td>98</td>\n",
       "      <td>0.0</td>\n",
       "      <td>2000.000000</td>\n",
       "      <td>0</td>\n",
       "      <td>98</td>\n",
       "      <td>0</td>\n",
       "      <td>98</td>\n",
       "      <td>0.000000</td>\n",
       "    </tr>\n",
       "    <tr>\n",
       "      <th>...</th>\n",
       "      <td>...</td>\n",
       "      <td>...</td>\n",
       "      <td>...</td>\n",
       "      <td>...</td>\n",
       "      <td>...</td>\n",
       "      <td>...</td>\n",
       "      <td>...</td>\n",
       "      <td>...</td>\n",
       "      <td>...</td>\n",
       "      <td>...</td>\n",
       "      <td>...</td>\n",
       "    </tr>\n",
       "    <tr>\n",
       "      <th>146667</th>\n",
       "      <td>1</td>\n",
       "      <td>1.0</td>\n",
       "      <td>25</td>\n",
       "      <td>98</td>\n",
       "      <td>0.0</td>\n",
       "      <td>2368.393143</td>\n",
       "      <td>0</td>\n",
       "      <td>98</td>\n",
       "      <td>0</td>\n",
       "      <td>98</td>\n",
       "      <td>0.759863</td>\n",
       "    </tr>\n",
       "    <tr>\n",
       "      <th>147180</th>\n",
       "      <td>1</td>\n",
       "      <td>1.0</td>\n",
       "      <td>68</td>\n",
       "      <td>98</td>\n",
       "      <td>255.0</td>\n",
       "      <td>0.070000</td>\n",
       "      <td>0</td>\n",
       "      <td>98</td>\n",
       "      <td>0</td>\n",
       "      <td>98</td>\n",
       "      <td>0.000000</td>\n",
       "    </tr>\n",
       "    <tr>\n",
       "      <th>148548</th>\n",
       "      <td>1</td>\n",
       "      <td>1.0</td>\n",
       "      <td>24</td>\n",
       "      <td>98</td>\n",
       "      <td>54.0</td>\n",
       "      <td>1021.120000</td>\n",
       "      <td>0</td>\n",
       "      <td>98</td>\n",
       "      <td>0</td>\n",
       "      <td>98</td>\n",
       "      <td>0.000000</td>\n",
       "    </tr>\n",
       "    <tr>\n",
       "      <th>148634</th>\n",
       "      <td>0</td>\n",
       "      <td>1.0</td>\n",
       "      <td>26</td>\n",
       "      <td>98</td>\n",
       "      <td>0.0</td>\n",
       "      <td>2000.000000</td>\n",
       "      <td>0</td>\n",
       "      <td>98</td>\n",
       "      <td>0</td>\n",
       "      <td>98</td>\n",
       "      <td>0.000000</td>\n",
       "    </tr>\n",
       "    <tr>\n",
       "      <th>148833</th>\n",
       "      <td>1</td>\n",
       "      <td>1.0</td>\n",
       "      <td>34</td>\n",
       "      <td>98</td>\n",
       "      <td>9.0</td>\n",
       "      <td>2511.810000</td>\n",
       "      <td>0</td>\n",
       "      <td>98</td>\n",
       "      <td>0</td>\n",
       "      <td>98</td>\n",
       "      <td>0.000000</td>\n",
       "    </tr>\n",
       "  </tbody>\n",
       "</table>\n",
       "<p>225 rows × 11 columns</p>\n",
       "</div>"
      ],
      "text/plain": [
       "        SeriousDlqin2yrs  RevolvingUtilizationOfUnsecuredLines  age  \\\n",
       "1732                   1                                   1.0   27   \n",
       "2285                   0                                   1.0   22   \n",
       "3883                   0                                   1.0   38   \n",
       "4416                   0                                   1.0   21   \n",
       "4704                   0                                   1.0   21   \n",
       "...                  ...                                   ...  ...   \n",
       "146667                 1                                   1.0   25   \n",
       "147180                 1                                   1.0   68   \n",
       "148548                 1                                   1.0   24   \n",
       "148634                 0                                   1.0   26   \n",
       "148833                 1                                   1.0   34   \n",
       "\n",
       "        NumberOfTime30-59DaysPastDueNotWorse  DebtRatio  MonthlyIncome  \\\n",
       "1732                                      98        0.0    2700.000000   \n",
       "2285                                      98        0.0    1344.188901   \n",
       "3883                                      98       12.0    1852.880000   \n",
       "4416                                      98        0.0       0.000000   \n",
       "4704                                      98        0.0    2000.000000   \n",
       "...                                      ...        ...            ...   \n",
       "146667                                    98        0.0    2368.393143   \n",
       "147180                                    98      255.0       0.070000   \n",
       "148548                                    98       54.0    1021.120000   \n",
       "148634                                    98        0.0    2000.000000   \n",
       "148833                                    98        9.0    2511.810000   \n",
       "\n",
       "        NumberOfOpenCreditLinesAndLoans  NumberOfTimes90DaysLate  \\\n",
       "1732                                  0                       98   \n",
       "2285                                  0                       98   \n",
       "3883                                  0                       98   \n",
       "4416                                  0                       98   \n",
       "4704                                  0                       98   \n",
       "...                                 ...                      ...   \n",
       "146667                                0                       98   \n",
       "147180                                0                       98   \n",
       "148548                                0                       98   \n",
       "148634                                0                       98   \n",
       "148833                                0                       98   \n",
       "\n",
       "        NumberRealEstateLoansOrLines  NumberOfTime60-89DaysPastDueNotWorse  \\\n",
       "1732                               0                                    98   \n",
       "2285                               0                                    98   \n",
       "3883                               0                                    98   \n",
       "4416                               0                                    98   \n",
       "4704                               0                                    98   \n",
       "...                              ...                                   ...   \n",
       "146667                             0                                    98   \n",
       "147180                             0                                    98   \n",
       "148548                             0                                    98   \n",
       "148634                             0                                    98   \n",
       "148833                             0                                    98   \n",
       "\n",
       "        NumberOfDependents  \n",
       "1732              0.000000  \n",
       "2285              0.000000  \n",
       "3883              0.000000  \n",
       "4416              0.000000  \n",
       "4704              0.000000  \n",
       "...                    ...  \n",
       "146667            0.759863  \n",
       "147180            0.000000  \n",
       "148548            0.000000  \n",
       "148634            0.000000  \n",
       "148833            0.000000  \n",
       "\n",
       "[225 rows x 11 columns]"
      ]
     },
     "execution_count": 27,
     "metadata": {},
     "output_type": "execute_result"
    }
   ],
   "source": [
    "data[data.loc[:,'NumberOfTimes90DaysLate'] > 90]"
   ]
  },
  {
   "cell_type": "code",
   "execution_count": 28,
   "metadata": {},
   "outputs": [
    {
     "data": {
      "text/plain": [
       "SeriousDlqin2yrs                        225\n",
       "RevolvingUtilizationOfUnsecuredLines    225\n",
       "age                                     225\n",
       "NumberOfTime30-59DaysPastDueNotWorse    225\n",
       "DebtRatio                               225\n",
       "MonthlyIncome                           225\n",
       "NumberOfOpenCreditLinesAndLoans         225\n",
       "NumberOfTimes90DaysLate                 225\n",
       "NumberRealEstateLoansOrLines            225\n",
       "NumberOfTime60-89DaysPastDueNotWorse    225\n",
       "NumberOfDependents                      225\n",
       "dtype: int64"
      ]
     },
     "execution_count": 28,
     "metadata": {},
     "output_type": "execute_result"
    }
   ],
   "source": [
    "data[data.loc[:,'NumberOfTimes90DaysLate'] > 90].count()"
   ]
  },
  {
   "cell_type": "code",
   "execution_count": 29,
   "metadata": {},
   "outputs": [
    {
     "data": {
      "text/plain": [
       "0     141107\n",
       "1       5232\n",
       "2       1555\n",
       "3        667\n",
       "4        291\n",
       "98       220\n",
       "5        131\n",
       "6         80\n",
       "7         38\n",
       "8         21\n",
       "9         19\n",
       "10         8\n",
       "11         5\n",
       "96         5\n",
       "13         4\n",
       "12         2\n",
       "14         2\n",
       "15         2\n",
       "17         1\n",
       "Name: NumberOfTimes90DaysLate, dtype: int64"
      ]
     },
     "execution_count": 29,
     "metadata": {},
     "output_type": "execute_result"
    }
   ],
   "source": [
    "data.loc[:,'NumberOfTimes90DaysLate'].value_counts()"
   ]
  },
  {
   "cell_type": "code",
   "execution_count": 30,
   "metadata": {},
   "outputs": [],
   "source": [
    "#删除异常数据\n",
    "data = data[data.loc[:,'NumberOfTimes90DaysLate']<90]"
   ]
  },
  {
   "cell_type": "code",
   "execution_count": 31,
   "metadata": {},
   "outputs": [
    {
     "name": "stdout",
     "output_type": "stream",
     "text": [
      "<class 'pandas.core.frame.DataFrame'>\n",
      "RangeIndex: 149165 entries, 0 to 149164\n",
      "Data columns (total 11 columns):\n",
      " #   Column                                Non-Null Count   Dtype  \n",
      "---  ------                                --------------   -----  \n",
      " 0   SeriousDlqin2yrs                      149165 non-null  int64  \n",
      " 1   RevolvingUtilizationOfUnsecuredLines  149165 non-null  float64\n",
      " 2   age                                   149165 non-null  int64  \n",
      " 3   NumberOfTime30-59DaysPastDueNotWorse  149165 non-null  int64  \n",
      " 4   DebtRatio                             149165 non-null  float64\n",
      " 5   MonthlyIncome                         149165 non-null  float64\n",
      " 6   NumberOfOpenCreditLinesAndLoans       149165 non-null  int64  \n",
      " 7   NumberOfTimes90DaysLate               149165 non-null  int64  \n",
      " 8   NumberRealEstateLoansOrLines          149165 non-null  int64  \n",
      " 9   NumberOfTime60-89DaysPastDueNotWorse  149165 non-null  int64  \n",
      " 10  NumberOfDependents                    149165 non-null  float64\n",
      "dtypes: float64(4), int64(7)\n",
      "memory usage: 12.5 MB\n"
     ]
    }
   ],
   "source": [
    "#恢复索引\n",
    "data.index = range(data.shape[0])\n",
    "data.info()"
   ]
  },
  {
   "cell_type": "markdown",
   "metadata": {},
   "source": [
    "### 2.4 样本不均衡问题"
   ]
  },
  {
   "cell_type": "code",
   "execution_count": 32,
   "metadata": {},
   "outputs": [
    {
     "data": {
      "text/plain": [
       "0    139292\n",
       "1      9873\n",
       "Name: SeriousDlqin2yrs, dtype: int64"
      ]
     },
     "execution_count": 32,
     "metadata": {},
     "output_type": "execute_result"
    }
   ],
   "source": [
    "data['SeriousDlqin2yrs'].value_counts()"
   ]
  },
  {
   "cell_type": "code",
   "execution_count": 33,
   "metadata": {},
   "outputs": [],
   "source": [
    "X = data.iloc[:,1:]\n",
    "y = data['SeriousDlqin2yrs']"
   ]
  },
  {
   "cell_type": "code",
   "execution_count": 34,
   "metadata": {},
   "outputs": [
    {
     "name": "stderr",
     "output_type": "stream",
     "text": [
      "Using TensorFlow backend.\n"
     ]
    }
   ],
   "source": [
    "import imblearn\n",
    "from imblearn.over_sampling import SMOTE\n",
    "\n",
    "sm = SMOTE(random_state=42)\n",
    "X,y = sm.fit_sample(X,y)"
   ]
  },
  {
   "cell_type": "code",
   "execution_count": 35,
   "metadata": {},
   "outputs": [
    {
     "data": {
      "text/plain": [
       "(278584, 10)"
      ]
     },
     "execution_count": 35,
     "metadata": {},
     "output_type": "execute_result"
    }
   ],
   "source": [
    "X.shape"
   ]
  },
  {
   "cell_type": "code",
   "execution_count": 36,
   "metadata": {},
   "outputs": [
    {
     "data": {
      "text/plain": [
       "1    139292\n",
       "0    139292\n",
       "Name: SeriousDlqin2yrs, dtype: int64"
      ]
     },
     "execution_count": 36,
     "metadata": {},
     "output_type": "execute_result"
    }
   ],
   "source": [
    "y.value_counts()"
   ]
  },
  {
   "cell_type": "markdown",
   "metadata": {},
   "source": [
    "### 2.5 将数据集分为测试集与验证集"
   ]
  },
  {
   "cell_type": "code",
   "execution_count": 37,
   "metadata": {},
   "outputs": [],
   "source": [
    "from sklearn.model_selection import train_test_split\n",
    "\n",
    "X = pd.DataFrame(X)\n",
    "y = pd.DataFrame(y)\n",
    "\n",
    "X_train,X_vali,Y_train,Y_vali = train_test_split(X,y,test_size=0.3)\n"
   ]
  },
  {
   "cell_type": "code",
   "execution_count": 38,
   "metadata": {},
   "outputs": [
    {
     "data": {
      "text/html": [
       "<div>\n",
       "<style scoped>\n",
       "    .dataframe tbody tr th:only-of-type {\n",
       "        vertical-align: middle;\n",
       "    }\n",
       "\n",
       "    .dataframe tbody tr th {\n",
       "        vertical-align: top;\n",
       "    }\n",
       "\n",
       "    .dataframe thead th {\n",
       "        text-align: right;\n",
       "    }\n",
       "</style>\n",
       "<table border=\"1\" class=\"dataframe\">\n",
       "  <thead>\n",
       "    <tr style=\"text-align: right;\">\n",
       "      <th></th>\n",
       "      <th>SeriousDlqin2yrs</th>\n",
       "    </tr>\n",
       "  </thead>\n",
       "  <tbody>\n",
       "    <tr>\n",
       "      <th>14213</th>\n",
       "      <td>0</td>\n",
       "    </tr>\n",
       "    <tr>\n",
       "      <th>23546</th>\n",
       "      <td>0</td>\n",
       "    </tr>\n",
       "    <tr>\n",
       "      <th>130865</th>\n",
       "      <td>0</td>\n",
       "    </tr>\n",
       "    <tr>\n",
       "      <th>88269</th>\n",
       "      <td>0</td>\n",
       "    </tr>\n",
       "    <tr>\n",
       "      <th>18403</th>\n",
       "      <td>0</td>\n",
       "    </tr>\n",
       "    <tr>\n",
       "      <th>...</th>\n",
       "      <td>...</td>\n",
       "    </tr>\n",
       "    <tr>\n",
       "      <th>162554</th>\n",
       "      <td>1</td>\n",
       "    </tr>\n",
       "    <tr>\n",
       "      <th>188840</th>\n",
       "      <td>1</td>\n",
       "    </tr>\n",
       "    <tr>\n",
       "      <th>227304</th>\n",
       "      <td>1</td>\n",
       "    </tr>\n",
       "    <tr>\n",
       "      <th>13932</th>\n",
       "      <td>0</td>\n",
       "    </tr>\n",
       "    <tr>\n",
       "      <th>157871</th>\n",
       "      <td>1</td>\n",
       "    </tr>\n",
       "  </tbody>\n",
       "</table>\n",
       "<p>195008 rows × 1 columns</p>\n",
       "</div>"
      ],
      "text/plain": [
       "        SeriousDlqin2yrs\n",
       "14213                  0\n",
       "23546                  0\n",
       "130865                 0\n",
       "88269                  0\n",
       "18403                  0\n",
       "...                  ...\n",
       "162554                 1\n",
       "188840                 1\n",
       "227304                 1\n",
       "13932                  0\n",
       "157871                 1\n",
       "\n",
       "[195008 rows x 1 columns]"
      ]
     },
     "execution_count": 38,
     "metadata": {},
     "output_type": "execute_result"
    }
   ],
   "source": [
    "Y_train"
   ]
  },
  {
   "cell_type": "code",
   "execution_count": 39,
   "metadata": {},
   "outputs": [],
   "source": [
    "model_data = pd.concat([Y_train,X_train],axis=1)"
   ]
  },
  {
   "cell_type": "code",
   "execution_count": 40,
   "metadata": {},
   "outputs": [
    {
     "data": {
      "text/html": [
       "<div>\n",
       "<style scoped>\n",
       "    .dataframe tbody tr th:only-of-type {\n",
       "        vertical-align: middle;\n",
       "    }\n",
       "\n",
       "    .dataframe tbody tr th {\n",
       "        vertical-align: top;\n",
       "    }\n",
       "\n",
       "    .dataframe thead th {\n",
       "        text-align: right;\n",
       "    }\n",
       "</style>\n",
       "<table border=\"1\" class=\"dataframe\">\n",
       "  <thead>\n",
       "    <tr style=\"text-align: right;\">\n",
       "      <th></th>\n",
       "      <th>SeriousDlqin2yrs</th>\n",
       "      <th>RevolvingUtilizationOfUnsecuredLines</th>\n",
       "      <th>age</th>\n",
       "      <th>NumberOfTime30-59DaysPastDueNotWorse</th>\n",
       "      <th>DebtRatio</th>\n",
       "      <th>MonthlyIncome</th>\n",
       "      <th>NumberOfOpenCreditLinesAndLoans</th>\n",
       "      <th>NumberOfTimes90DaysLate</th>\n",
       "      <th>NumberRealEstateLoansOrLines</th>\n",
       "      <th>NumberOfTime60-89DaysPastDueNotWorse</th>\n",
       "      <th>NumberOfDependents</th>\n",
       "    </tr>\n",
       "  </thead>\n",
       "  <tbody>\n",
       "    <tr>\n",
       "      <th>14213</th>\n",
       "      <td>0</td>\n",
       "      <td>0.590530</td>\n",
       "      <td>56</td>\n",
       "      <td>0</td>\n",
       "      <td>0.398862</td>\n",
       "      <td>6500.000000</td>\n",
       "      <td>7</td>\n",
       "      <td>0</td>\n",
       "      <td>2</td>\n",
       "      <td>0</td>\n",
       "      <td>0.000000</td>\n",
       "    </tr>\n",
       "    <tr>\n",
       "      <th>23546</th>\n",
       "      <td>0</td>\n",
       "      <td>0.989202</td>\n",
       "      <td>39</td>\n",
       "      <td>1</td>\n",
       "      <td>0.174518</td>\n",
       "      <td>4096.000000</td>\n",
       "      <td>6</td>\n",
       "      <td>0</td>\n",
       "      <td>1</td>\n",
       "      <td>0</td>\n",
       "      <td>2.000000</td>\n",
       "    </tr>\n",
       "    <tr>\n",
       "      <th>130865</th>\n",
       "      <td>0</td>\n",
       "      <td>0.620702</td>\n",
       "      <td>52</td>\n",
       "      <td>4</td>\n",
       "      <td>0.321444</td>\n",
       "      <td>4597.000000</td>\n",
       "      <td>6</td>\n",
       "      <td>0</td>\n",
       "      <td>0</td>\n",
       "      <td>1</td>\n",
       "      <td>1.000000</td>\n",
       "    </tr>\n",
       "    <tr>\n",
       "      <th>88269</th>\n",
       "      <td>0</td>\n",
       "      <td>0.658823</td>\n",
       "      <td>47</td>\n",
       "      <td>0</td>\n",
       "      <td>0.052278</td>\n",
       "      <td>7000.000000</td>\n",
       "      <td>5</td>\n",
       "      <td>1</td>\n",
       "      <td>0</td>\n",
       "      <td>0</td>\n",
       "      <td>0.000000</td>\n",
       "    </tr>\n",
       "    <tr>\n",
       "      <th>18403</th>\n",
       "      <td>0</td>\n",
       "      <td>0.020654</td>\n",
       "      <td>60</td>\n",
       "      <td>0</td>\n",
       "      <td>0.103547</td>\n",
       "      <td>7300.000000</td>\n",
       "      <td>9</td>\n",
       "      <td>0</td>\n",
       "      <td>1</td>\n",
       "      <td>0</td>\n",
       "      <td>1.000000</td>\n",
       "    </tr>\n",
       "    <tr>\n",
       "      <th>...</th>\n",
       "      <td>...</td>\n",
       "      <td>...</td>\n",
       "      <td>...</td>\n",
       "      <td>...</td>\n",
       "      <td>...</td>\n",
       "      <td>...</td>\n",
       "      <td>...</td>\n",
       "      <td>...</td>\n",
       "      <td>...</td>\n",
       "      <td>...</td>\n",
       "      <td>...</td>\n",
       "    </tr>\n",
       "    <tr>\n",
       "      <th>162554</th>\n",
       "      <td>1</td>\n",
       "      <td>0.942355</td>\n",
       "      <td>51</td>\n",
       "      <td>1</td>\n",
       "      <td>0.104837</td>\n",
       "      <td>10103.156938</td>\n",
       "      <td>4</td>\n",
       "      <td>0</td>\n",
       "      <td>0</td>\n",
       "      <td>0</td>\n",
       "      <td>2.736922</td>\n",
       "    </tr>\n",
       "    <tr>\n",
       "      <th>188840</th>\n",
       "      <td>1</td>\n",
       "      <td>0.040727</td>\n",
       "      <td>44</td>\n",
       "      <td>0</td>\n",
       "      <td>0.194357</td>\n",
       "      <td>8600.000000</td>\n",
       "      <td>14</td>\n",
       "      <td>0</td>\n",
       "      <td>1</td>\n",
       "      <td>0</td>\n",
       "      <td>0.109123</td>\n",
       "    </tr>\n",
       "    <tr>\n",
       "      <th>227304</th>\n",
       "      <td>1</td>\n",
       "      <td>0.249643</td>\n",
       "      <td>44</td>\n",
       "      <td>1</td>\n",
       "      <td>0.369311</td>\n",
       "      <td>11371.823093</td>\n",
       "      <td>14</td>\n",
       "      <td>0</td>\n",
       "      <td>2</td>\n",
       "      <td>0</td>\n",
       "      <td>1.607698</td>\n",
       "    </tr>\n",
       "    <tr>\n",
       "      <th>13932</th>\n",
       "      <td>0</td>\n",
       "      <td>0.198125</td>\n",
       "      <td>29</td>\n",
       "      <td>0</td>\n",
       "      <td>0.052368</td>\n",
       "      <td>8000.000000</td>\n",
       "      <td>5</td>\n",
       "      <td>0</td>\n",
       "      <td>0</td>\n",
       "      <td>0</td>\n",
       "      <td>0.000000</td>\n",
       "    </tr>\n",
       "    <tr>\n",
       "      <th>157871</th>\n",
       "      <td>1</td>\n",
       "      <td>0.999866</td>\n",
       "      <td>22</td>\n",
       "      <td>0</td>\n",
       "      <td>0.007093</td>\n",
       "      <td>2000.000000</td>\n",
       "      <td>3</td>\n",
       "      <td>0</td>\n",
       "      <td>0</td>\n",
       "      <td>0</td>\n",
       "      <td>0.000000</td>\n",
       "    </tr>\n",
       "  </tbody>\n",
       "</table>\n",
       "<p>195008 rows × 11 columns</p>\n",
       "</div>"
      ],
      "text/plain": [
       "        SeriousDlqin2yrs  RevolvingUtilizationOfUnsecuredLines  age  \\\n",
       "14213                  0                              0.590530   56   \n",
       "23546                  0                              0.989202   39   \n",
       "130865                 0                              0.620702   52   \n",
       "88269                  0                              0.658823   47   \n",
       "18403                  0                              0.020654   60   \n",
       "...                  ...                                   ...  ...   \n",
       "162554                 1                              0.942355   51   \n",
       "188840                 1                              0.040727   44   \n",
       "227304                 1                              0.249643   44   \n",
       "13932                  0                              0.198125   29   \n",
       "157871                 1                              0.999866   22   \n",
       "\n",
       "        NumberOfTime30-59DaysPastDueNotWorse  DebtRatio  MonthlyIncome  \\\n",
       "14213                                      0   0.398862    6500.000000   \n",
       "23546                                      1   0.174518    4096.000000   \n",
       "130865                                     4   0.321444    4597.000000   \n",
       "88269                                      0   0.052278    7000.000000   \n",
       "18403                                      0   0.103547    7300.000000   \n",
       "...                                      ...        ...            ...   \n",
       "162554                                     1   0.104837   10103.156938   \n",
       "188840                                     0   0.194357    8600.000000   \n",
       "227304                                     1   0.369311   11371.823093   \n",
       "13932                                      0   0.052368    8000.000000   \n",
       "157871                                     0   0.007093    2000.000000   \n",
       "\n",
       "        NumberOfOpenCreditLinesAndLoans  NumberOfTimes90DaysLate  \\\n",
       "14213                                 7                        0   \n",
       "23546                                 6                        0   \n",
       "130865                                6                        0   \n",
       "88269                                 5                        1   \n",
       "18403                                 9                        0   \n",
       "...                                 ...                      ...   \n",
       "162554                                4                        0   \n",
       "188840                               14                        0   \n",
       "227304                               14                        0   \n",
       "13932                                 5                        0   \n",
       "157871                                3                        0   \n",
       "\n",
       "        NumberRealEstateLoansOrLines  NumberOfTime60-89DaysPastDueNotWorse  \\\n",
       "14213                              2                                     0   \n",
       "23546                              1                                     0   \n",
       "130865                             0                                     1   \n",
       "88269                              0                                     0   \n",
       "18403                              1                                     0   \n",
       "...                              ...                                   ...   \n",
       "162554                             0                                     0   \n",
       "188840                             1                                     0   \n",
       "227304                             2                                     0   \n",
       "13932                              0                                     0   \n",
       "157871                             0                                     0   \n",
       "\n",
       "        NumberOfDependents  \n",
       "14213             0.000000  \n",
       "23546             2.000000  \n",
       "130865            1.000000  \n",
       "88269             0.000000  \n",
       "18403             1.000000  \n",
       "...                    ...  \n",
       "162554            2.736922  \n",
       "188840            0.109123  \n",
       "227304            1.607698  \n",
       "13932             0.000000  \n",
       "157871            0.000000  \n",
       "\n",
       "[195008 rows x 11 columns]"
      ]
     },
     "execution_count": 40,
     "metadata": {},
     "output_type": "execute_result"
    }
   ],
   "source": [
    "model_data"
   ]
  },
  {
   "cell_type": "code",
   "execution_count": 41,
   "metadata": {},
   "outputs": [],
   "source": [
    "model_data.index = range(model_data.shape[0])\n",
    "model_data.columns = data.columns"
   ]
  },
  {
   "cell_type": "code",
   "execution_count": 42,
   "metadata": {},
   "outputs": [
    {
     "data": {
      "text/html": [
       "<div>\n",
       "<style scoped>\n",
       "    .dataframe tbody tr th:only-of-type {\n",
       "        vertical-align: middle;\n",
       "    }\n",
       "\n",
       "    .dataframe tbody tr th {\n",
       "        vertical-align: top;\n",
       "    }\n",
       "\n",
       "    .dataframe thead th {\n",
       "        text-align: right;\n",
       "    }\n",
       "</style>\n",
       "<table border=\"1\" class=\"dataframe\">\n",
       "  <thead>\n",
       "    <tr style=\"text-align: right;\">\n",
       "      <th></th>\n",
       "      <th>SeriousDlqin2yrs</th>\n",
       "      <th>RevolvingUtilizationOfUnsecuredLines</th>\n",
       "      <th>age</th>\n",
       "      <th>NumberOfTime30-59DaysPastDueNotWorse</th>\n",
       "      <th>DebtRatio</th>\n",
       "      <th>MonthlyIncome</th>\n",
       "      <th>NumberOfOpenCreditLinesAndLoans</th>\n",
       "      <th>NumberOfTimes90DaysLate</th>\n",
       "      <th>NumberRealEstateLoansOrLines</th>\n",
       "      <th>NumberOfTime60-89DaysPastDueNotWorse</th>\n",
       "      <th>NumberOfDependents</th>\n",
       "    </tr>\n",
       "  </thead>\n",
       "  <tbody>\n",
       "    <tr>\n",
       "      <th>0</th>\n",
       "      <td>0</td>\n",
       "      <td>0.590530</td>\n",
       "      <td>56</td>\n",
       "      <td>0</td>\n",
       "      <td>0.398862</td>\n",
       "      <td>6500.000000</td>\n",
       "      <td>7</td>\n",
       "      <td>0</td>\n",
       "      <td>2</td>\n",
       "      <td>0</td>\n",
       "      <td>0.000000</td>\n",
       "    </tr>\n",
       "    <tr>\n",
       "      <th>1</th>\n",
       "      <td>0</td>\n",
       "      <td>0.989202</td>\n",
       "      <td>39</td>\n",
       "      <td>1</td>\n",
       "      <td>0.174518</td>\n",
       "      <td>4096.000000</td>\n",
       "      <td>6</td>\n",
       "      <td>0</td>\n",
       "      <td>1</td>\n",
       "      <td>0</td>\n",
       "      <td>2.000000</td>\n",
       "    </tr>\n",
       "    <tr>\n",
       "      <th>2</th>\n",
       "      <td>0</td>\n",
       "      <td>0.620702</td>\n",
       "      <td>52</td>\n",
       "      <td>4</td>\n",
       "      <td>0.321444</td>\n",
       "      <td>4597.000000</td>\n",
       "      <td>6</td>\n",
       "      <td>0</td>\n",
       "      <td>0</td>\n",
       "      <td>1</td>\n",
       "      <td>1.000000</td>\n",
       "    </tr>\n",
       "    <tr>\n",
       "      <th>3</th>\n",
       "      <td>0</td>\n",
       "      <td>0.658823</td>\n",
       "      <td>47</td>\n",
       "      <td>0</td>\n",
       "      <td>0.052278</td>\n",
       "      <td>7000.000000</td>\n",
       "      <td>5</td>\n",
       "      <td>1</td>\n",
       "      <td>0</td>\n",
       "      <td>0</td>\n",
       "      <td>0.000000</td>\n",
       "    </tr>\n",
       "    <tr>\n",
       "      <th>4</th>\n",
       "      <td>0</td>\n",
       "      <td>0.020654</td>\n",
       "      <td>60</td>\n",
       "      <td>0</td>\n",
       "      <td>0.103547</td>\n",
       "      <td>7300.000000</td>\n",
       "      <td>9</td>\n",
       "      <td>0</td>\n",
       "      <td>1</td>\n",
       "      <td>0</td>\n",
       "      <td>1.000000</td>\n",
       "    </tr>\n",
       "    <tr>\n",
       "      <th>...</th>\n",
       "      <td>...</td>\n",
       "      <td>...</td>\n",
       "      <td>...</td>\n",
       "      <td>...</td>\n",
       "      <td>...</td>\n",
       "      <td>...</td>\n",
       "      <td>...</td>\n",
       "      <td>...</td>\n",
       "      <td>...</td>\n",
       "      <td>...</td>\n",
       "      <td>...</td>\n",
       "    </tr>\n",
       "    <tr>\n",
       "      <th>195003</th>\n",
       "      <td>1</td>\n",
       "      <td>0.942355</td>\n",
       "      <td>51</td>\n",
       "      <td>1</td>\n",
       "      <td>0.104837</td>\n",
       "      <td>10103.156938</td>\n",
       "      <td>4</td>\n",
       "      <td>0</td>\n",
       "      <td>0</td>\n",
       "      <td>0</td>\n",
       "      <td>2.736922</td>\n",
       "    </tr>\n",
       "    <tr>\n",
       "      <th>195004</th>\n",
       "      <td>1</td>\n",
       "      <td>0.040727</td>\n",
       "      <td>44</td>\n",
       "      <td>0</td>\n",
       "      <td>0.194357</td>\n",
       "      <td>8600.000000</td>\n",
       "      <td>14</td>\n",
       "      <td>0</td>\n",
       "      <td>1</td>\n",
       "      <td>0</td>\n",
       "      <td>0.109123</td>\n",
       "    </tr>\n",
       "    <tr>\n",
       "      <th>195005</th>\n",
       "      <td>1</td>\n",
       "      <td>0.249643</td>\n",
       "      <td>44</td>\n",
       "      <td>1</td>\n",
       "      <td>0.369311</td>\n",
       "      <td>11371.823093</td>\n",
       "      <td>14</td>\n",
       "      <td>0</td>\n",
       "      <td>2</td>\n",
       "      <td>0</td>\n",
       "      <td>1.607698</td>\n",
       "    </tr>\n",
       "    <tr>\n",
       "      <th>195006</th>\n",
       "      <td>0</td>\n",
       "      <td>0.198125</td>\n",
       "      <td>29</td>\n",
       "      <td>0</td>\n",
       "      <td>0.052368</td>\n",
       "      <td>8000.000000</td>\n",
       "      <td>5</td>\n",
       "      <td>0</td>\n",
       "      <td>0</td>\n",
       "      <td>0</td>\n",
       "      <td>0.000000</td>\n",
       "    </tr>\n",
       "    <tr>\n",
       "      <th>195007</th>\n",
       "      <td>1</td>\n",
       "      <td>0.999866</td>\n",
       "      <td>22</td>\n",
       "      <td>0</td>\n",
       "      <td>0.007093</td>\n",
       "      <td>2000.000000</td>\n",
       "      <td>3</td>\n",
       "      <td>0</td>\n",
       "      <td>0</td>\n",
       "      <td>0</td>\n",
       "      <td>0.000000</td>\n",
       "    </tr>\n",
       "  </tbody>\n",
       "</table>\n",
       "<p>195008 rows × 11 columns</p>\n",
       "</div>"
      ],
      "text/plain": [
       "        SeriousDlqin2yrs  RevolvingUtilizationOfUnsecuredLines  age  \\\n",
       "0                      0                              0.590530   56   \n",
       "1                      0                              0.989202   39   \n",
       "2                      0                              0.620702   52   \n",
       "3                      0                              0.658823   47   \n",
       "4                      0                              0.020654   60   \n",
       "...                  ...                                   ...  ...   \n",
       "195003                 1                              0.942355   51   \n",
       "195004                 1                              0.040727   44   \n",
       "195005                 1                              0.249643   44   \n",
       "195006                 0                              0.198125   29   \n",
       "195007                 1                              0.999866   22   \n",
       "\n",
       "        NumberOfTime30-59DaysPastDueNotWorse  DebtRatio  MonthlyIncome  \\\n",
       "0                                          0   0.398862    6500.000000   \n",
       "1                                          1   0.174518    4096.000000   \n",
       "2                                          4   0.321444    4597.000000   \n",
       "3                                          0   0.052278    7000.000000   \n",
       "4                                          0   0.103547    7300.000000   \n",
       "...                                      ...        ...            ...   \n",
       "195003                                     1   0.104837   10103.156938   \n",
       "195004                                     0   0.194357    8600.000000   \n",
       "195005                                     1   0.369311   11371.823093   \n",
       "195006                                     0   0.052368    8000.000000   \n",
       "195007                                     0   0.007093    2000.000000   \n",
       "\n",
       "        NumberOfOpenCreditLinesAndLoans  NumberOfTimes90DaysLate  \\\n",
       "0                                     7                        0   \n",
       "1                                     6                        0   \n",
       "2                                     6                        0   \n",
       "3                                     5                        1   \n",
       "4                                     9                        0   \n",
       "...                                 ...                      ...   \n",
       "195003                                4                        0   \n",
       "195004                               14                        0   \n",
       "195005                               14                        0   \n",
       "195006                                5                        0   \n",
       "195007                                3                        0   \n",
       "\n",
       "        NumberRealEstateLoansOrLines  NumberOfTime60-89DaysPastDueNotWorse  \\\n",
       "0                                  2                                     0   \n",
       "1                                  1                                     0   \n",
       "2                                  0                                     1   \n",
       "3                                  0                                     0   \n",
       "4                                  1                                     0   \n",
       "...                              ...                                   ...   \n",
       "195003                             0                                     0   \n",
       "195004                             1                                     0   \n",
       "195005                             2                                     0   \n",
       "195006                             0                                     0   \n",
       "195007                             0                                     0   \n",
       "\n",
       "        NumberOfDependents  \n",
       "0                 0.000000  \n",
       "1                 2.000000  \n",
       "2                 1.000000  \n",
       "3                 0.000000  \n",
       "4                 1.000000  \n",
       "...                    ...  \n",
       "195003            2.736922  \n",
       "195004            0.109123  \n",
       "195005            1.607698  \n",
       "195006            0.000000  \n",
       "195007            0.000000  \n",
       "\n",
       "[195008 rows x 11 columns]"
      ]
     },
     "execution_count": 42,
     "metadata": {},
     "output_type": "execute_result"
    }
   ],
   "source": [
    "model_data"
   ]
  },
  {
   "cell_type": "code",
   "execution_count": 43,
   "metadata": {},
   "outputs": [],
   "source": [
    "vali_data = pd.concat([Y_vali,X_vali],axis=1)"
   ]
  },
  {
   "cell_type": "code",
   "execution_count": 44,
   "metadata": {},
   "outputs": [],
   "source": [
    "vali_data.index = range(vali_data.shape[0])\n",
    "vali_data.columns = data.columns"
   ]
  },
  {
   "cell_type": "code",
   "execution_count": 45,
   "metadata": {},
   "outputs": [],
   "source": [
    "model_data.to_csv(r\"D:\\DataSet\\GiveMeSomeCredit\\model_data.csv\")\n",
    "vali_data.to_csv(r\"D:\\DataSet\\GiveMeSomeCredit\\vali_data.csv\")"
   ]
  },
  {
   "cell_type": "markdown",
   "metadata": {},
   "source": [
    "## 3 分箱\n",
    "\n",
    "在评分卡制作过程中一个最重要的步骤就是分箱。分箱是评分卡最难也是最核心的思路。分箱的本质就是离散化连续变量，好让拥有不同属性的人被分成不同的类别。\n",
    "\n",
    "1.要分成多少个箱子才合适？\n",
    "\n",
    "首先，箱子的个数不能太多，最好控制在10个以下，4到5个为最佳。另外，离散化连续型变量必然伴随着信息的损失，并且箱子越少，损失的信息越多。为了衡量特征上的信息量以及特征对预测函数的贡献，银行业定义了一个概念叫做information value(IV):\n",
    "\n",
    "$ \\mathrm{IV}=\\sum_{i=1}^{\\mathrm{N}}(\\operatorname{good} \\%-\\mathrm{bad} \\%) * \\mathrm{WOE}_{\\mathrm{i}} $\n",
    "\n",
    "N是这个特征中分箱的个数，i代表每个箱子，good%是这个箱子内的优质客户占整个特征中所有优质客户的比例。bad%是这个箱子里的坏客户占整个特征中所有坏客户的比例。\n",
    "\n",
    "$\\mathrm{WOE}_{\\mathrm{i}}=\\ln \\left(\\frac{\\operatorname{good} \\%}{\\mathrm{bad} \\%}\\right)$\n",
    "\n",
    "这是在银行业中用来衡量违约概率的指标。中文叫做证据权重，本质其实就是优质客户比上坏客户比例的对数。对于一个箱子来说，WOE越大就说明这个箱子里的优质客户越多。IV代表的意义如下表所示：\n",
    "\n",
    "| IV     | 特征对预测函数的贡献   |\n",
    "|------  |------|\n",
    "| <0.03  | 特征几乎不带有效信息，对模型没有贡献，这种特征可以被删除|\n",
    "| 0.03~0.09  | 有效信息很少，对模型的贡献度低|\n",
    "| 0.1~0.29  | 有效信息一般，对模型的贡献度中等|\n",
    "| 0.3~0.49  | 有效信息很多，对模型的贡献度较高|\n",
    "| >=0.5  | 有效信息非常多，对模型贡献超高并且可疑|\n",
    "\n",
    "我们会对特征进行分箱，然后计算每个箱子数目下的WOE值，利用IV值的曲线，找出合适的分箱个数。\n",
    "\n",
    "2.分箱要达成什么样的效果？\n",
    "\n",
    "希望不同属性的人有不同的分数，因此我们希望在同一个箱子内的人的属性是尽量相似的，而不同箱子的人的属性是尽量不同的。即组间差异大，组内差异小。对于评分卡来说，我们希望一个箱子内的人违约概率是类似的，而不同箱子的人违约概率差距很大，并且每个箱子中坏客户占的比重不同。我们可以使用卡方检验来对比两个箱子的相似性。如果两个箱子之间卡方检验的P值很大，则说明他们非常相似，那我们就可以将这两个箱子合并为1个箱子。\n",
    "\n",
    "3.基于上述的思想，我们总结出对特征进行分箱的步骤：\n",
    "\n",
    "第一，把连续型变量分成数量较多的分类型变量，比如，将几万个样本分成100组或50组。  \n",
    "第二，确保每一组中都要包含两种类别的样本，否则IV值无法计算。   \n",
    "第三，对相邻的组进行卡方检验，卡方检验的P值很大的组进行合并，直到数据的组数小于设定的N箱为止。   \n",
    "第四，观察不同分箱个数下IV值的变化，找出最合适的分箱个数（在信息损失尽可能小的情况下，减少分箱的个数）。  \n",
    "\n"
   ]
  },
  {
   "cell_type": "markdown",
   "metadata": {},
   "source": [
    "### 3.1 人工对特征进行等频分箱\n",
    "   \n",
    "    pd.qcut是基于分位数的分箱函数，返回两个值：每个样本属于哪个箱子，以及所有箱子的上限和下限。\n",
    "    参数q:要分箱的个数。\n",
    "    参数retbins=True返回结构为索引的样本索引，即生成新的一列数据。"
   ]
  },
  {
   "cell_type": "code",
   "execution_count": 46,
   "metadata": {},
   "outputs": [
    {
     "data": {
      "text/plain": [
       "0         56\n",
       "1         39\n",
       "2         52\n",
       "3         47\n",
       "4         60\n",
       "          ..\n",
       "195003    51\n",
       "195004    44\n",
       "195005    44\n",
       "195006    29\n",
       "195007    22\n",
       "Name: age, Length: 195008, dtype: int64"
      ]
     },
     "execution_count": 46,
     "metadata": {},
     "output_type": "execute_result"
    }
   ],
   "source": [
    "model_data['age']"
   ]
  },
  {
   "cell_type": "code",
   "execution_count": 47,
   "metadata": {},
   "outputs": [],
   "source": [
    "model_data['qcut'], updown = pd.qcut(model_data['age'],retbins=True,q=20)  #retbins=True"
   ]
  },
  {
   "cell_type": "code",
   "execution_count": 48,
   "metadata": {},
   "outputs": [
    {
     "data": {
      "text/plain": [
       "0           (54.0, 56.0]\n",
       "1           (36.0, 39.0]\n",
       "2           (50.0, 52.0]\n",
       "3           (45.0, 47.0]\n",
       "4           (58.0, 61.0]\n",
       "               ...      \n",
       "195003      (50.0, 52.0]\n",
       "195004      (43.0, 45.0]\n",
       "195005      (43.0, 45.0]\n",
       "195006      (28.0, 31.0]\n",
       "195007    (20.999, 28.0]\n",
       "Name: qcut, Length: 195008, dtype: category\n",
       "Categories (20, interval[float64]): [(20.999, 28.0] < (28.0, 31.0] < (31.0, 34.0] < (34.0, 36.0] ... (61.0, 64.0] < (64.0, 68.0] < (68.0, 74.0] < (74.0, 103.0]]"
      ]
     },
     "execution_count": 48,
     "metadata": {},
     "output_type": "execute_result"
    }
   ],
   "source": [
    "model_data['qcut']"
   ]
  },
  {
   "cell_type": "code",
   "execution_count": 49,
   "metadata": {},
   "outputs": [
    {
     "data": {
      "text/plain": [
       "array([ 21.,  28.,  31.,  34.,  36.,  39.,  41.,  43.,  45.,  47.,  48.,\n",
       "        50.,  52.,  54.,  56.,  58.,  61.,  64.,  68.,  74., 103.])"
      ]
     },
     "execution_count": 49,
     "metadata": {},
     "output_type": "execute_result"
    }
   ],
   "source": [
    "updown"
   ]
  },
  {
   "cell_type": "code",
   "execution_count": 50,
   "metadata": {},
   "outputs": [
    {
     "data": {
      "text/plain": [
       "Index(['SeriousDlqin2yrs', 'RevolvingUtilizationOfUnsecuredLines', 'age',\n",
       "       'NumberOfTime30-59DaysPastDueNotWorse', 'DebtRatio', 'MonthlyIncome',\n",
       "       'NumberOfOpenCreditLinesAndLoans', 'NumberOfTimes90DaysLate',\n",
       "       'NumberRealEstateLoansOrLines', 'NumberOfTime60-89DaysPastDueNotWorse',\n",
       "       'NumberOfDependents', 'qcut'],\n",
       "      dtype='object')"
      ]
     },
     "execution_count": 50,
     "metadata": {},
     "output_type": "execute_result"
    }
   ],
   "source": [
    "model_data.columns"
   ]
  },
  {
   "cell_type": "code",
   "execution_count": 51,
   "metadata": {},
   "outputs": [],
   "source": [
    "#统计每个分箱中0,1的数量\n",
    "#使用groupby\n",
    "count_y0 = model_data[model_data['SeriousDlqin2yrs']==0].groupby(by='qcut').count()['SeriousDlqin2yrs']\n",
    "count_y1 = model_data[model_data['SeriousDlqin2yrs']==1].groupby(by='qcut').count()['SeriousDlqin2yrs']"
   ]
  },
  {
   "cell_type": "code",
   "execution_count": 52,
   "metadata": {},
   "outputs": [
    {
     "data": {
      "text/plain": [
       "qcut\n",
       "(20.999, 28.0]    4238\n",
       "(28.0, 31.0]      3602\n",
       "(31.0, 34.0]      4059\n",
       "(34.0, 36.0]      2906\n",
       "(36.0, 39.0]      5118\n",
       "(39.0, 41.0]      3972\n",
       "(41.0, 43.0]      3991\n",
       "(43.0, 45.0]      4387\n",
       "(45.0, 47.0]      4729\n",
       "(47.0, 48.0]      2446\n",
       "(48.0, 50.0]      4928\n",
       "(50.0, 52.0]      4652\n",
       "(52.0, 54.0]      4643\n",
       "(54.0, 56.0]      4505\n",
       "(56.0, 58.0]      4508\n",
       "(58.0, 61.0]      6626\n",
       "(61.0, 64.0]      6992\n",
       "(64.0, 68.0]      6664\n",
       "(68.0, 74.0]      6787\n",
       "(74.0, 103.0]     7720\n",
       "Name: SeriousDlqin2yrs, dtype: int64"
      ]
     },
     "execution_count": 52,
     "metadata": {},
     "output_type": "execute_result"
    }
   ],
   "source": [
    "count_y0"
   ]
  },
  {
   "cell_type": "code",
   "execution_count": 53,
   "metadata": {},
   "outputs": [
    {
     "data": {
      "text/plain": [
       "qcut\n",
       "(20.999, 28.0]    7580\n",
       "(28.0, 31.0]      5956\n",
       "(31.0, 34.0]      6820\n",
       "(34.0, 36.0]      4597\n",
       "(36.0, 39.0]      7554\n",
       "(39.0, 41.0]      5795\n",
       "(41.0, 43.0]      5633\n",
       "(43.0, 45.0]      5931\n",
       "(45.0, 47.0]      6357\n",
       "(47.0, 48.0]      3036\n",
       "(48.0, 50.0]      6222\n",
       "(50.0, 52.0]      5818\n",
       "(52.0, 54.0]      5033\n",
       "(54.0, 56.0]      4113\n",
       "(56.0, 58.0]      3419\n",
       "(58.0, 61.0]      4898\n",
       "(61.0, 64.0]      3217\n",
       "(64.0, 68.0]      2300\n",
       "(68.0, 74.0]      1878\n",
       "(74.0, 103.0]     1378\n",
       "Name: SeriousDlqin2yrs, dtype: int64"
      ]
     },
     "execution_count": 53,
     "metadata": {},
     "output_type": "execute_result"
    }
   ],
   "source": [
    "count_y1"
   ]
  },
  {
   "cell_type": "code",
   "execution_count": 54,
   "metadata": {},
   "outputs": [],
   "source": [
    "num_bins = [*zip(updown,updown[1:],count_y0,count_y1)]"
   ]
  },
  {
   "cell_type": "code",
   "execution_count": 55,
   "metadata": {},
   "outputs": [
    {
     "data": {
      "text/plain": [
       "[(21.0, 28.0, 4238, 7580),\n",
       " (28.0, 31.0, 3602, 5956),\n",
       " (31.0, 34.0, 4059, 6820),\n",
       " (34.0, 36.0, 2906, 4597),\n",
       " (36.0, 39.0, 5118, 7554),\n",
       " (39.0, 41.0, 3972, 5795),\n",
       " (41.0, 43.0, 3991, 5633),\n",
       " (43.0, 45.0, 4387, 5931),\n",
       " (45.0, 47.0, 4729, 6357),\n",
       " (47.0, 48.0, 2446, 3036),\n",
       " (48.0, 50.0, 4928, 6222),\n",
       " (50.0, 52.0, 4652, 5818),\n",
       " (52.0, 54.0, 4643, 5033),\n",
       " (54.0, 56.0, 4505, 4113),\n",
       " (56.0, 58.0, 4508, 3419),\n",
       " (58.0, 61.0, 6626, 4898),\n",
       " (61.0, 64.0, 6992, 3217),\n",
       " (64.0, 68.0, 6664, 2300),\n",
       " (68.0, 74.0, 6787, 1878),\n",
       " (74.0, 103.0, 7720, 1378)]"
      ]
     },
     "execution_count": 55,
     "metadata": {},
     "output_type": "execute_result"
    }
   ],
   "source": [
    "num_bins"
   ]
  },
  {
   "cell_type": "code",
   "execution_count": 56,
   "metadata": {},
   "outputs": [],
   "source": [
    "columns = ['min','max','count_0','count_1']\n",
    "df = pd.DataFrame(num_bins,columns=columns)"
   ]
  },
  {
   "cell_type": "code",
   "execution_count": 57,
   "metadata": {},
   "outputs": [
    {
     "data": {
      "text/html": [
       "<div>\n",
       "<style scoped>\n",
       "    .dataframe tbody tr th:only-of-type {\n",
       "        vertical-align: middle;\n",
       "    }\n",
       "\n",
       "    .dataframe tbody tr th {\n",
       "        vertical-align: top;\n",
       "    }\n",
       "\n",
       "    .dataframe thead th {\n",
       "        text-align: right;\n",
       "    }\n",
       "</style>\n",
       "<table border=\"1\" class=\"dataframe\">\n",
       "  <thead>\n",
       "    <tr style=\"text-align: right;\">\n",
       "      <th></th>\n",
       "      <th>min</th>\n",
       "      <th>max</th>\n",
       "      <th>count_0</th>\n",
       "      <th>count_1</th>\n",
       "    </tr>\n",
       "  </thead>\n",
       "  <tbody>\n",
       "    <tr>\n",
       "      <th>0</th>\n",
       "      <td>21.0</td>\n",
       "      <td>28.0</td>\n",
       "      <td>4238</td>\n",
       "      <td>7580</td>\n",
       "    </tr>\n",
       "    <tr>\n",
       "      <th>1</th>\n",
       "      <td>28.0</td>\n",
       "      <td>31.0</td>\n",
       "      <td>3602</td>\n",
       "      <td>5956</td>\n",
       "    </tr>\n",
       "    <tr>\n",
       "      <th>2</th>\n",
       "      <td>31.0</td>\n",
       "      <td>34.0</td>\n",
       "      <td>4059</td>\n",
       "      <td>6820</td>\n",
       "    </tr>\n",
       "    <tr>\n",
       "      <th>3</th>\n",
       "      <td>34.0</td>\n",
       "      <td>36.0</td>\n",
       "      <td>2906</td>\n",
       "      <td>4597</td>\n",
       "    </tr>\n",
       "    <tr>\n",
       "      <th>4</th>\n",
       "      <td>36.0</td>\n",
       "      <td>39.0</td>\n",
       "      <td>5118</td>\n",
       "      <td>7554</td>\n",
       "    </tr>\n",
       "  </tbody>\n",
       "</table>\n",
       "</div>"
      ],
      "text/plain": [
       "    min   max  count_0  count_1\n",
       "0  21.0  28.0     4238     7580\n",
       "1  28.0  31.0     3602     5956\n",
       "2  31.0  34.0     4059     6820\n",
       "3  34.0  36.0     2906     4597\n",
       "4  36.0  39.0     5118     7554"
      ]
     },
     "execution_count": 57,
     "metadata": {},
     "output_type": "execute_result"
    }
   ],
   "source": [
    "df.head()"
   ]
  },
  {
   "cell_type": "markdown",
   "metadata": {},
   "source": [
    "### 3.2 计算woe与IV值"
   ]
  },
  {
   "cell_type": "markdown",
   "metadata": {},
   "source": [
    "### 3.2.1 单个示例"
   ]
  },
  {
   "cell_type": "code",
   "execution_count": 58,
   "metadata": {},
   "outputs": [],
   "source": [
    "df['total'] = df.count_0 + df.count_1   #一个箱中样本的总数量\n",
    "df['percentage'] = df.total / df.total.sum()    #一个箱中的样本数占全部样本总数的比例\n",
    "df['bad_rate'] = df.count_1 / df.total  \n",
    "df['good%'] = df.count_0 / df.count_0.sum()\n",
    "df['bad%'] = df.count_1 / df.count_1.sum()\n",
    "df['woe'] = np.log(df['good%']/df['bad%'])"
   ]
  },
  {
   "cell_type": "code",
   "execution_count": 59,
   "metadata": {},
   "outputs": [
    {
     "data": {
      "text/html": [
       "<div>\n",
       "<style scoped>\n",
       "    .dataframe tbody tr th:only-of-type {\n",
       "        vertical-align: middle;\n",
       "    }\n",
       "\n",
       "    .dataframe tbody tr th {\n",
       "        vertical-align: top;\n",
       "    }\n",
       "\n",
       "    .dataframe thead th {\n",
       "        text-align: right;\n",
       "    }\n",
       "</style>\n",
       "<table border=\"1\" class=\"dataframe\">\n",
       "  <thead>\n",
       "    <tr style=\"text-align: right;\">\n",
       "      <th></th>\n",
       "      <th>min</th>\n",
       "      <th>max</th>\n",
       "      <th>count_0</th>\n",
       "      <th>count_1</th>\n",
       "      <th>total</th>\n",
       "      <th>percentage</th>\n",
       "      <th>bad_rate</th>\n",
       "      <th>good%</th>\n",
       "      <th>bad%</th>\n",
       "      <th>woe</th>\n",
       "    </tr>\n",
       "  </thead>\n",
       "  <tbody>\n",
       "    <tr>\n",
       "      <th>0</th>\n",
       "      <td>21.0</td>\n",
       "      <td>28.0</td>\n",
       "      <td>4238</td>\n",
       "      <td>7580</td>\n",
       "      <td>11818</td>\n",
       "      <td>0.060603</td>\n",
       "      <td>0.641394</td>\n",
       "      <td>0.043479</td>\n",
       "      <td>0.077716</td>\n",
       "      <td>-0.580786</td>\n",
       "    </tr>\n",
       "    <tr>\n",
       "      <th>1</th>\n",
       "      <td>28.0</td>\n",
       "      <td>31.0</td>\n",
       "      <td>3602</td>\n",
       "      <td>5956</td>\n",
       "      <td>9558</td>\n",
       "      <td>0.049013</td>\n",
       "      <td>0.623143</td>\n",
       "      <td>0.036954</td>\n",
       "      <td>0.061065</td>\n",
       "      <td>-0.502274</td>\n",
       "    </tr>\n",
       "    <tr>\n",
       "      <th>2</th>\n",
       "      <td>31.0</td>\n",
       "      <td>34.0</td>\n",
       "      <td>4059</td>\n",
       "      <td>6820</td>\n",
       "      <td>10879</td>\n",
       "      <td>0.055787</td>\n",
       "      <td>0.626896</td>\n",
       "      <td>0.041642</td>\n",
       "      <td>0.069924</td>\n",
       "      <td>-0.518287</td>\n",
       "    </tr>\n",
       "    <tr>\n",
       "      <th>3</th>\n",
       "      <td>34.0</td>\n",
       "      <td>36.0</td>\n",
       "      <td>2906</td>\n",
       "      <td>4597</td>\n",
       "      <td>7503</td>\n",
       "      <td>0.038475</td>\n",
       "      <td>0.612688</td>\n",
       "      <td>0.029813</td>\n",
       "      <td>0.047132</td>\n",
       "      <td>-0.457990</td>\n",
       "    </tr>\n",
       "    <tr>\n",
       "      <th>4</th>\n",
       "      <td>36.0</td>\n",
       "      <td>39.0</td>\n",
       "      <td>5118</td>\n",
       "      <td>7554</td>\n",
       "      <td>12672</td>\n",
       "      <td>0.064982</td>\n",
       "      <td>0.596117</td>\n",
       "      <td>0.052507</td>\n",
       "      <td>0.077449</td>\n",
       "      <td>-0.388678</td>\n",
       "    </tr>\n",
       "  </tbody>\n",
       "</table>\n",
       "</div>"
      ],
      "text/plain": [
       "    min   max  count_0  count_1  total  percentage  bad_rate     good%  \\\n",
       "0  21.0  28.0     4238     7580  11818    0.060603  0.641394  0.043479   \n",
       "1  28.0  31.0     3602     5956   9558    0.049013  0.623143  0.036954   \n",
       "2  31.0  34.0     4059     6820  10879    0.055787  0.626896  0.041642   \n",
       "3  34.0  36.0     2906     4597   7503    0.038475  0.612688  0.029813   \n",
       "4  36.0  39.0     5118     7554  12672    0.064982  0.596117  0.052507   \n",
       "\n",
       "       bad%       woe  \n",
       "0  0.077716 -0.580786  \n",
       "1  0.061065 -0.502274  \n",
       "2  0.069924 -0.518287  \n",
       "3  0.047132 -0.457990  \n",
       "4  0.077449 -0.388678  "
      ]
     },
     "execution_count": 59,
     "metadata": {},
     "output_type": "execute_result"
    }
   ],
   "source": [
    "df.head()"
   ]
  },
  {
   "cell_type": "code",
   "execution_count": 60,
   "metadata": {},
   "outputs": [],
   "source": [
    "#计算IV值\n",
    "rate = df['good%'] - df['bad%']\n",
    "iv_age = np.sum(rate * df.woe)"
   ]
  },
  {
   "cell_type": "code",
   "execution_count": 61,
   "metadata": {},
   "outputs": [
    {
     "data": {
      "text/plain": [
       "0.35768522872558517"
      ]
     },
     "execution_count": 61,
     "metadata": {},
     "output_type": "execute_result"
    }
   ],
   "source": [
    "iv_age"
   ]
  },
  {
   "cell_type": "markdown",
   "metadata": {},
   "source": [
    "### 3.2.2 函数实现"
   ]
  },
  {
   "cell_type": "code",
   "execution_count": 62,
   "metadata": {},
   "outputs": [],
   "source": [
    "#将计算WOE与IV值的函数实现，便于复用\n",
    "def get_woe(num_bins):\n",
    "    columns = ['min','max','count_0','count_1']\n",
    "    df = pd.DataFrame(num_bins,columns=columns)\n",
    "    \n",
    "    df['total'] = df.count_0 + df.count_1   #一个箱中样本的总数量\n",
    "    df['percentage'] = df.total / df.total.sum()    #一个箱中的样本数占全部样本总数的比例\n",
    "    df['bad_rate'] = df.count_1 / df.total  \n",
    "    df['good%'] = df.count_0 / df.count_0.sum()\n",
    "    df['bad%'] = df.count_1 / df.count_1.sum()\n",
    "    df['woe'] = np.log(df['good%']/df['bad%'])\n",
    "    \n",
    "    return df\n",
    "\n",
    "def get_iv(df):\n",
    "    rate = df['good%'] - df['bad%']\n",
    "    iv = np.sum(rate * df.woe)\n",
    "    return iv"
   ]
  },
  {
   "cell_type": "markdown",
   "metadata": {},
   "source": [
    "### 3.3 卡方检验，合并箱体，画出IV曲线"
   ]
  },
  {
   "cell_type": "markdown",
   "metadata": {},
   "source": [
    "### 3.3.1 单个示例"
   ]
  },
  {
   "cell_type": "code",
   "execution_count": 63,
   "metadata": {},
   "outputs": [
    {
     "data": {
      "text/plain": [
       "[(21.0, 28.0, 4238, 7580),\n",
       " (28.0, 31.0, 3602, 5956),\n",
       " (31.0, 34.0, 4059, 6820),\n",
       " (34.0, 36.0, 2906, 4597),\n",
       " (36.0, 39.0, 5118, 7554),\n",
       " (39.0, 41.0, 3972, 5795),\n",
       " (41.0, 43.0, 3991, 5633),\n",
       " (43.0, 45.0, 4387, 5931),\n",
       " (45.0, 47.0, 4729, 6357),\n",
       " (47.0, 48.0, 2446, 3036),\n",
       " (48.0, 50.0, 4928, 6222),\n",
       " (50.0, 52.0, 4652, 5818),\n",
       " (52.0, 54.0, 4643, 5033),\n",
       " (54.0, 56.0, 4505, 4113),\n",
       " (56.0, 58.0, 4508, 3419),\n",
       " (58.0, 61.0, 6626, 4898),\n",
       " (61.0, 64.0, 6992, 3217),\n",
       " (64.0, 68.0, 6664, 2300),\n",
       " (68.0, 74.0, 6787, 1878),\n",
       " (74.0, 103.0, 7720, 1378)]"
      ]
     },
     "execution_count": 63,
     "metadata": {},
     "output_type": "execute_result"
    }
   ],
   "source": [
    "import scipy\n",
    "num_bins_ = num_bins.copy()\n",
    "num_bins"
   ]
  },
  {
   "cell_type": "code",
   "execution_count": 64,
   "metadata": {},
   "outputs": [],
   "source": [
    "x1 = num_bins_[0][2:]\n",
    "x2 = num_bins_[1][2:]"
   ]
  },
  {
   "cell_type": "code",
   "execution_count": 65,
   "metadata": {},
   "outputs": [
    {
     "data": {
      "text/plain": [
       "(4238, 7580)"
      ]
     },
     "execution_count": 65,
     "metadata": {},
     "output_type": "execute_result"
    }
   ],
   "source": [
    "x1"
   ]
  },
  {
   "cell_type": "code",
   "execution_count": 66,
   "metadata": {},
   "outputs": [
    {
     "data": {
      "text/plain": [
       "(3602, 5956)"
      ]
     },
     "execution_count": 66,
     "metadata": {},
     "output_type": "execute_result"
    }
   ],
   "source": [
    "x2"
   ]
  },
  {
   "cell_type": "code",
   "execution_count": 67,
   "metadata": {},
   "outputs": [
    {
     "data": {
      "text/plain": [
       "(7.500956126551887,\n",
       " 0.006166624610436824,\n",
       " 1,\n",
       " array([[4334.44610778, 7483.55389222],\n",
       "        [3505.55389222, 6052.44610778]]))"
      ]
     },
     "execution_count": 67,
     "metadata": {},
     "output_type": "execute_result"
    }
   ],
   "source": [
    "scipy.stats.chi2_contingency([x1,x2])"
   ]
  },
  {
   "cell_type": "code",
   "execution_count": 68,
   "metadata": {},
   "outputs": [
    {
     "data": {
      "text/plain": [
       "7.500956126551887"
      ]
     },
     "execution_count": 68,
     "metadata": {},
     "output_type": "execute_result"
    }
   ],
   "source": [
    "#两组数之间的卡方值\n",
    "scipy.stats.chi2_contingency([x1,x2])[0]"
   ]
  },
  {
   "cell_type": "code",
   "execution_count": 69,
   "metadata": {},
   "outputs": [
    {
     "data": {
      "text/plain": [
       "0.006166624610436824"
      ]
     },
     "execution_count": 69,
     "metadata": {},
     "output_type": "execute_result"
    }
   ],
   "source": [
    "#p值\n",
    "scipy.stats.chi2_contingency([x1,x2])[1]\n",
    "\n",
    "#如果两个箱体之间的p值较大，说明两者相关性比较高可以进行合并。"
   ]
  },
  {
   "cell_type": "code",
   "execution_count": 70,
   "metadata": {},
   "outputs": [],
   "source": [
    "#如何得到所有相邻箱体两两之间的p值呢？\n",
    "pvs = []\n",
    "for i in range(len(num_bins_)-1):\n",
    "    x1 = num_bins_[i][2:]\n",
    "    x2 = num_bins_[i+1][2:]\n",
    "    pv = scipy.stats.chi2_contingency([x1,x2])[1]\n",
    "    pvs.append(pv)"
   ]
  },
  {
   "cell_type": "code",
   "execution_count": 71,
   "metadata": {},
   "outputs": [
    {
     "data": {
      "text/plain": [
       "[0.006166624610436824,\n",
       " 0.5902248214442868,\n",
       " 0.05285056272758867,\n",
       " 0.020921104570875603,\n",
       " 0.6826701248537308,\n",
       " 0.2627145387280551,\n",
       " 0.13756520279047227,\n",
       " 0.8474537801445061,\n",
       " 0.017279842172036493,\n",
       " 0.6187045022138291,\n",
       " 0.7391043154139746,\n",
       " 4.654451206750265e-07,\n",
       " 7.586538947100887e-09,\n",
       " 3.36022103362482e-09,\n",
       " 0.3920988766985525,\n",
       " 1.21673265925683e-62,\n",
       " 4.815213555236477e-19,\n",
       " 5.563588326965754e-10,\n",
       " 3.282225878382308e-29]"
      ]
     },
     "execution_count": 71,
     "metadata": {},
     "output_type": "execute_result"
    }
   ],
   "source": [
    "pvs"
   ]
  },
  {
   "cell_type": "code",
   "execution_count": 72,
   "metadata": {},
   "outputs": [
    {
     "data": {
      "text/plain": [
       "0.8474537801445061"
      ]
     },
     "execution_count": 72,
     "metadata": {},
     "output_type": "execute_result"
    }
   ],
   "source": [
    "max(pvs)"
   ]
  },
  {
   "cell_type": "code",
   "execution_count": 73,
   "metadata": {},
   "outputs": [
    {
     "data": {
      "text/plain": [
       "7"
      ]
     },
     "execution_count": 73,
     "metadata": {},
     "output_type": "execute_result"
    }
   ],
   "source": [
    "pvs.index(max(pvs))"
   ]
  },
  {
   "cell_type": "code",
   "execution_count": 74,
   "metadata": {},
   "outputs": [
    {
     "data": {
      "text/plain": [
       "[(43.0, 45.0, 4387, 5931), (45.0, 47.0, 4729, 6357)]"
      ]
     },
     "execution_count": 74,
     "metadata": {},
     "output_type": "execute_result"
    }
   ],
   "source": [
    "num_bins_[7:9]"
   ]
  },
  {
   "cell_type": "code",
   "execution_count": 75,
   "metadata": {},
   "outputs": [],
   "source": [
    "#箱体合并\n",
    "num_bins_[7:9] = [(\n",
    "                  num_bins_[7][0],\n",
    "                  num_bins_[8][1],\n",
    "                  num_bins_[7][2]+num_bins_[8][2],\n",
    "                  num_bins_[7][3]+num_bins_[8][3]\n",
    "                                )]"
   ]
  },
  {
   "cell_type": "code",
   "execution_count": 76,
   "metadata": {},
   "outputs": [
    {
     "data": {
      "text/plain": [
       "[(21.0, 28.0, 4238, 7580),\n",
       " (28.0, 31.0, 3602, 5956),\n",
       " (31.0, 34.0, 4059, 6820),\n",
       " (34.0, 36.0, 2906, 4597),\n",
       " (36.0, 39.0, 5118, 7554),\n",
       " (39.0, 41.0, 3972, 5795),\n",
       " (41.0, 43.0, 3991, 5633),\n",
       " (43.0, 47.0, 9116, 12288),\n",
       " (47.0, 48.0, 2446, 3036),\n",
       " (48.0, 50.0, 4928, 6222),\n",
       " (50.0, 52.0, 4652, 5818),\n",
       " (52.0, 54.0, 4643, 5033),\n",
       " (54.0, 56.0, 4505, 4113),\n",
       " (56.0, 58.0, 4508, 3419),\n",
       " (58.0, 61.0, 6626, 4898),\n",
       " (61.0, 64.0, 6992, 3217),\n",
       " (64.0, 68.0, 6664, 2300),\n",
       " (68.0, 74.0, 6787, 1878),\n",
       " (74.0, 103.0, 7720, 1378)]"
      ]
     },
     "execution_count": 76,
     "metadata": {},
     "output_type": "execute_result"
    }
   ],
   "source": [
    "#箱体合并之后的效果\n",
    "num_bins_"
   ]
  },
  {
   "cell_type": "markdown",
   "metadata": {},
   "source": [
    "### 3.3.2 选择分箱个数的函数实现"
   ]
  },
  {
   "cell_type": "code",
   "execution_count": 77,
   "metadata": {},
   "outputs": [],
   "source": [
    "num_bins_ = num_bins.copy()  #重新加载数据\n",
    "\n",
    "IV = []\n",
    "axisx = []\n",
    "\n",
    "while len(num_bins_) > 2:\n",
    "    pvs = []\n",
    "    #获得num_bins_两两之间的卡方值\n",
    "    for i in range(len(num_bins_)-1):\n",
    "        x1 = num_bins_[i][2:]\n",
    "        x2 = num_bins_[i+1][2:]\n",
    "        pv = scipy.stats.chi2_contingency([x1,x2])[1]\n",
    "        pvs.append(pv)\n",
    "    \n",
    "    #合并p值最大的两组\n",
    "    i = pvs.index(max(pvs))\n",
    "    num_bins_[i:i+2] = [(\n",
    "                  num_bins_[i][0],\n",
    "                  num_bins_[i+1][1],\n",
    "                  num_bins_[i][2]+num_bins_[i+1][2],\n",
    "                  num_bins_[i][3]+num_bins_[i+1][3]\n",
    "                                )]\n",
    "    bins_df = get_woe(num_bins_)\n",
    "    axisx.append(len(num_bins_))\n",
    "    IV.append(get_iv(bins_df))\n",
    "\n"
   ]
  },
  {
   "cell_type": "code",
   "execution_count": 78,
   "metadata": {},
   "outputs": [
    {
     "data": {
      "image/png": "[encoded data removed]",
      "text/plain": [
       "<Figure size 432x288 with 1 Axes>"
      ]
     },
     "metadata": {
      "needs_background": "light"
     },
     "output_type": "display_data"
    }
   ],
   "source": [
    "plt.figure()\n",
    "plt.plot(axisx,IV)\n",
    "plt.xticks(axisx)\n",
    "plt.xlabel('number of box')\n",
    "plt.ylabel('IV value')\n",
    "plt.show()"
   ]
  },
  {
   "cell_type": "markdown",
   "metadata": {},
   "source": [
    "通过图像可知，对于年龄这个特征来说，分箱的数目为6是最好的一个选择。"
   ]
  },
  {
   "cell_type": "markdown",
   "metadata": {},
   "source": [
    "### 3.3.3 分箱的函数实现\n",
    "       能够自动对人工分箱之后的某个特征进行卡方检验和箱体合并，最终把该特征分为n箱"
   ]
  },
  {
   "cell_type": "code",
   "execution_count": 79,
   "metadata": {},
   "outputs": [],
   "source": [
    "def get_bin(num_bins_,n):\n",
    "    while len(num_bins_) > n:\n",
    "        pvs = []\n",
    "        #获得num_bins_两两之间的卡方值\n",
    "        for i in range(len(num_bins_)-1):\n",
    "            x1 = num_bins_[i][2:]\n",
    "            x2 = num_bins_[i+1][2:]\n",
    "            pv = scipy.stats.chi2_contingency([x1,x2])[1]\n",
    "            pvs.append(pv)\n",
    "\n",
    "        #合并p值最大的两组\n",
    "        i = pvs.index(max(pvs))\n",
    "        num_bins_[i:i+2] = [(\n",
    "                      num_bins_[i][0],\n",
    "                      num_bins_[i+1][1],\n",
    "                      num_bins_[i][2]+num_bins_[i+1][2],\n",
    "                      num_bins_[i][3]+num_bins_[i+1][3]\n",
    "                                    )]\n",
    "\n",
    "    return num_bins_\n"
   ]
  },
  {
   "cell_type": "code",
   "execution_count": 80,
   "metadata": {},
   "outputs": [
    {
     "data": {
      "text/plain": [
       "[(21.0, 36.0, 14805, 24953),\n",
       " (36.0, 52.0, 34223, 46346),\n",
       " (52.0, 61.0, 20282, 17463),\n",
       " (61.0, 64.0, 6992, 3217),\n",
       " (64.0, 74.0, 13451, 4178),\n",
       " (74.0, 103.0, 7720, 1378)]"
      ]
     },
     "execution_count": 80,
     "metadata": {},
     "output_type": "execute_result"
    }
   ],
   "source": [
    "num_bins_ = num_bins.copy()  #重新加载数据\n",
    "\n",
    "afterbins = get_bin(num_bins_,6)\n",
    "afterbins"
   ]
  },
  {
   "cell_type": "code",
   "execution_count": 81,
   "metadata": {},
   "outputs": [
    {
     "data": {
      "text/html": [
       "<div>\n",
       "<style scoped>\n",
       "    .dataframe tbody tr th:only-of-type {\n",
       "        vertical-align: middle;\n",
       "    }\n",
       "\n",
       "    .dataframe tbody tr th {\n",
       "        vertical-align: top;\n",
       "    }\n",
       "\n",
       "    .dataframe thead th {\n",
       "        text-align: right;\n",
       "    }\n",
       "</style>\n",
       "<table border=\"1\" class=\"dataframe\">\n",
       "  <thead>\n",
       "    <tr style=\"text-align: right;\">\n",
       "      <th></th>\n",
       "      <th>min</th>\n",
       "      <th>max</th>\n",
       "      <th>count_0</th>\n",
       "      <th>count_1</th>\n",
       "      <th>total</th>\n",
       "      <th>percentage</th>\n",
       "      <th>bad_rate</th>\n",
       "      <th>good%</th>\n",
       "      <th>bad%</th>\n",
       "      <th>woe</th>\n",
       "    </tr>\n",
       "  </thead>\n",
       "  <tbody>\n",
       "    <tr>\n",
       "      <th>0</th>\n",
       "      <td>21.0</td>\n",
       "      <td>36.0</td>\n",
       "      <td>14805</td>\n",
       "      <td>24953</td>\n",
       "      <td>39758</td>\n",
       "      <td>0.203879</td>\n",
       "      <td>0.627622</td>\n",
       "      <td>0.151888</td>\n",
       "      <td>0.255836</td>\n",
       "      <td>-0.521393</td>\n",
       "    </tr>\n",
       "    <tr>\n",
       "      <th>1</th>\n",
       "      <td>36.0</td>\n",
       "      <td>52.0</td>\n",
       "      <td>34223</td>\n",
       "      <td>46346</td>\n",
       "      <td>80569</td>\n",
       "      <td>0.413157</td>\n",
       "      <td>0.575234</td>\n",
       "      <td>0.351102</td>\n",
       "      <td>0.475173</td>\n",
       "      <td>-0.302601</td>\n",
       "    </tr>\n",
       "    <tr>\n",
       "      <th>2</th>\n",
       "      <td>52.0</td>\n",
       "      <td>61.0</td>\n",
       "      <td>20282</td>\n",
       "      <td>17463</td>\n",
       "      <td>37745</td>\n",
       "      <td>0.193556</td>\n",
       "      <td>0.462657</td>\n",
       "      <td>0.208078</td>\n",
       "      <td>0.179043</td>\n",
       "      <td>0.150285</td>\n",
       "    </tr>\n",
       "    <tr>\n",
       "      <th>3</th>\n",
       "      <td>61.0</td>\n",
       "      <td>64.0</td>\n",
       "      <td>6992</td>\n",
       "      <td>3217</td>\n",
       "      <td>10209</td>\n",
       "      <td>0.052352</td>\n",
       "      <td>0.315114</td>\n",
       "      <td>0.071733</td>\n",
       "      <td>0.032983</td>\n",
       "      <td>0.776953</td>\n",
       "    </tr>\n",
       "    <tr>\n",
       "      <th>4</th>\n",
       "      <td>64.0</td>\n",
       "      <td>74.0</td>\n",
       "      <td>13451</td>\n",
       "      <td>4178</td>\n",
       "      <td>17629</td>\n",
       "      <td>0.090401</td>\n",
       "      <td>0.236996</td>\n",
       "      <td>0.137997</td>\n",
       "      <td>0.042836</td>\n",
       "      <td>1.169857</td>\n",
       "    </tr>\n",
       "    <tr>\n",
       "      <th>5</th>\n",
       "      <td>74.0</td>\n",
       "      <td>103.0</td>\n",
       "      <td>7720</td>\n",
       "      <td>1378</td>\n",
       "      <td>9098</td>\n",
       "      <td>0.046654</td>\n",
       "      <td>0.151462</td>\n",
       "      <td>0.079201</td>\n",
       "      <td>0.014128</td>\n",
       "      <td>1.723817</td>\n",
       "    </tr>\n",
       "  </tbody>\n",
       "</table>\n",
       "</div>"
      ],
      "text/plain": [
       "    min    max  count_0  count_1  total  percentage  bad_rate     good%  \\\n",
       "0  21.0   36.0    14805    24953  39758    0.203879  0.627622  0.151888   \n",
       "1  36.0   52.0    34223    46346  80569    0.413157  0.575234  0.351102   \n",
       "2  52.0   61.0    20282    17463  37745    0.193556  0.462657  0.208078   \n",
       "3  61.0   64.0     6992     3217  10209    0.052352  0.315114  0.071733   \n",
       "4  64.0   74.0    13451     4178  17629    0.090401  0.236996  0.137997   \n",
       "5  74.0  103.0     7720     1378   9098    0.046654  0.151462  0.079201   \n",
       "\n",
       "       bad%       woe  \n",
       "0  0.255836 -0.521393  \n",
       "1  0.475173 -0.302601  \n",
       "2  0.179043  0.150285  \n",
       "3  0.032983  0.776953  \n",
       "4  0.042836  1.169857  \n",
       "5  0.014128  1.723817  "
      ]
     },
     "execution_count": 81,
     "metadata": {},
     "output_type": "execute_result"
    }
   ],
   "source": [
    "bins_df = get_woe(afterbins)\n",
    "bins_df"
   ]
  },
  {
   "cell_type": "markdown",
   "metadata": {},
   "source": [
    "### 3.4 将整个选取最佳分箱个数的过程包装为函数"
   ]
  },
  {
   "cell_type": "code",
   "execution_count": 82,
   "metadata": {},
   "outputs": [],
   "source": [
    "def graphforbestbin(DF,X,Y,n=5,q=20,graph=True):\n",
    "    \"\"\"\n",
    "    自动最优分箱函数，基于卡方检验\n",
    "    \n",
    "    参数：\n",
    "    DF:需要输入的数据\n",
    "    X:需要分箱的列名\n",
    "    Y:分箱数据对应的标签\n",
    "    n:保留分箱的个数\n",
    "    q:初始分箱的个数\n",
    "    graph:是否要画出IV图像\n",
    "    \n",
    "    区间为前开后闭\n",
    "    \n",
    "    \"\"\"\n",
    "    DF = DF[[X,Y]].copy()\n",
    "    bins_df = 0\n",
    "    \n",
    "    #先把数据分成q箱\n",
    "    DF['qcut'], bins = pd.qcut(DF[X],retbins=True,q=q,duplicates='drop')\n",
    "    count_y0 = model_data[DF[Y]==0].groupby(by='qcut').count()[Y]\n",
    "    count_y1 = model_data[DF[Y]==1].groupby(by='qcut').count()[Y]\n",
    "    num_bins = [*zip(bins,bins[1:],count_y0,count_y1)]\n",
    "    \n",
    "    #如果某个箱子里有0，就进行合并。保证每个箱子中正负样本的数量都不为0\n",
    "    for i in range(q):\n",
    "        if 0 in num_bins[0][2:]:\n",
    "            num_bins[0:2] = [(num_bins[0][0],\n",
    "                              num_bins[1][1],\n",
    "                              num_bins[0][2]+num_bins[1][2],\n",
    "                              num_bins[0][3]+num_bins[1][3]\n",
    "                             )]\n",
    "            continue\n",
    "            \n",
    "        for i in range(len(num_bins)):\n",
    "            if 0 in num_bins[i][2:]:\n",
    "                num_bins[i-1:i+1] = [(num_bins[i-1][0],\n",
    "                                  num_bins[i][1],\n",
    "                                  num_bins[i-1][2]+num_bins[i][2],\n",
    "                                  num_bins[i-1][3]+num_bins[i][3]\n",
    "                                 )]\n",
    "            break\n",
    "        else:\n",
    "            break\n",
    "    \n",
    "    #计算woe函数\n",
    "    def get_woe(num_bins):\n",
    "        columns = ['min','max','count_0','count_1']\n",
    "        df = pd.DataFrame(num_bins,columns=columns)\n",
    "\n",
    "        df['total'] = df.count_0 + df.count_1   #一个箱中样本的总数量\n",
    "        df['percentage'] = df.total / df.total.sum()    #一个箱中的样本数占全部样本总数的比例\n",
    "        df['bad_rate'] = df.count_1 / df.total  \n",
    "        df['good%'] = df.count_0 / df.count_0.sum()\n",
    "        df['bad%'] = df.count_1 / df.count_1.sum()\n",
    "        df['woe'] = np.log(df['good%']/df['bad%'])\n",
    "        return df\n",
    "    \n",
    "    #计算IV值的函数\n",
    "    def get_iv(df):\n",
    "        rate = df['good%'] - df['bad%']\n",
    "        iv = np.sum(rate * df.woe)\n",
    "        return iv\n",
    "    \n",
    "    #利用卡方值合并箱体，合并完毕之后计算woe与IV值。\n",
    "    IV = []\n",
    "    axisx = []\n",
    "\n",
    "    while len(num_bins) > n:\n",
    "        pvs = []\n",
    "        #获得num_bins两两之间的卡方值\n",
    "        for i in range(len(num_bins)-1):\n",
    "            x1 = num_bins[i][2:]\n",
    "            x2 = num_bins[i+1][2:]\n",
    "            pv = scipy.stats.chi2_contingency([x1,x2])[1]\n",
    "            pvs.append(pv)\n",
    "\n",
    "        #合并p值最大的两组\n",
    "        i = pvs.index(max(pvs))\n",
    "        num_bins[i:i+2] = [(\n",
    "                      num_bins[i][0],\n",
    "                      num_bins[i+1][1],\n",
    "                      num_bins[i][2]+num_bins[i+1][2],\n",
    "                      num_bins[i][3]+num_bins[i+1][3]\n",
    "                                    )]\n",
    "        bins_df = get_woe(num_bins)\n",
    "        axisx.append(len(num_bins))\n",
    "        IV.append(get_iv(bins_df))\n",
    "    \n",
    "    #绘图\n",
    "    if graph:\n",
    "        plt.figure()\n",
    "        plt.plot(axisx,IV)\n",
    "        plt.xticks(axisx)\n",
    "        plt.xlabel('number of box')\n",
    "        plt.ylabel('IV value')\n",
    "        plt.show()\n",
    "    \n",
    "    return bins_df\n"
   ]
  },
  {
   "cell_type": "code",
   "execution_count": 83,
   "metadata": {},
   "outputs": [
    {
     "data": {
      "text/plain": [
       "Index(['SeriousDlqin2yrs', 'RevolvingUtilizationOfUnsecuredLines', 'age',\n",
       "       'NumberOfTime30-59DaysPastDueNotWorse', 'DebtRatio', 'MonthlyIncome',\n",
       "       'NumberOfOpenCreditLinesAndLoans', 'NumberOfTimes90DaysLate',\n",
       "       'NumberRealEstateLoansOrLines', 'NumberOfTime60-89DaysPastDueNotWorse',\n",
       "       'NumberOfDependents', 'qcut'],\n",
       "      dtype='object')"
      ]
     },
     "execution_count": 83,
     "metadata": {},
     "output_type": "execute_result"
    }
   ],
   "source": [
    "model_data.columns"
   ]
  },
  {
   "cell_type": "code",
   "execution_count": 84,
   "metadata": {},
   "outputs": [
    {
     "name": "stdout",
     "output_type": "stream",
     "text": [
      "RevolvingUtilizationOfUnsecuredLines\n"
     ]
    },
    {
     "data": {
      "image/png": "[encoded data removed]",
      "text/plain": [
       "<Figure size 432x288 with 1 Axes>"
      ]
     },
     "metadata": {
      "needs_background": "light"
     },
     "output_type": "display_data"
    },
    {
     "name": "stdout",
     "output_type": "stream",
     "text": [
      "age\n"
     ]
    },
    {
     "data": {
      "image/png": "[encoded data removed]",
      "text/plain": [
       "<Figure size 432x288 with 1 Axes>"
      ]
     },
     "metadata": {
      "needs_background": "light"
     },
     "output_type": "display_data"
    },
    {
     "name": "stdout",
     "output_type": "stream",
     "text": [
      "NumberOfTime30-59DaysPastDueNotWorse\n"
     ]
    },
    {
     "data": {
      "image/png": "[encoded data removed]",
      "text/plain": [
       "<Figure size 432x288 with 1 Axes>"
      ]
     },
     "metadata": {
      "needs_background": "light"
     },
     "output_type": "display_data"
    },
    {
     "name": "stdout",
     "output_type": "stream",
     "text": [
      "DebtRatio\n"
     ]
    },
    {
     "data": {
      "image/png": "[encoded data removed]",
      "text/plain": [
       "<Figure size 432x288 with 1 Axes>"
      ]
     },
     "metadata": {
      "needs_background": "light"
     },
     "output_type": "display_data"
    },
    {
     "name": "stdout",
     "output_type": "stream",
     "text": [
      "MonthlyIncome\n"
     ]
    },
    {
     "data": {
      "image/png": "[encoded data removed]",
      "text/plain": [
       "<Figure size 432x288 with 1 Axes>"
      ]
     },
     "metadata": {
      "needs_background": "light"
     },
     "output_type": "display_data"
    },
    {
     "name": "stdout",
     "output_type": "stream",
     "text": [
      "NumberOfOpenCreditLinesAndLoans\n"
     ]
    },
    {
     "data": {
      "image/png": "[encoded data removed]",
      "text/plain": [
       "<Figure size 432x288 with 1 Axes>"
      ]
     },
     "metadata": {
      "needs_background": "light"
     },
     "output_type": "display_data"
    },
    {
     "name": "stdout",
     "output_type": "stream",
     "text": [
      "NumberOfTimes90DaysLate\n"
     ]
    },
    {
     "data": {
      "image/png": "[encoded data removed]",
      "text/plain": [
       "<Figure size 432x288 with 1 Axes>"
      ]
     },
     "metadata": {
      "needs_background": "light"
     },
     "output_type": "display_data"
    },
    {
     "name": "stdout",
     "output_type": "stream",
     "text": [
      "NumberRealEstateLoansOrLines\n"
     ]
    },
    {
     "data": {
      "image/png": "[encoded data removed]",
      "text/plain": [
       "<Figure size 432x288 with 1 Axes>"
      ]
     },
     "metadata": {
      "needs_background": "light"
     },
     "output_type": "display_data"
    },
    {
     "name": "stdout",
     "output_type": "stream",
     "text": [
      "NumberOfTime60-89DaysPastDueNotWorse\n"
     ]
    },
    {
     "data": {
      "image/png": "[encoded data removed]",
      "text/plain": [
       "<Figure size 432x288 with 1 Axes>"
      ]
     },
     "metadata": {
      "needs_background": "light"
     },
     "output_type": "display_data"
    },
    {
     "name": "stdout",
     "output_type": "stream",
     "text": [
      "NumberOfDependents\n"
     ]
    },
    {
     "data": {
      "image/png": "[encoded data removed]",
      "text/plain": [
       "<Figure size 432x288 with 1 Axes>"
      ]
     },
     "metadata": {
      "needs_background": "light"
     },
     "output_type": "display_data"
    }
   ],
   "source": [
    "for i in model_data.columns[1:-1]:\n",
    "    print(i)\n",
    "    graphforbestbin(model_data,i,'SeriousDlqin2yrs',n=2,q=20)"
   ]
  },
  {
   "cell_type": "markdown",
   "metadata": {},
   "source": [
    "能够正常的自动分箱的特征有：  \n",
    "1 RevolvingUtilizationOfUnsecuredLines  :  6  \n",
    "2 age    : 5  \n",
    "3 DebtRatio   : 4  \n",
    "4 MonthlyIncome    : 3   \n",
    "5 NumberOfOpenCreditLinesAndLoans    : 5  \n",
    "\n",
    "自动分箱存在问题的特征有：  \n",
    "1 NumberOfTime30-59DaysPastDueNotWorse      \n",
    "2 NumberOfTimes90DaysLate  \n",
    "3 NumberRealEstateLoansOrLines   \n",
    "4 NumberOfTime60-89DaysPastDueNotWorse  \n",
    "5 NumberOfDependents  \n",
    "\n"
   ]
  },
  {
   "cell_type": "code",
   "execution_count": 85,
   "metadata": {},
   "outputs": [],
   "source": [
    "auto_col_bins = {\n",
    "    'RevolvingUtilizationOfUnsecuredLines':6,\n",
    "    'age':5,\n",
    "    'DebtRatio':4,\n",
    "    'MonthlyIncome':3,\n",
    "    'NumberOfOpenCreditLinesAndLoans':5\n",
    "}\n",
    "\n",
    "#对于不能自动分箱的特征，我们进行手动的设置\n",
    "hand_bins = {\n",
    "    'NumberOfTime30-59DaysPastDueNotWorse':[0,1,2,13],\n",
    "    'NumberOfTimes90DaysLate':[0,1,2,17],\n",
    "    'NumberRealEstateLoansOrLines':[0,1,2,4,54],\n",
    "    'NumberOfTime60-89DaysPastDueNotWorse':[0,1,2,8],\n",
    "    'NumberOfDependents':[0,1,2,3]\n",
    "}\n",
    "\n"
   ]
  },
  {
   "cell_type": "code",
   "execution_count": 86,
   "metadata": {},
   "outputs": [
    {
     "data": {
      "text/plain": [
       "dict_items([('NumberOfTime30-59DaysPastDueNotWorse', [0, 1, 2, 13]), ('NumberOfTimes90DaysLate', [0, 1, 2, 17]), ('NumberRealEstateLoansOrLines', [0, 1, 2, 4, 54]), ('NumberOfTime60-89DaysPastDueNotWorse', [0, 1, 2, 8]), ('NumberOfDependents', [0, 1, 2, 3])])"
      ]
     },
     "execution_count": 86,
     "metadata": {},
     "output_type": "execute_result"
    }
   ],
   "source": [
    "hand_bins.items()"
   ]
  },
  {
   "cell_type": "code",
   "execution_count": 87,
   "metadata": {},
   "outputs": [
    {
     "data": {
      "text/plain": [
       "{'NumberOfTime30-59DaysPastDueNotWorse': [-inf, 0, 1, 2, inf],\n",
       " 'NumberOfTimes90DaysLate': [-inf, 0, 1, 2, inf],\n",
       " 'NumberRealEstateLoansOrLines': [-inf, 0, 1, 2, 4, inf],\n",
       " 'NumberOfTime60-89DaysPastDueNotWorse': [-inf, 0, 1, 2, inf],\n",
       " 'NumberOfDependents': [-inf, 0, 1, 2, inf]}"
      ]
     },
     "execution_count": 87,
     "metadata": {},
     "output_type": "execute_result"
    }
   ],
   "source": [
    "#为保证区间覆盖，需要使用np.inf来替换最大值，使用-n.inf替换最小值\n",
    "hand_bins = {k:[-np.inf,*v[:-1],np.inf] for k,v in hand_bins.items()}\n",
    "hand_bins"
   ]
  },
  {
   "cell_type": "code",
   "execution_count": 88,
   "metadata": {},
   "outputs": [],
   "source": [
    "bins_of_col = {}\n",
    "\n",
    "for col in auto_col_bins:\n",
    "    bins_df = graphforbestbin(model_data,\n",
    "                              col,\n",
    "                              'SeriousDlqin2yrs',\n",
    "                              n=auto_col_bins[col],\n",
    "                              q=20,\n",
    "                              graph=False)\n",
    "    \n",
    "    #将区间上界的集合与区间下界的集合合并，并且按照从小到大进行排序\n",
    "    bins_list = sorted(set(bins_df['min']).union(bins_df['max']))\n",
    "    \n",
    "    #为保证区间覆盖\n",
    "    bins_list[0],bins_list[-1] = -np.inf, np.inf\n",
    "    bins_of_col[col] = bins_list\n",
    "    "
   ]
  },
  {
   "cell_type": "code",
   "execution_count": 89,
   "metadata": {},
   "outputs": [
    {
     "data": {
      "text/plain": [
       "{'RevolvingUtilizationOfUnsecuredLines': [-inf,\n",
       "  0.060829122,\n",
       "  0.6391491862,\n",
       "  0.9345402220182801,\n",
       "  0.9824579518497449,\n",
       "  1.0170124050789442,\n",
       "  inf],\n",
       " 'age': [-inf, 36.0, 52.0, 61.0, 74.0, inf],\n",
       " 'DebtRatio': [-inf, 0.5023671412362064, 1.4736645599981109, 2342.0, inf],\n",
       " 'MonthlyIncome': [-inf, 5054.0, 7754.1020069799915, inf],\n",
       " 'NumberOfOpenCreditLinesAndLoans': [-inf, 4.0, 7.0, 12.0, 15.0, inf]}"
      ]
     },
     "execution_count": 89,
     "metadata": {},
     "output_type": "execute_result"
    }
   ],
   "source": [
    "bins_of_col"
   ]
  },
  {
   "cell_type": "code",
   "execution_count": 90,
   "metadata": {},
   "outputs": [],
   "source": [
    "#与手动分箱数据进行合并\n",
    "bins_of_col.update(hand_bins)"
   ]
  },
  {
   "cell_type": "code",
   "execution_count": 91,
   "metadata": {},
   "outputs": [
    {
     "data": {
      "text/plain": [
       "{'RevolvingUtilizationOfUnsecuredLines': [-inf,\n",
       "  0.060829122,\n",
       "  0.6391491862,\n",
       "  0.9345402220182801,\n",
       "  0.9824579518497449,\n",
       "  1.0170124050789442,\n",
       "  inf],\n",
       " 'age': [-inf, 36.0, 52.0, 61.0, 74.0, inf],\n",
       " 'DebtRatio': [-inf, 0.5023671412362064, 1.4736645599981109, 2342.0, inf],\n",
       " 'MonthlyIncome': [-inf, 5054.0, 7754.1020069799915, inf],\n",
       " 'NumberOfOpenCreditLinesAndLoans': [-inf, 4.0, 7.0, 12.0, 15.0, inf],\n",
       " 'NumberOfTime30-59DaysPastDueNotWorse': [-inf, 0, 1, 2, inf],\n",
       " 'NumberOfTimes90DaysLate': [-inf, 0, 1, 2, inf],\n",
       " 'NumberRealEstateLoansOrLines': [-inf, 0, 1, 2, 4, inf],\n",
       " 'NumberOfTime60-89DaysPastDueNotWorse': [-inf, 0, 1, 2, inf],\n",
       " 'NumberOfDependents': [-inf, 0, 1, 2, inf]}"
      ]
     },
     "execution_count": 91,
     "metadata": {},
     "output_type": "execute_result"
    }
   ],
   "source": [
    "bins_of_col"
   ]
  },
  {
   "cell_type": "markdown",
   "metadata": {},
   "source": [
    "## 3.5 分箱，计算各箱的woe值并映射到数据中\n",
    "\n",
    "直接用区间的话，不方便去计算评分。所以每个箱子都用它的woe值来代替。"
   ]
  },
  {
   "cell_type": "markdown",
   "metadata": {},
   "source": [
    "### 3.5.1 一个实例"
   ]
  },
  {
   "cell_type": "code",
   "execution_count": 92,
   "metadata": {},
   "outputs": [],
   "source": [
    "data = model_data.copy()"
   ]
  },
  {
   "cell_type": "code",
   "execution_count": 93,
   "metadata": {},
   "outputs": [],
   "source": [
    "data = data[['age','SeriousDlqin2yrs']].copy()"
   ]
  },
  {
   "cell_type": "code",
   "execution_count": 94,
   "metadata": {},
   "outputs": [],
   "source": [
    "#函数pd.cut，可以根据给定的间隔对数据进行分段\n",
    "data['cut'] = pd.cut(data['age'],[-np.inf, 36.0, 52.0, 61.0, 74.0, np.inf])"
   ]
  },
  {
   "cell_type": "code",
   "execution_count": 95,
   "metadata": {},
   "outputs": [
    {
     "data": {
      "text/html": [
       "<div>\n",
       "<style scoped>\n",
       "    .dataframe tbody tr th:only-of-type {\n",
       "        vertical-align: middle;\n",
       "    }\n",
       "\n",
       "    .dataframe tbody tr th {\n",
       "        vertical-align: top;\n",
       "    }\n",
       "\n",
       "    .dataframe thead th {\n",
       "        text-align: right;\n",
       "    }\n",
       "</style>\n",
       "<table border=\"1\" class=\"dataframe\">\n",
       "  <thead>\n",
       "    <tr style=\"text-align: right;\">\n",
       "      <th></th>\n",
       "      <th>age</th>\n",
       "      <th>SeriousDlqin2yrs</th>\n",
       "      <th>cut</th>\n",
       "    </tr>\n",
       "  </thead>\n",
       "  <tbody>\n",
       "    <tr>\n",
       "      <th>0</th>\n",
       "      <td>56</td>\n",
       "      <td>0</td>\n",
       "      <td>(52.0, 61.0]</td>\n",
       "    </tr>\n",
       "    <tr>\n",
       "      <th>1</th>\n",
       "      <td>39</td>\n",
       "      <td>0</td>\n",
       "      <td>(36.0, 52.0]</td>\n",
       "    </tr>\n",
       "    <tr>\n",
       "      <th>2</th>\n",
       "      <td>52</td>\n",
       "      <td>0</td>\n",
       "      <td>(36.0, 52.0]</td>\n",
       "    </tr>\n",
       "    <tr>\n",
       "      <th>3</th>\n",
       "      <td>47</td>\n",
       "      <td>0</td>\n",
       "      <td>(36.0, 52.0]</td>\n",
       "    </tr>\n",
       "    <tr>\n",
       "      <th>4</th>\n",
       "      <td>60</td>\n",
       "      <td>0</td>\n",
       "      <td>(52.0, 61.0]</td>\n",
       "    </tr>\n",
       "    <tr>\n",
       "      <th>...</th>\n",
       "      <td>...</td>\n",
       "      <td>...</td>\n",
       "      <td>...</td>\n",
       "    </tr>\n",
       "    <tr>\n",
       "      <th>195003</th>\n",
       "      <td>51</td>\n",
       "      <td>1</td>\n",
       "      <td>(36.0, 52.0]</td>\n",
       "    </tr>\n",
       "    <tr>\n",
       "      <th>195004</th>\n",
       "      <td>44</td>\n",
       "      <td>1</td>\n",
       "      <td>(36.0, 52.0]</td>\n",
       "    </tr>\n",
       "    <tr>\n",
       "      <th>195005</th>\n",
       "      <td>44</td>\n",
       "      <td>1</td>\n",
       "      <td>(36.0, 52.0]</td>\n",
       "    </tr>\n",
       "    <tr>\n",
       "      <th>195006</th>\n",
       "      <td>29</td>\n",
       "      <td>0</td>\n",
       "      <td>(-inf, 36.0]</td>\n",
       "    </tr>\n",
       "    <tr>\n",
       "      <th>195007</th>\n",
       "      <td>22</td>\n",
       "      <td>1</td>\n",
       "      <td>(-inf, 36.0]</td>\n",
       "    </tr>\n",
       "  </tbody>\n",
       "</table>\n",
       "<p>195008 rows × 3 columns</p>\n",
       "</div>"
      ],
      "text/plain": [
       "        age  SeriousDlqin2yrs           cut\n",
       "0        56                 0  (52.0, 61.0]\n",
       "1        39                 0  (36.0, 52.0]\n",
       "2        52                 0  (36.0, 52.0]\n",
       "3        47                 0  (36.0, 52.0]\n",
       "4        60                 0  (52.0, 61.0]\n",
       "...     ...               ...           ...\n",
       "195003   51                 1  (36.0, 52.0]\n",
       "195004   44                 1  (36.0, 52.0]\n",
       "195005   44                 1  (36.0, 52.0]\n",
       "195006   29                 0  (-inf, 36.0]\n",
       "195007   22                 1  (-inf, 36.0]\n",
       "\n",
       "[195008 rows x 3 columns]"
      ]
     },
     "execution_count": 95,
     "metadata": {},
     "output_type": "execute_result"
    }
   ],
   "source": [
    "data"
   ]
  },
  {
   "cell_type": "code",
   "execution_count": 96,
   "metadata": {},
   "outputs": [
    {
     "data": {
      "text/plain": [
       "cut           SeriousDlqin2yrs\n",
       "(-inf, 36.0]  1                   24953\n",
       "              0                   14805\n",
       "(36.0, 52.0]  1                   46346\n",
       "              0                   34223\n",
       "(52.0, 61.0]  0                   20282\n",
       "              1                   17463\n",
       "(61.0, 74.0]  0                   20443\n",
       "              1                    7395\n",
       "(74.0, inf]   0                    7720\n",
       "              1                    1378\n",
       "Name: SeriousDlqin2yrs, dtype: int64"
      ]
     },
     "execution_count": 96,
     "metadata": {},
     "output_type": "execute_result"
    }
   ],
   "source": [
    " #将数据按分箱结果聚合，并取出其中的标签\n",
    "data.groupby('cut')['SeriousDlqin2yrs'].value_counts()"
   ]
  },
  {
   "cell_type": "code",
   "execution_count": 97,
   "metadata": {},
   "outputs": [
    {
     "data": {
      "text/html": [
       "<div>\n",
       "<style scoped>\n",
       "    .dataframe tbody tr th:only-of-type {\n",
       "        vertical-align: middle;\n",
       "    }\n",
       "\n",
       "    .dataframe tbody tr th {\n",
       "        vertical-align: top;\n",
       "    }\n",
       "\n",
       "    .dataframe thead th {\n",
       "        text-align: right;\n",
       "    }\n",
       "</style>\n",
       "<table border=\"1\" class=\"dataframe\">\n",
       "  <thead>\n",
       "    <tr style=\"text-align: right;\">\n",
       "      <th>SeriousDlqin2yrs</th>\n",
       "      <th>0</th>\n",
       "      <th>1</th>\n",
       "    </tr>\n",
       "    <tr>\n",
       "      <th>cut</th>\n",
       "      <th></th>\n",
       "      <th></th>\n",
       "    </tr>\n",
       "  </thead>\n",
       "  <tbody>\n",
       "    <tr>\n",
       "      <th>(-inf, 36.0]</th>\n",
       "      <td>14805</td>\n",
       "      <td>24953</td>\n",
       "    </tr>\n",
       "    <tr>\n",
       "      <th>(36.0, 52.0]</th>\n",
       "      <td>34223</td>\n",
       "      <td>46346</td>\n",
       "    </tr>\n",
       "    <tr>\n",
       "      <th>(52.0, 61.0]</th>\n",
       "      <td>20282</td>\n",
       "      <td>17463</td>\n",
       "    </tr>\n",
       "    <tr>\n",
       "      <th>(61.0, 74.0]</th>\n",
       "      <td>20443</td>\n",
       "      <td>7395</td>\n",
       "    </tr>\n",
       "    <tr>\n",
       "      <th>(74.0, inf]</th>\n",
       "      <td>7720</td>\n",
       "      <td>1378</td>\n",
       "    </tr>\n",
       "  </tbody>\n",
       "</table>\n",
       "</div>"
      ],
      "text/plain": [
       "SeriousDlqin2yrs      0      1\n",
       "cut                           \n",
       "(-inf, 36.0]      14805  24953\n",
       "(36.0, 52.0]      34223  46346\n",
       "(52.0, 61.0]      20282  17463\n",
       "(61.0, 74.0]      20443   7395\n",
       "(74.0, inf]        7720   1378"
      ]
     },
     "execution_count": 97,
     "metadata": {},
     "output_type": "execute_result"
    }
   ],
   "source": [
    "#使用unstack()来将树状结构变成表状结构\n",
    "bins_df = data.groupby('cut')['SeriousDlqin2yrs'].value_counts().unstack()\n",
    "bins_df"
   ]
  },
  {
   "cell_type": "code",
   "execution_count": 98,
   "metadata": {},
   "outputs": [],
   "source": [
    "#为每个箱子计算woe值\n",
    "bins_df['woe'] = np.log((bins_df[0]/bins_df[0].sum()) / (bins_df[1]/bins_df[1].sum()))"
   ]
  },
  {
   "cell_type": "code",
   "execution_count": 99,
   "metadata": {},
   "outputs": [
    {
     "data": {
      "text/html": [
       "<div>\n",
       "<style scoped>\n",
       "    .dataframe tbody tr th:only-of-type {\n",
       "        vertical-align: middle;\n",
       "    }\n",
       "\n",
       "    .dataframe tbody tr th {\n",
       "        vertical-align: top;\n",
       "    }\n",
       "\n",
       "    .dataframe thead th {\n",
       "        text-align: right;\n",
       "    }\n",
       "</style>\n",
       "<table border=\"1\" class=\"dataframe\">\n",
       "  <thead>\n",
       "    <tr style=\"text-align: right;\">\n",
       "      <th>SeriousDlqin2yrs</th>\n",
       "      <th>0</th>\n",
       "      <th>1</th>\n",
       "      <th>woe</th>\n",
       "    </tr>\n",
       "    <tr>\n",
       "      <th>cut</th>\n",
       "      <th></th>\n",
       "      <th></th>\n",
       "      <th></th>\n",
       "    </tr>\n",
       "  </thead>\n",
       "  <tbody>\n",
       "    <tr>\n",
       "      <th>(-inf, 36.0]</th>\n",
       "      <td>14805</td>\n",
       "      <td>24953</td>\n",
       "      <td>-0.521393</td>\n",
       "    </tr>\n",
       "    <tr>\n",
       "      <th>(36.0, 52.0]</th>\n",
       "      <td>34223</td>\n",
       "      <td>46346</td>\n",
       "      <td>-0.302601</td>\n",
       "    </tr>\n",
       "    <tr>\n",
       "      <th>(52.0, 61.0]</th>\n",
       "      <td>20282</td>\n",
       "      <td>17463</td>\n",
       "      <td>0.150285</td>\n",
       "    </tr>\n",
       "    <tr>\n",
       "      <th>(61.0, 74.0]</th>\n",
       "      <td>20443</td>\n",
       "      <td>7395</td>\n",
       "      <td>1.017472</td>\n",
       "    </tr>\n",
       "    <tr>\n",
       "      <th>(74.0, inf]</th>\n",
       "      <td>7720</td>\n",
       "      <td>1378</td>\n",
       "      <td>1.723817</td>\n",
       "    </tr>\n",
       "  </tbody>\n",
       "</table>\n",
       "</div>"
      ],
      "text/plain": [
       "SeriousDlqin2yrs      0      1       woe\n",
       "cut                                     \n",
       "(-inf, 36.0]      14805  24953 -0.521393\n",
       "(36.0, 52.0]      34223  46346 -0.302601\n",
       "(52.0, 61.0]      20282  17463  0.150285\n",
       "(61.0, 74.0]      20443   7395  1.017472\n",
       "(74.0, inf]        7720   1378  1.723817"
      ]
     },
     "execution_count": 99,
     "metadata": {},
     "output_type": "execute_result"
    }
   ],
   "source": [
    "bins_df"
   ]
  },
  {
   "cell_type": "markdown",
   "metadata": {},
   "source": [
    "### 3.5.2 用函数实现分箱，并计算woe值"
   ]
  },
  {
   "cell_type": "code",
   "execution_count": 100,
   "metadata": {},
   "outputs": [],
   "source": [
    "def get_woe(df,col,y,bins):\n",
    "    df = df[[col,y]].copy()\n",
    "    df['cut'] = pd.cut(df[col],bins)\n",
    "    bins_df = df.groupby('cut')[y].value_counts().unstack()\n",
    "    woe = bins_df['woe'] = np.log((bins_df[0]/bins_df[0].sum()) / (bins_df[1]/bins_df[1].sum()))\n",
    "    \n",
    "    return woe\n"
   ]
  },
  {
   "cell_type": "code",
   "execution_count": 101,
   "metadata": {},
   "outputs": [
    {
     "data": {
      "text/plain": [
       "{'RevolvingUtilizationOfUnsecuredLines': [-inf,\n",
       "  0.060829122,\n",
       "  0.6391491862,\n",
       "  0.9345402220182801,\n",
       "  0.9824579518497449,\n",
       "  1.0170124050789442,\n",
       "  inf],\n",
       " 'age': [-inf, 36.0, 52.0, 61.0, 74.0, inf],\n",
       " 'DebtRatio': [-inf, 0.5023671412362064, 1.4736645599981109, 2342.0, inf],\n",
       " 'MonthlyIncome': [-inf, 5054.0, 7754.1020069799915, inf],\n",
       " 'NumberOfOpenCreditLinesAndLoans': [-inf, 4.0, 7.0, 12.0, 15.0, inf],\n",
       " 'NumberOfTime30-59DaysPastDueNotWorse': [-inf, 0, 1, 2, inf],\n",
       " 'NumberOfTimes90DaysLate': [-inf, 0, 1, 2, inf],\n",
       " 'NumberRealEstateLoansOrLines': [-inf, 0, 1, 2, 4, inf],\n",
       " 'NumberOfTime60-89DaysPastDueNotWorse': [-inf, 0, 1, 2, inf],\n",
       " 'NumberOfDependents': [-inf, 0, 1, 2, inf]}"
      ]
     },
     "execution_count": 101,
     "metadata": {},
     "output_type": "execute_result"
    }
   ],
   "source": [
    "bins_of_col"
   ]
  },
  {
   "cell_type": "code",
   "execution_count": 102,
   "metadata": {},
   "outputs": [
    {
     "data": {
      "text/plain": [
       "{'RevolvingUtilizationOfUnsecuredLines': cut\n",
       " (-inf, 0.0608]     2.440255\n",
       " (0.0608, 0.639]    0.210497\n",
       " (0.639, 0.935]    -1.204237\n",
       " (0.935, 0.982]    -1.514322\n",
       " (0.982, 1.017]    -0.645643\n",
       " (1.017, inf]      -2.099156\n",
       " dtype: float64,\n",
       " 'age': cut\n",
       " (-inf, 36.0]   -0.521393\n",
       " (36.0, 52.0]   -0.302601\n",
       " (52.0, 61.0]    0.150285\n",
       " (61.0, 74.0]    1.017472\n",
       " (74.0, inf]     1.723817\n",
       " dtype: float64,\n",
       " 'DebtRatio': cut\n",
       " (-inf, 0.502]      0.096037\n",
       " (0.502, 1.474]    -0.468435\n",
       " (1.474, 2342.0]    0.166600\n",
       " (2342.0, inf]      0.190370\n",
       " dtype: float64,\n",
       " 'MonthlyIncome': cut\n",
       " (-inf, 5054.0]       -0.122675\n",
       " (5054.0, 7754.102]    0.028997\n",
       " (7754.102, inf]       0.341839\n",
       " dtype: float64,\n",
       " 'NumberOfOpenCreditLinesAndLoans': cut\n",
       " (-inf, 4.0]    -0.361733\n",
       " (4.0, 7.0]      0.049382\n",
       " (7.0, 12.0]     0.134672\n",
       " (12.0, 15.0]    0.107402\n",
       " (15.0, inf]     0.381960\n",
       " dtype: float64,\n",
       " 'NumberOfTime30-59DaysPastDueNotWorse': cut\n",
       " (-inf, 0.0]    0.352366\n",
       " (0.0, 1.0]    -0.884654\n",
       " (1.0, 2.0]    -1.361314\n",
       " (2.0, inf]    -1.518277\n",
       " dtype: float64,\n",
       " 'NumberOfTimes90DaysLate': cut\n",
       " (-inf, 0.0]    0.236487\n",
       " (0.0, 1.0]    -1.755136\n",
       " (1.0, 2.0]    -2.287798\n",
       " (2.0, inf]    -2.348844\n",
       " dtype: float64,\n",
       " 'NumberRealEstateLoansOrLines': cut\n",
       " (-inf, 0.0]   -0.398311\n",
       " (0.0, 1.0]     0.196332\n",
       " (1.0, 2.0]     0.628356\n",
       " (2.0, 4.0]     0.394844\n",
       " (4.0, inf]    -0.300355\n",
       " dtype: float64,\n",
       " 'NumberOfTime60-89DaysPastDueNotWorse': cut\n",
       " (-inf, 0.0]    0.123839\n",
       " (0.0, 1.0]    -1.388992\n",
       " (1.0, 2.0]    -1.757568\n",
       " (2.0, inf]    -1.801706\n",
       " dtype: float64,\n",
       " 'NumberOfDependents': cut\n",
       " (-inf, 0.0]    0.664907\n",
       " (0.0, 1.0]    -0.519625\n",
       " (1.0, 2.0]    -0.541251\n",
       " (2.0, inf]    -0.483366\n",
       " dtype: float64}"
      ]
     },
     "execution_count": 102,
     "metadata": {},
     "output_type": "execute_result"
    }
   ],
   "source": [
    "#将所有特征进行分箱，并计算每个箱的woe值\n",
    "#然后，将计算出的结果存储到一个字典中\n",
    "\n",
    "woeall = {}\n",
    "for col in bins_of_col:\n",
    "    woeall[col] = get_woe(model_data,col,'SeriousDlqin2yrs',bins_of_col[col])\n",
    "\n",
    "woeall"
   ]
  },
  {
   "cell_type": "code",
   "execution_count": 103,
   "metadata": {},
   "outputs": [],
   "source": [
    "#将所有的woe值映射到原始数据中\n",
    "\n",
    "#由于不希望覆盖掉原本的数据，所以我们提前创建一个原始数据索引相同的DataFrame\n",
    "\n",
    "model_woe = pd.DataFrame(index=model_data.index)"
   ]
  },
  {
   "cell_type": "code",
   "execution_count": 104,
   "metadata": {},
   "outputs": [
    {
     "data": {
      "text/html": [
       "<div>\n",
       "<style scoped>\n",
       "    .dataframe tbody tr th:only-of-type {\n",
       "        vertical-align: middle;\n",
       "    }\n",
       "\n",
       "    .dataframe tbody tr th {\n",
       "        vertical-align: top;\n",
       "    }\n",
       "\n",
       "    .dataframe thead th {\n",
       "        text-align: right;\n",
       "    }\n",
       "</style>\n",
       "<table border=\"1\" class=\"dataframe\">\n",
       "  <thead>\n",
       "    <tr style=\"text-align: right;\">\n",
       "      <th></th>\n",
       "    </tr>\n",
       "  </thead>\n",
       "  <tbody>\n",
       "    <tr>\n",
       "      <th>0</th>\n",
       "    </tr>\n",
       "    <tr>\n",
       "      <th>1</th>\n",
       "    </tr>\n",
       "    <tr>\n",
       "      <th>2</th>\n",
       "    </tr>\n",
       "    <tr>\n",
       "      <th>3</th>\n",
       "    </tr>\n",
       "    <tr>\n",
       "      <th>4</th>\n",
       "    </tr>\n",
       "    <tr>\n",
       "      <th>...</th>\n",
       "    </tr>\n",
       "    <tr>\n",
       "      <th>195003</th>\n",
       "    </tr>\n",
       "    <tr>\n",
       "      <th>195004</th>\n",
       "    </tr>\n",
       "    <tr>\n",
       "      <th>195005</th>\n",
       "    </tr>\n",
       "    <tr>\n",
       "      <th>195006</th>\n",
       "    </tr>\n",
       "    <tr>\n",
       "      <th>195007</th>\n",
       "    </tr>\n",
       "  </tbody>\n",
       "</table>\n",
       "<p>195008 rows × 0 columns</p>\n",
       "</div>"
      ],
      "text/plain": [
       "Empty DataFrame\n",
       "Columns: []\n",
       "Index: [0, 1, 2, 3, 4, 5, 6, 7, 8, 9, 10, 11, 12, 13, 14, 15, 16, 17, 18, 19, 20, 21, 22, 23, 24, 25, 26, 27, 28, 29, 30, 31, 32, 33, 34, 35, 36, 37, 38, 39, 40, 41, 42, 43, 44, 45, 46, 47, 48, 49, 50, 51, 52, 53, 54, 55, 56, 57, 58, 59, 60, 61, 62, 63, 64, 65, 66, 67, 68, 69, 70, 71, 72, 73, 74, 75, 76, 77, 78, 79, 80, 81, 82, 83, 84, 85, 86, 87, 88, 89, 90, 91, 92, 93, 94, 95, 96, 97, 98, 99, ...]\n",
       "\n",
       "[195008 rows x 0 columns]"
      ]
     },
     "execution_count": 104,
     "metadata": {},
     "output_type": "execute_result"
    }
   ],
   "source": [
    "model_woe"
   ]
  },
  {
   "cell_type": "code",
   "execution_count": 105,
   "metadata": {},
   "outputs": [],
   "source": [
    "#以age特征为例，进行分箱并映射\n",
    "model_woe['age'] = pd.cut(model_data['age'],bins_of_col['age']).map(woeall['age'])"
   ]
  },
  {
   "cell_type": "code",
   "execution_count": 106,
   "metadata": {},
   "outputs": [
    {
     "data": {
      "text/html": [
       "<div>\n",
       "<style scoped>\n",
       "    .dataframe tbody tr th:only-of-type {\n",
       "        vertical-align: middle;\n",
       "    }\n",
       "\n",
       "    .dataframe tbody tr th {\n",
       "        vertical-align: top;\n",
       "    }\n",
       "\n",
       "    .dataframe thead th {\n",
       "        text-align: right;\n",
       "    }\n",
       "</style>\n",
       "<table border=\"1\" class=\"dataframe\">\n",
       "  <thead>\n",
       "    <tr style=\"text-align: right;\">\n",
       "      <th></th>\n",
       "      <th>age</th>\n",
       "    </tr>\n",
       "  </thead>\n",
       "  <tbody>\n",
       "    <tr>\n",
       "      <th>0</th>\n",
       "      <td>0.150285</td>\n",
       "    </tr>\n",
       "    <tr>\n",
       "      <th>1</th>\n",
       "      <td>-0.302601</td>\n",
       "    </tr>\n",
       "    <tr>\n",
       "      <th>2</th>\n",
       "      <td>-0.302601</td>\n",
       "    </tr>\n",
       "    <tr>\n",
       "      <th>3</th>\n",
       "      <td>-0.302601</td>\n",
       "    </tr>\n",
       "    <tr>\n",
       "      <th>4</th>\n",
       "      <td>0.150285</td>\n",
       "    </tr>\n",
       "    <tr>\n",
       "      <th>...</th>\n",
       "      <td>...</td>\n",
       "    </tr>\n",
       "    <tr>\n",
       "      <th>195003</th>\n",
       "      <td>-0.302601</td>\n",
       "    </tr>\n",
       "    <tr>\n",
       "      <th>195004</th>\n",
       "      <td>-0.302601</td>\n",
       "    </tr>\n",
       "    <tr>\n",
       "      <th>195005</th>\n",
       "      <td>-0.302601</td>\n",
       "    </tr>\n",
       "    <tr>\n",
       "      <th>195006</th>\n",
       "      <td>-0.521393</td>\n",
       "    </tr>\n",
       "    <tr>\n",
       "      <th>195007</th>\n",
       "      <td>-0.521393</td>\n",
       "    </tr>\n",
       "  </tbody>\n",
       "</table>\n",
       "<p>195008 rows × 1 columns</p>\n",
       "</div>"
      ],
      "text/plain": [
       "             age\n",
       "0       0.150285\n",
       "1      -0.302601\n",
       "2      -0.302601\n",
       "3      -0.302601\n",
       "4       0.150285\n",
       "...          ...\n",
       "195003 -0.302601\n",
       "195004 -0.302601\n",
       "195005 -0.302601\n",
       "195006 -0.521393\n",
       "195007 -0.521393\n",
       "\n",
       "[195008 rows x 1 columns]"
      ]
     },
     "execution_count": 106,
     "metadata": {},
     "output_type": "execute_result"
    }
   ],
   "source": [
    "model_woe"
   ]
  },
  {
   "cell_type": "code",
   "execution_count": 107,
   "metadata": {},
   "outputs": [],
   "source": [
    "#对所有特征进行分箱与woe映射操作\n",
    "for col in bins_of_col:\n",
    "    model_woe[col] = pd.cut(model_data[col],bins_of_col[col]).map(woeall[col])"
   ]
  },
  {
   "cell_type": "code",
   "execution_count": 108,
   "metadata": {},
   "outputs": [
    {
     "data": {
      "text/html": [
       "<div>\n",
       "<style scoped>\n",
       "    .dataframe tbody tr th:only-of-type {\n",
       "        vertical-align: middle;\n",
       "    }\n",
       "\n",
       "    .dataframe tbody tr th {\n",
       "        vertical-align: top;\n",
       "    }\n",
       "\n",
       "    .dataframe thead th {\n",
       "        text-align: right;\n",
       "    }\n",
       "</style>\n",
       "<table border=\"1\" class=\"dataframe\">\n",
       "  <thead>\n",
       "    <tr style=\"text-align: right;\">\n",
       "      <th></th>\n",
       "      <th>age</th>\n",
       "      <th>RevolvingUtilizationOfUnsecuredLines</th>\n",
       "      <th>DebtRatio</th>\n",
       "      <th>MonthlyIncome</th>\n",
       "      <th>NumberOfOpenCreditLinesAndLoans</th>\n",
       "      <th>NumberOfTime30-59DaysPastDueNotWorse</th>\n",
       "      <th>NumberOfTimes90DaysLate</th>\n",
       "      <th>NumberRealEstateLoansOrLines</th>\n",
       "      <th>NumberOfTime60-89DaysPastDueNotWorse</th>\n",
       "      <th>NumberOfDependents</th>\n",
       "    </tr>\n",
       "  </thead>\n",
       "  <tbody>\n",
       "    <tr>\n",
       "      <th>0</th>\n",
       "      <td>0.150285</td>\n",
       "      <td>0.210497</td>\n",
       "      <td>0.096037</td>\n",
       "      <td>0.028997</td>\n",
       "      <td>0.049382</td>\n",
       "      <td>0.352366</td>\n",
       "      <td>0.236487</td>\n",
       "      <td>0.628356</td>\n",
       "      <td>0.123839</td>\n",
       "      <td>0.664907</td>\n",
       "    </tr>\n",
       "    <tr>\n",
       "      <th>1</th>\n",
       "      <td>-0.302601</td>\n",
       "      <td>-0.645643</td>\n",
       "      <td>0.096037</td>\n",
       "      <td>-0.122675</td>\n",
       "      <td>0.049382</td>\n",
       "      <td>-0.884654</td>\n",
       "      <td>0.236487</td>\n",
       "      <td>0.196332</td>\n",
       "      <td>0.123839</td>\n",
       "      <td>-0.541251</td>\n",
       "    </tr>\n",
       "    <tr>\n",
       "      <th>2</th>\n",
       "      <td>-0.302601</td>\n",
       "      <td>0.210497</td>\n",
       "      <td>0.096037</td>\n",
       "      <td>-0.122675</td>\n",
       "      <td>0.049382</td>\n",
       "      <td>-1.518277</td>\n",
       "      <td>0.236487</td>\n",
       "      <td>-0.398311</td>\n",
       "      <td>-1.388992</td>\n",
       "      <td>-0.519625</td>\n",
       "    </tr>\n",
       "    <tr>\n",
       "      <th>3</th>\n",
       "      <td>-0.302601</td>\n",
       "      <td>-1.204237</td>\n",
       "      <td>0.096037</td>\n",
       "      <td>0.028997</td>\n",
       "      <td>0.049382</td>\n",
       "      <td>0.352366</td>\n",
       "      <td>-1.755136</td>\n",
       "      <td>-0.398311</td>\n",
       "      <td>0.123839</td>\n",
       "      <td>0.664907</td>\n",
       "    </tr>\n",
       "    <tr>\n",
       "      <th>4</th>\n",
       "      <td>0.150285</td>\n",
       "      <td>2.440255</td>\n",
       "      <td>0.096037</td>\n",
       "      <td>0.028997</td>\n",
       "      <td>0.134672</td>\n",
       "      <td>0.352366</td>\n",
       "      <td>0.236487</td>\n",
       "      <td>0.196332</td>\n",
       "      <td>0.123839</td>\n",
       "      <td>-0.519625</td>\n",
       "    </tr>\n",
       "    <tr>\n",
       "      <th>...</th>\n",
       "      <td>...</td>\n",
       "      <td>...</td>\n",
       "      <td>...</td>\n",
       "      <td>...</td>\n",
       "      <td>...</td>\n",
       "      <td>...</td>\n",
       "      <td>...</td>\n",
       "      <td>...</td>\n",
       "      <td>...</td>\n",
       "      <td>...</td>\n",
       "    </tr>\n",
       "    <tr>\n",
       "      <th>195003</th>\n",
       "      <td>-0.302601</td>\n",
       "      <td>-1.514322</td>\n",
       "      <td>0.096037</td>\n",
       "      <td>0.341839</td>\n",
       "      <td>-0.361733</td>\n",
       "      <td>-0.884654</td>\n",
       "      <td>0.236487</td>\n",
       "      <td>-0.398311</td>\n",
       "      <td>0.123839</td>\n",
       "      <td>-0.483366</td>\n",
       "    </tr>\n",
       "    <tr>\n",
       "      <th>195004</th>\n",
       "      <td>-0.302601</td>\n",
       "      <td>2.440255</td>\n",
       "      <td>0.096037</td>\n",
       "      <td>0.341839</td>\n",
       "      <td>0.107402</td>\n",
       "      <td>0.352366</td>\n",
       "      <td>0.236487</td>\n",
       "      <td>0.196332</td>\n",
       "      <td>0.123839</td>\n",
       "      <td>-0.519625</td>\n",
       "    </tr>\n",
       "    <tr>\n",
       "      <th>195005</th>\n",
       "      <td>-0.302601</td>\n",
       "      <td>0.210497</td>\n",
       "      <td>0.096037</td>\n",
       "      <td>0.341839</td>\n",
       "      <td>0.107402</td>\n",
       "      <td>-0.884654</td>\n",
       "      <td>0.236487</td>\n",
       "      <td>0.628356</td>\n",
       "      <td>0.123839</td>\n",
       "      <td>-0.541251</td>\n",
       "    </tr>\n",
       "    <tr>\n",
       "      <th>195006</th>\n",
       "      <td>-0.521393</td>\n",
       "      <td>0.210497</td>\n",
       "      <td>0.096037</td>\n",
       "      <td>0.341839</td>\n",
       "      <td>0.049382</td>\n",
       "      <td>0.352366</td>\n",
       "      <td>0.236487</td>\n",
       "      <td>-0.398311</td>\n",
       "      <td>0.123839</td>\n",
       "      <td>0.664907</td>\n",
       "    </tr>\n",
       "    <tr>\n",
       "      <th>195007</th>\n",
       "      <td>-0.521393</td>\n",
       "      <td>-0.645643</td>\n",
       "      <td>0.096037</td>\n",
       "      <td>-0.122675</td>\n",
       "      <td>-0.361733</td>\n",
       "      <td>0.352366</td>\n",
       "      <td>0.236487</td>\n",
       "      <td>-0.398311</td>\n",
       "      <td>0.123839</td>\n",
       "      <td>0.664907</td>\n",
       "    </tr>\n",
       "  </tbody>\n",
       "</table>\n",
       "<p>195008 rows × 10 columns</p>\n",
       "</div>"
      ],
      "text/plain": [
       "             age RevolvingUtilizationOfUnsecuredLines DebtRatio MonthlyIncome  \\\n",
       "0       0.150285                             0.210497  0.096037      0.028997   \n",
       "1      -0.302601                            -0.645643  0.096037     -0.122675   \n",
       "2      -0.302601                             0.210497  0.096037     -0.122675   \n",
       "3      -0.302601                            -1.204237  0.096037      0.028997   \n",
       "4       0.150285                             2.440255  0.096037      0.028997   \n",
       "...          ...                                  ...       ...           ...   \n",
       "195003 -0.302601                            -1.514322  0.096037      0.341839   \n",
       "195004 -0.302601                             2.440255  0.096037      0.341839   \n",
       "195005 -0.302601                             0.210497  0.096037      0.341839   \n",
       "195006 -0.521393                             0.210497  0.096037      0.341839   \n",
       "195007 -0.521393                            -0.645643  0.096037     -0.122675   \n",
       "\n",
       "       NumberOfOpenCreditLinesAndLoans NumberOfTime30-59DaysPastDueNotWorse  \\\n",
       "0                             0.049382                             0.352366   \n",
       "1                             0.049382                            -0.884654   \n",
       "2                             0.049382                            -1.518277   \n",
       "3                             0.049382                             0.352366   \n",
       "4                             0.134672                             0.352366   \n",
       "...                                ...                                  ...   \n",
       "195003                       -0.361733                            -0.884654   \n",
       "195004                        0.107402                             0.352366   \n",
       "195005                        0.107402                            -0.884654   \n",
       "195006                        0.049382                             0.352366   \n",
       "195007                       -0.361733                             0.352366   \n",
       "\n",
       "       NumberOfTimes90DaysLate NumberRealEstateLoansOrLines  \\\n",
       "0                     0.236487                     0.628356   \n",
       "1                     0.236487                     0.196332   \n",
       "2                     0.236487                    -0.398311   \n",
       "3                    -1.755136                    -0.398311   \n",
       "4                     0.236487                     0.196332   \n",
       "...                        ...                          ...   \n",
       "195003                0.236487                    -0.398311   \n",
       "195004                0.236487                     0.196332   \n",
       "195005                0.236487                     0.628356   \n",
       "195006                0.236487                    -0.398311   \n",
       "195007                0.236487                    -0.398311   \n",
       "\n",
       "       NumberOfTime60-89DaysPastDueNotWorse NumberOfDependents  \n",
       "0                                  0.123839           0.664907  \n",
       "1                                  0.123839          -0.541251  \n",
       "2                                 -1.388992          -0.519625  \n",
       "3                                  0.123839           0.664907  \n",
       "4                                  0.123839          -0.519625  \n",
       "...                                     ...                ...  \n",
       "195003                             0.123839          -0.483366  \n",
       "195004                             0.123839          -0.519625  \n",
       "195005                             0.123839          -0.541251  \n",
       "195006                             0.123839           0.664907  \n",
       "195007                             0.123839           0.664907  \n",
       "\n",
       "[195008 rows x 10 columns]"
      ]
     },
     "execution_count": 108,
     "metadata": {},
     "output_type": "execute_result"
    }
   ],
   "source": [
    "model_woe"
   ]
  },
  {
   "cell_type": "code",
   "execution_count": 109,
   "metadata": {},
   "outputs": [],
   "source": [
    "#将标签补充到数据中\n",
    "model_woe['SeriousDlqin2yrs'] = model_data['SeriousDlqin2yrs']"
   ]
  },
  {
   "cell_type": "code",
   "execution_count": 110,
   "metadata": {},
   "outputs": [
    {
     "data": {
      "text/html": [
       "<div>\n",
       "<style scoped>\n",
       "    .dataframe tbody tr th:only-of-type {\n",
       "        vertical-align: middle;\n",
       "    }\n",
       "\n",
       "    .dataframe tbody tr th {\n",
       "        vertical-align: top;\n",
       "    }\n",
       "\n",
       "    .dataframe thead th {\n",
       "        text-align: right;\n",
       "    }\n",
       "</style>\n",
       "<table border=\"1\" class=\"dataframe\">\n",
       "  <thead>\n",
       "    <tr style=\"text-align: right;\">\n",
       "      <th></th>\n",
       "      <th>age</th>\n",
       "      <th>RevolvingUtilizationOfUnsecuredLines</th>\n",
       "      <th>DebtRatio</th>\n",
       "      <th>MonthlyIncome</th>\n",
       "      <th>NumberOfOpenCreditLinesAndLoans</th>\n",
       "      <th>NumberOfTime30-59DaysPastDueNotWorse</th>\n",
       "      <th>NumberOfTimes90DaysLate</th>\n",
       "      <th>NumberRealEstateLoansOrLines</th>\n",
       "      <th>NumberOfTime60-89DaysPastDueNotWorse</th>\n",
       "      <th>NumberOfDependents</th>\n",
       "      <th>SeriousDlqin2yrs</th>\n",
       "    </tr>\n",
       "  </thead>\n",
       "  <tbody>\n",
       "    <tr>\n",
       "      <th>0</th>\n",
       "      <td>0.150285</td>\n",
       "      <td>0.210497</td>\n",
       "      <td>0.096037</td>\n",
       "      <td>0.028997</td>\n",
       "      <td>0.049382</td>\n",
       "      <td>0.352366</td>\n",
       "      <td>0.236487</td>\n",
       "      <td>0.628356</td>\n",
       "      <td>0.123839</td>\n",
       "      <td>0.664907</td>\n",
       "      <td>0</td>\n",
       "    </tr>\n",
       "    <tr>\n",
       "      <th>1</th>\n",
       "      <td>-0.302601</td>\n",
       "      <td>-0.645643</td>\n",
       "      <td>0.096037</td>\n",
       "      <td>-0.122675</td>\n",
       "      <td>0.049382</td>\n",
       "      <td>-0.884654</td>\n",
       "      <td>0.236487</td>\n",
       "      <td>0.196332</td>\n",
       "      <td>0.123839</td>\n",
       "      <td>-0.541251</td>\n",
       "      <td>0</td>\n",
       "    </tr>\n",
       "    <tr>\n",
       "      <th>2</th>\n",
       "      <td>-0.302601</td>\n",
       "      <td>0.210497</td>\n",
       "      <td>0.096037</td>\n",
       "      <td>-0.122675</td>\n",
       "      <td>0.049382</td>\n",
       "      <td>-1.518277</td>\n",
       "      <td>0.236487</td>\n",
       "      <td>-0.398311</td>\n",
       "      <td>-1.388992</td>\n",
       "      <td>-0.519625</td>\n",
       "      <td>0</td>\n",
       "    </tr>\n",
       "    <tr>\n",
       "      <th>3</th>\n",
       "      <td>-0.302601</td>\n",
       "      <td>-1.204237</td>\n",
       "      <td>0.096037</td>\n",
       "      <td>0.028997</td>\n",
       "      <td>0.049382</td>\n",
       "      <td>0.352366</td>\n",
       "      <td>-1.755136</td>\n",
       "      <td>-0.398311</td>\n",
       "      <td>0.123839</td>\n",
       "      <td>0.664907</td>\n",
       "      <td>0</td>\n",
       "    </tr>\n",
       "    <tr>\n",
       "      <th>4</th>\n",
       "      <td>0.150285</td>\n",
       "      <td>2.440255</td>\n",
       "      <td>0.096037</td>\n",
       "      <td>0.028997</td>\n",
       "      <td>0.134672</td>\n",
       "      <td>0.352366</td>\n",
       "      <td>0.236487</td>\n",
       "      <td>0.196332</td>\n",
       "      <td>0.123839</td>\n",
       "      <td>-0.519625</td>\n",
       "      <td>0</td>\n",
       "    </tr>\n",
       "  </tbody>\n",
       "</table>\n",
       "</div>"
      ],
      "text/plain": [
       "        age RevolvingUtilizationOfUnsecuredLines DebtRatio MonthlyIncome  \\\n",
       "0  0.150285                             0.210497  0.096037      0.028997   \n",
       "1 -0.302601                            -0.645643  0.096037     -0.122675   \n",
       "2 -0.302601                             0.210497  0.096037     -0.122675   \n",
       "3 -0.302601                            -1.204237  0.096037      0.028997   \n",
       "4  0.150285                             2.440255  0.096037      0.028997   \n",
       "\n",
       "  NumberOfOpenCreditLinesAndLoans NumberOfTime30-59DaysPastDueNotWorse  \\\n",
       "0                        0.049382                             0.352366   \n",
       "1                        0.049382                            -0.884654   \n",
       "2                        0.049382                            -1.518277   \n",
       "3                        0.049382                             0.352366   \n",
       "4                        0.134672                             0.352366   \n",
       "\n",
       "  NumberOfTimes90DaysLate NumberRealEstateLoansOrLines  \\\n",
       "0                0.236487                     0.628356   \n",
       "1                0.236487                     0.196332   \n",
       "2                0.236487                    -0.398311   \n",
       "3               -1.755136                    -0.398311   \n",
       "4                0.236487                     0.196332   \n",
       "\n",
       "  NumberOfTime60-89DaysPastDueNotWorse NumberOfDependents  SeriousDlqin2yrs  \n",
       "0                             0.123839           0.664907                 0  \n",
       "1                             0.123839          -0.541251                 0  \n",
       "2                            -1.388992          -0.519625                 0  \n",
       "3                             0.123839           0.664907                 0  \n",
       "4                             0.123839          -0.519625                 0  "
      ]
     },
     "execution_count": 110,
     "metadata": {},
     "output_type": "execute_result"
    }
   ],
   "source": [
    "model_woe.head()"
   ]
  },
  {
   "cell_type": "markdown",
   "metadata": {},
   "source": [
    "### 3.6 处理测试集"
   ]
  },
  {
   "cell_type": "code",
   "execution_count": 111,
   "metadata": {},
   "outputs": [],
   "source": [
    "vali_woe = pd.DataFrame(index=vali_data.index)"
   ]
  },
  {
   "cell_type": "code",
   "execution_count": 112,
   "metadata": {},
   "outputs": [],
   "source": [
    "#对测试集的所有特征进行分箱与woe映射操作\n",
    "for col in bins_of_col:\n",
    "    vali_woe[col] = pd.cut(vali_data[col],bins_of_col[col]).map(woeall[col])\n",
    "\n",
    "#将标签补充到数据中\n",
    "vali_woe['SeriousDlqin2yrs'] = vali_data['SeriousDlqin2yrs']"
   ]
  },
  {
   "cell_type": "code",
   "execution_count": 113,
   "metadata": {},
   "outputs": [
    {
     "data": {
      "text/html": [
       "<div>\n",
       "<style scoped>\n",
       "    .dataframe tbody tr th:only-of-type {\n",
       "        vertical-align: middle;\n",
       "    }\n",
       "\n",
       "    .dataframe tbody tr th {\n",
       "        vertical-align: top;\n",
       "    }\n",
       "\n",
       "    .dataframe thead th {\n",
       "        text-align: right;\n",
       "    }\n",
       "</style>\n",
       "<table border=\"1\" class=\"dataframe\">\n",
       "  <thead>\n",
       "    <tr style=\"text-align: right;\">\n",
       "      <th></th>\n",
       "      <th>RevolvingUtilizationOfUnsecuredLines</th>\n",
       "      <th>age</th>\n",
       "      <th>DebtRatio</th>\n",
       "      <th>MonthlyIncome</th>\n",
       "      <th>NumberOfOpenCreditLinesAndLoans</th>\n",
       "      <th>NumberOfTime30-59DaysPastDueNotWorse</th>\n",
       "      <th>NumberOfTimes90DaysLate</th>\n",
       "      <th>NumberRealEstateLoansOrLines</th>\n",
       "      <th>NumberOfTime60-89DaysPastDueNotWorse</th>\n",
       "      <th>NumberOfDependents</th>\n",
       "      <th>SeriousDlqin2yrs</th>\n",
       "    </tr>\n",
       "  </thead>\n",
       "  <tbody>\n",
       "    <tr>\n",
       "      <th>0</th>\n",
       "      <td>0.210497</td>\n",
       "      <td>-0.521393</td>\n",
       "      <td>-0.468435</td>\n",
       "      <td>-0.122675</td>\n",
       "      <td>-0.361733</td>\n",
       "      <td>-0.884654</td>\n",
       "      <td>0.236487</td>\n",
       "      <td>-0.398311</td>\n",
       "      <td>0.123839</td>\n",
       "      <td>-0.541251</td>\n",
       "      <td>1</td>\n",
       "    </tr>\n",
       "    <tr>\n",
       "      <th>1</th>\n",
       "      <td>0.210497</td>\n",
       "      <td>-0.302601</td>\n",
       "      <td>0.096037</td>\n",
       "      <td>0.028997</td>\n",
       "      <td>0.049382</td>\n",
       "      <td>0.352366</td>\n",
       "      <td>0.236487</td>\n",
       "      <td>-0.398311</td>\n",
       "      <td>0.123839</td>\n",
       "      <td>-0.483366</td>\n",
       "      <td>0</td>\n",
       "    </tr>\n",
       "    <tr>\n",
       "      <th>2</th>\n",
       "      <td>0.210497</td>\n",
       "      <td>0.150285</td>\n",
       "      <td>-0.468435</td>\n",
       "      <td>-0.122675</td>\n",
       "      <td>0.381960</td>\n",
       "      <td>0.352366</td>\n",
       "      <td>0.236487</td>\n",
       "      <td>0.628356</td>\n",
       "      <td>0.123839</td>\n",
       "      <td>0.664907</td>\n",
       "      <td>0</td>\n",
       "    </tr>\n",
       "    <tr>\n",
       "      <th>3</th>\n",
       "      <td>0.210497</td>\n",
       "      <td>-0.302601</td>\n",
       "      <td>0.166600</td>\n",
       "      <td>-0.122675</td>\n",
       "      <td>0.049382</td>\n",
       "      <td>0.352366</td>\n",
       "      <td>0.236487</td>\n",
       "      <td>-0.398311</td>\n",
       "      <td>0.123839</td>\n",
       "      <td>-0.519625</td>\n",
       "      <td>1</td>\n",
       "    </tr>\n",
       "    <tr>\n",
       "      <th>4</th>\n",
       "      <td>-0.645643</td>\n",
       "      <td>-0.302601</td>\n",
       "      <td>0.096037</td>\n",
       "      <td>-0.122675</td>\n",
       "      <td>0.049382</td>\n",
       "      <td>-0.884654</td>\n",
       "      <td>0.236487</td>\n",
       "      <td>-0.398311</td>\n",
       "      <td>-1.757568</td>\n",
       "      <td>-0.483366</td>\n",
       "      <td>1</td>\n",
       "    </tr>\n",
       "  </tbody>\n",
       "</table>\n",
       "</div>"
      ],
      "text/plain": [
       "  RevolvingUtilizationOfUnsecuredLines       age DebtRatio MonthlyIncome  \\\n",
       "0                             0.210497 -0.521393 -0.468435     -0.122675   \n",
       "1                             0.210497 -0.302601  0.096037      0.028997   \n",
       "2                             0.210497  0.150285 -0.468435     -0.122675   \n",
       "3                             0.210497 -0.302601  0.166600     -0.122675   \n",
       "4                            -0.645643 -0.302601  0.096037     -0.122675   \n",
       "\n",
       "  NumberOfOpenCreditLinesAndLoans NumberOfTime30-59DaysPastDueNotWorse  \\\n",
       "0                       -0.361733                            -0.884654   \n",
       "1                        0.049382                             0.352366   \n",
       "2                        0.381960                             0.352366   \n",
       "3                        0.049382                             0.352366   \n",
       "4                        0.049382                            -0.884654   \n",
       "\n",
       "  NumberOfTimes90DaysLate NumberRealEstateLoansOrLines  \\\n",
       "0                0.236487                    -0.398311   \n",
       "1                0.236487                    -0.398311   \n",
       "2                0.236487                     0.628356   \n",
       "3                0.236487                    -0.398311   \n",
       "4                0.236487                    -0.398311   \n",
       "\n",
       "  NumberOfTime60-89DaysPastDueNotWorse NumberOfDependents  SeriousDlqin2yrs  \n",
       "0                             0.123839          -0.541251                 1  \n",
       "1                             0.123839          -0.483366                 0  \n",
       "2                             0.123839           0.664907                 0  \n",
       "3                             0.123839          -0.519625                 1  \n",
       "4                            -1.757568          -0.483366                 1  "
      ]
     },
     "execution_count": 113,
     "metadata": {},
     "output_type": "execute_result"
    }
   ],
   "source": [
    "vali_woe.head()"
   ]
  },
  {
   "cell_type": "markdown",
   "metadata": {},
   "source": [
    "## 4 建模与模型验证\n",
    "\n",
    "逻辑回归是一种名为回归的线性分类器，其本质是由线性回归变化而来的。\n",
    "\n",
    "线性回归算法的假设函数：  \n",
    "$\\mathrm{y}(\\mathrm{x})=\\theta_{0}+\\theta_{1} \\mathrm{x}_{1}+\\theta_{2} \\mathrm{x}_{2}+\\cdots+\\theta_{\\mathrm{n}} \\mathrm{x}_{\\mathrm{n}}=\\theta^{\\mathrm{T}} \\mathrm{x}$\n",
    "\n",
    "$\\theta$被统称为模型的参数，$\\theta_{0}$被称为截距（intercept），$\\theta_{1}$-$\\theta_{n}$被称为系数（coefficient）。\n",
    "\n",
    "逻辑回归算法的假设函数就是在线性回归的基础上加入了Sigmoid函数：$g(z)=\\frac{1}{1+e^{-z}}$，所以逻辑回归算法的假设函数为：\n",
    "\n",
    "$\\mathrm{y}(\\mathrm{x})=\\frac{1}{1+\\mathrm{e}^{-\\theta^{\\mathrm{T}} \\mathrm{x}}}$\n",
    "\n",
    "y(x)的形似几率对数：$\\ln (\\text { odds })=\\ln \\left(\\frac{y(x)}{1-y(x)}\\right)=\\theta^{T} x$。\n"
   ]
  },
  {
   "cell_type": "code",
   "execution_count": 114,
   "metadata": {},
   "outputs": [],
   "source": [
    "#准备训练数据\n",
    "x = model_woe.iloc[:,:-1]\n",
    "y = model_woe.iloc[:,-1]\n",
    "\n",
    "#准备测试数据\n",
    "vali_x = vali_woe.iloc[:,:-1]\n",
    "vali_y = vali_woe.iloc[:,-1]"
   ]
  },
  {
   "cell_type": "code",
   "execution_count": 115,
   "metadata": {},
   "outputs": [],
   "source": [
    "from sklearn.linear_model import LogisticRegression as LR\n",
    "lr = LR()"
   ]
  },
  {
   "cell_type": "code",
   "execution_count": 116,
   "metadata": {},
   "outputs": [
    {
     "data": {
      "text/plain": [
       "LogisticRegression(C=1.0, class_weight=None, dual=False, fit_intercept=True,\n",
       "                   intercept_scaling=1, l1_ratio=None, max_iter=100,\n",
       "                   multi_class='auto', n_jobs=None, penalty='l2',\n",
       "                   random_state=None, solver='lbfgs', tol=0.0001, verbose=0,\n",
       "                   warm_start=False)"
      ]
     },
     "execution_count": 116,
     "metadata": {},
     "output_type": "execute_result"
    }
   ],
   "source": [
    "lr.fit(x,y)"
   ]
  },
  {
   "cell_type": "code",
   "execution_count": 117,
   "metadata": {},
   "outputs": [
    {
     "data": {
      "text/plain": [
       "0.7689408442615104"
      ]
     },
     "execution_count": 117,
     "metadata": {},
     "output_type": "execute_result"
    }
   ],
   "source": [
    "lr.score(vali_x,vali_y)"
   ]
  },
  {
   "cell_type": "code",
   "execution_count": 118,
   "metadata": {},
   "outputs": [],
   "source": [
    "#从测试结果来看，模型的准确率并不高。如何提升模型的准确度呢？\n",
    "#可以通过尝试修改正则化参数来看看模型的性能\n",
    "c_1 = np.linspace(0.01,1,20)"
   ]
  },
  {
   "cell_type": "code",
   "execution_count": 119,
   "metadata": {},
   "outputs": [
    {
     "data": {
      "image/png": "[encoded data removed]",
      "text/plain": [
       "<Figure size 432x288 with 1 Axes>"
      ]
     },
     "metadata": {
      "needs_background": "light"
     },
     "output_type": "display_data"
    }
   ],
   "source": [
    "score = []\n",
    "for i in c_1:\n",
    "    lr_test = LR(solver='liblinear',C=i).fit(x,y)\n",
    "    score.append(lr_test.score(vali_x,vali_y))\n",
    "plt.figure()\n",
    "plt.plot(c_1,score)\n",
    "plt.show()"
   ]
  },
  {
   "cell_type": "code",
   "execution_count": 120,
   "metadata": {},
   "outputs": [
    {
     "data": {
      "text/plain": [
       "array([23])"
      ]
     },
     "execution_count": 120,
     "metadata": {},
     "output_type": "execute_result"
    }
   ],
   "source": [
    "#模型的迭代次数\n",
    "lr.n_iter_"
   ]
  },
  {
   "cell_type": "code",
   "execution_count": 121,
   "metadata": {},
   "outputs": [
    {
     "name": "stderr",
     "output_type": "stream",
     "text": [
      "D:\\conda\\envs\\py36\\lib\\site-packages\\sklearn\\svm\\_base.py:947: ConvergenceWarning: Liblinear failed to converge, increase the number of iterations.\n",
      "  \"the number of iterations.\", ConvergenceWarning)\n",
      "D:\\conda\\envs\\py36\\lib\\site-packages\\sklearn\\svm\\_base.py:947: ConvergenceWarning: Liblinear failed to converge, increase the number of iterations.\n",
      "  \"the number of iterations.\", ConvergenceWarning)\n",
      "D:\\conda\\envs\\py36\\lib\\site-packages\\sklearn\\svm\\_base.py:947: ConvergenceWarning: Liblinear failed to converge, increase the number of iterations.\n",
      "  \"the number of iterations.\", ConvergenceWarning)\n",
      "D:\\conda\\envs\\py36\\lib\\site-packages\\sklearn\\svm\\_base.py:947: ConvergenceWarning: Liblinear failed to converge, increase the number of iterations.\n",
      "  \"the number of iterations.\", ConvergenceWarning)\n",
      "D:\\conda\\envs\\py36\\lib\\site-packages\\sklearn\\svm\\_base.py:947: ConvergenceWarning: Liblinear failed to converge, increase the number of iterations.\n",
      "  \"the number of iterations.\", ConvergenceWarning)\n"
     ]
    },
    {
     "data": {
      "image/png": "[encoded data removed]",
      "text/plain": [
       "<Figure size 432x288 with 1 Axes>"
      ]
     },
     "metadata": {
      "needs_background": "light"
     },
     "output_type": "display_data"
    }
   ],
   "source": [
    "score = []\n",
    "for i in [1,2,3,4,5,6]:\n",
    "    lr_test = LR(solver='liblinear',C=0.03,max_iter=i).fit(x,y)\n",
    "    score.append(lr_test.score(vali_x,vali_y))\n",
    "    \n",
    "plt.figure()\n",
    "plt.plot([1,2,3,4,5,6],score)\n",
    "plt.show()"
   ]
  },
  {
   "cell_type": "code",
   "execution_count": 122,
   "metadata": {},
   "outputs": [],
   "source": [
    "import scikitplot as skplt"
   ]
  },
  {
   "cell_type": "code",
   "execution_count": 123,
   "metadata": {},
   "outputs": [
    {
     "data": {
      "text/plain": [
       "array([[0.12826281, 0.87173719],\n",
       "       [0.37199541, 0.62800459],\n",
       "       [0.76418281, 0.23581719],\n",
       "       ...,\n",
       "       [0.65134573, 0.34865427],\n",
       "       [0.788085  , 0.211915  ],\n",
       "       [0.61459587, 0.38540413]])"
      ]
     },
     "execution_count": 123,
     "metadata": {},
     "output_type": "execute_result"
    }
   ],
   "source": [
    "#某个标签为正例和负例的概率\n",
    "lr.predict_proba(vali_x)"
   ]
  },
  {
   "cell_type": "code",
   "execution_count": 124,
   "metadata": {},
   "outputs": [],
   "source": [
    "vali_proba_df = pd.DataFrame(lr.predict_proba(vali_x))"
   ]
  },
  {
   "cell_type": "code",
   "execution_count": 125,
   "metadata": {},
   "outputs": [
    {
     "data": {
      "text/html": [
       "<div>\n",
       "<style scoped>\n",
       "    .dataframe tbody tr th:only-of-type {\n",
       "        vertical-align: middle;\n",
       "    }\n",
       "\n",
       "    .dataframe tbody tr th {\n",
       "        vertical-align: top;\n",
       "    }\n",
       "\n",
       "    .dataframe thead th {\n",
       "        text-align: right;\n",
       "    }\n",
       "</style>\n",
       "<table border=\"1\" class=\"dataframe\">\n",
       "  <thead>\n",
       "    <tr style=\"text-align: right;\">\n",
       "      <th></th>\n",
       "      <th>0</th>\n",
       "      <th>1</th>\n",
       "    </tr>\n",
       "  </thead>\n",
       "  <tbody>\n",
       "    <tr>\n",
       "      <th>0</th>\n",
       "      <td>0.128263</td>\n",
       "      <td>0.871737</td>\n",
       "    </tr>\n",
       "    <tr>\n",
       "      <th>1</th>\n",
       "      <td>0.371995</td>\n",
       "      <td>0.628005</td>\n",
       "    </tr>\n",
       "    <tr>\n",
       "      <th>2</th>\n",
       "      <td>0.764183</td>\n",
       "      <td>0.235817</td>\n",
       "    </tr>\n",
       "    <tr>\n",
       "      <th>3</th>\n",
       "      <td>0.364497</td>\n",
       "      <td>0.635503</td>\n",
       "    </tr>\n",
       "    <tr>\n",
       "      <th>4</th>\n",
       "      <td>0.098553</td>\n",
       "      <td>0.901447</td>\n",
       "    </tr>\n",
       "    <tr>\n",
       "      <th>...</th>\n",
       "      <td>...</td>\n",
       "      <td>...</td>\n",
       "    </tr>\n",
       "    <tr>\n",
       "      <th>83571</th>\n",
       "      <td>0.789096</td>\n",
       "      <td>0.210904</td>\n",
       "    </tr>\n",
       "    <tr>\n",
       "      <th>83572</th>\n",
       "      <td>0.939043</td>\n",
       "      <td>0.060957</td>\n",
       "    </tr>\n",
       "    <tr>\n",
       "      <th>83573</th>\n",
       "      <td>0.651346</td>\n",
       "      <td>0.348654</td>\n",
       "    </tr>\n",
       "    <tr>\n",
       "      <th>83574</th>\n",
       "      <td>0.788085</td>\n",
       "      <td>0.211915</td>\n",
       "    </tr>\n",
       "    <tr>\n",
       "      <th>83575</th>\n",
       "      <td>0.614596</td>\n",
       "      <td>0.385404</td>\n",
       "    </tr>\n",
       "  </tbody>\n",
       "</table>\n",
       "<p>83576 rows × 2 columns</p>\n",
       "</div>"
      ],
      "text/plain": [
       "              0         1\n",
       "0      0.128263  0.871737\n",
       "1      0.371995  0.628005\n",
       "2      0.764183  0.235817\n",
       "3      0.364497  0.635503\n",
       "4      0.098553  0.901447\n",
       "...         ...       ...\n",
       "83571  0.789096  0.210904\n",
       "83572  0.939043  0.060957\n",
       "83573  0.651346  0.348654\n",
       "83574  0.788085  0.211915\n",
       "83575  0.614596  0.385404\n",
       "\n",
       "[83576 rows x 2 columns]"
      ]
     },
     "execution_count": 125,
     "metadata": {},
     "output_type": "execute_result"
    }
   ],
   "source": [
    "vali_proba_df"
   ]
  },
  {
   "cell_type": "code",
   "execution_count": 126,
   "metadata": {},
   "outputs": [
    {
     "data": {
      "text/plain": [
       "<matplotlib.axes._subplots.AxesSubplot at 0x18d1ccf8>"
      ]
     },
     "execution_count": 126,
     "metadata": {},
     "output_type": "execute_result"
    },
    {
     "data": {
      "image/png": "[encoded data removed]",
      "text/plain": [
       "<Figure size 432x432 with 1 Axes>"
      ]
     },
     "metadata": {
      "needs_background": "light"
     },
     "output_type": "display_data"
    }
   ],
   "source": [
    "skplt.metrics.plot_roc(vali_y,\n",
    "                       vali_proba_df,\n",
    "                       plot_micro=False,\n",
    "                       figsize=(6,6),\n",
    "                       plot_macro=False\n",
    "                      )"
   ]
  },
  {
   "cell_type": "markdown",
   "metadata": {},
   "source": [
    "## 5 制作评分卡\n",
    "\n",
    "建模完毕，我们使用准确率和ROC曲线验证了模型的预测能力。接下来要将逻辑回归转换为标准评分卡。评分卡中的分数由下面的公式计算：Score=A-B*log⁡(odds)。\n",
    "\n",
    "其中，A叫做“补偿”，B叫做“刻度”，log(odds)代表了一个人违约的可能性。逻辑回归的结果取对数几率的形式就会得到$\\theta^{\\mathrm{T}} \\mathrm{x}$，即模型的参数*特征矩阵，所以log(odds)其实就是我们的参数。两个常数可以通过两个假设的分值代入公式求出，这两个假设分别是：\n",
    "\n",
    "1.某个特定的违约概率下的预期分值  \n",
    "2.指定的违约概率翻倍的分数(PDO)  \n",
    "\n",
    "例如，假设对数几率为1/60时设定的分数为600，PDO=20,那么对数几率为1/30时的分数就是620。将这两组数据代入到评分卡的数学表达式中，可以得到：\n",
    "\n",
    "$600=A-B * \\log \\left(\\frac{1}{60}\\right)$\n",
    "\n",
    "$620=A-B * \\log \\left(\\frac{1}{30}\\right)$\n",
    "\n",
    "\n"
   ]
  },
  {
   "cell_type": "code",
   "execution_count": 127,
   "metadata": {},
   "outputs": [],
   "source": [
    "B = 20 / np.log(2)\n",
    "A = 600 + B * np.log(1/60)"
   ]
  },
  {
   "cell_type": "code",
   "execution_count": 128,
   "metadata": {},
   "outputs": [
    {
     "data": {
      "text/plain": [
       "(28.85390081777927, 481.8621880878296)"
      ]
     },
     "execution_count": 128,
     "metadata": {},
     "output_type": "execute_result"
    }
   ],
   "source": [
    "B,A"
   ]
  },
  {
   "cell_type": "markdown",
   "metadata": {},
   "source": [
    "有了A和B，分数就很容易得到了。其中不受评分卡中各个特征影响的基础分就是将模型中的截距作为log(odds)代入公式进行计算。而其他各个特征各个分档的分数也是将相应的系数代入进行计算。"
   ]
  },
  {
   "cell_type": "code",
   "execution_count": 129,
   "metadata": {},
   "outputs": [
    {
     "data": {
      "text/plain": [
       "array([0.0115637])"
      ]
     },
     "execution_count": 129,
     "metadata": {},
     "output_type": "execute_result"
    }
   ],
   "source": [
    "#截距\n",
    "lr.intercept_"
   ]
  },
  {
   "cell_type": "code",
   "execution_count": 130,
   "metadata": {},
   "outputs": [
    {
     "data": {
      "text/plain": [
       "array([481.5285301])"
      ]
     },
     "execution_count": 130,
     "metadata": {},
     "output_type": "execute_result"
    }
   ],
   "source": [
    "#基础分\n",
    "base_score = A - B * lr.intercept_\n",
    "base_score"
   ]
  },
  {
   "cell_type": "code",
   "execution_count": 131,
   "metadata": {},
   "outputs": [
    {
     "data": {
      "text/plain": [
       "cut\n",
       "(-inf, 36.0]   -0.521393\n",
       "(36.0, 52.0]   -0.302601\n",
       "(52.0, 61.0]    0.150285\n",
       "(61.0, 74.0]    1.017472\n",
       "(74.0, inf]     1.723817\n",
       "dtype: float64"
      ]
     },
     "execution_count": 131,
     "metadata": {},
     "output_type": "execute_result"
    }
   ],
   "source": [
    "#得到某一个特征所对应的分数，以'age'为例\n",
    "\n",
    "woeall['age']"
   ]
  },
  {
   "cell_type": "code",
   "execution_count": 132,
   "metadata": {},
   "outputs": [
    {
     "data": {
      "text/plain": [
       "array([[-0.36867239, -0.76340849, -0.92682476, -0.43870998,  0.33654074,\n",
       "        -0.58586782, -0.59728913, -1.0429244 , -0.30978663, -0.85744061]])"
      ]
     },
     "execution_count": 132,
     "metadata": {},
     "output_type": "execute_result"
    }
   ],
   "source": [
    "#模型的系数\n",
    "lr.coef_"
   ]
  },
  {
   "cell_type": "code",
   "execution_count": 133,
   "metadata": {},
   "outputs": [
    {
     "data": {
      "text/plain": [
       "Index(['age', 'RevolvingUtilizationOfUnsecuredLines', 'DebtRatio',\n",
       "       'MonthlyIncome', 'NumberOfOpenCreditLinesAndLoans',\n",
       "       'NumberOfTime30-59DaysPastDueNotWorse', 'NumberOfTimes90DaysLate',\n",
       "       'NumberRealEstateLoansOrLines', 'NumberOfTime60-89DaysPastDueNotWorse',\n",
       "       'NumberOfDependents'],\n",
       "      dtype='object')"
      ]
     },
     "execution_count": 133,
     "metadata": {},
     "output_type": "execute_result"
    }
   ],
   "source": [
    "x.columns"
   ]
  },
  {
   "cell_type": "code",
   "execution_count": 134,
   "metadata": {},
   "outputs": [
    {
     "data": {
      "text/plain": [
       "-0.3686723925869072"
      ]
     },
     "execution_count": 134,
     "metadata": {},
     "output_type": "execute_result"
    }
   ],
   "source": [
    "#'age'所对应的系数\n",
    "lr.coef_[0][0]"
   ]
  },
  {
   "cell_type": "code",
   "execution_count": 135,
   "metadata": {},
   "outputs": [
    {
     "data": {
      "text/plain": [
       "cut\n",
       "(-inf, 36.0]   -11.484892\n",
       "(36.0, 52.0]    -6.665491\n",
       "(52.0, 61.0]     3.310381\n",
       "(61.0, 74.0]    22.412181\n",
       "(74.0, inf]     37.971058\n",
       "dtype: float64"
      ]
     },
     "execution_count": 135,
     "metadata": {},
     "output_type": "execute_result"
    }
   ],
   "source": [
    "score_age = woeall['age'] * (-B*lr.coef_[0][1])\n",
    "score_age"
   ]
  },
  {
   "cell_type": "code",
   "execution_count": 142,
   "metadata": {},
   "outputs": [],
   "source": [
    "# #我们可以通过循环，将所有特征的评分卡内容全部一次性的写入一个本地文件ScoreData.csv\n",
    "\n",
    "file = \"D:\\DataSet\\GiveMeSomeCredit\\ScoreData.csv\"\n",
    "\n",
    "with open(file,\"w\") as fdata:\n",
    "    fdata.write(\"base_score,{}\\n\".format(base_score))\n",
    "    "
   ]
  },
  {
   "cell_type": "code",
   "execution_count": 143,
   "metadata": {},
   "outputs": [
    {
     "data": {
      "text/plain": [
       "[(0, 'age'),\n",
       " (1, 'RevolvingUtilizationOfUnsecuredLines'),\n",
       " (2, 'DebtRatio'),\n",
       " (3, 'MonthlyIncome'),\n",
       " (4, 'NumberOfOpenCreditLinesAndLoans'),\n",
       " (5, 'NumberOfTime30-59DaysPastDueNotWorse'),\n",
       " (6, 'NumberOfTimes90DaysLate'),\n",
       " (7, 'NumberRealEstateLoansOrLines'),\n",
       " (8, 'NumberOfTime60-89DaysPastDueNotWorse'),\n",
       " (9, 'NumberOfDependents')]"
      ]
     },
     "execution_count": 143,
     "metadata": {},
     "output_type": "execute_result"
    }
   ],
   "source": [
    "[*enumerate(x.columns)]"
   ]
  },
  {
   "cell_type": "code",
   "execution_count": 144,
   "metadata": {},
   "outputs": [],
   "source": [
    "for i,col in enumerate(x.columns):\n",
    "    score = woeall[col] * (-B*lr.coef_[0][i])\n",
    "    score.name = \"Score\"\n",
    "    score.index.name = col\n",
    "    score.to_csv(file,header=True,mode=\"a\")"
   ]
  },
  {
   "cell_type": "code",
   "execution_count": null,
   "metadata": {},
   "outputs": [],
   "source": []
  }
 ],
 "metadata": {
  "kernelspec": {
   "display_name": "Python 3",
   "language": "python",
   "name": "python3"
  },
  "language_info": {
   "codemirror_mode": {
    "name": "ipython",
    "version": 3
   },
   "file_extension": ".py",
   "mimetype": "text/x-python",
   "name": "python",
   "nbconvert_exporter": "python",
   "pygments_lexer": "ipython3",
   "version": "3.6.10"
  }
 },
 "nbformat": 4,
 "nbformat_minor": 4
}

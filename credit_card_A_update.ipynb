{
 "cells": [
  {
   "cell_type": "markdown",
   "metadata": {},
   "source": [
    "## 用逻辑回归制作评分卡\n",
    "\n",
    "在银行借贷场景中，评分卡是以分数形式来衡量一个客户信用风险大小的手段，它衡量想向别人借钱的人如果不能\n",
    "如期履行合同中的还本付息责任，并让借钱给别人的人造成经济损失的可能性。一般来说，评分卡打出的分数越高，\n",
    "客户的信用越好，风险越小。\n",
    "\n",
    "借钱的实体可能是指个人，也可能是指公司和企业。对于企业来说，按照融资企业的融资用途分别使用企业融资模型、现金流融资模型、项目融资模型等模型。而对于个人来说，我们有四张卡来评估个人的信用程度：A卡、B卡、C卡、F卡。A卡被称为申请评分卡或者申请者评级模型，用来帮助金融机构来判断是否应该借钱给一个新用户。如果某一个人风险太高，我们就可以拒绝贷款"
   ]
  },
  {
   "cell_type": "markdown",
   "metadata": {},
   "source": [
    "## 1 导库、读取数据、理解数据"
   ]
  },
  {
   "cell_type": "code",
   "execution_count": 1,
   "metadata": {},
   "outputs": [],
   "source": [
    "import numpy as np\n",
    "import pandas as pd\n",
    "from sklearn.linear_model import LogisticRegression as LR\n",
    "import matplotlib.pyplot as plt\n",
    "%matplotlib inline"
   ]
  },
  {
   "cell_type": "code",
   "execution_count": 2,
   "metadata": {},
   "outputs": [],
   "source": [
    "data = pd.read_csv(r\"D:\\DataSet\\GiveMeSomeCredit\\cs-training.csv\",index_col=0)"
   ]
  },
  {
   "cell_type": "code",
   "execution_count": 3,
   "metadata": {},
   "outputs": [
    {
     "data": {
      "text/html": [
       "<div>\n",
       "<style scoped>\n",
       "    .dataframe tbody tr th:only-of-type {\n",
       "        vertical-align: middle;\n",
       "    }\n",
       "\n",
       "    .dataframe tbody tr th {\n",
       "        vertical-align: top;\n",
       "    }\n",
       "\n",
       "    .dataframe thead th {\n",
       "        text-align: right;\n",
       "    }\n",
       "</style>\n",
       "<table border=\"1\" class=\"dataframe\">\n",
       "  <thead>\n",
       "    <tr style=\"text-align: right;\">\n",
       "      <th></th>\n",
       "      <th>SeriousDlqin2yrs</th>\n",
       "      <th>RevolvingUtilizationOfUnsecuredLines</th>\n",
       "      <th>age</th>\n",
       "      <th>NumberOfTime30-59DaysPastDueNotWorse</th>\n",
       "      <th>DebtRatio</th>\n",
       "      <th>MonthlyIncome</th>\n",
       "      <th>NumberOfOpenCreditLinesAndLoans</th>\n",
       "      <th>NumberOfTimes90DaysLate</th>\n",
       "      <th>NumberRealEstateLoansOrLines</th>\n",
       "      <th>NumberOfTime60-89DaysPastDueNotWorse</th>\n",
       "      <th>NumberOfDependents</th>\n",
       "    </tr>\n",
       "  </thead>\n",
       "  <tbody>\n",
       "    <tr>\n",
       "      <th>1</th>\n",
       "      <td>1</td>\n",
       "      <td>0.766127</td>\n",
       "      <td>45</td>\n",
       "      <td>2</td>\n",
       "      <td>0.802982</td>\n",
       "      <td>9120.0</td>\n",
       "      <td>13</td>\n",
       "      <td>0</td>\n",
       "      <td>6</td>\n",
       "      <td>0</td>\n",
       "      <td>2.0</td>\n",
       "    </tr>\n",
       "    <tr>\n",
       "      <th>2</th>\n",
       "      <td>0</td>\n",
       "      <td>0.957151</td>\n",
       "      <td>40</td>\n",
       "      <td>0</td>\n",
       "      <td>0.121876</td>\n",
       "      <td>2600.0</td>\n",
       "      <td>4</td>\n",
       "      <td>0</td>\n",
       "      <td>0</td>\n",
       "      <td>0</td>\n",
       "      <td>1.0</td>\n",
       "    </tr>\n",
       "    <tr>\n",
       "      <th>3</th>\n",
       "      <td>0</td>\n",
       "      <td>0.658180</td>\n",
       "      <td>38</td>\n",
       "      <td>1</td>\n",
       "      <td>0.085113</td>\n",
       "      <td>3042.0</td>\n",
       "      <td>2</td>\n",
       "      <td>1</td>\n",
       "      <td>0</td>\n",
       "      <td>0</td>\n",
       "      <td>0.0</td>\n",
       "    </tr>\n",
       "    <tr>\n",
       "      <th>4</th>\n",
       "      <td>0</td>\n",
       "      <td>0.233810</td>\n",
       "      <td>30</td>\n",
       "      <td>0</td>\n",
       "      <td>0.036050</td>\n",
       "      <td>3300.0</td>\n",
       "      <td>5</td>\n",
       "      <td>0</td>\n",
       "      <td>0</td>\n",
       "      <td>0</td>\n",
       "      <td>0.0</td>\n",
       "    </tr>\n",
       "    <tr>\n",
       "      <th>5</th>\n",
       "      <td>0</td>\n",
       "      <td>0.907239</td>\n",
       "      <td>49</td>\n",
       "      <td>1</td>\n",
       "      <td>0.024926</td>\n",
       "      <td>63588.0</td>\n",
       "      <td>7</td>\n",
       "      <td>0</td>\n",
       "      <td>1</td>\n",
       "      <td>0</td>\n",
       "      <td>0.0</td>\n",
       "    </tr>\n",
       "  </tbody>\n",
       "</table>\n",
       "</div>"
      ],
      "text/plain": [
       "   SeriousDlqin2yrs  RevolvingUtilizationOfUnsecuredLines  age  \\\n",
       "1                 1                              0.766127   45   \n",
       "2                 0                              0.957151   40   \n",
       "3                 0                              0.658180   38   \n",
       "4                 0                              0.233810   30   \n",
       "5                 0                              0.907239   49   \n",
       "\n",
       "   NumberOfTime30-59DaysPastDueNotWorse  DebtRatio  MonthlyIncome  \\\n",
       "1                                     2   0.802982         9120.0   \n",
       "2                                     0   0.121876         2600.0   \n",
       "3                                     1   0.085113         3042.0   \n",
       "4                                     0   0.036050         3300.0   \n",
       "5                                     1   0.024926        63588.0   \n",
       "\n",
       "   NumberOfOpenCreditLinesAndLoans  NumberOfTimes90DaysLate  \\\n",
       "1                               13                        0   \n",
       "2                                4                        0   \n",
       "3                                2                        1   \n",
       "4                                5                        0   \n",
       "5                                7                        0   \n",
       "\n",
       "   NumberRealEstateLoansOrLines  NumberOfTime60-89DaysPastDueNotWorse  \\\n",
       "1                             6                                     0   \n",
       "2                             0                                     0   \n",
       "3                             0                                     0   \n",
       "4                             0                                     0   \n",
       "5                             1                                     0   \n",
       "\n",
       "   NumberOfDependents  \n",
       "1                 2.0  \n",
       "2                 1.0  \n",
       "3                 0.0  \n",
       "4                 0.0  \n",
       "5                 0.0  "
      ]
     },
     "execution_count": 3,
     "metadata": {},
     "output_type": "execute_result"
    }
   ],
   "source": [
    "data.head()"
   ]
  },
  {
   "cell_type": "markdown",
   "metadata": {},
   "source": [
    "每一个字段的含义：  \n",
    "\n",
    "| 字段     | 字段的含义   |\n",
    "|------  |------|\n",
    "| SeriousDlqin2yrs | 出现90天或更长时间的逾期行为|\n",
    "| RevolvingUtilizationOfUnsecuredLines  | 信用卡和个人可用额度的总和与信用限额之比 |\n",
    "| age  | 借款人年龄|\n",
    "| NumberOfTime30-59DaysPastDueNotWorse | 近两年内出现逾期35-59天的次数|\n",
    "| DebtRatio  | 每月偿还债务，赡养费，生活费用除以当月总收入|\n",
    "| MonthlyIncome  | 月收入|\n",
    "| NumberOfOpenCreditLinesAndLoans  | 未偿还的贷款或信用额度的数量|\n",
    "| NumberOfTimes90DaysLate  | 近两年内出现90天逾期或更坏的次数|\n",
    "| NumberRealEstateLoansOrLines  | 抵押贷款和房地产贷款数量，包括房屋净值信贷额度|\n",
    "| NumberOfTime60-89DaysPastDueNotWorse  | 近两年内出现60-89天逾期的次数|\n",
    "| NumberOfDependents  | 家庭中不包括自身的家属人数（配偶、子女等）|"
   ]
  },
  {
   "cell_type": "markdown",
   "metadata": {},
   "source": [
    "## 2 数据预处理"
   ]
  },
  {
   "cell_type": "code",
   "execution_count": 4,
   "metadata": {},
   "outputs": [
    {
     "data": {
      "text/plain": [
       "(150000, 11)"
      ]
     },
     "execution_count": 4,
     "metadata": {},
     "output_type": "execute_result"
    }
   ],
   "source": [
    "#查看数据的形状\n",
    "data.shape"
   ]
  },
  {
   "cell_type": "code",
   "execution_count": 5,
   "metadata": {},
   "outputs": [
    {
     "name": "stdout",
     "output_type": "stream",
     "text": [
      "<class 'pandas.core.frame.DataFrame'>\n",
      "Int64Index: 150000 entries, 1 to 150000\n",
      "Data columns (total 11 columns):\n",
      " #   Column                                Non-Null Count   Dtype  \n",
      "---  ------                                --------------   -----  \n",
      " 0   SeriousDlqin2yrs                      150000 non-null  int64  \n",
      " 1   RevolvingUtilizationOfUnsecuredLines  150000 non-null  float64\n",
      " 2   age                                   150000 non-null  int64  \n",
      " 3   NumberOfTime30-59DaysPastDueNotWorse  150000 non-null  int64  \n",
      " 4   DebtRatio                             150000 non-null  float64\n",
      " 5   MonthlyIncome                         120269 non-null  float64\n",
      " 6   NumberOfOpenCreditLinesAndLoans       150000 non-null  int64  \n",
      " 7   NumberOfTimes90DaysLate               150000 non-null  int64  \n",
      " 8   NumberRealEstateLoansOrLines          150000 non-null  int64  \n",
      " 9   NumberOfTime60-89DaysPastDueNotWorse  150000 non-null  int64  \n",
      " 10  NumberOfDependents                    146076 non-null  float64\n",
      "dtypes: float64(4), int64(7)\n",
      "memory usage: 13.7 MB\n"
     ]
    }
   ],
   "source": [
    "#查看数据集中每个字段的信息\n",
    "data.info()"
   ]
  },
  {
   "cell_type": "markdown",
   "metadata": {},
   "source": [
    "### 2.1 重复值的处理"
   ]
  },
  {
   "cell_type": "code",
   "execution_count": 6,
   "metadata": {},
   "outputs": [
    {
     "data": {
      "text/plain": [
       "609"
      ]
     },
     "execution_count": 6,
     "metadata": {},
     "output_type": "execute_result"
    }
   ],
   "source": [
    "#检查数据中重复值的存在情况\n",
    "data.duplicated().sum()"
   ]
  },
  {
   "cell_type": "code",
   "execution_count": 7,
   "metadata": {},
   "outputs": [],
   "source": [
    "#过滤重复值\n",
    "data.drop_duplicates(inplace=True)"
   ]
  },
  {
   "cell_type": "code",
   "execution_count": 8,
   "metadata": {},
   "outputs": [
    {
     "data": {
      "text/plain": [
       "0"
      ]
     },
     "execution_count": 8,
     "metadata": {},
     "output_type": "execute_result"
    }
   ],
   "source": [
    "#检查过滤效果\n",
    "data.duplicated().sum()"
   ]
  },
  {
   "cell_type": "code",
   "execution_count": 9,
   "metadata": {},
   "outputs": [],
   "source": [
    "#删除重复值后，需要重新恢复索引\n",
    "data.index = range(data.shape[0])"
   ]
  },
  {
   "cell_type": "code",
   "execution_count": 10,
   "metadata": {},
   "outputs": [
    {
     "name": "stdout",
     "output_type": "stream",
     "text": [
      "<class 'pandas.core.frame.DataFrame'>\n",
      "RangeIndex: 149391 entries, 0 to 149390\n",
      "Data columns (total 11 columns):\n",
      " #   Column                                Non-Null Count   Dtype  \n",
      "---  ------                                --------------   -----  \n",
      " 0   SeriousDlqin2yrs                      149391 non-null  int64  \n",
      " 1   RevolvingUtilizationOfUnsecuredLines  149391 non-null  float64\n",
      " 2   age                                   149391 non-null  int64  \n",
      " 3   NumberOfTime30-59DaysPastDueNotWorse  149391 non-null  int64  \n",
      " 4   DebtRatio                             149391 non-null  float64\n",
      " 5   MonthlyIncome                         120170 non-null  float64\n",
      " 6   NumberOfOpenCreditLinesAndLoans       149391 non-null  int64  \n",
      " 7   NumberOfTimes90DaysLate               149391 non-null  int64  \n",
      " 8   NumberRealEstateLoansOrLines          149391 non-null  int64  \n",
      " 9   NumberOfTime60-89DaysPastDueNotWorse  149391 non-null  int64  \n",
      " 10  NumberOfDependents                    145563 non-null  float64\n",
      "dtypes: float64(4), int64(7)\n",
      "memory usage: 12.5 MB\n"
     ]
    }
   ],
   "source": [
    "#最后在检查一下数据的信息，看看索引有没有正确恢复\n",
    "data.info()"
   ]
  },
  {
   "cell_type": "markdown",
   "metadata": {},
   "source": [
    "### 2.2 缺失值的处理"
   ]
  },
  {
   "cell_type": "code",
   "execution_count": 11,
   "metadata": {},
   "outputs": [
    {
     "data": {
      "text/plain": [
       "SeriousDlqin2yrs                            0\n",
       "RevolvingUtilizationOfUnsecuredLines        0\n",
       "age                                         0\n",
       "NumberOfTime30-59DaysPastDueNotWorse        0\n",
       "DebtRatio                                   0\n",
       "MonthlyIncome                           29221\n",
       "NumberOfOpenCreditLinesAndLoans             0\n",
       "NumberOfTimes90DaysLate                     0\n",
       "NumberRealEstateLoansOrLines                0\n",
       "NumberOfTime60-89DaysPastDueNotWorse        0\n",
       "NumberOfDependents                       3828\n",
       "dtype: int64"
      ]
     },
     "execution_count": 11,
     "metadata": {},
     "output_type": "execute_result"
    }
   ],
   "source": [
    "#检查数据集中每一个字段的数据缺失情况\n",
    "data.isnull().sum()"
   ]
  },
  {
   "cell_type": "code",
   "execution_count": 12,
   "metadata": {},
   "outputs": [
    {
     "data": {
      "text/plain": [
       "SeriousDlqin2yrs                        0.000000\n",
       "RevolvingUtilizationOfUnsecuredLines    0.000000\n",
       "age                                     0.000000\n",
       "NumberOfTime30-59DaysPastDueNotWorse    0.000000\n",
       "DebtRatio                               0.000000\n",
       "MonthlyIncome                           0.195601\n",
       "NumberOfOpenCreditLinesAndLoans         0.000000\n",
       "NumberOfTimes90DaysLate                 0.000000\n",
       "NumberRealEstateLoansOrLines            0.000000\n",
       "NumberOfTime60-89DaysPastDueNotWorse    0.000000\n",
       "NumberOfDependents                      0.025624\n",
       "dtype: float64"
      ]
     },
     "execution_count": 12,
     "metadata": {},
     "output_type": "execute_result"
    }
   ],
   "source": [
    "data.isnull().sum()/data.shape[0]"
   ]
  },
  {
   "cell_type": "markdown",
   "metadata": {},
   "source": [
    "从上面可以看到，MonthlyIncome和NumberOfDependents这两个字段存在缺失值。\n",
    "\n",
    "NumberOfDependents字段的缺失率较小，大概只有2.5%，可以考虑之间删除或者用均值来填补。\n",
    "\n",
    "MonthlyIncome字段缺失了几乎20%，并且收入对于信用评分来讲是一个很重要的因素，这个特征必须要填补。    \n",
    "对于银行数据，我们可以有这样的推断：高收入或者稳定收入对于申请贷款是很有帮助的。如果是一个收入稳定良好的人，肯定会倾向于写上自己的收入情况，那么这些收入字段缺失的人，更可能是收入状况不稳定或者收入比较低的人。所以，我们可以采用四分位数来填补缺失值，把所有收入字段为空的客户都当成低收入群体。当然，也有可能这些缺失是银行数据收集过程中的失误导致的。具体采用什么样的手段来填补缺失值，要和业务人员沟通，观察缺失值是如何产生的。在这里，我们采用随机森林来填补缺失值。"
   ]
  },
  {
   "cell_type": "code",
   "execution_count": 13,
   "metadata": {},
   "outputs": [],
   "source": [
    "#使用均值来填补NumberOfDependents字段的缺失值\n",
    "a = data['NumberOfDependents'].mean()\n",
    "data['NumberOfDependents'].fillna(a,inplace=True)"
   ]
  },
  {
   "cell_type": "code",
   "execution_count": 14,
   "metadata": {},
   "outputs": [
    {
     "name": "stdout",
     "output_type": "stream",
     "text": [
      "<class 'pandas.core.frame.DataFrame'>\n",
      "RangeIndex: 149391 entries, 0 to 149390\n",
      "Data columns (total 11 columns):\n",
      " #   Column                                Non-Null Count   Dtype  \n",
      "---  ------                                --------------   -----  \n",
      " 0   SeriousDlqin2yrs                      149391 non-null  int64  \n",
      " 1   RevolvingUtilizationOfUnsecuredLines  149391 non-null  float64\n",
      " 2   age                                   149391 non-null  int64  \n",
      " 3   NumberOfTime30-59DaysPastDueNotWorse  149391 non-null  int64  \n",
      " 4   DebtRatio                             149391 non-null  float64\n",
      " 5   MonthlyIncome                         120170 non-null  float64\n",
      " 6   NumberOfOpenCreditLinesAndLoans       149391 non-null  int64  \n",
      " 7   NumberOfTimes90DaysLate               149391 non-null  int64  \n",
      " 8   NumberRealEstateLoansOrLines          149391 non-null  int64  \n",
      " 9   NumberOfTime60-89DaysPastDueNotWorse  149391 non-null  int64  \n",
      " 10  NumberOfDependents                    149391 non-null  float64\n",
      "dtypes: float64(4), int64(7)\n",
      "memory usage: 12.5 MB\n"
     ]
    }
   ],
   "source": [
    "#检查填充情况\n",
    "data.info()"
   ]
  },
  {
   "cell_type": "code",
   "execution_count": 15,
   "metadata": {},
   "outputs": [],
   "source": [
    "#利用随机森林来填补收入字段\n",
    "#这种做法，对于某一个特征大量缺失，但是其他特征却很完整的情况比较适用\n",
    "def fill_missing_rf(X,y,to_fill):\n",
    "    \"\"\"\n",
    "    X：要填补的特征矩阵\n",
    "    y：完整的、没有缺失值的标签\n",
    "    to_fill：要填补的那一列的名称\n",
    "    \"\"\"\n",
    "    \n",
    "    #构建新的特征矩阵和标签\n",
    "    df = X.copy()\n",
    "    fill = df.loc[:,to_fill]\n",
    "    df = pd.concat([df.loc[:,df.columns != to_fill],pd.DataFrame(y)],axis=1)\n",
    "    \n",
    "    #找出训练集与测试集\n",
    "    Ytrain = fill[fill.notnull()]\n",
    "    Ytest = fill[fill.isnull()]\n",
    "    Xtrain = df.iloc[Ytrain.index,:]\n",
    "    Xtest = df.iloc[Ytest.index,:]\n",
    "    \n",
    "    #利用随机森林来填补缺失值\n",
    "    from sklearn.ensemble import RandomForestRegressor as rfr\n",
    "    rfr = rfr(n_estimators=100).fit(Xtrain,Ytrain)\n",
    "    Ypredict = rfr.predict(Xtest)\n",
    "    \n",
    "    return Ypredict"
   ]
  },
  {
   "cell_type": "code",
   "execution_count": 16,
   "metadata": {},
   "outputs": [],
   "source": [
    "#准备数据\n",
    "X = data.iloc[:,1:]\n",
    "y = data['SeriousDlqin2yrs']"
   ]
  },
  {
   "cell_type": "code",
   "execution_count": 17,
   "metadata": {},
   "outputs": [
    {
     "data": {
      "text/plain": [
       "array([0.19, 0.39, 0.08, ..., 0.22, 0.08, 0.  ])"
      ]
     },
     "execution_count": 17,
     "metadata": {},
     "output_type": "execute_result"
    }
   ],
   "source": [
    "#得到随机森林模型的预测值\n",
    "y_pred = fill_missing_rf(X,y,'MonthlyIncome')\n",
    "y_pred"
   ]
  },
  {
   "cell_type": "code",
   "execution_count": 18,
   "metadata": {},
   "outputs": [],
   "source": [
    "#使用预测值填充缺失值\n",
    "data.loc[data.loc[:,'MonthlyIncome'].isnull(),'MonthlyIncome'] = y_pred"
   ]
  },
  {
   "cell_type": "code",
   "execution_count": 19,
   "metadata": {},
   "outputs": [
    {
     "name": "stdout",
     "output_type": "stream",
     "text": [
      "<class 'pandas.core.frame.DataFrame'>\n",
      "RangeIndex: 149391 entries, 0 to 149390\n",
      "Data columns (total 11 columns):\n",
      " #   Column                                Non-Null Count   Dtype  \n",
      "---  ------                                --------------   -----  \n",
      " 0   SeriousDlqin2yrs                      149391 non-null  int64  \n",
      " 1   RevolvingUtilizationOfUnsecuredLines  149391 non-null  float64\n",
      " 2   age                                   149391 non-null  int64  \n",
      " 3   NumberOfTime30-59DaysPastDueNotWorse  149391 non-null  int64  \n",
      " 4   DebtRatio                             149391 non-null  float64\n",
      " 5   MonthlyIncome                         149391 non-null  float64\n",
      " 6   NumberOfOpenCreditLinesAndLoans       149391 non-null  int64  \n",
      " 7   NumberOfTimes90DaysLate               149391 non-null  int64  \n",
      " 8   NumberRealEstateLoansOrLines          149391 non-null  int64  \n",
      " 9   NumberOfTime60-89DaysPastDueNotWorse  149391 non-null  int64  \n",
      " 10  NumberOfDependents                    149391 non-null  float64\n",
      "dtypes: float64(4), int64(7)\n",
      "memory usage: 12.5 MB\n"
     ]
    }
   ],
   "source": [
    "#再次检查缺失值的情况\n",
    "data.info()"
   ]
  },
  {
   "cell_type": "markdown",
   "metadata": {},
   "source": [
    "### 2.3 利用描述性统计来处理异常值\n",
    "\n",
    "现实数据中总是存在一些异常值，我们要把这些异常值捕捉出来，然后观察他们的性质。有时候，我们可能是要将这些异常值去除，而有些时候异常值则是我们的重点研究对象。\n",
    "\n",
    "日常处理异常值，往往使用箱型图或者3sigma法则来寻找异常值。\n",
    "\n",
    "具体到银行数据中，在特征量有限的情况下，我们往往使用描述性统计方法来观察数据的异常以及数据的分布情况。"
   ]
  },
  {
   "cell_type": "code",
   "execution_count": 20,
   "metadata": {
    "scrolled": true
   },
   "outputs": [
    {
     "data": {
      "text/html": [
       "<div>\n",
       "<style scoped>\n",
       "    .dataframe tbody tr th:only-of-type {\n",
       "        vertical-align: middle;\n",
       "    }\n",
       "\n",
       "    .dataframe tbody tr th {\n",
       "        vertical-align: top;\n",
       "    }\n",
       "\n",
       "    .dataframe thead th {\n",
       "        text-align: right;\n",
       "    }\n",
       "</style>\n",
       "<table border=\"1\" class=\"dataframe\">\n",
       "  <thead>\n",
       "    <tr style=\"text-align: right;\">\n",
       "      <th></th>\n",
       "      <th>count</th>\n",
       "      <th>mean</th>\n",
       "      <th>std</th>\n",
       "      <th>min</th>\n",
       "      <th>1%</th>\n",
       "      <th>10%</th>\n",
       "      <th>25%</th>\n",
       "      <th>50%</th>\n",
       "      <th>75%</th>\n",
       "      <th>90%</th>\n",
       "      <th>99%</th>\n",
       "      <th>max</th>\n",
       "    </tr>\n",
       "  </thead>\n",
       "  <tbody>\n",
       "    <tr>\n",
       "      <th>SeriousDlqin2yrs</th>\n",
       "      <td>149391.0</td>\n",
       "      <td>0.066999</td>\n",
       "      <td>0.250021</td>\n",
       "      <td>0.0</td>\n",
       "      <td>0.0</td>\n",
       "      <td>0.000000</td>\n",
       "      <td>0.000000</td>\n",
       "      <td>0.000000</td>\n",
       "      <td>0.000000</td>\n",
       "      <td>0.000000</td>\n",
       "      <td>1.000000</td>\n",
       "      <td>1.0</td>\n",
       "    </tr>\n",
       "    <tr>\n",
       "      <th>RevolvingUtilizationOfUnsecuredLines</th>\n",
       "      <td>149391.0</td>\n",
       "      <td>6.071087</td>\n",
       "      <td>250.263672</td>\n",
       "      <td>0.0</td>\n",
       "      <td>0.0</td>\n",
       "      <td>0.003199</td>\n",
       "      <td>0.030132</td>\n",
       "      <td>0.154235</td>\n",
       "      <td>0.556494</td>\n",
       "      <td>0.978007</td>\n",
       "      <td>1.093922</td>\n",
       "      <td>50708.0</td>\n",
       "    </tr>\n",
       "    <tr>\n",
       "      <th>age</th>\n",
       "      <td>149391.0</td>\n",
       "      <td>52.306237</td>\n",
       "      <td>14.725962</td>\n",
       "      <td>0.0</td>\n",
       "      <td>24.0</td>\n",
       "      <td>33.000000</td>\n",
       "      <td>41.000000</td>\n",
       "      <td>52.000000</td>\n",
       "      <td>63.000000</td>\n",
       "      <td>72.000000</td>\n",
       "      <td>87.000000</td>\n",
       "      <td>109.0</td>\n",
       "    </tr>\n",
       "    <tr>\n",
       "      <th>NumberOfTime30-59DaysPastDueNotWorse</th>\n",
       "      <td>149391.0</td>\n",
       "      <td>0.393886</td>\n",
       "      <td>3.852953</td>\n",
       "      <td>0.0</td>\n",
       "      <td>0.0</td>\n",
       "      <td>0.000000</td>\n",
       "      <td>0.000000</td>\n",
       "      <td>0.000000</td>\n",
       "      <td>0.000000</td>\n",
       "      <td>1.000000</td>\n",
       "      <td>4.000000</td>\n",
       "      <td>98.0</td>\n",
       "    </tr>\n",
       "    <tr>\n",
       "      <th>DebtRatio</th>\n",
       "      <td>149391.0</td>\n",
       "      <td>354.436740</td>\n",
       "      <td>2041.843455</td>\n",
       "      <td>0.0</td>\n",
       "      <td>0.0</td>\n",
       "      <td>0.034991</td>\n",
       "      <td>0.177441</td>\n",
       "      <td>0.368234</td>\n",
       "      <td>0.875279</td>\n",
       "      <td>1275.000000</td>\n",
       "      <td>4985.100000</td>\n",
       "      <td>329664.0</td>\n",
       "    </tr>\n",
       "    <tr>\n",
       "      <th>MonthlyIncome</th>\n",
       "      <td>149391.0</td>\n",
       "      <td>5427.215468</td>\n",
       "      <td>13246.399323</td>\n",
       "      <td>0.0</td>\n",
       "      <td>0.0</td>\n",
       "      <td>0.180000</td>\n",
       "      <td>1800.000000</td>\n",
       "      <td>4425.000000</td>\n",
       "      <td>7416.000000</td>\n",
       "      <td>10800.000000</td>\n",
       "      <td>23250.000000</td>\n",
       "      <td>3008750.0</td>\n",
       "    </tr>\n",
       "    <tr>\n",
       "      <th>NumberOfOpenCreditLinesAndLoans</th>\n",
       "      <td>149391.0</td>\n",
       "      <td>8.480892</td>\n",
       "      <td>5.136515</td>\n",
       "      <td>0.0</td>\n",
       "      <td>0.0</td>\n",
       "      <td>3.000000</td>\n",
       "      <td>5.000000</td>\n",
       "      <td>8.000000</td>\n",
       "      <td>11.000000</td>\n",
       "      <td>15.000000</td>\n",
       "      <td>24.000000</td>\n",
       "      <td>58.0</td>\n",
       "    </tr>\n",
       "    <tr>\n",
       "      <th>NumberOfTimes90DaysLate</th>\n",
       "      <td>149391.0</td>\n",
       "      <td>0.238120</td>\n",
       "      <td>3.826165</td>\n",
       "      <td>0.0</td>\n",
       "      <td>0.0</td>\n",
       "      <td>0.000000</td>\n",
       "      <td>0.000000</td>\n",
       "      <td>0.000000</td>\n",
       "      <td>0.000000</td>\n",
       "      <td>0.000000</td>\n",
       "      <td>3.000000</td>\n",
       "      <td>98.0</td>\n",
       "    </tr>\n",
       "    <tr>\n",
       "      <th>NumberRealEstateLoansOrLines</th>\n",
       "      <td>149391.0</td>\n",
       "      <td>1.022391</td>\n",
       "      <td>1.130196</td>\n",
       "      <td>0.0</td>\n",
       "      <td>0.0</td>\n",
       "      <td>0.000000</td>\n",
       "      <td>0.000000</td>\n",
       "      <td>1.000000</td>\n",
       "      <td>2.000000</td>\n",
       "      <td>2.000000</td>\n",
       "      <td>4.000000</td>\n",
       "      <td>54.0</td>\n",
       "    </tr>\n",
       "    <tr>\n",
       "      <th>NumberOfTime60-89DaysPastDueNotWorse</th>\n",
       "      <td>149391.0</td>\n",
       "      <td>0.212503</td>\n",
       "      <td>3.810523</td>\n",
       "      <td>0.0</td>\n",
       "      <td>0.0</td>\n",
       "      <td>0.000000</td>\n",
       "      <td>0.000000</td>\n",
       "      <td>0.000000</td>\n",
       "      <td>0.000000</td>\n",
       "      <td>0.000000</td>\n",
       "      <td>2.000000</td>\n",
       "      <td>98.0</td>\n",
       "    </tr>\n",
       "    <tr>\n",
       "      <th>NumberOfDependents</th>\n",
       "      <td>149391.0</td>\n",
       "      <td>0.759863</td>\n",
       "      <td>1.101749</td>\n",
       "      <td>0.0</td>\n",
       "      <td>0.0</td>\n",
       "      <td>0.000000</td>\n",
       "      <td>0.000000</td>\n",
       "      <td>0.000000</td>\n",
       "      <td>1.000000</td>\n",
       "      <td>2.000000</td>\n",
       "      <td>4.000000</td>\n",
       "      <td>20.0</td>\n",
       "    </tr>\n",
       "  </tbody>\n",
       "</table>\n",
       "</div>"
      ],
      "text/plain": [
       "                                         count         mean           std  \\\n",
       "SeriousDlqin2yrs                      149391.0     0.066999      0.250021   \n",
       "RevolvingUtilizationOfUnsecuredLines  149391.0     6.071087    250.263672   \n",
       "age                                   149391.0    52.306237     14.725962   \n",
       "NumberOfTime30-59DaysPastDueNotWorse  149391.0     0.393886      3.852953   \n",
       "DebtRatio                             149391.0   354.436740   2041.843455   \n",
       "MonthlyIncome                         149391.0  5427.215468  13246.399323   \n",
       "NumberOfOpenCreditLinesAndLoans       149391.0     8.480892      5.136515   \n",
       "NumberOfTimes90DaysLate               149391.0     0.238120      3.826165   \n",
       "NumberRealEstateLoansOrLines          149391.0     1.022391      1.130196   \n",
       "NumberOfTime60-89DaysPastDueNotWorse  149391.0     0.212503      3.810523   \n",
       "NumberOfDependents                    149391.0     0.759863      1.101749   \n",
       "\n",
       "                                      min    1%        10%          25%  \\\n",
       "SeriousDlqin2yrs                      0.0   0.0   0.000000     0.000000   \n",
       "RevolvingUtilizationOfUnsecuredLines  0.0   0.0   0.003199     0.030132   \n",
       "age                                   0.0  24.0  33.000000    41.000000   \n",
       "NumberOfTime30-59DaysPastDueNotWorse  0.0   0.0   0.000000     0.000000   \n",
       "DebtRatio                             0.0   0.0   0.034991     0.177441   \n",
       "MonthlyIncome                         0.0   0.0   0.180000  1800.000000   \n",
       "NumberOfOpenCreditLinesAndLoans       0.0   0.0   3.000000     5.000000   \n",
       "NumberOfTimes90DaysLate               0.0   0.0   0.000000     0.000000   \n",
       "NumberRealEstateLoansOrLines          0.0   0.0   0.000000     0.000000   \n",
       "NumberOfTime60-89DaysPastDueNotWorse  0.0   0.0   0.000000     0.000000   \n",
       "NumberOfDependents                    0.0   0.0   0.000000     0.000000   \n",
       "\n",
       "                                              50%          75%           90%  \\\n",
       "SeriousDlqin2yrs                         0.000000     0.000000      0.000000   \n",
       "RevolvingUtilizationOfUnsecuredLines     0.154235     0.556494      0.978007   \n",
       "age                                     52.000000    63.000000     72.000000   \n",
       "NumberOfTime30-59DaysPastDueNotWorse     0.000000     0.000000      1.000000   \n",
       "DebtRatio                                0.368234     0.875279   1275.000000   \n",
       "MonthlyIncome                         4425.000000  7416.000000  10800.000000   \n",
       "NumberOfOpenCreditLinesAndLoans          8.000000    11.000000     15.000000   \n",
       "NumberOfTimes90DaysLate                  0.000000     0.000000      0.000000   \n",
       "NumberRealEstateLoansOrLines             1.000000     2.000000      2.000000   \n",
       "NumberOfTime60-89DaysPastDueNotWorse     0.000000     0.000000      0.000000   \n",
       "NumberOfDependents                       0.000000     1.000000      2.000000   \n",
       "\n",
       "                                               99%        max  \n",
       "SeriousDlqin2yrs                          1.000000        1.0  \n",
       "RevolvingUtilizationOfUnsecuredLines      1.093922    50708.0  \n",
       "age                                      87.000000      109.0  \n",
       "NumberOfTime30-59DaysPastDueNotWorse      4.000000       98.0  \n",
       "DebtRatio                              4985.100000   329664.0  \n",
       "MonthlyIncome                         23250.000000  3008750.0  \n",
       "NumberOfOpenCreditLinesAndLoans          24.000000       58.0  \n",
       "NumberOfTimes90DaysLate                   3.000000       98.0  \n",
       "NumberRealEstateLoansOrLines              4.000000       54.0  \n",
       "NumberOfTime60-89DaysPastDueNotWorse      2.000000       98.0  \n",
       "NumberOfDependents                        4.000000       20.0  "
      ]
     },
     "execution_count": 20,
     "metadata": {},
     "output_type": "execute_result"
    }
   ],
   "source": [
    "#描述性统计\n",
    "data.describe([0.01,0.1,0.25,.5,.75,.9,.99]).T"
   ]
  },
  {
   "cell_type": "markdown",
   "metadata": {},
   "source": [
    "通过仔细观察age可能存在一些异常值，它的最小值为0。一般能够在银行办理贷款业务的应该是成年人，即使是儿童账户应该也要8岁以上。\n",
    "\n",
    "NumberOfTime30-59DaysPastDueNotWorse这个字段0-4次还是比较合理的，但是98次是不是有点太多了？\n",
    "\n",
    "NumberOfTimes90DaysLate，NumberOfTime60-89DaysPastDueNotWorse这个字段的最大值为98，这个应该也是一个异常值。\n"
   ]
  },
  {
   "cell_type": "code",
   "execution_count": 21,
   "metadata": {},
   "outputs": [
    {
     "data": {
      "text/plain": [
       "1"
      ]
     },
     "execution_count": 21,
     "metadata": {},
     "output_type": "execute_result"
    }
   ],
   "source": [
    "#age字段中异常值的处理\n",
    "#首先，我们可以查看一下年龄为0的人有多少\n",
    "(data['age']==0).sum()"
   ]
  },
  {
   "cell_type": "code",
   "execution_count": 22,
   "metadata": {},
   "outputs": [
    {
     "data": {
      "text/plain": [
       "1"
      ]
     },
     "execution_count": 22,
     "metadata": {},
     "output_type": "execute_result"
    }
   ],
   "source": [
    "#我们查看一下年龄小于8岁的人有多少？\n",
    "(data['age']<8).sum()"
   ]
  },
  {
   "cell_type": "code",
   "execution_count": 23,
   "metadata": {},
   "outputs": [],
   "source": [
    "#最终可以确认，年龄小于8岁的人只有一个。推测可能是因为业务人员录入失误造成的。\n",
    "#对于这样的异常值我们直接过滤掉即可\n",
    "data = data[data['age'] != 0]"
   ]
  },
  {
   "cell_type": "code",
   "execution_count": 24,
   "metadata": {},
   "outputs": [
    {
     "data": {
      "text/plain": [
       "0     125453\n",
       "1      16032\n",
       "2       4598\n",
       "3       1754\n",
       "4        747\n",
       "5        342\n",
       "98       220\n",
       "6        140\n",
       "7         54\n",
       "8         25\n",
       "9         12\n",
       "96         5\n",
       "10         4\n",
       "12         2\n",
       "13         1\n",
       "11         1\n",
       "Name: NumberOfTime30-59DaysPastDueNotWorse, dtype: int64"
      ]
     },
     "execution_count": 24,
     "metadata": {},
     "output_type": "execute_result"
    }
   ],
   "source": [
    "#接下来处理NumberOfTime30-59DaysPastDueNotWorse，NumberOfTimes90DaysLate，NumberOfTime60-89DaysPastDueNotWorse\n",
    "#这三个字段中都存在非常大的异常值\n",
    "data['NumberOfTime30-59DaysPastDueNotWorse'].value_counts()"
   ]
  },
  {
   "cell_type": "code",
   "execution_count": 25,
   "metadata": {},
   "outputs": [],
   "source": [
    "#可以看到96和98明显属于异常值,共有225个。我们把他们全部过滤掉\n",
    "data = data[data.loc[:,'NumberOfTime30-59DaysPastDueNotWorse']<90]"
   ]
  },
  {
   "cell_type": "code",
   "execution_count": 26,
   "metadata": {},
   "outputs": [
    {
     "data": {
      "text/plain": [
       "0     141107\n",
       "1       5232\n",
       "2       1555\n",
       "3        667\n",
       "4        291\n",
       "5        131\n",
       "6         80\n",
       "7         38\n",
       "8         21\n",
       "9         19\n",
       "10         8\n",
       "11         5\n",
       "13         4\n",
       "15         2\n",
       "12         2\n",
       "14         2\n",
       "17         1\n",
       "Name: NumberOfTimes90DaysLate, dtype: int64"
      ]
     },
     "execution_count": 26,
     "metadata": {},
     "output_type": "execute_result"
    }
   ],
   "source": [
    "#观察NumberOfTimes90DaysLate字段\n",
    "data['NumberOfTimes90DaysLate'].value_counts()"
   ]
  },
  {
   "cell_type": "code",
   "execution_count": 27,
   "metadata": {},
   "outputs": [
    {
     "data": {
      "text/plain": [
       "0     141830\n",
       "1       5731\n",
       "2       1118\n",
       "3        318\n",
       "4        105\n",
       "5         34\n",
       "6         16\n",
       "7          9\n",
       "8          2\n",
       "11         1\n",
       "9          1\n",
       "Name: NumberOfTime60-89DaysPastDueNotWorse, dtype: int64"
      ]
     },
     "execution_count": 27,
     "metadata": {},
     "output_type": "execute_result"
    }
   ],
   "source": [
    "#观察NumberOfTime60-89DaysPastDueNotWorse字段\n",
    "data['NumberOfTime60-89DaysPastDueNotWorse'].value_counts()"
   ]
  },
  {
   "cell_type": "code",
   "execution_count": 28,
   "metadata": {},
   "outputs": [
    {
     "name": "stdout",
     "output_type": "stream",
     "text": [
      "<class 'pandas.core.frame.DataFrame'>\n",
      "Int64Index: 149165 entries, 0 to 149390\n",
      "Data columns (total 11 columns):\n",
      " #   Column                                Non-Null Count   Dtype  \n",
      "---  ------                                --------------   -----  \n",
      " 0   SeriousDlqin2yrs                      149165 non-null  int64  \n",
      " 1   RevolvingUtilizationOfUnsecuredLines  149165 non-null  float64\n",
      " 2   age                                   149165 non-null  int64  \n",
      " 3   NumberOfTime30-59DaysPastDueNotWorse  149165 non-null  int64  \n",
      " 4   DebtRatio                             149165 non-null  float64\n",
      " 5   MonthlyIncome                         149165 non-null  float64\n",
      " 6   NumberOfOpenCreditLinesAndLoans       149165 non-null  int64  \n",
      " 7   NumberOfTimes90DaysLate               149165 non-null  int64  \n",
      " 8   NumberRealEstateLoansOrLines          149165 non-null  int64  \n",
      " 9   NumberOfTime60-89DaysPastDueNotWorse  149165 non-null  int64  \n",
      " 10  NumberOfDependents                    149165 non-null  float64\n",
      "dtypes: float64(4), int64(7)\n",
      "memory usage: 13.7 MB\n"
     ]
    }
   ],
   "source": [
    "#这说明这三个字段的异常值来自于相同的记录。当我们进行针对其中一个进行过滤后，其余两个的异常值就解决了\n",
    "data.info()"
   ]
  },
  {
   "cell_type": "code",
   "execution_count": 29,
   "metadata": {},
   "outputs": [
    {
     "name": "stdout",
     "output_type": "stream",
     "text": [
      "<class 'pandas.core.frame.DataFrame'>\n",
      "RangeIndex: 149165 entries, 0 to 149164\n",
      "Data columns (total 11 columns):\n",
      " #   Column                                Non-Null Count   Dtype  \n",
      "---  ------                                --------------   -----  \n",
      " 0   SeriousDlqin2yrs                      149165 non-null  int64  \n",
      " 1   RevolvingUtilizationOfUnsecuredLines  149165 non-null  float64\n",
      " 2   age                                   149165 non-null  int64  \n",
      " 3   NumberOfTime30-59DaysPastDueNotWorse  149165 non-null  int64  \n",
      " 4   DebtRatio                             149165 non-null  float64\n",
      " 5   MonthlyIncome                         149165 non-null  float64\n",
      " 6   NumberOfOpenCreditLinesAndLoans       149165 non-null  int64  \n",
      " 7   NumberOfTimes90DaysLate               149165 non-null  int64  \n",
      " 8   NumberRealEstateLoansOrLines          149165 non-null  int64  \n",
      " 9   NumberOfTime60-89DaysPastDueNotWorse  149165 non-null  int64  \n",
      " 10  NumberOfDependents                    149165 non-null  float64\n",
      "dtypes: float64(4), int64(7)\n",
      "memory usage: 12.5 MB\n"
     ]
    }
   ],
   "source": [
    "#过滤数据之后需要恢复索引\n",
    "data.index = range(data.shape[0])\n",
    "data.info()"
   ]
  },
  {
   "cell_type": "markdown",
   "metadata": {},
   "source": [
    "### 2.4 数据集的不均衡问题"
   ]
  },
  {
   "cell_type": "code",
   "execution_count": 30,
   "metadata": {},
   "outputs": [
    {
     "data": {
      "text/plain": [
       "<matplotlib.axes._subplots.AxesSubplot at 0xb467f98>"
      ]
     },
     "execution_count": 30,
     "metadata": {},
     "output_type": "execute_result"
    },
    {
     "data": {
      "image/png": "[encoded data removed]",
      "text/plain": [
       "<Figure size 432x288 with 1 Axes>"
      ]
     },
     "metadata": {},
     "output_type": "display_data"
    }
   ],
   "source": [
    "data['SeriousDlqin2yrs'].value_counts().plot(kind='pie')"
   ]
  },
  {
   "cell_type": "code",
   "execution_count": 31,
   "metadata": {},
   "outputs": [],
   "source": [
    "#我们采用过采样法来在原始数据集上进行采样，以得到一组均衡的数据\n",
    "\n",
    "#数据准备\n",
    "X = data.iloc[:,1:]\n",
    "y = data['SeriousDlqin2yrs']"
   ]
  },
  {
   "cell_type": "code",
   "execution_count": 32,
   "metadata": {},
   "outputs": [
    {
     "name": "stderr",
     "output_type": "stream",
     "text": [
      "Using TensorFlow backend.\n"
     ]
    }
   ],
   "source": [
    "import imblearn\n",
    "from imblearn.over_sampling import SMOTE\n",
    "\n",
    "sm = SMOTE(random_state=42)\n",
    "X,y = sm.fit_sample(X,y)"
   ]
  },
  {
   "cell_type": "code",
   "execution_count": 33,
   "metadata": {},
   "outputs": [
    {
     "data": {
      "text/plain": [
       "<matplotlib.axes._subplots.AxesSubplot at 0x142fb828>"
      ]
     },
     "execution_count": 33,
     "metadata": {},
     "output_type": "execute_result"
    },
    {
     "data": {
      "image/png": "[encoded data removed]",
      "text/plain": [
       "<Figure size 432x288 with 1 Axes>"
      ]
     },
     "metadata": {},
     "output_type": "display_data"
    }
   ],
   "source": [
    "y.value_counts().plot(kind='pie')"
   ]
  },
  {
   "cell_type": "code",
   "execution_count": 34,
   "metadata": {},
   "outputs": [
    {
     "data": {
      "text/plain": [
       "(278584, 10)"
      ]
     },
     "execution_count": 34,
     "metadata": {},
     "output_type": "execute_result"
    }
   ],
   "source": [
    "X.shape"
   ]
  },
  {
   "cell_type": "markdown",
   "metadata": {},
   "source": [
    "### 2.5 将数据集拆分为训练集与测试集"
   ]
  },
  {
   "cell_type": "code",
   "execution_count": 35,
   "metadata": {},
   "outputs": [],
   "source": [
    "from sklearn.model_selection import train_test_split\n",
    "\n",
    "X = pd.DataFrame(X)\n",
    "y = pd.DataFrame(y)\n",
    "\n",
    "X_train,X_vali,Y_train,Y_vali = train_test_split(X,y,test_size=0.3)"
   ]
  },
  {
   "cell_type": "code",
   "execution_count": 36,
   "metadata": {},
   "outputs": [
    {
     "data": {
      "text/html": [
       "<div>\n",
       "<style scoped>\n",
       "    .dataframe tbody tr th:only-of-type {\n",
       "        vertical-align: middle;\n",
       "    }\n",
       "\n",
       "    .dataframe tbody tr th {\n",
       "        vertical-align: top;\n",
       "    }\n",
       "\n",
       "    .dataframe thead th {\n",
       "        text-align: right;\n",
       "    }\n",
       "</style>\n",
       "<table border=\"1\" class=\"dataframe\">\n",
       "  <thead>\n",
       "    <tr style=\"text-align: right;\">\n",
       "      <th></th>\n",
       "      <th>SeriousDlqin2yrs</th>\n",
       "    </tr>\n",
       "  </thead>\n",
       "  <tbody>\n",
       "    <tr>\n",
       "      <th>24607</th>\n",
       "      <td>0</td>\n",
       "    </tr>\n",
       "    <tr>\n",
       "      <th>54822</th>\n",
       "      <td>0</td>\n",
       "    </tr>\n",
       "    <tr>\n",
       "      <th>219321</th>\n",
       "      <td>1</td>\n",
       "    </tr>\n",
       "    <tr>\n",
       "      <th>106438</th>\n",
       "      <td>0</td>\n",
       "    </tr>\n",
       "    <tr>\n",
       "      <th>25862</th>\n",
       "      <td>0</td>\n",
       "    </tr>\n",
       "    <tr>\n",
       "      <th>...</th>\n",
       "      <td>...</td>\n",
       "    </tr>\n",
       "    <tr>\n",
       "      <th>48114</th>\n",
       "      <td>0</td>\n",
       "    </tr>\n",
       "    <tr>\n",
       "      <th>52626</th>\n",
       "      <td>0</td>\n",
       "    </tr>\n",
       "    <tr>\n",
       "      <th>165827</th>\n",
       "      <td>1</td>\n",
       "    </tr>\n",
       "    <tr>\n",
       "      <th>2026</th>\n",
       "      <td>0</td>\n",
       "    </tr>\n",
       "    <tr>\n",
       "      <th>197450</th>\n",
       "      <td>1</td>\n",
       "    </tr>\n",
       "  </tbody>\n",
       "</table>\n",
       "<p>195008 rows × 1 columns</p>\n",
       "</div>"
      ],
      "text/plain": [
       "        SeriousDlqin2yrs\n",
       "24607                  0\n",
       "54822                  0\n",
       "219321                 1\n",
       "106438                 0\n",
       "25862                  0\n",
       "...                  ...\n",
       "48114                  0\n",
       "52626                  0\n",
       "165827                 1\n",
       "2026                   0\n",
       "197450                 1\n",
       "\n",
       "[195008 rows x 1 columns]"
      ]
     },
     "execution_count": 36,
     "metadata": {},
     "output_type": "execute_result"
    }
   ],
   "source": [
    "Y_train"
   ]
  },
  {
   "cell_type": "code",
   "execution_count": 37,
   "metadata": {},
   "outputs": [
    {
     "data": {
      "text/html": [
       "<div>\n",
       "<style scoped>\n",
       "    .dataframe tbody tr th:only-of-type {\n",
       "        vertical-align: middle;\n",
       "    }\n",
       "\n",
       "    .dataframe tbody tr th {\n",
       "        vertical-align: top;\n",
       "    }\n",
       "\n",
       "    .dataframe thead th {\n",
       "        text-align: right;\n",
       "    }\n",
       "</style>\n",
       "<table border=\"1\" class=\"dataframe\">\n",
       "  <thead>\n",
       "    <tr style=\"text-align: right;\">\n",
       "      <th></th>\n",
       "      <th>SeriousDlqin2yrs</th>\n",
       "      <th>RevolvingUtilizationOfUnsecuredLines</th>\n",
       "      <th>age</th>\n",
       "      <th>NumberOfTime30-59DaysPastDueNotWorse</th>\n",
       "      <th>DebtRatio</th>\n",
       "      <th>MonthlyIncome</th>\n",
       "      <th>NumberOfOpenCreditLinesAndLoans</th>\n",
       "      <th>NumberOfTimes90DaysLate</th>\n",
       "      <th>NumberRealEstateLoansOrLines</th>\n",
       "      <th>NumberOfTime60-89DaysPastDueNotWorse</th>\n",
       "      <th>NumberOfDependents</th>\n",
       "    </tr>\n",
       "  </thead>\n",
       "  <tbody>\n",
       "    <tr>\n",
       "      <th>24607</th>\n",
       "      <td>0</td>\n",
       "      <td>0.292808</td>\n",
       "      <td>35</td>\n",
       "      <td>0</td>\n",
       "      <td>0.374806</td>\n",
       "      <td>4500.000000</td>\n",
       "      <td>9</td>\n",
       "      <td>0</td>\n",
       "      <td>1</td>\n",
       "      <td>0</td>\n",
       "      <td>2.000000</td>\n",
       "    </tr>\n",
       "    <tr>\n",
       "      <th>54822</th>\n",
       "      <td>0</td>\n",
       "      <td>0.393138</td>\n",
       "      <td>71</td>\n",
       "      <td>0</td>\n",
       "      <td>2406.000000</td>\n",
       "      <td>0.440000</td>\n",
       "      <td>15</td>\n",
       "      <td>0</td>\n",
       "      <td>2</td>\n",
       "      <td>0</td>\n",
       "      <td>0.000000</td>\n",
       "    </tr>\n",
       "    <tr>\n",
       "      <th>219321</th>\n",
       "      <td>1</td>\n",
       "      <td>0.617309</td>\n",
       "      <td>53</td>\n",
       "      <td>1</td>\n",
       "      <td>0.327845</td>\n",
       "      <td>7083.000000</td>\n",
       "      <td>6</td>\n",
       "      <td>0</td>\n",
       "      <td>0</td>\n",
       "      <td>0</td>\n",
       "      <td>0.974585</td>\n",
       "    </tr>\n",
       "    <tr>\n",
       "      <th>106438</th>\n",
       "      <td>0</td>\n",
       "      <td>0.018839</td>\n",
       "      <td>33</td>\n",
       "      <td>0</td>\n",
       "      <td>0.410392</td>\n",
       "      <td>6600.000000</td>\n",
       "      <td>12</td>\n",
       "      <td>0</td>\n",
       "      <td>2</td>\n",
       "      <td>0</td>\n",
       "      <td>3.000000</td>\n",
       "    </tr>\n",
       "    <tr>\n",
       "      <th>25862</th>\n",
       "      <td>0</td>\n",
       "      <td>0.020957</td>\n",
       "      <td>57</td>\n",
       "      <td>0</td>\n",
       "      <td>0.003104</td>\n",
       "      <td>14175.000000</td>\n",
       "      <td>2</td>\n",
       "      <td>0</td>\n",
       "      <td>0</td>\n",
       "      <td>0</td>\n",
       "      <td>2.000000</td>\n",
       "    </tr>\n",
       "    <tr>\n",
       "      <th>...</th>\n",
       "      <td>...</td>\n",
       "      <td>...</td>\n",
       "      <td>...</td>\n",
       "      <td>...</td>\n",
       "      <td>...</td>\n",
       "      <td>...</td>\n",
       "      <td>...</td>\n",
       "      <td>...</td>\n",
       "      <td>...</td>\n",
       "      <td>...</td>\n",
       "      <td>...</td>\n",
       "    </tr>\n",
       "    <tr>\n",
       "      <th>48114</th>\n",
       "      <td>0</td>\n",
       "      <td>0.014797</td>\n",
       "      <td>41</td>\n",
       "      <td>0</td>\n",
       "      <td>0.386556</td>\n",
       "      <td>8166.000000</td>\n",
       "      <td>7</td>\n",
       "      <td>0</td>\n",
       "      <td>1</td>\n",
       "      <td>0</td>\n",
       "      <td>2.000000</td>\n",
       "    </tr>\n",
       "    <tr>\n",
       "      <th>52626</th>\n",
       "      <td>0</td>\n",
       "      <td>0.000623</td>\n",
       "      <td>37</td>\n",
       "      <td>0</td>\n",
       "      <td>694.000000</td>\n",
       "      <td>0.870000</td>\n",
       "      <td>5</td>\n",
       "      <td>0</td>\n",
       "      <td>1</td>\n",
       "      <td>0</td>\n",
       "      <td>0.000000</td>\n",
       "    </tr>\n",
       "    <tr>\n",
       "      <th>165827</th>\n",
       "      <td>1</td>\n",
       "      <td>0.936524</td>\n",
       "      <td>39</td>\n",
       "      <td>0</td>\n",
       "      <td>1335.970742</td>\n",
       "      <td>0.386303</td>\n",
       "      <td>3</td>\n",
       "      <td>1</td>\n",
       "      <td>0</td>\n",
       "      <td>0</td>\n",
       "      <td>1.194148</td>\n",
       "    </tr>\n",
       "    <tr>\n",
       "      <th>2026</th>\n",
       "      <td>0</td>\n",
       "      <td>0.283931</td>\n",
       "      <td>55</td>\n",
       "      <td>0</td>\n",
       "      <td>1.515459</td>\n",
       "      <td>4333.000000</td>\n",
       "      <td>14</td>\n",
       "      <td>0</td>\n",
       "      <td>2</td>\n",
       "      <td>0</td>\n",
       "      <td>2.000000</td>\n",
       "    </tr>\n",
       "    <tr>\n",
       "      <th>197450</th>\n",
       "      <td>1</td>\n",
       "      <td>0.000000</td>\n",
       "      <td>26</td>\n",
       "      <td>1</td>\n",
       "      <td>0.101852</td>\n",
       "      <td>3995.527467</td>\n",
       "      <td>2</td>\n",
       "      <td>0</td>\n",
       "      <td>0</td>\n",
       "      <td>0</td>\n",
       "      <td>1.789013</td>\n",
       "    </tr>\n",
       "  </tbody>\n",
       "</table>\n",
       "<p>195008 rows × 11 columns</p>\n",
       "</div>"
      ],
      "text/plain": [
       "        SeriousDlqin2yrs  RevolvingUtilizationOfUnsecuredLines  age  \\\n",
       "24607                  0                              0.292808   35   \n",
       "54822                  0                              0.393138   71   \n",
       "219321                 1                              0.617309   53   \n",
       "106438                 0                              0.018839   33   \n",
       "25862                  0                              0.020957   57   \n",
       "...                  ...                                   ...  ...   \n",
       "48114                  0                              0.014797   41   \n",
       "52626                  0                              0.000623   37   \n",
       "165827                 1                              0.936524   39   \n",
       "2026                   0                              0.283931   55   \n",
       "197450                 1                              0.000000   26   \n",
       "\n",
       "        NumberOfTime30-59DaysPastDueNotWorse    DebtRatio  MonthlyIncome  \\\n",
       "24607                                      0     0.374806    4500.000000   \n",
       "54822                                      0  2406.000000       0.440000   \n",
       "219321                                     1     0.327845    7083.000000   \n",
       "106438                                     0     0.410392    6600.000000   \n",
       "25862                                      0     0.003104   14175.000000   \n",
       "...                                      ...          ...            ...   \n",
       "48114                                      0     0.386556    8166.000000   \n",
       "52626                                      0   694.000000       0.870000   \n",
       "165827                                     0  1335.970742       0.386303   \n",
       "2026                                       0     1.515459    4333.000000   \n",
       "197450                                     1     0.101852    3995.527467   \n",
       "\n",
       "        NumberOfOpenCreditLinesAndLoans  NumberOfTimes90DaysLate  \\\n",
       "24607                                 9                        0   \n",
       "54822                                15                        0   \n",
       "219321                                6                        0   \n",
       "106438                               12                        0   \n",
       "25862                                 2                        0   \n",
       "...                                 ...                      ...   \n",
       "48114                                 7                        0   \n",
       "52626                                 5                        0   \n",
       "165827                                3                        1   \n",
       "2026                                 14                        0   \n",
       "197450                                2                        0   \n",
       "\n",
       "        NumberRealEstateLoansOrLines  NumberOfTime60-89DaysPastDueNotWorse  \\\n",
       "24607                              1                                     0   \n",
       "54822                              2                                     0   \n",
       "219321                             0                                     0   \n",
       "106438                             2                                     0   \n",
       "25862                              0                                     0   \n",
       "...                              ...                                   ...   \n",
       "48114                              1                                     0   \n",
       "52626                              1                                     0   \n",
       "165827                             0                                     0   \n",
       "2026                               2                                     0   \n",
       "197450                             0                                     0   \n",
       "\n",
       "        NumberOfDependents  \n",
       "24607             2.000000  \n",
       "54822             0.000000  \n",
       "219321            0.974585  \n",
       "106438            3.000000  \n",
       "25862             2.000000  \n",
       "...                    ...  \n",
       "48114             2.000000  \n",
       "52626             0.000000  \n",
       "165827            1.194148  \n",
       "2026              2.000000  \n",
       "197450            1.789013  \n",
       "\n",
       "[195008 rows x 11 columns]"
      ]
     },
     "execution_count": 37,
     "metadata": {},
     "output_type": "execute_result"
    }
   ],
   "source": [
    "#将用于训练模型的数据的特征和标签合并在一起\n",
    "model_data = pd.concat([Y_train,X_train],axis=1)\n",
    "model_data"
   ]
  },
  {
   "cell_type": "code",
   "execution_count": 38,
   "metadata": {},
   "outputs": [],
   "source": [
    "#数据集在拆分的时候会被打乱顺序，所以我们在合并之后还是要恢复索引\n",
    "model_data.index = range(model_data.shape[0])\n",
    "model_data.columns = data.columns"
   ]
  },
  {
   "cell_type": "code",
   "execution_count": 39,
   "metadata": {},
   "outputs": [
    {
     "data": {
      "text/html": [
       "<div>\n",
       "<style scoped>\n",
       "    .dataframe tbody tr th:only-of-type {\n",
       "        vertical-align: middle;\n",
       "    }\n",
       "\n",
       "    .dataframe tbody tr th {\n",
       "        vertical-align: top;\n",
       "    }\n",
       "\n",
       "    .dataframe thead th {\n",
       "        text-align: right;\n",
       "    }\n",
       "</style>\n",
       "<table border=\"1\" class=\"dataframe\">\n",
       "  <thead>\n",
       "    <tr style=\"text-align: right;\">\n",
       "      <th></th>\n",
       "      <th>SeriousDlqin2yrs</th>\n",
       "      <th>RevolvingUtilizationOfUnsecuredLines</th>\n",
       "      <th>age</th>\n",
       "      <th>NumberOfTime30-59DaysPastDueNotWorse</th>\n",
       "      <th>DebtRatio</th>\n",
       "      <th>MonthlyIncome</th>\n",
       "      <th>NumberOfOpenCreditLinesAndLoans</th>\n",
       "      <th>NumberOfTimes90DaysLate</th>\n",
       "      <th>NumberRealEstateLoansOrLines</th>\n",
       "      <th>NumberOfTime60-89DaysPastDueNotWorse</th>\n",
       "      <th>NumberOfDependents</th>\n",
       "    </tr>\n",
       "  </thead>\n",
       "  <tbody>\n",
       "    <tr>\n",
       "      <th>0</th>\n",
       "      <td>0</td>\n",
       "      <td>0.292808</td>\n",
       "      <td>35</td>\n",
       "      <td>0</td>\n",
       "      <td>0.374806</td>\n",
       "      <td>4500.00</td>\n",
       "      <td>9</td>\n",
       "      <td>0</td>\n",
       "      <td>1</td>\n",
       "      <td>0</td>\n",
       "      <td>2.000000</td>\n",
       "    </tr>\n",
       "    <tr>\n",
       "      <th>1</th>\n",
       "      <td>0</td>\n",
       "      <td>0.393138</td>\n",
       "      <td>71</td>\n",
       "      <td>0</td>\n",
       "      <td>2406.000000</td>\n",
       "      <td>0.44</td>\n",
       "      <td>15</td>\n",
       "      <td>0</td>\n",
       "      <td>2</td>\n",
       "      <td>0</td>\n",
       "      <td>0.000000</td>\n",
       "    </tr>\n",
       "    <tr>\n",
       "      <th>2</th>\n",
       "      <td>1</td>\n",
       "      <td>0.617309</td>\n",
       "      <td>53</td>\n",
       "      <td>1</td>\n",
       "      <td>0.327845</td>\n",
       "      <td>7083.00</td>\n",
       "      <td>6</td>\n",
       "      <td>0</td>\n",
       "      <td>0</td>\n",
       "      <td>0</td>\n",
       "      <td>0.974585</td>\n",
       "    </tr>\n",
       "    <tr>\n",
       "      <th>3</th>\n",
       "      <td>0</td>\n",
       "      <td>0.018839</td>\n",
       "      <td>33</td>\n",
       "      <td>0</td>\n",
       "      <td>0.410392</td>\n",
       "      <td>6600.00</td>\n",
       "      <td>12</td>\n",
       "      <td>0</td>\n",
       "      <td>2</td>\n",
       "      <td>0</td>\n",
       "      <td>3.000000</td>\n",
       "    </tr>\n",
       "    <tr>\n",
       "      <th>4</th>\n",
       "      <td>0</td>\n",
       "      <td>0.020957</td>\n",
       "      <td>57</td>\n",
       "      <td>0</td>\n",
       "      <td>0.003104</td>\n",
       "      <td>14175.00</td>\n",
       "      <td>2</td>\n",
       "      <td>0</td>\n",
       "      <td>0</td>\n",
       "      <td>0</td>\n",
       "      <td>2.000000</td>\n",
       "    </tr>\n",
       "  </tbody>\n",
       "</table>\n",
       "</div>"
      ],
      "text/plain": [
       "   SeriousDlqin2yrs  RevolvingUtilizationOfUnsecuredLines  age  \\\n",
       "0                 0                              0.292808   35   \n",
       "1                 0                              0.393138   71   \n",
       "2                 1                              0.617309   53   \n",
       "3                 0                              0.018839   33   \n",
       "4                 0                              0.020957   57   \n",
       "\n",
       "   NumberOfTime30-59DaysPastDueNotWorse    DebtRatio  MonthlyIncome  \\\n",
       "0                                     0     0.374806        4500.00   \n",
       "1                                     0  2406.000000           0.44   \n",
       "2                                     1     0.327845        7083.00   \n",
       "3                                     0     0.410392        6600.00   \n",
       "4                                     0     0.003104       14175.00   \n",
       "\n",
       "   NumberOfOpenCreditLinesAndLoans  NumberOfTimes90DaysLate  \\\n",
       "0                                9                        0   \n",
       "1                               15                        0   \n",
       "2                                6                        0   \n",
       "3                               12                        0   \n",
       "4                                2                        0   \n",
       "\n",
       "   NumberRealEstateLoansOrLines  NumberOfTime60-89DaysPastDueNotWorse  \\\n",
       "0                             1                                     0   \n",
       "1                             2                                     0   \n",
       "2                             0                                     0   \n",
       "3                             2                                     0   \n",
       "4                             0                                     0   \n",
       "\n",
       "   NumberOfDependents  \n",
       "0            2.000000  \n",
       "1            0.000000  \n",
       "2            0.974585  \n",
       "3            3.000000  \n",
       "4            2.000000  "
      ]
     },
     "execution_count": 39,
     "metadata": {},
     "output_type": "execute_result"
    }
   ],
   "source": [
    "model_data.head()"
   ]
  },
  {
   "cell_type": "code",
   "execution_count": 40,
   "metadata": {},
   "outputs": [],
   "source": [
    "#将用于验证模型的特征和标签合并在一起\n",
    "vali_data = pd.concat([Y_vali,X_vali],axis=1)\n",
    "#恢复索引\n",
    "vali_data.index = range(vali_data.shape[0])\n",
    "vali_data.columns = data.columns"
   ]
  },
  {
   "cell_type": "markdown",
   "metadata": {},
   "source": [
    "## 3 分箱\n",
    "\n",
    "在评分卡制作过程中一个最重要的步骤就是分箱。分箱是评分卡最难也是最核心的思路。分箱的本质就是离散化连续变量，好让拥有不同属性的人被分成不同的类别。\n",
    "\n",
    "1.要分成多少个箱子才合适？\n",
    "\n",
    "首先，箱子的个数不能太多，最好控制在10个以下，4到5个为最佳。另外，离散化连续型变量必然伴随着信息的损失，并且箱子越少，损失的信息越多。为了衡量特征上的信息量以及特征对预测函数的贡献，银行业定义了一个概念叫做information value(IV):\n",
    "\n",
    "$ \\mathrm{IV}=\\sum_{i=1}^{\\mathrm{N}}(\\operatorname{good} \\%-\\mathrm{bad} \\%) * \\mathrm{WOE}_{\\mathrm{i}} $\n",
    "\n",
    "N是这个特征中分箱的个数，i代表每个箱子，good%是这个箱子内的优质客户占整个特征中所有优质客户的比例。bad%是这个箱子里的坏客户占整个特征中所有坏客户的比例。\n",
    "\n",
    "$\\mathrm{WOE}_{\\mathrm{i}}=\\ln \\left(\\frac{\\operatorname{good} \\%}{\\mathrm{bad} \\%}\\right)$\n",
    "\n",
    "这是在银行业中用来衡量违约概率的指标。中文叫做证据权重，本质其实就是优质客户比上坏客户比例的对数。对于一个箱子来说，WOE越大就说明这个箱子里的优质客户越多。IV代表的意义如下表所示：\n",
    "\n",
    "| IV     | 特征对预测函数的贡献   |\n",
    "|------  |------|\n",
    "| <0.03  | 特征几乎不带有效信息，对模型没有贡献，这种特征可以被删除|\n",
    "| 0.03~0.09  | 有效信息很少，对模型的贡献度低|\n",
    "| 0.1~0.29  | 有效信息一般，对模型的贡献度中等|\n",
    "| 0.3~0.49  | 有效信息很多，对模型的贡献度较高|\n",
    "| >=0.5  | 有效信息非常多，对模型贡献超高并且可疑|\n",
    "\n",
    "我们会对特征进行分箱，然后计算每个箱子数目下的WOE值，利用IV值的曲线，找出合适的分箱个数。\n",
    "\n",
    "2.分箱要达成什么样的效果？\n",
    "\n",
    "希望不同属性的人有不同的分数，因此我们希望在同一个箱子内的人的属性是尽量相似的，而不同箱子的人的属性是尽量不同的。即组间差异大，组内差异小。对于评分卡来说，我们希望一个箱子内的人违约概率是类似的，而不同箱子的人违约概率差距很大，并且每个箱子中坏客户占的比重不同。我们可以使用卡方检验来对比两个箱子的相似性。如果两个箱子之间卡方检验的P值很大，则说明他们非常相似，那我们就可以将这两个箱子合并为1个箱子。\n",
    "\n",
    "3.基于上述的思想，我们总结出对特征进行分箱的步骤：\n",
    "\n",
    "第一，把连续型变量分成数量较多的分类型变量，比如，将几万个样本分成100组或50组。  \n",
    "第二，确保每一组中都要包含两种类别的样本，否则IV值无法计算。   \n",
    "第三，对相邻的组进行卡方检验，卡方检验的P值很大的组进行合并，直到数据的组数小于设定的N箱为止。   \n",
    "第四，观察不同分箱个数下IV值的变化，找出最合适的分箱个数（在信息损失尽可能小的情况下，减少分箱的个数）。 "
   ]
  },
  {
   "cell_type": "markdown",
   "metadata": {},
   "source": [
    "### 3.1 对特征进行人工等频分箱，然后为每个特征寻找最优区间划分方法"
   ]
  },
  {
   "cell_type": "code",
   "execution_count": 41,
   "metadata": {},
   "outputs": [
    {
     "data": {
      "text/html": [
       "<div>\n",
       "<style scoped>\n",
       "    .dataframe tbody tr th:only-of-type {\n",
       "        vertical-align: middle;\n",
       "    }\n",
       "\n",
       "    .dataframe tbody tr th {\n",
       "        vertical-align: top;\n",
       "    }\n",
       "\n",
       "    .dataframe thead th {\n",
       "        text-align: right;\n",
       "    }\n",
       "</style>\n",
       "<table border=\"1\" class=\"dataframe\">\n",
       "  <thead>\n",
       "    <tr style=\"text-align: right;\">\n",
       "      <th></th>\n",
       "      <th>min</th>\n",
       "      <th>max</th>\n",
       "      <th>count_0</th>\n",
       "      <th>count_1</th>\n",
       "    </tr>\n",
       "  </thead>\n",
       "  <tbody>\n",
       "    <tr>\n",
       "      <th>0</th>\n",
       "      <td>21.0</td>\n",
       "      <td>28.0</td>\n",
       "      <td>4242</td>\n",
       "      <td>7581</td>\n",
       "    </tr>\n",
       "    <tr>\n",
       "      <th>1</th>\n",
       "      <td>28.0</td>\n",
       "      <td>31.0</td>\n",
       "      <td>3490</td>\n",
       "      <td>5949</td>\n",
       "    </tr>\n",
       "    <tr>\n",
       "      <th>2</th>\n",
       "      <td>31.0</td>\n",
       "      <td>34.0</td>\n",
       "      <td>4051</td>\n",
       "      <td>6844</td>\n",
       "    </tr>\n",
       "    <tr>\n",
       "      <th>3</th>\n",
       "      <td>34.0</td>\n",
       "      <td>36.0</td>\n",
       "      <td>2919</td>\n",
       "      <td>4761</td>\n",
       "    </tr>\n",
       "    <tr>\n",
       "      <th>4</th>\n",
       "      <td>36.0</td>\n",
       "      <td>39.0</td>\n",
       "      <td>5158</td>\n",
       "      <td>7549</td>\n",
       "    </tr>\n",
       "  </tbody>\n",
       "</table>\n",
       "</div>"
      ],
      "text/plain": [
       "    min   max  count_0  count_1\n",
       "0  21.0  28.0     4242     7581\n",
       "1  28.0  31.0     3490     5949\n",
       "2  31.0  34.0     4051     6844\n",
       "3  34.0  36.0     2919     4761\n",
       "4  36.0  39.0     5158     7549"
      ]
     },
     "execution_count": 41,
     "metadata": {},
     "output_type": "execute_result"
    }
   ],
   "source": [
    "#实验一下\n",
    "model_data['qcut'], updown = pd.qcut(model_data['age'],retbins=True,q=20)\n",
    "\n",
    "count_y0 = model_data[model_data['SeriousDlqin2yrs']==0].groupby(by='qcut').count()['SeriousDlqin2yrs']\n",
    "count_y1 = model_data[model_data['SeriousDlqin2yrs']==1].groupby(by='qcut').count()['SeriousDlqin2yrs']\n",
    "\n",
    "num_bins = [*zip(updown,updown[1:],count_y0,count_y1)]\n",
    "\n",
    "columns = ['min','max','count_0','count_1']\n",
    "df = pd.DataFrame(num_bins,columns=columns)\n",
    "df.head()"
   ]
  },
  {
   "cell_type": "code",
   "execution_count": 42,
   "metadata": {},
   "outputs": [],
   "source": [
    "import scipy\n",
    "def graphforbestbin(DF,X,Y,n=5,q=20,graph=True):\n",
    "    \"\"\"\n",
    "    自动最优分箱函数，基于卡方检验\n",
    "    \n",
    "    参数：\n",
    "    DF:需要输入的数据\n",
    "    X:需要分箱的列名\n",
    "    Y:分箱数据对应的标签\n",
    "    n:保留分箱的个数\n",
    "    q:初始分箱的个数\n",
    "    graph:是否要画出IV图像\n",
    "    \n",
    "    区间为前开后闭\n",
    "    \n",
    "    \"\"\"\n",
    "    DF = DF[[X,Y]].copy()\n",
    "    bins_df = 0\n",
    "    \n",
    "    #先把数据分成q箱\n",
    "    DF['qcut'], bins = pd.qcut(DF[X],retbins=True,q=q,duplicates='drop')\n",
    "    count_y0 = model_data[DF[Y]==0].groupby(by='qcut').count()[Y]\n",
    "    count_y1 = model_data[DF[Y]==1].groupby(by='qcut').count()[Y]\n",
    "    num_bins = [*zip(bins,bins[1:],count_y0,count_y1)]\n",
    "    \n",
    "    #如果某个箱子里有0，就进行合并。保证每个箱子中正负样本的数量都不为0\n",
    "    for i in range(q):\n",
    "        if 0 in num_bins[0][2:]:\n",
    "            num_bins[0:2] = [(num_bins[0][0],\n",
    "                              num_bins[1][1],\n",
    "                              num_bins[0][2]+num_bins[1][2],\n",
    "                              num_bins[0][3]+num_bins[1][3]\n",
    "                             )]\n",
    "            continue\n",
    "            \n",
    "        for i in range(len(num_bins)):\n",
    "            if 0 in num_bins[i][2:]:\n",
    "                num_bins[i-1:i+1] = [(num_bins[i-1][0],\n",
    "                                  num_bins[i][1],\n",
    "                                  num_bins[i-1][2]+num_bins[i][2],\n",
    "                                  num_bins[i-1][3]+num_bins[i][3]\n",
    "                                 )]\n",
    "            break\n",
    "        else:\n",
    "            break\n",
    "    \n",
    "    #计算woe函数\n",
    "    def get_woe(num_bins):\n",
    "        columns = ['min','max','count_0','count_1']\n",
    "        df = pd.DataFrame(num_bins,columns=columns)\n",
    "\n",
    "        df['total'] = df.count_0 + df.count_1   #一个箱中样本的总数量\n",
    "        df['percentage'] = df.total / df.total.sum()    #一个箱中的样本数占全部样本总数的比例\n",
    "        df['bad_rate'] = df.count_1 / df.total  \n",
    "        df['good%'] = df.count_0 / df.count_0.sum()\n",
    "        df['bad%'] = df.count_1 / df.count_1.sum()\n",
    "        df['woe'] = np.log(df['good%']/df['bad%'])\n",
    "        return df\n",
    "    \n",
    "    #计算IV值的函数\n",
    "    def get_iv(df):\n",
    "        rate = df['good%'] - df['bad%']\n",
    "        iv = np.sum(rate * df.woe)\n",
    "        return iv\n",
    "    \n",
    "    #利用卡方值合并箱体，合并完毕之后计算woe与IV值。\n",
    "    IV = []\n",
    "    axisx = []\n",
    "\n",
    "    while len(num_bins) > n:\n",
    "        pvs = []\n",
    "        #获得num_bins两两之间的卡方值\n",
    "        for i in range(len(num_bins)-1):\n",
    "            x1 = num_bins[i][2:]\n",
    "            x2 = num_bins[i+1][2:]\n",
    "            pv = scipy.stats.chi2_contingency([x1,x2])[1]\n",
    "            pvs.append(pv)\n",
    "\n",
    "        #合并p值最大的两组\n",
    "        i = pvs.index(max(pvs))\n",
    "        num_bins[i:i+2] = [(\n",
    "                      num_bins[i][0],\n",
    "                      num_bins[i+1][1],\n",
    "                      num_bins[i][2]+num_bins[i+1][2],\n",
    "                      num_bins[i][3]+num_bins[i+1][3]\n",
    "                                    )]\n",
    "        bins_df = get_woe(num_bins)\n",
    "        axisx.append(len(num_bins))\n",
    "        IV.append(get_iv(bins_df))\n",
    "    \n",
    "    #绘图\n",
    "    if graph:\n",
    "        plt.figure()\n",
    "        plt.plot(axisx,IV)\n",
    "        plt.xticks(axisx)\n",
    "        plt.xlabel('number of box')\n",
    "        plt.ylabel('IV value')\n",
    "        plt.show()\n",
    "    \n",
    "    return bins_df"
   ]
  },
  {
   "cell_type": "code",
   "execution_count": 43,
   "metadata": {},
   "outputs": [
    {
     "name": "stdout",
     "output_type": "stream",
     "text": [
      "RevolvingUtilizationOfUnsecuredLines\n"
     ]
    },
    {
     "data": {
      "image/png": "[encoded data removed]",
      "text/plain": [
       "<Figure size 432x288 with 1 Axes>"
      ]
     },
     "metadata": {
      "needs_background": "light"
     },
     "output_type": "display_data"
    },
    {
     "name": "stdout",
     "output_type": "stream",
     "text": [
      "age\n"
     ]
    },
    {
     "data": {
      "image/png": "[encoded data removed]",
      "text/plain": [
       "<Figure size 432x288 with 1 Axes>"
      ]
     },
     "metadata": {
      "needs_background": "light"
     },
     "output_type": "display_data"
    },
    {
     "name": "stdout",
     "output_type": "stream",
     "text": [
      "NumberOfTime30-59DaysPastDueNotWorse\n"
     ]
    },
    {
     "data": {
      "image/png": "[encoded data removed]",
      "text/plain": [
       "<Figure size 432x288 with 1 Axes>"
      ]
     },
     "metadata": {
      "needs_background": "light"
     },
     "output_type": "display_data"
    },
    {
     "name": "stdout",
     "output_type": "stream",
     "text": [
      "DebtRatio\n"
     ]
    },
    {
     "data": {
      "image/png": "[encoded data removed]",
      "text/plain": [
       "<Figure size 432x288 with 1 Axes>"
      ]
     },
     "metadata": {
      "needs_background": "light"
     },
     "output_type": "display_data"
    },
    {
     "name": "stdout",
     "output_type": "stream",
     "text": [
      "MonthlyIncome\n"
     ]
    },
    {
     "data": {
      "image/png": "[encoded data removed]",
      "text/plain": [
       "<Figure size 432x288 with 1 Axes>"
      ]
     },
     "metadata": {
      "needs_background": "light"
     },
     "output_type": "display_data"
    },
    {
     "name": "stdout",
     "output_type": "stream",
     "text": [
      "NumberOfOpenCreditLinesAndLoans\n"
     ]
    },
    {
     "data": {
      "image/png": "[encoded data removed]",
      "text/plain": [
       "<Figure size 432x288 with 1 Axes>"
      ]
     },
     "metadata": {
      "needs_background": "light"
     },
     "output_type": "display_data"
    },
    {
     "name": "stdout",
     "output_type": "stream",
     "text": [
      "NumberOfTimes90DaysLate\n"
     ]
    },
    {
     "data": {
      "image/png": "[encoded data removed]",
      "text/plain": [
       "<Figure size 432x288 with 1 Axes>"
      ]
     },
     "metadata": {
      "needs_background": "light"
     },
     "output_type": "display_data"
    },
    {
     "name": "stdout",
     "output_type": "stream",
     "text": [
      "NumberRealEstateLoansOrLines\n"
     ]
    },
    {
     "data": {
      "image/png": "[encoded data removed]",
      "text/plain": [
       "<Figure size 432x288 with 1 Axes>"
      ]
     },
     "metadata": {
      "needs_background": "light"
     },
     "output_type": "display_data"
    },
    {
     "name": "stdout",
     "output_type": "stream",
     "text": [
      "NumberOfTime60-89DaysPastDueNotWorse\n"
     ]
    },
    {
     "data": {
      "image/png": "[encoded data removed]",
      "text/plain": [
       "<Figure size 432x288 with 1 Axes>"
      ]
     },
     "metadata": {
      "needs_background": "light"
     },
     "output_type": "display_data"
    },
    {
     "name": "stdout",
     "output_type": "stream",
     "text": [
      "NumberOfDependents\n"
     ]
    },
    {
     "data": {
      "image/png": "[encoded data removed]",
      "text/plain": [
       "<Figure size 432x288 with 1 Axes>"
      ]
     },
     "metadata": {
      "needs_background": "light"
     },
     "output_type": "display_data"
    }
   ],
   "source": [
    "for i in model_data.columns[1:-1]:\n",
    "    print(i)\n",
    "    graphforbestbin(model_data,i,'SeriousDlqin2yrs',n=2,q=20)"
   ]
  },
  {
   "cell_type": "markdown",
   "metadata": {},
   "source": [
    "能够正常的自动分箱的特征有：  \n",
    "1 RevolvingUtilizationOfUnsecuredLines : 6   \n",
    "2 age : 5   \n",
    "3 DebtRatio : 4   \n",
    "4 MonthlyIncome : 3   \n",
    "5 NumberOfOpenCreditLinesAndLoans : 5   \n",
    "\n",
    "自动分箱存在问题的特征有：  \n",
    "1 NumberOfTime30-59DaysPastDueNotWorse   \n",
    "2 NumberOfTimes90DaysLate   \n",
    "3 NumberRealEstateLoansOrLines   \n",
    "4 NumberOfTime60-89DaysPastDueNotWorse   \n",
    "5 NumberOfDependents   "
   ]
  },
  {
   "cell_type": "code",
   "execution_count": 44,
   "metadata": {},
   "outputs": [],
   "source": [
    "#对于不能够进行自动分箱的特征，我们需要观察这些特征，手动设置这些特征的区间划分\n",
    "hand_bins = {\n",
    "    'NumberOfTime30-59DaysPastDueNotWorse':[0,1,2,13],\n",
    "    'NumberOfTimes90DaysLate':[0,1,2,17],\n",
    "    'NumberRealEstateLoansOrLines':[0,1,2,4,54],\n",
    "    'NumberOfTime60-89DaysPastDueNotWorse':[0,1,2,8],\n",
    "    'NumberOfDependents':[0,1,2,3]\n",
    "}\n",
    "\n",
    "#为了保证区间全覆盖，我们使用np.inf来替换区间的最大值，使用-np.inf来替换区间的最小值\n",
    "hand_bins = {k:[-np.inf,*v[:-1],np.inf] for k,v in hand_bins.items()}"
   ]
  },
  {
   "cell_type": "code",
   "execution_count": 45,
   "metadata": {},
   "outputs": [],
   "source": [
    "#对于能够使用函数进行自动分箱的特征，我们已经找到了他们的最佳分箱个数\n",
    "auto_col_bins = {\n",
    "    'RevolvingUtilizationOfUnsecuredLines':6,\n",
    "    'age':5,\n",
    "    'DebtRatio':4,\n",
    "    'MonthlyIncome':3,\n",
    "    'NumberOfOpenCreditLinesAndLoans':5\n",
    "}\n",
    "\n",
    "#利用我们找到的最佳分箱个数来找到相应的区间划分\n",
    "bins_of_col = {}\n",
    "\n",
    "for col in auto_col_bins:\n",
    "    bins_df = graphforbestbin(model_data,\n",
    "                              col,\n",
    "                              'SeriousDlqin2yrs',\n",
    "                              n=auto_col_bins[col],\n",
    "                              q=20,\n",
    "                              graph=False)\n",
    "    \n",
    "    #将区间上界的集合与区间下界的集合合并，并且按照从小到大进行排序\n",
    "    bins_list = sorted(set(bins_df['min']).union(bins_df['max']))\n",
    "    \n",
    "    #为保证区间覆盖\n",
    "    bins_list[0],bins_list[-1] = -np.inf, np.inf\n",
    "    bins_of_col[col] = bins_list"
   ]
  },
  {
   "cell_type": "code",
   "execution_count": 46,
   "metadata": {},
   "outputs": [
    {
     "data": {
      "text/plain": [
       "{'RevolvingUtilizationOfUnsecuredLines': [-inf,\n",
       "  0.0600298936,\n",
       "  0.7212722306499999,\n",
       "  0.9338410534408832,\n",
       "  0.9819926464600593,\n",
       "  1.0186942255543843,\n",
       "  inf],\n",
       " 'age': [-inf, 36.0, 54.0, 61.0, 74.0, inf],\n",
       " 'DebtRatio': [-inf, 0.571942974, 1.4636922988215577, 2346.0, inf],\n",
       " 'MonthlyIncome': [-inf, 5600.0, 7713.895102171025, inf],\n",
       " 'NumberOfOpenCreditLinesAndLoans': [-inf, 4.0, 9.0, 12.0, 13.0, inf],\n",
       " 'NumberOfTime30-59DaysPastDueNotWorse': [-inf, 0, 1, 2, inf],\n",
       " 'NumberOfTimes90DaysLate': [-inf, 0, 1, 2, inf],\n",
       " 'NumberRealEstateLoansOrLines': [-inf, 0, 1, 2, 4, inf],\n",
       " 'NumberOfTime60-89DaysPastDueNotWorse': [-inf, 0, 1, 2, inf],\n",
       " 'NumberOfDependents': [-inf, 0, 1, 2, inf]}"
      ]
     },
     "execution_count": 46,
     "metadata": {},
     "output_type": "execute_result"
    }
   ],
   "source": [
    "#Python字典中的update方法：将字典2中的键值对更新到字典1中\n",
    "bins_of_col.update(hand_bins)\n",
    "bins_of_col"
   ]
  },
  {
   "cell_type": "markdown",
   "metadata": {},
   "source": [
    "### 3.2 利用计算好的区间划分方法为每个特征进行分箱"
   ]
  },
  {
   "cell_type": "code",
   "execution_count": 47,
   "metadata": {},
   "outputs": [],
   "source": [
    "#一个新的get_woe函数，用于按照之前的区间划分进行分箱\n",
    "#为每个分箱计算相应的woe值，用于之后的实际分箱之后的映射\n",
    "def get_woe(df,col,y,bins):\n",
    "    df = df[[col,y]].copy()\n",
    "    df['cut'] = pd.cut(df[col],bins)\n",
    "    bins_df = df.groupby('cut')[y].value_counts().unstack()\n",
    "    woe = bins_df['woe'] = np.log((bins_df[0]/bins_df[0].sum()) / (bins_df[1]/bins_df[1].sum()))\n",
    "    \n",
    "    return woe"
   ]
  },
  {
   "cell_type": "code",
   "execution_count": 48,
   "metadata": {},
   "outputs": [
    {
     "data": {
      "text/plain": [
       "{'RevolvingUtilizationOfUnsecuredLines': cut\n",
       " (-inf, 0.06]      2.431317\n",
       " (0.06, 0.721]     0.090728\n",
       " (0.721, 0.934]   -1.284959\n",
       " (0.934, 0.982]   -1.515290\n",
       " (0.982, 1.019]   -0.662113\n",
       " (1.019, inf]     -2.093454\n",
       " dtype: float64,\n",
       " 'age': cut\n",
       " (-inf, 36.0]   -0.537303\n",
       " (36.0, 54.0]   -0.276776\n",
       " (54.0, 61.0]    0.254463\n",
       " (61.0, 74.0]    1.011028\n",
       " (74.0, inf]     1.723781\n",
       " dtype: float64,\n",
       " 'DebtRatio': cut\n",
       " (-inf, 0.572]      0.059598\n",
       " (0.572, 1.464]    -0.506913\n",
       " (1.464, 2346.0]    0.177824\n",
       " (2346.0, inf]      0.183101\n",
       " dtype: float64,\n",
       " 'MonthlyIncome': cut\n",
       " (-inf, 5600.0]       -0.126142\n",
       " (5600.0, 7713.895]    0.068484\n",
       " (7713.895, inf]       0.363981\n",
       " dtype: float64,\n",
       " 'NumberOfOpenCreditLinesAndLoans': cut\n",
       " (-inf, 4.0]    -0.367587\n",
       " (4.0, 9.0]      0.083529\n",
       " (9.0, 12.0]     0.131700\n",
       " (12.0, 13.0]    0.165273\n",
       " (13.0, inf]     0.262089\n",
       " dtype: float64,\n",
       " 'NumberOfTime30-59DaysPastDueNotWorse': cut\n",
       " (-inf, 0.0]    0.354262\n",
       " (0.0, 1.0]    -0.883368\n",
       " (1.0, 2.0]    -1.373025\n",
       " (2.0, inf]    -1.541361\n",
       " dtype: float64,\n",
       " 'NumberOfTimes90DaysLate': cut\n",
       " (-inf, 0.0]    0.234325\n",
       " (0.0, 1.0]    -1.738011\n",
       " (1.0, 2.0]    -2.266690\n",
       " (2.0, inf]    -2.413017\n",
       " dtype: float64,\n",
       " 'NumberRealEstateLoansOrLines': cut\n",
       " (-inf, 0.0]   -0.398853\n",
       " (0.0, 1.0]     0.197030\n",
       " (1.0, 2.0]     0.631225\n",
       " (2.0, 4.0]     0.382268\n",
       " (4.0, inf]    -0.308745\n",
       " dtype: float64,\n",
       " 'NumberOfTime60-89DaysPastDueNotWorse': cut\n",
       " (-inf, 0.0]    0.125370\n",
       " (0.0, 1.0]    -1.398259\n",
       " (1.0, 2.0]    -1.850696\n",
       " (2.0, inf]    -1.699129\n",
       " dtype: float64,\n",
       " 'NumberOfDependents': cut\n",
       " (-inf, 0.0]    0.660103\n",
       " (0.0, 1.0]    -0.527457\n",
       " (1.0, 2.0]    -0.530436\n",
       " (2.0, inf]    -0.471688\n",
       " dtype: float64}"
      ]
     },
     "execution_count": 48,
     "metadata": {},
     "output_type": "execute_result"
    }
   ],
   "source": [
    "#将所有特征进行get_woe操作，然后，将计算出的结果存储到一个字典中\n",
    "woeall = {}\n",
    "for col in bins_of_col:\n",
    "    woeall[col] = get_woe(model_data,col,'SeriousDlqin2yrs',bins_of_col[col])\n",
    "\n",
    "woeall"
   ]
  },
  {
   "cell_type": "code",
   "execution_count": 49,
   "metadata": {},
   "outputs": [],
   "source": [
    "#将所有的woe值映射到原始数据中\n",
    "\n",
    "#由于不希望覆盖掉原本的数据，所以我们提前创建一个原始数据索引相同的DataFrame\n",
    "model_woe = pd.DataFrame(index=model_data.index)\n",
    "\n",
    "#对所有特征进行分箱与woe映射操作\n",
    "for col in bins_of_col:\n",
    "    model_woe[col] = pd.cut(model_data[col],bins_of_col[col]).map(woeall[col])"
   ]
  },
  {
   "cell_type": "code",
   "execution_count": 50,
   "metadata": {},
   "outputs": [
    {
     "data": {
      "text/html": [
       "<div>\n",
       "<style scoped>\n",
       "    .dataframe tbody tr th:only-of-type {\n",
       "        vertical-align: middle;\n",
       "    }\n",
       "\n",
       "    .dataframe tbody tr th {\n",
       "        vertical-align: top;\n",
       "    }\n",
       "\n",
       "    .dataframe thead th {\n",
       "        text-align: right;\n",
       "    }\n",
       "</style>\n",
       "<table border=\"1\" class=\"dataframe\">\n",
       "  <thead>\n",
       "    <tr style=\"text-align: right;\">\n",
       "      <th></th>\n",
       "      <th>RevolvingUtilizationOfUnsecuredLines</th>\n",
       "      <th>age</th>\n",
       "      <th>DebtRatio</th>\n",
       "      <th>MonthlyIncome</th>\n",
       "      <th>NumberOfOpenCreditLinesAndLoans</th>\n",
       "      <th>NumberOfTime30-59DaysPastDueNotWorse</th>\n",
       "      <th>NumberOfTimes90DaysLate</th>\n",
       "      <th>NumberRealEstateLoansOrLines</th>\n",
       "      <th>NumberOfTime60-89DaysPastDueNotWorse</th>\n",
       "      <th>NumberOfDependents</th>\n",
       "    </tr>\n",
       "  </thead>\n",
       "  <tbody>\n",
       "    <tr>\n",
       "      <th>0</th>\n",
       "      <td>0.090728</td>\n",
       "      <td>-0.537303</td>\n",
       "      <td>0.059598</td>\n",
       "      <td>-0.126142</td>\n",
       "      <td>0.083529</td>\n",
       "      <td>0.354262</td>\n",
       "      <td>0.234325</td>\n",
       "      <td>0.197030</td>\n",
       "      <td>0.12537</td>\n",
       "      <td>-0.530436</td>\n",
       "    </tr>\n",
       "    <tr>\n",
       "      <th>1</th>\n",
       "      <td>0.090728</td>\n",
       "      <td>1.011028</td>\n",
       "      <td>0.183101</td>\n",
       "      <td>-0.126142</td>\n",
       "      <td>0.262089</td>\n",
       "      <td>0.354262</td>\n",
       "      <td>0.234325</td>\n",
       "      <td>0.631225</td>\n",
       "      <td>0.12537</td>\n",
       "      <td>0.660103</td>\n",
       "    </tr>\n",
       "    <tr>\n",
       "      <th>2</th>\n",
       "      <td>0.090728</td>\n",
       "      <td>-0.276776</td>\n",
       "      <td>0.059598</td>\n",
       "      <td>0.068484</td>\n",
       "      <td>0.083529</td>\n",
       "      <td>-0.883368</td>\n",
       "      <td>0.234325</td>\n",
       "      <td>-0.398853</td>\n",
       "      <td>0.12537</td>\n",
       "      <td>-0.527457</td>\n",
       "    </tr>\n",
       "    <tr>\n",
       "      <th>3</th>\n",
       "      <td>2.431317</td>\n",
       "      <td>-0.537303</td>\n",
       "      <td>0.059598</td>\n",
       "      <td>0.068484</td>\n",
       "      <td>0.131700</td>\n",
       "      <td>0.354262</td>\n",
       "      <td>0.234325</td>\n",
       "      <td>0.631225</td>\n",
       "      <td>0.12537</td>\n",
       "      <td>-0.471688</td>\n",
       "    </tr>\n",
       "    <tr>\n",
       "      <th>4</th>\n",
       "      <td>2.431317</td>\n",
       "      <td>0.254463</td>\n",
       "      <td>0.059598</td>\n",
       "      <td>0.363981</td>\n",
       "      <td>-0.367587</td>\n",
       "      <td>0.354262</td>\n",
       "      <td>0.234325</td>\n",
       "      <td>-0.398853</td>\n",
       "      <td>0.12537</td>\n",
       "      <td>-0.530436</td>\n",
       "    </tr>\n",
       "    <tr>\n",
       "      <th>...</th>\n",
       "      <td>...</td>\n",
       "      <td>...</td>\n",
       "      <td>...</td>\n",
       "      <td>...</td>\n",
       "      <td>...</td>\n",
       "      <td>...</td>\n",
       "      <td>...</td>\n",
       "      <td>...</td>\n",
       "      <td>...</td>\n",
       "      <td>...</td>\n",
       "    </tr>\n",
       "    <tr>\n",
       "      <th>195003</th>\n",
       "      <td>2.431317</td>\n",
       "      <td>-0.276776</td>\n",
       "      <td>0.059598</td>\n",
       "      <td>0.363981</td>\n",
       "      <td>0.083529</td>\n",
       "      <td>0.354262</td>\n",
       "      <td>0.234325</td>\n",
       "      <td>0.197030</td>\n",
       "      <td>0.12537</td>\n",
       "      <td>-0.530436</td>\n",
       "    </tr>\n",
       "    <tr>\n",
       "      <th>195004</th>\n",
       "      <td>2.431317</td>\n",
       "      <td>-0.276776</td>\n",
       "      <td>0.177824</td>\n",
       "      <td>-0.126142</td>\n",
       "      <td>0.083529</td>\n",
       "      <td>0.354262</td>\n",
       "      <td>0.234325</td>\n",
       "      <td>0.197030</td>\n",
       "      <td>0.12537</td>\n",
       "      <td>0.660103</td>\n",
       "    </tr>\n",
       "    <tr>\n",
       "      <th>195005</th>\n",
       "      <td>-1.515290</td>\n",
       "      <td>-0.276776</td>\n",
       "      <td>0.177824</td>\n",
       "      <td>-0.126142</td>\n",
       "      <td>-0.367587</td>\n",
       "      <td>0.354262</td>\n",
       "      <td>-1.738011</td>\n",
       "      <td>-0.398853</td>\n",
       "      <td>0.12537</td>\n",
       "      <td>-0.530436</td>\n",
       "    </tr>\n",
       "    <tr>\n",
       "      <th>195006</th>\n",
       "      <td>0.090728</td>\n",
       "      <td>0.254463</td>\n",
       "      <td>0.177824</td>\n",
       "      <td>-0.126142</td>\n",
       "      <td>0.262089</td>\n",
       "      <td>0.354262</td>\n",
       "      <td>0.234325</td>\n",
       "      <td>0.631225</td>\n",
       "      <td>0.12537</td>\n",
       "      <td>-0.530436</td>\n",
       "    </tr>\n",
       "    <tr>\n",
       "      <th>195007</th>\n",
       "      <td>2.431317</td>\n",
       "      <td>-0.537303</td>\n",
       "      <td>0.059598</td>\n",
       "      <td>-0.126142</td>\n",
       "      <td>-0.367587</td>\n",
       "      <td>-0.883368</td>\n",
       "      <td>0.234325</td>\n",
       "      <td>-0.398853</td>\n",
       "      <td>0.12537</td>\n",
       "      <td>-0.530436</td>\n",
       "    </tr>\n",
       "  </tbody>\n",
       "</table>\n",
       "<p>195008 rows × 10 columns</p>\n",
       "</div>"
      ],
      "text/plain": [
       "       RevolvingUtilizationOfUnsecuredLines       age DebtRatio MonthlyIncome  \\\n",
       "0                                  0.090728 -0.537303  0.059598     -0.126142   \n",
       "1                                  0.090728  1.011028  0.183101     -0.126142   \n",
       "2                                  0.090728 -0.276776  0.059598      0.068484   \n",
       "3                                  2.431317 -0.537303  0.059598      0.068484   \n",
       "4                                  2.431317  0.254463  0.059598      0.363981   \n",
       "...                                     ...       ...       ...           ...   \n",
       "195003                             2.431317 -0.276776  0.059598      0.363981   \n",
       "195004                             2.431317 -0.276776  0.177824     -0.126142   \n",
       "195005                            -1.515290 -0.276776  0.177824     -0.126142   \n",
       "195006                             0.090728  0.254463  0.177824     -0.126142   \n",
       "195007                             2.431317 -0.537303  0.059598     -0.126142   \n",
       "\n",
       "       NumberOfOpenCreditLinesAndLoans NumberOfTime30-59DaysPastDueNotWorse  \\\n",
       "0                             0.083529                             0.354262   \n",
       "1                             0.262089                             0.354262   \n",
       "2                             0.083529                            -0.883368   \n",
       "3                             0.131700                             0.354262   \n",
       "4                            -0.367587                             0.354262   \n",
       "...                                ...                                  ...   \n",
       "195003                        0.083529                             0.354262   \n",
       "195004                        0.083529                             0.354262   \n",
       "195005                       -0.367587                             0.354262   \n",
       "195006                        0.262089                             0.354262   \n",
       "195007                       -0.367587                            -0.883368   \n",
       "\n",
       "       NumberOfTimes90DaysLate NumberRealEstateLoansOrLines  \\\n",
       "0                     0.234325                     0.197030   \n",
       "1                     0.234325                     0.631225   \n",
       "2                     0.234325                    -0.398853   \n",
       "3                     0.234325                     0.631225   \n",
       "4                     0.234325                    -0.398853   \n",
       "...                        ...                          ...   \n",
       "195003                0.234325                     0.197030   \n",
       "195004                0.234325                     0.197030   \n",
       "195005               -1.738011                    -0.398853   \n",
       "195006                0.234325                     0.631225   \n",
       "195007                0.234325                    -0.398853   \n",
       "\n",
       "       NumberOfTime60-89DaysPastDueNotWorse NumberOfDependents  \n",
       "0                                   0.12537          -0.530436  \n",
       "1                                   0.12537           0.660103  \n",
       "2                                   0.12537          -0.527457  \n",
       "3                                   0.12537          -0.471688  \n",
       "4                                   0.12537          -0.530436  \n",
       "...                                     ...                ...  \n",
       "195003                              0.12537          -0.530436  \n",
       "195004                              0.12537           0.660103  \n",
       "195005                              0.12537          -0.530436  \n",
       "195006                              0.12537          -0.530436  \n",
       "195007                              0.12537          -0.530436  \n",
       "\n",
       "[195008 rows x 10 columns]"
      ]
     },
     "execution_count": 50,
     "metadata": {},
     "output_type": "execute_result"
    }
   ],
   "source": [
    "model_woe"
   ]
  },
  {
   "cell_type": "code",
   "execution_count": 51,
   "metadata": {},
   "outputs": [
    {
     "data": {
      "text/html": [
       "<div>\n",
       "<style scoped>\n",
       "    .dataframe tbody tr th:only-of-type {\n",
       "        vertical-align: middle;\n",
       "    }\n",
       "\n",
       "    .dataframe tbody tr th {\n",
       "        vertical-align: top;\n",
       "    }\n",
       "\n",
       "    .dataframe thead th {\n",
       "        text-align: right;\n",
       "    }\n",
       "</style>\n",
       "<table border=\"1\" class=\"dataframe\">\n",
       "  <thead>\n",
       "    <tr style=\"text-align: right;\">\n",
       "      <th></th>\n",
       "      <th>RevolvingUtilizationOfUnsecuredLines</th>\n",
       "      <th>age</th>\n",
       "      <th>DebtRatio</th>\n",
       "      <th>MonthlyIncome</th>\n",
       "      <th>NumberOfOpenCreditLinesAndLoans</th>\n",
       "      <th>NumberOfTime30-59DaysPastDueNotWorse</th>\n",
       "      <th>NumberOfTimes90DaysLate</th>\n",
       "      <th>NumberRealEstateLoansOrLines</th>\n",
       "      <th>NumberOfTime60-89DaysPastDueNotWorse</th>\n",
       "      <th>NumberOfDependents</th>\n",
       "      <th>SeriousDlqin2yrs</th>\n",
       "    </tr>\n",
       "  </thead>\n",
       "  <tbody>\n",
       "    <tr>\n",
       "      <th>0</th>\n",
       "      <td>0.090728</td>\n",
       "      <td>-0.537303</td>\n",
       "      <td>0.059598</td>\n",
       "      <td>-0.126142</td>\n",
       "      <td>0.083529</td>\n",
       "      <td>0.354262</td>\n",
       "      <td>0.234325</td>\n",
       "      <td>0.197030</td>\n",
       "      <td>0.12537</td>\n",
       "      <td>-0.530436</td>\n",
       "      <td>0</td>\n",
       "    </tr>\n",
       "    <tr>\n",
       "      <th>1</th>\n",
       "      <td>0.090728</td>\n",
       "      <td>1.011028</td>\n",
       "      <td>0.183101</td>\n",
       "      <td>-0.126142</td>\n",
       "      <td>0.262089</td>\n",
       "      <td>0.354262</td>\n",
       "      <td>0.234325</td>\n",
       "      <td>0.631225</td>\n",
       "      <td>0.12537</td>\n",
       "      <td>0.660103</td>\n",
       "      <td>0</td>\n",
       "    </tr>\n",
       "    <tr>\n",
       "      <th>2</th>\n",
       "      <td>0.090728</td>\n",
       "      <td>-0.276776</td>\n",
       "      <td>0.059598</td>\n",
       "      <td>0.068484</td>\n",
       "      <td>0.083529</td>\n",
       "      <td>-0.883368</td>\n",
       "      <td>0.234325</td>\n",
       "      <td>-0.398853</td>\n",
       "      <td>0.12537</td>\n",
       "      <td>-0.527457</td>\n",
       "      <td>1</td>\n",
       "    </tr>\n",
       "    <tr>\n",
       "      <th>3</th>\n",
       "      <td>2.431317</td>\n",
       "      <td>-0.537303</td>\n",
       "      <td>0.059598</td>\n",
       "      <td>0.068484</td>\n",
       "      <td>0.131700</td>\n",
       "      <td>0.354262</td>\n",
       "      <td>0.234325</td>\n",
       "      <td>0.631225</td>\n",
       "      <td>0.12537</td>\n",
       "      <td>-0.471688</td>\n",
       "      <td>0</td>\n",
       "    </tr>\n",
       "    <tr>\n",
       "      <th>4</th>\n",
       "      <td>2.431317</td>\n",
       "      <td>0.254463</td>\n",
       "      <td>0.059598</td>\n",
       "      <td>0.363981</td>\n",
       "      <td>-0.367587</td>\n",
       "      <td>0.354262</td>\n",
       "      <td>0.234325</td>\n",
       "      <td>-0.398853</td>\n",
       "      <td>0.12537</td>\n",
       "      <td>-0.530436</td>\n",
       "      <td>0</td>\n",
       "    </tr>\n",
       "  </tbody>\n",
       "</table>\n",
       "</div>"
      ],
      "text/plain": [
       "  RevolvingUtilizationOfUnsecuredLines       age DebtRatio MonthlyIncome  \\\n",
       "0                             0.090728 -0.537303  0.059598     -0.126142   \n",
       "1                             0.090728  1.011028  0.183101     -0.126142   \n",
       "2                             0.090728 -0.276776  0.059598      0.068484   \n",
       "3                             2.431317 -0.537303  0.059598      0.068484   \n",
       "4                             2.431317  0.254463  0.059598      0.363981   \n",
       "\n",
       "  NumberOfOpenCreditLinesAndLoans NumberOfTime30-59DaysPastDueNotWorse  \\\n",
       "0                        0.083529                             0.354262   \n",
       "1                        0.262089                             0.354262   \n",
       "2                        0.083529                            -0.883368   \n",
       "3                        0.131700                             0.354262   \n",
       "4                       -0.367587                             0.354262   \n",
       "\n",
       "  NumberOfTimes90DaysLate NumberRealEstateLoansOrLines  \\\n",
       "0                0.234325                     0.197030   \n",
       "1                0.234325                     0.631225   \n",
       "2                0.234325                    -0.398853   \n",
       "3                0.234325                     0.631225   \n",
       "4                0.234325                    -0.398853   \n",
       "\n",
       "  NumberOfTime60-89DaysPastDueNotWorse NumberOfDependents  SeriousDlqin2yrs  \n",
       "0                              0.12537          -0.530436                 0  \n",
       "1                              0.12537           0.660103                 0  \n",
       "2                              0.12537          -0.527457                 1  \n",
       "3                              0.12537          -0.471688                 0  \n",
       "4                              0.12537          -0.530436                 0  "
      ]
     },
     "execution_count": 51,
     "metadata": {},
     "output_type": "execute_result"
    }
   ],
   "source": [
    "#将标签补充到数据中\n",
    "model_woe['SeriousDlqin2yrs'] = model_data['SeriousDlqin2yrs']\n",
    "model_woe.head()"
   ]
  },
  {
   "cell_type": "code",
   "execution_count": 52,
   "metadata": {},
   "outputs": [],
   "source": [
    "#处理完训练集还要对测试集进行处理\n",
    "vali_woe = pd.DataFrame(index=vali_data.index)\n",
    "\n",
    "#对测试集的所有特征进行分箱与woe映射操作\n",
    "for col in bins_of_col:\n",
    "    vali_woe[col] = pd.cut(vali_data[col],bins_of_col[col]).map(woeall[col])\n",
    "\n",
    "#将标签补充到数据中\n",
    "vali_woe['SeriousDlqin2yrs'] = vali_data['SeriousDlqin2yrs']"
   ]
  },
  {
   "cell_type": "code",
   "execution_count": 53,
   "metadata": {},
   "outputs": [
    {
     "data": {
      "text/html": [
       "<div>\n",
       "<style scoped>\n",
       "    .dataframe tbody tr th:only-of-type {\n",
       "        vertical-align: middle;\n",
       "    }\n",
       "\n",
       "    .dataframe tbody tr th {\n",
       "        vertical-align: top;\n",
       "    }\n",
       "\n",
       "    .dataframe thead th {\n",
       "        text-align: right;\n",
       "    }\n",
       "</style>\n",
       "<table border=\"1\" class=\"dataframe\">\n",
       "  <thead>\n",
       "    <tr style=\"text-align: right;\">\n",
       "      <th></th>\n",
       "      <th>RevolvingUtilizationOfUnsecuredLines</th>\n",
       "      <th>age</th>\n",
       "      <th>DebtRatio</th>\n",
       "      <th>MonthlyIncome</th>\n",
       "      <th>NumberOfOpenCreditLinesAndLoans</th>\n",
       "      <th>NumberOfTime30-59DaysPastDueNotWorse</th>\n",
       "      <th>NumberOfTimes90DaysLate</th>\n",
       "      <th>NumberRealEstateLoansOrLines</th>\n",
       "      <th>NumberOfTime60-89DaysPastDueNotWorse</th>\n",
       "      <th>NumberOfDependents</th>\n",
       "      <th>SeriousDlqin2yrs</th>\n",
       "    </tr>\n",
       "  </thead>\n",
       "  <tbody>\n",
       "    <tr>\n",
       "      <th>0</th>\n",
       "      <td>-1.284959</td>\n",
       "      <td>-0.537303</td>\n",
       "      <td>0.059598</td>\n",
       "      <td>-0.126142</td>\n",
       "      <td>-0.367587</td>\n",
       "      <td>0.354262</td>\n",
       "      <td>0.234325</td>\n",
       "      <td>-0.398853</td>\n",
       "      <td>0.125370</td>\n",
       "      <td>0.660103</td>\n",
       "      <td>1</td>\n",
       "    </tr>\n",
       "    <tr>\n",
       "      <th>1</th>\n",
       "      <td>0.090728</td>\n",
       "      <td>-0.276776</td>\n",
       "      <td>0.059598</td>\n",
       "      <td>0.068484</td>\n",
       "      <td>0.083529</td>\n",
       "      <td>-0.883368</td>\n",
       "      <td>0.234325</td>\n",
       "      <td>-0.398853</td>\n",
       "      <td>0.125370</td>\n",
       "      <td>-0.530436</td>\n",
       "      <td>1</td>\n",
       "    </tr>\n",
       "    <tr>\n",
       "      <th>2</th>\n",
       "      <td>-2.093454</td>\n",
       "      <td>-0.276776</td>\n",
       "      <td>0.059598</td>\n",
       "      <td>-0.126142</td>\n",
       "      <td>-0.367587</td>\n",
       "      <td>0.354262</td>\n",
       "      <td>0.234325</td>\n",
       "      <td>-0.398853</td>\n",
       "      <td>-1.398259</td>\n",
       "      <td>-0.471688</td>\n",
       "      <td>1</td>\n",
       "    </tr>\n",
       "    <tr>\n",
       "      <th>3</th>\n",
       "      <td>0.090728</td>\n",
       "      <td>-0.537303</td>\n",
       "      <td>0.183101</td>\n",
       "      <td>-0.126142</td>\n",
       "      <td>0.131700</td>\n",
       "      <td>0.354262</td>\n",
       "      <td>0.234325</td>\n",
       "      <td>0.631225</td>\n",
       "      <td>0.125370</td>\n",
       "      <td>0.660103</td>\n",
       "      <td>0</td>\n",
       "    </tr>\n",
       "    <tr>\n",
       "      <th>4</th>\n",
       "      <td>0.090728</td>\n",
       "      <td>0.254463</td>\n",
       "      <td>0.059598</td>\n",
       "      <td>-0.126142</td>\n",
       "      <td>0.083529</td>\n",
       "      <td>0.354262</td>\n",
       "      <td>0.234325</td>\n",
       "      <td>0.197030</td>\n",
       "      <td>0.125370</td>\n",
       "      <td>0.660103</td>\n",
       "      <td>0</td>\n",
       "    </tr>\n",
       "  </tbody>\n",
       "</table>\n",
       "</div>"
      ],
      "text/plain": [
       "  RevolvingUtilizationOfUnsecuredLines       age DebtRatio MonthlyIncome  \\\n",
       "0                            -1.284959 -0.537303  0.059598     -0.126142   \n",
       "1                             0.090728 -0.276776  0.059598      0.068484   \n",
       "2                            -2.093454 -0.276776  0.059598     -0.126142   \n",
       "3                             0.090728 -0.537303  0.183101     -0.126142   \n",
       "4                             0.090728  0.254463  0.059598     -0.126142   \n",
       "\n",
       "  NumberOfOpenCreditLinesAndLoans NumberOfTime30-59DaysPastDueNotWorse  \\\n",
       "0                       -0.367587                             0.354262   \n",
       "1                        0.083529                            -0.883368   \n",
       "2                       -0.367587                             0.354262   \n",
       "3                        0.131700                             0.354262   \n",
       "4                        0.083529                             0.354262   \n",
       "\n",
       "  NumberOfTimes90DaysLate NumberRealEstateLoansOrLines  \\\n",
       "0                0.234325                    -0.398853   \n",
       "1                0.234325                    -0.398853   \n",
       "2                0.234325                    -0.398853   \n",
       "3                0.234325                     0.631225   \n",
       "4                0.234325                     0.197030   \n",
       "\n",
       "  NumberOfTime60-89DaysPastDueNotWorse NumberOfDependents  SeriousDlqin2yrs  \n",
       "0                             0.125370           0.660103                 1  \n",
       "1                             0.125370          -0.530436                 1  \n",
       "2                            -1.398259          -0.471688                 1  \n",
       "3                             0.125370           0.660103                 0  \n",
       "4                             0.125370           0.660103                 0  "
      ]
     },
     "execution_count": 53,
     "metadata": {},
     "output_type": "execute_result"
    }
   ],
   "source": [
    "vali_woe.head()"
   ]
  },
  {
   "cell_type": "markdown",
   "metadata": {},
   "source": [
    "## 4 建立模型与模型验证 \n",
    "\n",
    "逻辑回归是一种名为回归的线性分类器，其本质是由线性回归变化而来的。\n",
    "\n",
    "线性回归算法的假设函数：  \n",
    "$\\mathrm{y}(\\mathrm{x})=\\theta_{0}+\\theta_{1} \\mathrm{x}_{1}+\\theta_{2} \\mathrm{x}_{2}+\\cdots+\\theta_{\\mathrm{n}} \\mathrm{x}_{\\mathrm{n}}=\\theta^{\\mathrm{T}} \\mathrm{x}$\n",
    "\n",
    "$\\theta$被统称为模型的参数，$\\theta_{0}$被称为截距（intercept），$\\theta_{1}$-$\\theta_{n}$被称为系数（coefficient）。\n",
    "\n",
    "逻辑回归算法的假设函数就是在线性回归的基础上加入了Sigmoid函数：$g(z)=\\frac{1}{1+e^{-z}}$，所以逻辑回归算法的假设函数为：\n",
    "\n",
    "$\\mathrm{y}(\\mathrm{x})=\\frac{1}{1+\\mathrm{e}^{-\\theta^{\\mathrm{T}} \\mathrm{x}}}$\n"
   ]
  },
  {
   "cell_type": "code",
   "execution_count": 54,
   "metadata": {},
   "outputs": [],
   "source": [
    "#准备训练数据\n",
    "x = model_woe.iloc[:,:-1]\n",
    "y = model_woe.iloc[:,-1]\n",
    "\n",
    "#准备测试数据\n",
    "vali_x = vali_woe.iloc[:,:-1]\n",
    "vali_y = vali_woe.iloc[:,-1]"
   ]
  },
  {
   "cell_type": "code",
   "execution_count": 55,
   "metadata": {},
   "outputs": [],
   "source": [
    "#建立逻辑回归模型\n",
    "from sklearn.linear_model import LogisticRegression as LR\n",
    "lr = LR()"
   ]
  },
  {
   "cell_type": "code",
   "execution_count": 56,
   "metadata": {},
   "outputs": [
    {
     "data": {
      "text/plain": [
       "LogisticRegression(C=1.0, class_weight=None, dual=False, fit_intercept=True,\n",
       "                   intercept_scaling=1, l1_ratio=None, max_iter=100,\n",
       "                   multi_class='auto', n_jobs=None, penalty='l2',\n",
       "                   random_state=None, solver='lbfgs', tol=0.0001, verbose=0,\n",
       "                   warm_start=False)"
      ]
     },
     "execution_count": 56,
     "metadata": {},
     "output_type": "execute_result"
    }
   ],
   "source": [
    "#模型训练\n",
    "lr.fit(x,y)"
   ]
  },
  {
   "cell_type": "code",
   "execution_count": 57,
   "metadata": {},
   "outputs": [
    {
     "data": {
      "text/plain": [
       "0.7720039245716473"
      ]
     },
     "execution_count": 57,
     "metadata": {},
     "output_type": "execute_result"
    }
   ],
   "source": [
    "#模型评估--正确率\n",
    "lr.score(vali_x,vali_y)"
   ]
  },
  {
   "cell_type": "code",
   "execution_count": 58,
   "metadata": {},
   "outputs": [
    {
     "data": {
      "text/plain": [
       "<matplotlib.axes._subplots.AxesSubplot at 0x16eb34e0>"
      ]
     },
     "execution_count": 58,
     "metadata": {},
     "output_type": "execute_result"
    },
    {
     "data": {
      "image/png": "[encoded data removed]",
      "text/plain": [
       "<Figure size 432x432 with 1 Axes>"
      ]
     },
     "metadata": {
      "needs_background": "light"
     },
     "output_type": "display_data"
    }
   ],
   "source": [
    "#模型评估--ROC曲线\n",
    "import scikitplot as skplt\n",
    "\n",
    "#某个标签为正例和负例的概率\n",
    "vali_proba_df = pd.DataFrame(lr.predict_proba(vali_x))\n",
    "\n",
    "skplt.metrics.plot_roc(vali_y,\n",
    "                       vali_proba_df,\n",
    "                       plot_micro=False,\n",
    "                       figsize=(6,6),\n",
    "                       plot_macro=False\n",
    "                      )"
   ]
  },
  {
   "cell_type": "markdown",
   "metadata": {},
   "source": [
    "从正确率上来看，这个模型的正确率只有不到80%，稍微低了一点。但是从ROC曲线来看，这个模型的整体性能还是不错的。\n",
    "综合来看，这个模型基本可以满足要求。"
   ]
  },
  {
   "cell_type": "markdown",
   "metadata": {},
   "source": [
    "## 5 制作评分卡\n",
    "\n",
    "在建立逻辑回归模型之后，我们需要将这个模型转化为一个更加直观、更加容易部署的形式，也就是制成评分卡。标准评分卡能够一眼看出每一个变量的值落在哪个区间应该得多少分。\n",
    "\n",
    "评分卡的总分数计算方法：Score = A + B*log⁡(odds) / Score = A - B*log⁡(1/odds)   \n",
    "odds为好用户概率与坏用户概率的比值：odds = p_good / p_bad   \n",
    "\n",
    "A、B是两个常数，他们的求法为：\n",
    "\n",
    "设置odds为$\\theta$时，特定分值为P；odds为$2\\theta$时，特定的分值为P+PDO    \n",
    "$P=A+B * \\ln (\\theta)$  \n",
    "$P+P D O=A+B * \\ln (2 \\theta)$    \n",
    "\n",
    "能够得到：   \n",
    "$A=\\frac{P D O}{\\ln 2}$  \n",
    "$B=A+B * \\ln (\\theta)$   \n",
    "\n",
    "例如，1/odds为1/60时设定的分数为600，PDO=20,那么对数几率为1/30时的分数就是620。将这两组数据代入到评分卡的数学表达式中，可以得到：   \n",
    "$600=A-B * \\log \\left(\\frac{1}{60}\\right)$  \n",
    "$620=A-B * \\log \\left(\\frac{1}{30}\\right)$   \n",
    "\n",
    "假设，w0是逻辑回归模型的截距，w1-wn为逻辑回归模型的权重。   \n",
    "基础分数：A + B*w0   \n",
    "B x w1到B x wn是每个变量对应的分数   \n",
    "每个变量对应的分数乘以变量中每个分箱的woe值就能够得到每个分箱的评分结果   "
   ]
  },
  {
   "cell_type": "code",
   "execution_count": 59,
   "metadata": {},
   "outputs": [],
   "source": [
    "B = 20 / np.log(2)\n",
    "A = 600 + B * np.log(1/60)"
   ]
  },
  {
   "cell_type": "code",
   "execution_count": 60,
   "metadata": {},
   "outputs": [
    {
     "data": {
      "text/plain": [
       "array([481.51862115])"
      ]
     },
     "execution_count": 60,
     "metadata": {},
     "output_type": "execute_result"
    }
   ],
   "source": [
    "#基础分\n",
    "base_score = A - B * lr.intercept_\n",
    "base_score"
   ]
  },
  {
   "cell_type": "code",
   "execution_count": 61,
   "metadata": {},
   "outputs": [],
   "source": [
    "# #我们可以通过循环，将所有特征的评分卡内容全部一次性的写入一个本地文件ScoreData.csv\n",
    "\n",
    "file = \"D:\\DataSet\\GiveMeSomeCredit\\ScoreData.csv\"\n",
    "with open(file,\"w\") as fdata:\n",
    "    fdata.write(\"base_score,{}\\n\".format(base_score))"
   ]
  },
  {
   "cell_type": "code",
   "execution_count": 62,
   "metadata": {},
   "outputs": [],
   "source": [
    "for i,col in enumerate(x.columns):\n",
    "    score = woeall[col] * (-B*lr.coef_[0][i])\n",
    "    score.name = \"Score\"\n",
    "    score.index.name = col\n",
    "    score.to_csv(file,header=True,mode=\"a\")"
   ]
  },
  {
   "cell_type": "code",
   "execution_count": null,
   "metadata": {},
   "outputs": [],
   "source": []
  }
 ],
 "metadata": {
  "kernelspec": {
   "display_name": "Python 3",
   "language": "python",
   "name": "python3"
  },
  "language_info": {
   "codemirror_mode": {
    "name": "ipython",
    "version": 3
   },
   "file_extension": ".py",
   "mimetype": "text/x-python",
   "name": "python",
   "nbconvert_exporter": "python",
   "pygments_lexer": "ipython3",
   "version": "3.6.10"
  }
 },
 "nbformat": 4,
 "nbformat_minor": 4
}
